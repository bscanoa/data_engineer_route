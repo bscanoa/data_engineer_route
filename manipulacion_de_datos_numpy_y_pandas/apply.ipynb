{
 "cells": [
  {
   "cell_type": "code",
   "metadata": {
    "tags": [],
    "cell_id": "397977e8-ab98-4105-83de-06adf3102d60",
    "deepnote_to_be_reexecuted": false,
    "source_hash": "9b82ee11",
    "execution_start": 1658609828843,
    "execution_millis": 4,
    "deepnote_cell_type": "code",
    "deepnote_cell_height": 81
   },
   "source": "import pandas as pd",
   "execution_count": 1,
   "outputs": []
  },
  {
   "cell_type": "code",
   "source": "df_books = pd.read_csv('/work/data_enginner_route/manipulacion_de_datos_numpy_y_pandas/data/bestsellers-with-categories.csv')\ndf_books.head(5)",
   "metadata": {
    "cell_id": "2059c1f1c4d04c57b686000c789cf464",
    "tags": [],
    "deepnote_to_be_reexecuted": false,
    "source_hash": "14434c23",
    "execution_start": 1658609894317,
    "execution_millis": 814,
    "deepnote_cell_type": "code",
    "deepnote_cell_height": 428
   },
   "outputs": [
    {
     "output_type": "execute_result",
     "execution_count": 2,
     "data": {
      "application/vnd.deepnote.dataframe.v3+json": {
       "column_count": 7,
       "row_count": 5,
       "columns": [
        {
         "name": "Name",
         "dtype": "object",
         "stats": {
          "unique_count": 5,
          "nan_count": 0,
          "categories": [
           {
            "name": "10-Day Green Smoothie Cleanse",
            "count": 1
           },
           {
            "name": "11/22/63: A Novel",
            "count": 1
           },
           {
            "name": "3 others",
            "count": 3
           }
          ]
         }
        },
        {
         "name": "Author",
         "dtype": "object",
         "stats": {
          "unique_count": 5,
          "nan_count": 0,
          "categories": [
           {
            "name": "JJ Smith",
            "count": 1
           },
           {
            "name": "Stephen King",
            "count": 1
           },
           {
            "name": "3 others",
            "count": 3
           }
          ]
         }
        },
        {
         "name": "User Rating",
         "dtype": "float64",
         "stats": {
          "unique_count": 3,
          "nan_count": 0,
          "min": "4.6",
          "max": "4.8",
          "histogram": [
           {
            "bin_start": 4.6,
            "bin_end": 4.619999999999999,
            "count": 1
           },
           {
            "bin_start": 4.619999999999999,
            "bin_end": 4.64,
            "count": 0
           },
           {
            "bin_start": 4.64,
            "bin_end": 4.66,
            "count": 0
           },
           {
            "bin_start": 4.66,
            "bin_end": 4.68,
            "count": 0
           },
           {
            "bin_start": 4.68,
            "bin_end": 4.699999999999999,
            "count": 0
           },
           {
            "bin_start": 4.699999999999999,
            "bin_end": 4.72,
            "count": 3
           },
           {
            "bin_start": 4.72,
            "bin_end": 4.74,
            "count": 0
           },
           {
            "bin_start": 4.74,
            "bin_end": 4.76,
            "count": 0
           },
           {
            "bin_start": 4.76,
            "bin_end": 4.779999999999999,
            "count": 0
           },
           {
            "bin_start": 4.779999999999999,
            "bin_end": 4.8,
            "count": 1
           }
          ]
         }
        },
        {
         "name": "Reviews",
         "dtype": "int64",
         "stats": {
          "unique_count": 5,
          "nan_count": 0,
          "min": "2052",
          "max": "21424",
          "histogram": [
           {
            "bin_start": 2052,
            "bin_end": 3989.2,
            "count": 1
           },
           {
            "bin_start": 3989.2,
            "bin_end": 5926.4,
            "count": 0
           },
           {
            "bin_start": 5926.4,
            "bin_end": 7863.6,
            "count": 1
           },
           {
            "bin_start": 7863.6,
            "bin_end": 9800.8,
            "count": 0
           },
           {
            "bin_start": 9800.8,
            "bin_end": 11738,
            "count": 0
           },
           {
            "bin_start": 11738,
            "bin_end": 13675.2,
            "count": 0
           },
           {
            "bin_start": 13675.2,
            "bin_end": 15612.4,
            "count": 0
           },
           {
            "bin_start": 15612.4,
            "bin_end": 17549.6,
            "count": 1
           },
           {
            "bin_start": 17549.6,
            "bin_end": 19486.8,
            "count": 1
           },
           {
            "bin_start": 19486.8,
            "bin_end": 21424,
            "count": 1
           }
          ]
         }
        },
        {
         "name": "Price",
         "dtype": "int64",
         "stats": {
          "unique_count": 5,
          "nan_count": 0,
          "min": "6",
          "max": "22",
          "histogram": [
           {
            "bin_start": 6,
            "bin_end": 7.6,
            "count": 1
           },
           {
            "bin_start": 7.6,
            "bin_end": 9.2,
            "count": 1
           },
           {
            "bin_start": 9.2,
            "bin_end": 10.8,
            "count": 0
           },
           {
            "bin_start": 10.8,
            "bin_end": 12.4,
            "count": 1
           },
           {
            "bin_start": 12.4,
            "bin_end": 14,
            "count": 0
           },
           {
            "bin_start": 14,
            "bin_end": 15.600000000000001,
            "count": 1
           },
           {
            "bin_start": 15.600000000000001,
            "bin_end": 17.200000000000003,
            "count": 0
           },
           {
            "bin_start": 17.200000000000003,
            "bin_end": 18.8,
            "count": 0
           },
           {
            "bin_start": 18.8,
            "bin_end": 20.4,
            "count": 0
           },
           {
            "bin_start": 20.4,
            "bin_end": 22,
            "count": 1
           }
          ]
         }
        },
        {
         "name": "Year",
         "dtype": "int64",
         "stats": {
          "unique_count": 5,
          "nan_count": 0,
          "min": "2011",
          "max": "2019",
          "histogram": [
           {
            "bin_start": 2011,
            "bin_end": 2011.8,
            "count": 1
           },
           {
            "bin_start": 2011.8,
            "bin_end": 2012.6,
            "count": 0
           },
           {
            "bin_start": 2012.6,
            "bin_end": 2013.4,
            "count": 0
           },
           {
            "bin_start": 2013.4,
            "bin_end": 2014.2,
            "count": 0
           },
           {
            "bin_start": 2014.2,
            "bin_end": 2015,
            "count": 0
           },
           {
            "bin_start": 2015,
            "bin_end": 2015.8,
            "count": 0
           },
           {
            "bin_start": 2015.8,
            "bin_end": 2016.6,
            "count": 1
           },
           {
            "bin_start": 2016.6,
            "bin_end": 2017.4,
            "count": 1
           },
           {
            "bin_start": 2017.4,
            "bin_end": 2018.2,
            "count": 1
           },
           {
            "bin_start": 2018.2,
            "bin_end": 2019,
            "count": 1
           }
          ]
         }
        },
        {
         "name": "Genre",
         "dtype": "object",
         "stats": {
          "unique_count": 2,
          "nan_count": 0,
          "categories": [
           {
            "name": "Non Fiction",
            "count": 3
           },
           {
            "name": "Fiction",
            "count": 2
           }
          ]
         }
        },
        {
         "name": "_deepnote_index_column",
         "dtype": "int64"
        }
       ],
       "rows": [
        {
         "Name": "10-Day Green Smoothie Cleanse",
         "Author": "JJ Smith",
         "User Rating": 4.7,
         "Reviews": 17350,
         "Price": 8,
         "Year": 2016,
         "Genre": "Non Fiction",
         "_deepnote_index_column": 0
        },
        {
         "Name": "11/22/63: A Novel",
         "Author": "Stephen King",
         "User Rating": 4.6,
         "Reviews": 2052,
         "Price": 22,
         "Year": 2011,
         "Genre": "Fiction",
         "_deepnote_index_column": 1
        },
        {
         "Name": "12 Rules for Life: An Antidote to Chaos",
         "Author": "Jordan B. Peterson",
         "User Rating": 4.7,
         "Reviews": 18979,
         "Price": 15,
         "Year": 2018,
         "Genre": "Non Fiction",
         "_deepnote_index_column": 2
        },
        {
         "Name": "1984 (Signet Classics)",
         "Author": "George Orwell",
         "User Rating": 4.7,
         "Reviews": 21424,
         "Price": 6,
         "Year": 2017,
         "Genre": "Fiction",
         "_deepnote_index_column": 3
        },
        {
         "Name": "5,000 Awesome Facts (About Everything!) (National Geographic Kids)",
         "Author": "National Geographic Kids",
         "User Rating": 4.8,
         "Reviews": 7665,
         "Price": 12,
         "Year": 2019,
         "Genre": "Non Fiction",
         "_deepnote_index_column": 4
        }
       ]
      },
      "text/plain": "                                                Name  \\\n0                      10-Day Green Smoothie Cleanse   \n1                                  11/22/63: A Novel   \n2            12 Rules for Life: An Antidote to Chaos   \n3                             1984 (Signet Classics)   \n4  5,000 Awesome Facts (About Everything!) (Natio...   \n\n                     Author  User Rating  Reviews  Price  Year        Genre  \n0                  JJ Smith          4.7    17350      8  2016  Non Fiction  \n1              Stephen King          4.6     2052     22  2011      Fiction  \n2        Jordan B. Peterson          4.7    18979     15  2018  Non Fiction  \n3             George Orwell          4.7    21424      6  2017      Fiction  \n4  National Geographic Kids          4.8     7665     12  2019  Non Fiction  ",
      "text/html": "<div>\n<style scoped>\n    .dataframe tbody tr th:only-of-type {\n        vertical-align: middle;\n    }\n\n    .dataframe tbody tr th {\n        vertical-align: top;\n    }\n\n    .dataframe thead th {\n        text-align: right;\n    }\n</style>\n<table border=\"1\" class=\"dataframe\">\n  <thead>\n    <tr style=\"text-align: right;\">\n      <th></th>\n      <th>Name</th>\n      <th>Author</th>\n      <th>User Rating</th>\n      <th>Reviews</th>\n      <th>Price</th>\n      <th>Year</th>\n      <th>Genre</th>\n    </tr>\n  </thead>\n  <tbody>\n    <tr>\n      <th>0</th>\n      <td>10-Day Green Smoothie Cleanse</td>\n      <td>JJ Smith</td>\n      <td>4.7</td>\n      <td>17350</td>\n      <td>8</td>\n      <td>2016</td>\n      <td>Non Fiction</td>\n    </tr>\n    <tr>\n      <th>1</th>\n      <td>11/22/63: A Novel</td>\n      <td>Stephen King</td>\n      <td>4.6</td>\n      <td>2052</td>\n      <td>22</td>\n      <td>2011</td>\n      <td>Fiction</td>\n    </tr>\n    <tr>\n      <th>2</th>\n      <td>12 Rules for Life: An Antidote to Chaos</td>\n      <td>Jordan B. Peterson</td>\n      <td>4.7</td>\n      <td>18979</td>\n      <td>15</td>\n      <td>2018</td>\n      <td>Non Fiction</td>\n    </tr>\n    <tr>\n      <th>3</th>\n      <td>1984 (Signet Classics)</td>\n      <td>George Orwell</td>\n      <td>4.7</td>\n      <td>21424</td>\n      <td>6</td>\n      <td>2017</td>\n      <td>Fiction</td>\n    </tr>\n    <tr>\n      <th>4</th>\n      <td>5,000 Awesome Facts (About Everything!) (Natio...</td>\n      <td>National Geographic Kids</td>\n      <td>4.8</td>\n      <td>7665</td>\n      <td>12</td>\n      <td>2019</td>\n      <td>Non Fiction</td>\n    </tr>\n  </tbody>\n</table>\n</div>"
     },
     "metadata": {}
    }
   ],
   "execution_count": 2
  },
  {
   "cell_type": "code",
   "source": "def two_times(value):\n    return value * 2",
   "metadata": {
    "cell_id": "ed4b3fb0c0514f8590a055f90350fd10",
    "tags": [],
    "deepnote_to_be_reexecuted": false,
    "source_hash": "9db38d06",
    "execution_start": 1658609917702,
    "execution_millis": 3,
    "deepnote_cell_type": "code",
    "deepnote_cell_height": 99
   },
   "outputs": [],
   "execution_count": 3
  },
  {
   "cell_type": "code",
   "source": "df_books['Rating 2'] = df_books['User Rating'].apply(two_times)\ndf_books.head(5)",
   "metadata": {
    "cell_id": "0a3c331887014002bb1d8dc4d369aec2",
    "tags": [],
    "deepnote_to_be_reexecuted": false,
    "source_hash": "b90b61ea",
    "execution_start": 1658610025237,
    "execution_millis": 115,
    "deepnote_cell_type": "code",
    "deepnote_cell_height": 428,
    "deepnote_output_heights": [
     232.25
    ]
   },
   "outputs": [
    {
     "output_type": "execute_result",
     "execution_count": 7,
     "data": {
      "application/vnd.deepnote.dataframe.v3+json": {
       "column_count": 8,
       "row_count": 5,
       "columns": [
        {
         "name": "Name",
         "dtype": "object",
         "stats": {
          "unique_count": 5,
          "nan_count": 0,
          "categories": [
           {
            "name": "10-Day Green Smoothie Cleanse",
            "count": 1
           },
           {
            "name": "11/22/63: A Novel",
            "count": 1
           },
           {
            "name": "3 others",
            "count": 3
           }
          ]
         }
        },
        {
         "name": "Author",
         "dtype": "object",
         "stats": {
          "unique_count": 5,
          "nan_count": 0,
          "categories": [
           {
            "name": "JJ Smith",
            "count": 1
           },
           {
            "name": "Stephen King",
            "count": 1
           },
           {
            "name": "3 others",
            "count": 3
           }
          ]
         }
        },
        {
         "name": "User Rating",
         "dtype": "float64",
         "stats": {
          "unique_count": 3,
          "nan_count": 0,
          "min": "4.6",
          "max": "4.8",
          "histogram": [
           {
            "bin_start": 4.6,
            "bin_end": 4.619999999999999,
            "count": 1
           },
           {
            "bin_start": 4.619999999999999,
            "bin_end": 4.64,
            "count": 0
           },
           {
            "bin_start": 4.64,
            "bin_end": 4.66,
            "count": 0
           },
           {
            "bin_start": 4.66,
            "bin_end": 4.68,
            "count": 0
           },
           {
            "bin_start": 4.68,
            "bin_end": 4.699999999999999,
            "count": 0
           },
           {
            "bin_start": 4.699999999999999,
            "bin_end": 4.72,
            "count": 3
           },
           {
            "bin_start": 4.72,
            "bin_end": 4.74,
            "count": 0
           },
           {
            "bin_start": 4.74,
            "bin_end": 4.76,
            "count": 0
           },
           {
            "bin_start": 4.76,
            "bin_end": 4.779999999999999,
            "count": 0
           },
           {
            "bin_start": 4.779999999999999,
            "bin_end": 4.8,
            "count": 1
           }
          ]
         }
        },
        {
         "name": "Reviews",
         "dtype": "int64",
         "stats": {
          "unique_count": 5,
          "nan_count": 0,
          "min": "2052",
          "max": "21424",
          "histogram": [
           {
            "bin_start": 2052,
            "bin_end": 3989.2,
            "count": 1
           },
           {
            "bin_start": 3989.2,
            "bin_end": 5926.4,
            "count": 0
           },
           {
            "bin_start": 5926.4,
            "bin_end": 7863.6,
            "count": 1
           },
           {
            "bin_start": 7863.6,
            "bin_end": 9800.8,
            "count": 0
           },
           {
            "bin_start": 9800.8,
            "bin_end": 11738,
            "count": 0
           },
           {
            "bin_start": 11738,
            "bin_end": 13675.2,
            "count": 0
           },
           {
            "bin_start": 13675.2,
            "bin_end": 15612.4,
            "count": 0
           },
           {
            "bin_start": 15612.4,
            "bin_end": 17549.6,
            "count": 1
           },
           {
            "bin_start": 17549.6,
            "bin_end": 19486.8,
            "count": 1
           },
           {
            "bin_start": 19486.8,
            "bin_end": 21424,
            "count": 1
           }
          ]
         }
        },
        {
         "name": "Price",
         "dtype": "int64",
         "stats": {
          "unique_count": 5,
          "nan_count": 0,
          "min": "6",
          "max": "22",
          "histogram": [
           {
            "bin_start": 6,
            "bin_end": 7.6,
            "count": 1
           },
           {
            "bin_start": 7.6,
            "bin_end": 9.2,
            "count": 1
           },
           {
            "bin_start": 9.2,
            "bin_end": 10.8,
            "count": 0
           },
           {
            "bin_start": 10.8,
            "bin_end": 12.4,
            "count": 1
           },
           {
            "bin_start": 12.4,
            "bin_end": 14,
            "count": 0
           },
           {
            "bin_start": 14,
            "bin_end": 15.600000000000001,
            "count": 1
           },
           {
            "bin_start": 15.600000000000001,
            "bin_end": 17.200000000000003,
            "count": 0
           },
           {
            "bin_start": 17.200000000000003,
            "bin_end": 18.8,
            "count": 0
           },
           {
            "bin_start": 18.8,
            "bin_end": 20.4,
            "count": 0
           },
           {
            "bin_start": 20.4,
            "bin_end": 22,
            "count": 1
           }
          ]
         }
        },
        {
         "name": "Year",
         "dtype": "int64",
         "stats": {
          "unique_count": 5,
          "nan_count": 0,
          "min": "2011",
          "max": "2019",
          "histogram": [
           {
            "bin_start": 2011,
            "bin_end": 2011.8,
            "count": 1
           },
           {
            "bin_start": 2011.8,
            "bin_end": 2012.6,
            "count": 0
           },
           {
            "bin_start": 2012.6,
            "bin_end": 2013.4,
            "count": 0
           },
           {
            "bin_start": 2013.4,
            "bin_end": 2014.2,
            "count": 0
           },
           {
            "bin_start": 2014.2,
            "bin_end": 2015,
            "count": 0
           },
           {
            "bin_start": 2015,
            "bin_end": 2015.8,
            "count": 0
           },
           {
            "bin_start": 2015.8,
            "bin_end": 2016.6,
            "count": 1
           },
           {
            "bin_start": 2016.6,
            "bin_end": 2017.4,
            "count": 1
           },
           {
            "bin_start": 2017.4,
            "bin_end": 2018.2,
            "count": 1
           },
           {
            "bin_start": 2018.2,
            "bin_end": 2019,
            "count": 1
           }
          ]
         }
        },
        {
         "name": "Genre",
         "dtype": "object",
         "stats": {
          "unique_count": 2,
          "nan_count": 0,
          "categories": [
           {
            "name": "Non Fiction",
            "count": 3
           },
           {
            "name": "Fiction",
            "count": 2
           }
          ]
         }
        },
        {
         "name": "Rating 2",
         "dtype": "float64",
         "stats": {
          "unique_count": 3,
          "nan_count": 0,
          "min": "9.2",
          "max": "9.6",
          "histogram": [
           {
            "bin_start": 9.2,
            "bin_end": 9.239999999999998,
            "count": 1
           },
           {
            "bin_start": 9.239999999999998,
            "bin_end": 9.28,
            "count": 0
           },
           {
            "bin_start": 9.28,
            "bin_end": 9.32,
            "count": 0
           },
           {
            "bin_start": 9.32,
            "bin_end": 9.36,
            "count": 0
           },
           {
            "bin_start": 9.36,
            "bin_end": 9.399999999999999,
            "count": 0
           },
           {
            "bin_start": 9.399999999999999,
            "bin_end": 9.44,
            "count": 3
           },
           {
            "bin_start": 9.44,
            "bin_end": 9.48,
            "count": 0
           },
           {
            "bin_start": 9.48,
            "bin_end": 9.52,
            "count": 0
           },
           {
            "bin_start": 9.52,
            "bin_end": 9.559999999999999,
            "count": 0
           },
           {
            "bin_start": 9.559999999999999,
            "bin_end": 9.6,
            "count": 1
           }
          ]
         }
        },
        {
         "name": "_deepnote_index_column",
         "dtype": "int64"
        }
       ],
       "rows": [
        {
         "Name": "10-Day Green Smoothie Cleanse",
         "Author": "JJ Smith",
         "User Rating": 4.7,
         "Reviews": 17350,
         "Price": 8,
         "Year": 2016,
         "Genre": "Non Fiction",
         "Rating 2": 9.4,
         "_deepnote_index_column": 0
        },
        {
         "Name": "11/22/63: A Novel",
         "Author": "Stephen King",
         "User Rating": 4.6,
         "Reviews": 2052,
         "Price": 22,
         "Year": 2011,
         "Genre": "Fiction",
         "Rating 2": 9.2,
         "_deepnote_index_column": 1
        },
        {
         "Name": "12 Rules for Life: An Antidote to Chaos",
         "Author": "Jordan B. Peterson",
         "User Rating": 4.7,
         "Reviews": 18979,
         "Price": 15,
         "Year": 2018,
         "Genre": "Non Fiction",
         "Rating 2": 9.4,
         "_deepnote_index_column": 2
        },
        {
         "Name": "1984 (Signet Classics)",
         "Author": "George Orwell",
         "User Rating": 4.7,
         "Reviews": 21424,
         "Price": 6,
         "Year": 2017,
         "Genre": "Fiction",
         "Rating 2": 9.4,
         "_deepnote_index_column": 3
        },
        {
         "Name": "5,000 Awesome Facts (About Everything!) (National Geographic Kids)",
         "Author": "National Geographic Kids",
         "User Rating": 4.8,
         "Reviews": 7665,
         "Price": 12,
         "Year": 2019,
         "Genre": "Non Fiction",
         "Rating 2": 9.6,
         "_deepnote_index_column": 4
        }
       ]
      },
      "text/plain": "                                                Name  \\\n0                      10-Day Green Smoothie Cleanse   \n1                                  11/22/63: A Novel   \n2            12 Rules for Life: An Antidote to Chaos   \n3                             1984 (Signet Classics)   \n4  5,000 Awesome Facts (About Everything!) (Natio...   \n\n                     Author  User Rating  Reviews  Price  Year        Genre  \\\n0                  JJ Smith          4.7    17350      8  2016  Non Fiction   \n1              Stephen King          4.6     2052     22  2011      Fiction   \n2        Jordan B. Peterson          4.7    18979     15  2018  Non Fiction   \n3             George Orwell          4.7    21424      6  2017      Fiction   \n4  National Geographic Kids          4.8     7665     12  2019  Non Fiction   \n\n   Rating 2  \n0       9.4  \n1       9.2  \n2       9.4  \n3       9.4  \n4       9.6  ",
      "text/html": "<div>\n<style scoped>\n    .dataframe tbody tr th:only-of-type {\n        vertical-align: middle;\n    }\n\n    .dataframe tbody tr th {\n        vertical-align: top;\n    }\n\n    .dataframe thead th {\n        text-align: right;\n    }\n</style>\n<table border=\"1\" class=\"dataframe\">\n  <thead>\n    <tr style=\"text-align: right;\">\n      <th></th>\n      <th>Name</th>\n      <th>Author</th>\n      <th>User Rating</th>\n      <th>Reviews</th>\n      <th>Price</th>\n      <th>Year</th>\n      <th>Genre</th>\n      <th>Rating 2</th>\n    </tr>\n  </thead>\n  <tbody>\n    <tr>\n      <th>0</th>\n      <td>10-Day Green Smoothie Cleanse</td>\n      <td>JJ Smith</td>\n      <td>4.7</td>\n      <td>17350</td>\n      <td>8</td>\n      <td>2016</td>\n      <td>Non Fiction</td>\n      <td>9.4</td>\n    </tr>\n    <tr>\n      <th>1</th>\n      <td>11/22/63: A Novel</td>\n      <td>Stephen King</td>\n      <td>4.6</td>\n      <td>2052</td>\n      <td>22</td>\n      <td>2011</td>\n      <td>Fiction</td>\n      <td>9.2</td>\n    </tr>\n    <tr>\n      <th>2</th>\n      <td>12 Rules for Life: An Antidote to Chaos</td>\n      <td>Jordan B. Peterson</td>\n      <td>4.7</td>\n      <td>18979</td>\n      <td>15</td>\n      <td>2018</td>\n      <td>Non Fiction</td>\n      <td>9.4</td>\n    </tr>\n    <tr>\n      <th>3</th>\n      <td>1984 (Signet Classics)</td>\n      <td>George Orwell</td>\n      <td>4.7</td>\n      <td>21424</td>\n      <td>6</td>\n      <td>2017</td>\n      <td>Fiction</td>\n      <td>9.4</td>\n    </tr>\n    <tr>\n      <th>4</th>\n      <td>5,000 Awesome Facts (About Everything!) (Natio...</td>\n      <td>National Geographic Kids</td>\n      <td>4.8</td>\n      <td>7665</td>\n      <td>12</td>\n      <td>2019</td>\n      <td>Non Fiction</td>\n      <td>9.6</td>\n    </tr>\n  </tbody>\n</table>\n</div>"
     },
     "metadata": {}
    }
   ],
   "execution_count": 7
  },
  {
   "cell_type": "code",
   "source": "df_books['Rating 2'] = df_books['User Rating'].apply(lambda x: x * 3)\ndf_books.head(5)\n",
   "metadata": {
    "cell_id": "1d5c187ba39143d6994fab58b4bd013c",
    "tags": [],
    "deepnote_to_be_reexecuted": false,
    "source_hash": "d04da367",
    "execution_start": 1658610095311,
    "execution_millis": 58,
    "deepnote_cell_type": "code",
    "deepnote_cell_height": 446
   },
   "outputs": [
    {
     "output_type": "execute_result",
     "execution_count": 9,
     "data": {
      "application/vnd.deepnote.dataframe.v3+json": {
       "column_count": 8,
       "row_count": 5,
       "columns": [
        {
         "name": "Name",
         "dtype": "object",
         "stats": {
          "unique_count": 5,
          "nan_count": 0,
          "categories": [
           {
            "name": "10-Day Green Smoothie Cleanse",
            "count": 1
           },
           {
            "name": "11/22/63: A Novel",
            "count": 1
           },
           {
            "name": "3 others",
            "count": 3
           }
          ]
         }
        },
        {
         "name": "Author",
         "dtype": "object",
         "stats": {
          "unique_count": 5,
          "nan_count": 0,
          "categories": [
           {
            "name": "JJ Smith",
            "count": 1
           },
           {
            "name": "Stephen King",
            "count": 1
           },
           {
            "name": "3 others",
            "count": 3
           }
          ]
         }
        },
        {
         "name": "User Rating",
         "dtype": "float64",
         "stats": {
          "unique_count": 3,
          "nan_count": 0,
          "min": "4.6",
          "max": "4.8",
          "histogram": [
           {
            "bin_start": 4.6,
            "bin_end": 4.619999999999999,
            "count": 1
           },
           {
            "bin_start": 4.619999999999999,
            "bin_end": 4.64,
            "count": 0
           },
           {
            "bin_start": 4.64,
            "bin_end": 4.66,
            "count": 0
           },
           {
            "bin_start": 4.66,
            "bin_end": 4.68,
            "count": 0
           },
           {
            "bin_start": 4.68,
            "bin_end": 4.699999999999999,
            "count": 0
           },
           {
            "bin_start": 4.699999999999999,
            "bin_end": 4.72,
            "count": 3
           },
           {
            "bin_start": 4.72,
            "bin_end": 4.74,
            "count": 0
           },
           {
            "bin_start": 4.74,
            "bin_end": 4.76,
            "count": 0
           },
           {
            "bin_start": 4.76,
            "bin_end": 4.779999999999999,
            "count": 0
           },
           {
            "bin_start": 4.779999999999999,
            "bin_end": 4.8,
            "count": 1
           }
          ]
         }
        },
        {
         "name": "Reviews",
         "dtype": "int64",
         "stats": {
          "unique_count": 5,
          "nan_count": 0,
          "min": "2052",
          "max": "21424",
          "histogram": [
           {
            "bin_start": 2052,
            "bin_end": 3989.2,
            "count": 1
           },
           {
            "bin_start": 3989.2,
            "bin_end": 5926.4,
            "count": 0
           },
           {
            "bin_start": 5926.4,
            "bin_end": 7863.6,
            "count": 1
           },
           {
            "bin_start": 7863.6,
            "bin_end": 9800.8,
            "count": 0
           },
           {
            "bin_start": 9800.8,
            "bin_end": 11738,
            "count": 0
           },
           {
            "bin_start": 11738,
            "bin_end": 13675.2,
            "count": 0
           },
           {
            "bin_start": 13675.2,
            "bin_end": 15612.4,
            "count": 0
           },
           {
            "bin_start": 15612.4,
            "bin_end": 17549.6,
            "count": 1
           },
           {
            "bin_start": 17549.6,
            "bin_end": 19486.8,
            "count": 1
           },
           {
            "bin_start": 19486.8,
            "bin_end": 21424,
            "count": 1
           }
          ]
         }
        },
        {
         "name": "Price",
         "dtype": "int64",
         "stats": {
          "unique_count": 5,
          "nan_count": 0,
          "min": "6",
          "max": "22",
          "histogram": [
           {
            "bin_start": 6,
            "bin_end": 7.6,
            "count": 1
           },
           {
            "bin_start": 7.6,
            "bin_end": 9.2,
            "count": 1
           },
           {
            "bin_start": 9.2,
            "bin_end": 10.8,
            "count": 0
           },
           {
            "bin_start": 10.8,
            "bin_end": 12.4,
            "count": 1
           },
           {
            "bin_start": 12.4,
            "bin_end": 14,
            "count": 0
           },
           {
            "bin_start": 14,
            "bin_end": 15.600000000000001,
            "count": 1
           },
           {
            "bin_start": 15.600000000000001,
            "bin_end": 17.200000000000003,
            "count": 0
           },
           {
            "bin_start": 17.200000000000003,
            "bin_end": 18.8,
            "count": 0
           },
           {
            "bin_start": 18.8,
            "bin_end": 20.4,
            "count": 0
           },
           {
            "bin_start": 20.4,
            "bin_end": 22,
            "count": 1
           }
          ]
         }
        },
        {
         "name": "Year",
         "dtype": "int64",
         "stats": {
          "unique_count": 5,
          "nan_count": 0,
          "min": "2011",
          "max": "2019",
          "histogram": [
           {
            "bin_start": 2011,
            "bin_end": 2011.8,
            "count": 1
           },
           {
            "bin_start": 2011.8,
            "bin_end": 2012.6,
            "count": 0
           },
           {
            "bin_start": 2012.6,
            "bin_end": 2013.4,
            "count": 0
           },
           {
            "bin_start": 2013.4,
            "bin_end": 2014.2,
            "count": 0
           },
           {
            "bin_start": 2014.2,
            "bin_end": 2015,
            "count": 0
           },
           {
            "bin_start": 2015,
            "bin_end": 2015.8,
            "count": 0
           },
           {
            "bin_start": 2015.8,
            "bin_end": 2016.6,
            "count": 1
           },
           {
            "bin_start": 2016.6,
            "bin_end": 2017.4,
            "count": 1
           },
           {
            "bin_start": 2017.4,
            "bin_end": 2018.2,
            "count": 1
           },
           {
            "bin_start": 2018.2,
            "bin_end": 2019,
            "count": 1
           }
          ]
         }
        },
        {
         "name": "Genre",
         "dtype": "object",
         "stats": {
          "unique_count": 2,
          "nan_count": 0,
          "categories": [
           {
            "name": "Non Fiction",
            "count": 3
           },
           {
            "name": "Fiction",
            "count": 2
           }
          ]
         }
        },
        {
         "name": "Rating 2",
         "dtype": "float64",
         "stats": {
          "unique_count": 3,
          "nan_count": 0,
          "min": "13.799999999999999",
          "max": "14.399999999999999",
          "histogram": [
           {
            "bin_start": 13.799999999999999,
            "bin_end": 13.86,
            "count": 1
           },
           {
            "bin_start": 13.86,
            "bin_end": 13.919999999999998,
            "count": 0
           },
           {
            "bin_start": 13.919999999999998,
            "bin_end": 13.979999999999999,
            "count": 0
           },
           {
            "bin_start": 13.979999999999999,
            "bin_end": 14.04,
            "count": 0
           },
           {
            "bin_start": 14.04,
            "bin_end": 14.099999999999998,
            "count": 0
           },
           {
            "bin_start": 14.099999999999998,
            "bin_end": 14.159999999999998,
            "count": 3
           },
           {
            "bin_start": 14.159999999999998,
            "bin_end": 14.219999999999999,
            "count": 0
           },
           {
            "bin_start": 14.219999999999999,
            "bin_end": 14.28,
            "count": 0
           },
           {
            "bin_start": 14.28,
            "bin_end": 14.339999999999998,
            "count": 0
           },
           {
            "bin_start": 14.339999999999998,
            "bin_end": 14.399999999999999,
            "count": 1
           }
          ]
         }
        },
        {
         "name": "_deepnote_index_column",
         "dtype": "int64"
        }
       ],
       "rows": [
        {
         "Name": "10-Day Green Smoothie Cleanse",
         "Author": "JJ Smith",
         "User Rating": 4.7,
         "Reviews": 17350,
         "Price": 8,
         "Year": 2016,
         "Genre": "Non Fiction",
         "Rating 2": 14.100000000000001,
         "_deepnote_index_column": 0
        },
        {
         "Name": "11/22/63: A Novel",
         "Author": "Stephen King",
         "User Rating": 4.6,
         "Reviews": 2052,
         "Price": 22,
         "Year": 2011,
         "Genre": "Fiction",
         "Rating 2": 13.799999999999999,
         "_deepnote_index_column": 1
        },
        {
         "Name": "12 Rules for Life: An Antidote to Chaos",
         "Author": "Jordan B. Peterson",
         "User Rating": 4.7,
         "Reviews": 18979,
         "Price": 15,
         "Year": 2018,
         "Genre": "Non Fiction",
         "Rating 2": 14.100000000000001,
         "_deepnote_index_column": 2
        },
        {
         "Name": "1984 (Signet Classics)",
         "Author": "George Orwell",
         "User Rating": 4.7,
         "Reviews": 21424,
         "Price": 6,
         "Year": 2017,
         "Genre": "Fiction",
         "Rating 2": 14.100000000000001,
         "_deepnote_index_column": 3
        },
        {
         "Name": "5,000 Awesome Facts (About Everything!) (National Geographic Kids)",
         "Author": "National Geographic Kids",
         "User Rating": 4.8,
         "Reviews": 7665,
         "Price": 12,
         "Year": 2019,
         "Genre": "Non Fiction",
         "Rating 2": 14.399999999999999,
         "_deepnote_index_column": 4
        }
       ]
      },
      "text/plain": "                                                Name  \\\n0                      10-Day Green Smoothie Cleanse   \n1                                  11/22/63: A Novel   \n2            12 Rules for Life: An Antidote to Chaos   \n3                             1984 (Signet Classics)   \n4  5,000 Awesome Facts (About Everything!) (Natio...   \n\n                     Author  User Rating  Reviews  Price  Year        Genre  \\\n0                  JJ Smith          4.7    17350      8  2016  Non Fiction   \n1              Stephen King          4.6     2052     22  2011      Fiction   \n2        Jordan B. Peterson          4.7    18979     15  2018  Non Fiction   \n3             George Orwell          4.7    21424      6  2017      Fiction   \n4  National Geographic Kids          4.8     7665     12  2019  Non Fiction   \n\n   Rating 2  \n0      14.1  \n1      13.8  \n2      14.1  \n3      14.1  \n4      14.4  ",
      "text/html": "<div>\n<style scoped>\n    .dataframe tbody tr th:only-of-type {\n        vertical-align: middle;\n    }\n\n    .dataframe tbody tr th {\n        vertical-align: top;\n    }\n\n    .dataframe thead th {\n        text-align: right;\n    }\n</style>\n<table border=\"1\" class=\"dataframe\">\n  <thead>\n    <tr style=\"text-align: right;\">\n      <th></th>\n      <th>Name</th>\n      <th>Author</th>\n      <th>User Rating</th>\n      <th>Reviews</th>\n      <th>Price</th>\n      <th>Year</th>\n      <th>Genre</th>\n      <th>Rating 2</th>\n    </tr>\n  </thead>\n  <tbody>\n    <tr>\n      <th>0</th>\n      <td>10-Day Green Smoothie Cleanse</td>\n      <td>JJ Smith</td>\n      <td>4.7</td>\n      <td>17350</td>\n      <td>8</td>\n      <td>2016</td>\n      <td>Non Fiction</td>\n      <td>14.1</td>\n    </tr>\n    <tr>\n      <th>1</th>\n      <td>11/22/63: A Novel</td>\n      <td>Stephen King</td>\n      <td>4.6</td>\n      <td>2052</td>\n      <td>22</td>\n      <td>2011</td>\n      <td>Fiction</td>\n      <td>13.8</td>\n    </tr>\n    <tr>\n      <th>2</th>\n      <td>12 Rules for Life: An Antidote to Chaos</td>\n      <td>Jordan B. Peterson</td>\n      <td>4.7</td>\n      <td>18979</td>\n      <td>15</td>\n      <td>2018</td>\n      <td>Non Fiction</td>\n      <td>14.1</td>\n    </tr>\n    <tr>\n      <th>3</th>\n      <td>1984 (Signet Classics)</td>\n      <td>George Orwell</td>\n      <td>4.7</td>\n      <td>21424</td>\n      <td>6</td>\n      <td>2017</td>\n      <td>Fiction</td>\n      <td>14.1</td>\n    </tr>\n    <tr>\n      <th>4</th>\n      <td>5,000 Awesome Facts (About Everything!) (Natio...</td>\n      <td>National Geographic Kids</td>\n      <td>4.8</td>\n      <td>7665</td>\n      <td>12</td>\n      <td>2019</td>\n      <td>Non Fiction</td>\n      <td>14.4</td>\n    </tr>\n  </tbody>\n</table>\n</div>"
     },
     "metadata": {}
    }
   ],
   "execution_count": 9
  },
  {
   "cell_type": "code",
   "source": "df_books['Rating 2'] = df_books.apply(lambda x: x['User Rating'] * 2 if x['Genre'] == 'Fiction' else x['User Rating'], axis = 1)\ndf_books.head(5)",
   "metadata": {
    "cell_id": "2378e33f092a49069fa1f486fc641cc9",
    "tags": [],
    "deepnote_to_be_reexecuted": false,
    "source_hash": "ce288822",
    "execution_start": 1658610275010,
    "execution_millis": 293,
    "deepnote_cell_type": "code",
    "deepnote_cell_height": 428,
    "deepnote_output_heights": [
     232.25
    ]
   },
   "outputs": [
    {
     "output_type": "execute_result",
     "execution_count": 14,
     "data": {
      "application/vnd.deepnote.dataframe.v3+json": {
       "column_count": 8,
       "row_count": 5,
       "columns": [
        {
         "name": "Name",
         "dtype": "object",
         "stats": {
          "unique_count": 5,
          "nan_count": 0,
          "categories": [
           {
            "name": "10-Day Green Smoothie Cleanse",
            "count": 1
           },
           {
            "name": "11/22/63: A Novel",
            "count": 1
           },
           {
            "name": "3 others",
            "count": 3
           }
          ]
         }
        },
        {
         "name": "Author",
         "dtype": "object",
         "stats": {
          "unique_count": 5,
          "nan_count": 0,
          "categories": [
           {
            "name": "JJ Smith",
            "count": 1
           },
           {
            "name": "Stephen King",
            "count": 1
           },
           {
            "name": "3 others",
            "count": 3
           }
          ]
         }
        },
        {
         "name": "User Rating",
         "dtype": "float64",
         "stats": {
          "unique_count": 3,
          "nan_count": 0,
          "min": "4.6",
          "max": "4.8",
          "histogram": [
           {
            "bin_start": 4.6,
            "bin_end": 4.619999999999999,
            "count": 1
           },
           {
            "bin_start": 4.619999999999999,
            "bin_end": 4.64,
            "count": 0
           },
           {
            "bin_start": 4.64,
            "bin_end": 4.66,
            "count": 0
           },
           {
            "bin_start": 4.66,
            "bin_end": 4.68,
            "count": 0
           },
           {
            "bin_start": 4.68,
            "bin_end": 4.699999999999999,
            "count": 0
           },
           {
            "bin_start": 4.699999999999999,
            "bin_end": 4.72,
            "count": 3
           },
           {
            "bin_start": 4.72,
            "bin_end": 4.74,
            "count": 0
           },
           {
            "bin_start": 4.74,
            "bin_end": 4.76,
            "count": 0
           },
           {
            "bin_start": 4.76,
            "bin_end": 4.779999999999999,
            "count": 0
           },
           {
            "bin_start": 4.779999999999999,
            "bin_end": 4.8,
            "count": 1
           }
          ]
         }
        },
        {
         "name": "Reviews",
         "dtype": "int64",
         "stats": {
          "unique_count": 5,
          "nan_count": 0,
          "min": "2052",
          "max": "21424",
          "histogram": [
           {
            "bin_start": 2052,
            "bin_end": 3989.2,
            "count": 1
           },
           {
            "bin_start": 3989.2,
            "bin_end": 5926.4,
            "count": 0
           },
           {
            "bin_start": 5926.4,
            "bin_end": 7863.6,
            "count": 1
           },
           {
            "bin_start": 7863.6,
            "bin_end": 9800.8,
            "count": 0
           },
           {
            "bin_start": 9800.8,
            "bin_end": 11738,
            "count": 0
           },
           {
            "bin_start": 11738,
            "bin_end": 13675.2,
            "count": 0
           },
           {
            "bin_start": 13675.2,
            "bin_end": 15612.4,
            "count": 0
           },
           {
            "bin_start": 15612.4,
            "bin_end": 17549.6,
            "count": 1
           },
           {
            "bin_start": 17549.6,
            "bin_end": 19486.8,
            "count": 1
           },
           {
            "bin_start": 19486.8,
            "bin_end": 21424,
            "count": 1
           }
          ]
         }
        },
        {
         "name": "Price",
         "dtype": "int64",
         "stats": {
          "unique_count": 5,
          "nan_count": 0,
          "min": "6",
          "max": "22",
          "histogram": [
           {
            "bin_start": 6,
            "bin_end": 7.6,
            "count": 1
           },
           {
            "bin_start": 7.6,
            "bin_end": 9.2,
            "count": 1
           },
           {
            "bin_start": 9.2,
            "bin_end": 10.8,
            "count": 0
           },
           {
            "bin_start": 10.8,
            "bin_end": 12.4,
            "count": 1
           },
           {
            "bin_start": 12.4,
            "bin_end": 14,
            "count": 0
           },
           {
            "bin_start": 14,
            "bin_end": 15.600000000000001,
            "count": 1
           },
           {
            "bin_start": 15.600000000000001,
            "bin_end": 17.200000000000003,
            "count": 0
           },
           {
            "bin_start": 17.200000000000003,
            "bin_end": 18.8,
            "count": 0
           },
           {
            "bin_start": 18.8,
            "bin_end": 20.4,
            "count": 0
           },
           {
            "bin_start": 20.4,
            "bin_end": 22,
            "count": 1
           }
          ]
         }
        },
        {
         "name": "Year",
         "dtype": "int64",
         "stats": {
          "unique_count": 5,
          "nan_count": 0,
          "min": "2011",
          "max": "2019",
          "histogram": [
           {
            "bin_start": 2011,
            "bin_end": 2011.8,
            "count": 1
           },
           {
            "bin_start": 2011.8,
            "bin_end": 2012.6,
            "count": 0
           },
           {
            "bin_start": 2012.6,
            "bin_end": 2013.4,
            "count": 0
           },
           {
            "bin_start": 2013.4,
            "bin_end": 2014.2,
            "count": 0
           },
           {
            "bin_start": 2014.2,
            "bin_end": 2015,
            "count": 0
           },
           {
            "bin_start": 2015,
            "bin_end": 2015.8,
            "count": 0
           },
           {
            "bin_start": 2015.8,
            "bin_end": 2016.6,
            "count": 1
           },
           {
            "bin_start": 2016.6,
            "bin_end": 2017.4,
            "count": 1
           },
           {
            "bin_start": 2017.4,
            "bin_end": 2018.2,
            "count": 1
           },
           {
            "bin_start": 2018.2,
            "bin_end": 2019,
            "count": 1
           }
          ]
         }
        },
        {
         "name": "Genre",
         "dtype": "object",
         "stats": {
          "unique_count": 2,
          "nan_count": 0,
          "categories": [
           {
            "name": "Non Fiction",
            "count": 3
           },
           {
            "name": "Fiction",
            "count": 2
           }
          ]
         }
        },
        {
         "name": "Rating 2",
         "dtype": "float64",
         "stats": {
          "unique_count": 4,
          "nan_count": 0,
          "min": "4.7",
          "max": "9.4",
          "histogram": [
           {
            "bin_start": 4.7,
            "bin_end": 5.17,
            "count": 3
           },
           {
            "bin_start": 5.17,
            "bin_end": 5.640000000000001,
            "count": 0
           },
           {
            "bin_start": 5.640000000000001,
            "bin_end": 6.11,
            "count": 0
           },
           {
            "bin_start": 6.11,
            "bin_end": 6.58,
            "count": 0
           },
           {
            "bin_start": 6.58,
            "bin_end": 7.050000000000001,
            "count": 0
           },
           {
            "bin_start": 7.050000000000001,
            "bin_end": 7.5200000000000005,
            "count": 0
           },
           {
            "bin_start": 7.5200000000000005,
            "bin_end": 7.99,
            "count": 0
           },
           {
            "bin_start": 7.99,
            "bin_end": 8.46,
            "count": 0
           },
           {
            "bin_start": 8.46,
            "bin_end": 8.93,
            "count": 0
           },
           {
            "bin_start": 8.93,
            "bin_end": 9.4,
            "count": 2
           }
          ]
         }
        },
        {
         "name": "_deepnote_index_column",
         "dtype": "int64"
        }
       ],
       "rows": [
        {
         "Name": "10-Day Green Smoothie Cleanse",
         "Author": "JJ Smith",
         "User Rating": 4.7,
         "Reviews": 17350,
         "Price": 8,
         "Year": 2016,
         "Genre": "Non Fiction",
         "Rating 2": 4.7,
         "_deepnote_index_column": 0
        },
        {
         "Name": "11/22/63: A Novel",
         "Author": "Stephen King",
         "User Rating": 4.6,
         "Reviews": 2052,
         "Price": 22,
         "Year": 2011,
         "Genre": "Fiction",
         "Rating 2": 9.2,
         "_deepnote_index_column": 1
        },
        {
         "Name": "12 Rules for Life: An Antidote to Chaos",
         "Author": "Jordan B. Peterson",
         "User Rating": 4.7,
         "Reviews": 18979,
         "Price": 15,
         "Year": 2018,
         "Genre": "Non Fiction",
         "Rating 2": 4.7,
         "_deepnote_index_column": 2
        },
        {
         "Name": "1984 (Signet Classics)",
         "Author": "George Orwell",
         "User Rating": 4.7,
         "Reviews": 21424,
         "Price": 6,
         "Year": 2017,
         "Genre": "Fiction",
         "Rating 2": 9.4,
         "_deepnote_index_column": 3
        },
        {
         "Name": "5,000 Awesome Facts (About Everything!) (National Geographic Kids)",
         "Author": "National Geographic Kids",
         "User Rating": 4.8,
         "Reviews": 7665,
         "Price": 12,
         "Year": 2019,
         "Genre": "Non Fiction",
         "Rating 2": 4.8,
         "_deepnote_index_column": 4
        }
       ]
      },
      "text/plain": "                                                Name  \\\n0                      10-Day Green Smoothie Cleanse   \n1                                  11/22/63: A Novel   \n2            12 Rules for Life: An Antidote to Chaos   \n3                             1984 (Signet Classics)   \n4  5,000 Awesome Facts (About Everything!) (Natio...   \n\n                     Author  User Rating  Reviews  Price  Year        Genre  \\\n0                  JJ Smith          4.7    17350      8  2016  Non Fiction   \n1              Stephen King          4.6     2052     22  2011      Fiction   \n2        Jordan B. Peterson          4.7    18979     15  2018  Non Fiction   \n3             George Orwell          4.7    21424      6  2017      Fiction   \n4  National Geographic Kids          4.8     7665     12  2019  Non Fiction   \n\n   Rating 2  \n0       4.7  \n1       9.2  \n2       4.7  \n3       9.4  \n4       4.8  ",
      "text/html": "<div>\n<style scoped>\n    .dataframe tbody tr th:only-of-type {\n        vertical-align: middle;\n    }\n\n    .dataframe tbody tr th {\n        vertical-align: top;\n    }\n\n    .dataframe thead th {\n        text-align: right;\n    }\n</style>\n<table border=\"1\" class=\"dataframe\">\n  <thead>\n    <tr style=\"text-align: right;\">\n      <th></th>\n      <th>Name</th>\n      <th>Author</th>\n      <th>User Rating</th>\n      <th>Reviews</th>\n      <th>Price</th>\n      <th>Year</th>\n      <th>Genre</th>\n      <th>Rating 2</th>\n    </tr>\n  </thead>\n  <tbody>\n    <tr>\n      <th>0</th>\n      <td>10-Day Green Smoothie Cleanse</td>\n      <td>JJ Smith</td>\n      <td>4.7</td>\n      <td>17350</td>\n      <td>8</td>\n      <td>2016</td>\n      <td>Non Fiction</td>\n      <td>4.7</td>\n    </tr>\n    <tr>\n      <th>1</th>\n      <td>11/22/63: A Novel</td>\n      <td>Stephen King</td>\n      <td>4.6</td>\n      <td>2052</td>\n      <td>22</td>\n      <td>2011</td>\n      <td>Fiction</td>\n      <td>9.2</td>\n    </tr>\n    <tr>\n      <th>2</th>\n      <td>12 Rules for Life: An Antidote to Chaos</td>\n      <td>Jordan B. Peterson</td>\n      <td>4.7</td>\n      <td>18979</td>\n      <td>15</td>\n      <td>2018</td>\n      <td>Non Fiction</td>\n      <td>4.7</td>\n    </tr>\n    <tr>\n      <th>3</th>\n      <td>1984 (Signet Classics)</td>\n      <td>George Orwell</td>\n      <td>4.7</td>\n      <td>21424</td>\n      <td>6</td>\n      <td>2017</td>\n      <td>Fiction</td>\n      <td>9.4</td>\n    </tr>\n    <tr>\n      <th>4</th>\n      <td>5,000 Awesome Facts (About Everything!) (Natio...</td>\n      <td>National Geographic Kids</td>\n      <td>4.8</td>\n      <td>7665</td>\n      <td>12</td>\n      <td>2019</td>\n      <td>Non Fiction</td>\n      <td>4.8</td>\n    </tr>\n  </tbody>\n</table>\n</div>"
     },
     "metadata": {}
    }
   ],
   "execution_count": 14
  },
  {
   "cell_type": "markdown",
   "source": "### 6 Formas de aplicar funciones en Pandas",
   "metadata": {
    "cell_id": "baaa0e59b4a44b7995fa510ba49b5fd2",
    "tags": [],
    "deepnote_cell_type": "markdown",
    "deepnote_cell_height": 62
   }
  },
  {
   "cell_type": "code",
   "source": "# Cómo se declarán funcione\n# 1. Usando def\n\ndef funcion_uno(param):\n    result = param\n    return result",
   "metadata": {
    "cell_id": "e2a0822923704ae6b27499107713c8d5",
    "tags": [],
    "deepnote_to_be_reexecuted": false,
    "source_hash": "314e414e",
    "execution_start": 1658611035913,
    "execution_millis": 2,
    "deepnote_cell_type": "code",
    "deepnote_cell_height": 171
   },
   "outputs": [],
   "execution_count": 17
  },
  {
   "cell_type": "code",
   "source": "# 2. Usando lambda\n\nfuncion_dos = lambda arg: arg * 2",
   "metadata": {
    "cell_id": "f8785eee34714e3daf71020d4761b8ee",
    "tags": [],
    "deepnote_to_be_reexecuted": false,
    "source_hash": "39765bfc",
    "execution_start": 1658611037747,
    "execution_millis": 3,
    "deepnote_cell_type": "code",
    "deepnote_cell_height": 117
   },
   "outputs": [],
   "execution_count": 18
  },
  {
   "cell_type": "code",
   "source": "df_resultados = pd.DataFrame()\n\n# 1. List Comprehension\ndf_resultados['List'] = [funcion_uno(i) for i in df_books['User Rating']]\n\n# 2. map\ndf_resultados['map_1'] = df_books['User Rating'].map(funcion_dos)\ndf_resultados['map_2'] = list(map(funcion_dos, df_books['User Rating']))\n\n# 3. apply\ndf_resultados['apply'] = df_books['User Rating'].apply(funcion_dos)\n\n# 4. transform\ndf_resultados['transform'] = df_books['User Rating'].transform(funcion_dos)\n\n# 5. aggregate\ndf_resultados['transform'] = df_books['User Rating'].aggregate(funcion_dos)\ndf_resultados['transform'] = df_books['User Rating'].agg(funcion_dos)\n\n# 6. lambdas\ndf_resultados['lambdas'] = df_books['User Rating'].apply(lambda x: float(x))\n\n# fifa['Value'] = fifa['Value'].apply(lambda x: float(x.strip('€M'))*1000000  if 'M' in x else (float(x.strip('€K'))*1000 if 'K' in x else float(x.strip('€'))))",
   "metadata": {
    "cell_id": "67d88b0781f64c4eb59f97682f210579",
    "tags": [],
    "deepnote_to_be_reexecuted": false,
    "source_hash": "14410cd9",
    "execution_start": 1658611726220,
    "execution_millis": 12,
    "owner_user_id": "1446e09b-adb1-4d03-8824-192d50632f30",
    "deepnote_cell_type": "code",
    "deepnote_cell_height": 477
   },
   "outputs": [],
   "execution_count": 29
  },
  {
   "cell_type": "code",
   "source": "df_resultados",
   "metadata": {
    "cell_id": "f7d55e8be0fd41c3bf8ec5fb3cee3f2a",
    "tags": [],
    "deepnote_to_be_reexecuted": false,
    "source_hash": "6d5d75ab",
    "execution_start": 1658611732379,
    "execution_millis": 35,
    "deepnote_cell_type": "code",
    "deepnote_cell_height": 615
   },
   "outputs": [
    {
     "output_type": "execute_result",
     "execution_count": 30,
     "data": {
      "application/vnd.deepnote.dataframe.v3+json": {
       "column_count": 6,
       "row_count": 550,
       "columns": [
        {
         "name": "List",
         "dtype": "float64",
         "stats": {
          "unique_count": 14,
          "nan_count": 0,
          "min": "3.3",
          "max": "4.9",
          "histogram": [
           {
            "bin_start": 3.3,
            "bin_end": 3.46,
            "count": 1
           },
           {
            "bin_start": 3.46,
            "bin_end": 3.62,
            "count": 1
           },
           {
            "bin_start": 3.62,
            "bin_end": 3.7800000000000002,
            "count": 0
           },
           {
            "bin_start": 3.7800000000000002,
            "bin_end": 3.94,
            "count": 5
           },
           {
            "bin_start": 3.94,
            "bin_end": 4.1,
            "count": 14
           },
           {
            "bin_start": 4.1,
            "bin_end": 4.26,
            "count": 14
           },
           {
            "bin_start": 4.26,
            "bin_end": 4.42,
            "count": 63
           },
           {
            "bin_start": 4.42,
            "bin_end": 4.58,
            "count": 60
           },
           {
            "bin_start": 4.58,
            "bin_end": 4.74,
            "count": 213
           },
           {
            "bin_start": 4.74,
            "bin_end": 4.9,
            "count": 179
           }
          ]
         }
        },
        {
         "name": "map_1",
         "dtype": "float64",
         "stats": {
          "unique_count": 14,
          "nan_count": 0,
          "min": "6.6",
          "max": "9.8",
          "histogram": [
           {
            "bin_start": 6.6,
            "bin_end": 6.92,
            "count": 1
           },
           {
            "bin_start": 6.92,
            "bin_end": 7.24,
            "count": 1
           },
           {
            "bin_start": 7.24,
            "bin_end": 7.5600000000000005,
            "count": 0
           },
           {
            "bin_start": 7.5600000000000005,
            "bin_end": 7.88,
            "count": 5
           },
           {
            "bin_start": 7.88,
            "bin_end": 8.2,
            "count": 14
           },
           {
            "bin_start": 8.2,
            "bin_end": 8.52,
            "count": 14
           },
           {
            "bin_start": 8.52,
            "bin_end": 8.84,
            "count": 63
           },
           {
            "bin_start": 8.84,
            "bin_end": 9.16,
            "count": 60
           },
           {
            "bin_start": 9.16,
            "bin_end": 9.48,
            "count": 213
           },
           {
            "bin_start": 9.48,
            "bin_end": 9.8,
            "count": 179
           }
          ]
         }
        },
        {
         "name": "map_2",
         "dtype": "float64",
         "stats": {
          "unique_count": 14,
          "nan_count": 0,
          "min": "6.6",
          "max": "9.8",
          "histogram": [
           {
            "bin_start": 6.6,
            "bin_end": 6.92,
            "count": 1
           },
           {
            "bin_start": 6.92,
            "bin_end": 7.24,
            "count": 1
           },
           {
            "bin_start": 7.24,
            "bin_end": 7.5600000000000005,
            "count": 0
           },
           {
            "bin_start": 7.5600000000000005,
            "bin_end": 7.88,
            "count": 5
           },
           {
            "bin_start": 7.88,
            "bin_end": 8.2,
            "count": 14
           },
           {
            "bin_start": 8.2,
            "bin_end": 8.52,
            "count": 14
           },
           {
            "bin_start": 8.52,
            "bin_end": 8.84,
            "count": 63
           },
           {
            "bin_start": 8.84,
            "bin_end": 9.16,
            "count": 60
           },
           {
            "bin_start": 9.16,
            "bin_end": 9.48,
            "count": 213
           },
           {
            "bin_start": 9.48,
            "bin_end": 9.8,
            "count": 179
           }
          ]
         }
        },
        {
         "name": "apply",
         "dtype": "float64",
         "stats": {
          "unique_count": 14,
          "nan_count": 0,
          "min": "6.6",
          "max": "9.8",
          "histogram": [
           {
            "bin_start": 6.6,
            "bin_end": 6.92,
            "count": 1
           },
           {
            "bin_start": 6.92,
            "bin_end": 7.24,
            "count": 1
           },
           {
            "bin_start": 7.24,
            "bin_end": 7.5600000000000005,
            "count": 0
           },
           {
            "bin_start": 7.5600000000000005,
            "bin_end": 7.88,
            "count": 5
           },
           {
            "bin_start": 7.88,
            "bin_end": 8.2,
            "count": 14
           },
           {
            "bin_start": 8.2,
            "bin_end": 8.52,
            "count": 14
           },
           {
            "bin_start": 8.52,
            "bin_end": 8.84,
            "count": 63
           },
           {
            "bin_start": 8.84,
            "bin_end": 9.16,
            "count": 60
           },
           {
            "bin_start": 9.16,
            "bin_end": 9.48,
            "count": 213
           },
           {
            "bin_start": 9.48,
            "bin_end": 9.8,
            "count": 179
           }
          ]
         }
        },
        {
         "name": "transform",
         "dtype": "float64",
         "stats": {
          "unique_count": 14,
          "nan_count": 0,
          "min": "6.6",
          "max": "9.8",
          "histogram": [
           {
            "bin_start": 6.6,
            "bin_end": 6.92,
            "count": 1
           },
           {
            "bin_start": 6.92,
            "bin_end": 7.24,
            "count": 1
           },
           {
            "bin_start": 7.24,
            "bin_end": 7.5600000000000005,
            "count": 0
           },
           {
            "bin_start": 7.5600000000000005,
            "bin_end": 7.88,
            "count": 5
           },
           {
            "bin_start": 7.88,
            "bin_end": 8.2,
            "count": 14
           },
           {
            "bin_start": 8.2,
            "bin_end": 8.52,
            "count": 14
           },
           {
            "bin_start": 8.52,
            "bin_end": 8.84,
            "count": 63
           },
           {
            "bin_start": 8.84,
            "bin_end": 9.16,
            "count": 60
           },
           {
            "bin_start": 9.16,
            "bin_end": 9.48,
            "count": 213
           },
           {
            "bin_start": 9.48,
            "bin_end": 9.8,
            "count": 179
           }
          ]
         }
        },
        {
         "name": "lambdas",
         "dtype": "float64",
         "stats": {
          "unique_count": 14,
          "nan_count": 0,
          "min": "3.3",
          "max": "4.9",
          "histogram": [
           {
            "bin_start": 3.3,
            "bin_end": 3.46,
            "count": 1
           },
           {
            "bin_start": 3.46,
            "bin_end": 3.62,
            "count": 1
           },
           {
            "bin_start": 3.62,
            "bin_end": 3.7800000000000002,
            "count": 0
           },
           {
            "bin_start": 3.7800000000000002,
            "bin_end": 3.94,
            "count": 5
           },
           {
            "bin_start": 3.94,
            "bin_end": 4.1,
            "count": 14
           },
           {
            "bin_start": 4.1,
            "bin_end": 4.26,
            "count": 14
           },
           {
            "bin_start": 4.26,
            "bin_end": 4.42,
            "count": 63
           },
           {
            "bin_start": 4.42,
            "bin_end": 4.58,
            "count": 60
           },
           {
            "bin_start": 4.58,
            "bin_end": 4.74,
            "count": 213
           },
           {
            "bin_start": 4.74,
            "bin_end": 4.9,
            "count": 179
           }
          ]
         }
        },
        {
         "name": "_deepnote_index_column",
         "dtype": "int64"
        }
       ],
       "rows": [
        {
         "List": 4.7,
         "map_1": 9.4,
         "map_2": 9.4,
         "apply": 9.4,
         "transform": 9.4,
         "lambdas": 4.7,
         "_deepnote_index_column": 0
        },
        {
         "List": 4.6,
         "map_1": 9.2,
         "map_2": 9.2,
         "apply": 9.2,
         "transform": 9.2,
         "lambdas": 4.6,
         "_deepnote_index_column": 1
        },
        {
         "List": 4.7,
         "map_1": 9.4,
         "map_2": 9.4,
         "apply": 9.4,
         "transform": 9.4,
         "lambdas": 4.7,
         "_deepnote_index_column": 2
        },
        {
         "List": 4.7,
         "map_1": 9.4,
         "map_2": 9.4,
         "apply": 9.4,
         "transform": 9.4,
         "lambdas": 4.7,
         "_deepnote_index_column": 3
        },
        {
         "List": 4.8,
         "map_1": 9.6,
         "map_2": 9.6,
         "apply": 9.6,
         "transform": 9.6,
         "lambdas": 4.8,
         "_deepnote_index_column": 4
        },
        {
         "List": 4.4,
         "map_1": 8.8,
         "map_2": 8.8,
         "apply": 8.8,
         "transform": 8.8,
         "lambdas": 4.4,
         "_deepnote_index_column": 5
        },
        {
         "List": 4.7,
         "map_1": 9.4,
         "map_2": 9.4,
         "apply": 9.4,
         "transform": 9.4,
         "lambdas": 4.7,
         "_deepnote_index_column": 6
        },
        {
         "List": 4.7,
         "map_1": 9.4,
         "map_2": 9.4,
         "apply": 9.4,
         "transform": 9.4,
         "lambdas": 4.7,
         "_deepnote_index_column": 7
        },
        {
         "List": 4.7,
         "map_1": 9.4,
         "map_2": 9.4,
         "apply": 9.4,
         "transform": 9.4,
         "lambdas": 4.7,
         "_deepnote_index_column": 8
        },
        {
         "List": 4.6,
         "map_1": 9.2,
         "map_2": 9.2,
         "apply": 9.2,
         "transform": 9.2,
         "lambdas": 4.6,
         "_deepnote_index_column": 9
        }
       ]
      },
      "text/plain": "     List  map_1  map_2  apply  transform  lambdas\n0     4.7    9.4    9.4    9.4        9.4      4.7\n1     4.6    9.2    9.2    9.2        9.2      4.6\n2     4.7    9.4    9.4    9.4        9.4      4.7\n3     4.7    9.4    9.4    9.4        9.4      4.7\n4     4.8    9.6    9.6    9.6        9.6      4.8\n..    ...    ...    ...    ...        ...      ...\n545   4.9    9.8    9.8    9.8        9.8      4.9\n546   4.7    9.4    9.4    9.4        9.4      4.7\n547   4.7    9.4    9.4    9.4        9.4      4.7\n548   4.7    9.4    9.4    9.4        9.4      4.7\n549   4.7    9.4    9.4    9.4        9.4      4.7\n\n[550 rows x 6 columns]",
      "text/html": "<div>\n<style scoped>\n    .dataframe tbody tr th:only-of-type {\n        vertical-align: middle;\n    }\n\n    .dataframe tbody tr th {\n        vertical-align: top;\n    }\n\n    .dataframe thead th {\n        text-align: right;\n    }\n</style>\n<table border=\"1\" class=\"dataframe\">\n  <thead>\n    <tr style=\"text-align: right;\">\n      <th></th>\n      <th>List</th>\n      <th>map_1</th>\n      <th>map_2</th>\n      <th>apply</th>\n      <th>transform</th>\n      <th>lambdas</th>\n    </tr>\n  </thead>\n  <tbody>\n    <tr>\n      <th>0</th>\n      <td>4.7</td>\n      <td>9.4</td>\n      <td>9.4</td>\n      <td>9.4</td>\n      <td>9.4</td>\n      <td>4.7</td>\n    </tr>\n    <tr>\n      <th>1</th>\n      <td>4.6</td>\n      <td>9.2</td>\n      <td>9.2</td>\n      <td>9.2</td>\n      <td>9.2</td>\n      <td>4.6</td>\n    </tr>\n    <tr>\n      <th>2</th>\n      <td>4.7</td>\n      <td>9.4</td>\n      <td>9.4</td>\n      <td>9.4</td>\n      <td>9.4</td>\n      <td>4.7</td>\n    </tr>\n    <tr>\n      <th>3</th>\n      <td>4.7</td>\n      <td>9.4</td>\n      <td>9.4</td>\n      <td>9.4</td>\n      <td>9.4</td>\n      <td>4.7</td>\n    </tr>\n    <tr>\n      <th>4</th>\n      <td>4.8</td>\n      <td>9.6</td>\n      <td>9.6</td>\n      <td>9.6</td>\n      <td>9.6</td>\n      <td>4.8</td>\n    </tr>\n    <tr>\n      <th>...</th>\n      <td>...</td>\n      <td>...</td>\n      <td>...</td>\n      <td>...</td>\n      <td>...</td>\n      <td>...</td>\n    </tr>\n    <tr>\n      <th>545</th>\n      <td>4.9</td>\n      <td>9.8</td>\n      <td>9.8</td>\n      <td>9.8</td>\n      <td>9.8</td>\n      <td>4.9</td>\n    </tr>\n    <tr>\n      <th>546</th>\n      <td>4.7</td>\n      <td>9.4</td>\n      <td>9.4</td>\n      <td>9.4</td>\n      <td>9.4</td>\n      <td>4.7</td>\n    </tr>\n    <tr>\n      <th>547</th>\n      <td>4.7</td>\n      <td>9.4</td>\n      <td>9.4</td>\n      <td>9.4</td>\n      <td>9.4</td>\n      <td>4.7</td>\n    </tr>\n    <tr>\n      <th>548</th>\n      <td>4.7</td>\n      <td>9.4</td>\n      <td>9.4</td>\n      <td>9.4</td>\n      <td>9.4</td>\n      <td>4.7</td>\n    </tr>\n    <tr>\n      <th>549</th>\n      <td>4.7</td>\n      <td>9.4</td>\n      <td>9.4</td>\n      <td>9.4</td>\n      <td>9.4</td>\n      <td>4.7</td>\n    </tr>\n  </tbody>\n</table>\n<p>550 rows × 6 columns</p>\n</div>"
     },
     "metadata": {}
    }
   ],
   "execution_count": 30
  },
  {
   "cell_type": "code",
   "source": "",
   "metadata": {
    "cell_id": "c718c5ed5b05449983e5a50a7f4a0736",
    "tags": [],
    "deepnote_cell_type": "code",
    "deepnote_cell_height": 66
   },
   "outputs": [],
   "execution_count": null
  },
  {
   "cell_type": "markdown",
   "source": "<a style='text-decoration:none;line-height:16px;display:flex;color:#5B5B62;padding:10px;justify-content:end;' href='https://deepnote.com?utm_source=created-in-deepnote-cell&projectId=4950ccd9-74b8-4ba2-b588-82894596c11f' target=\"_blank\">\n<img alt='Created in deepnote.com' style='display:inline;max-height:16px;margin:0px;margin-right:7.5px;' src='data:image/svg+xml;base64,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' > </img>\nCreated in <span style='font-weight:600;margin-left:4px;'>Deepnote</span></a>",
   "metadata": {
    "tags": [],
    "created_in_deepnote_cell": true,
    "deepnote_cell_type": "markdown"
   }
  }
 ],
 "nbformat": 4,
 "nbformat_minor": 2,
 "metadata": {
  "orig_nbformat": 2,
  "deepnote": {},
  "deepnote_notebook_id": "9586f59a-19f2-4fd0-8e58-a0ce306f5e86",
  "deepnote_execution_queue": []
 }
}