{
 "cells": [
  {
   "cell_type": "code",
   "metadata": {
    "tags": [],
    "cell_id": "09cf1903-ff18-4d5f-909f-bc70c71148eb",
    "deepnote_to_be_reexecuted": false,
    "source_hash": "c2602aa8",
    "execution_start": 1658515092993,
    "execution_millis": 5,
    "deepnote_cell_type": "code",
    "deepnote_cell_height": 81
   },
   "source": "import numpy as np",
   "execution_count": null,
   "outputs": []
  },
  {
   "cell_type": "code",
   "metadata": {
    "cell_id": "feaf3256301d417a9fb199a6d60e5403",
    "tags": [],
    "deepnote_to_be_reexecuted": false,
    "source_hash": "7b17bc91",
    "execution_start": 1658515131121,
    "execution_millis": 94,
    "deepnote_cell_type": "code",
    "deepnote_cell_height": 204.375,
    "deepnote_output_heights": [
     null,
     21.1875
    ]
   },
   "source": "scalar = np.array(42)\nprint(scalar)\nscalar.ndim",
   "execution_count": null,
   "outputs": [
    {
     "name": "stdout",
     "text": "42\n",
     "output_type": "stream"
    },
    {
     "output_type": "execute_result",
     "execution_count": 3,
     "data": {
      "text/plain": "0"
     },
     "metadata": {}
    }
   ]
  },
  {
   "cell_type": "code",
   "metadata": {
    "cell_id": "6c9be419b7204375a30a6dd59b3e978a",
    "tags": [],
    "deepnote_to_be_reexecuted": false,
    "source_hash": "ab5173ea",
    "execution_start": 1658515182730,
    "execution_millis": 7,
    "deepnote_cell_type": "code",
    "deepnote_cell_height": 204.375,
    "deepnote_output_heights": [
     null,
     21.1875
    ]
   },
   "source": "vector = np.array([1, 2, 3])\nprint(vector)\nvector.ndim",
   "execution_count": null,
   "outputs": [
    {
     "name": "stdout",
     "text": "[1 2 3]\n",
     "output_type": "stream"
    },
    {
     "output_type": "execute_result",
     "execution_count": 4,
     "data": {
      "text/plain": "1"
     },
     "metadata": {}
    }
   ]
  },
  {
   "cell_type": "code",
   "metadata": {
    "cell_id": "f91815fbf47b412ebd19ddd7fcb5f2eb",
    "tags": [],
    "deepnote_to_be_reexecuted": false,
    "source_hash": "27b68765",
    "execution_start": 1658516818405,
    "execution_millis": 7,
    "deepnote_cell_type": "code",
    "deepnote_cell_height": 224.5625,
    "deepnote_output_heights": [
     21.1875,
     21.1875
    ]
   },
   "source": "matriz = np.array([[1, 2, 3], [4, 5, 6]])\nprint(matriz)\nmatriz.ndim",
   "execution_count": null,
   "outputs": [
    {
     "name": "stdout",
     "text": "[[1 2 3]\n [4 5 6]]\n",
     "output_type": "stream"
    },
    {
     "output_type": "execute_result",
     "execution_count": 27,
     "data": {
      "text/plain": "2"
     },
     "metadata": {}
    }
   ]
  },
  {
   "cell_type": "code",
   "metadata": {
    "cell_id": "ff91748c55984e76bcbf9278d1e62d5d",
    "tags": [],
    "deepnote_to_be_reexecuted": false,
    "source_hash": "44c02c34",
    "execution_start": 1658516912359,
    "execution_millis": 13,
    "deepnote_cell_type": "code",
    "deepnote_cell_height": 365.875,
    "deepnote_output_heights": [
     null,
     21.1875
    ]
   },
   "source": "tensor = np.array([[[1, 2, 3], [4, 5, 6], [7, 8, 9], [0, 2, 24]], [[1, 2, 3], [4, 5, 6], [7, 8, 9], [0, 2, 24]]])\nprint(tensor)\ntensor.ndim",
   "execution_count": null,
   "outputs": [
    {
     "name": "stdout",
     "text": "[[[ 1  2  3]\n  [ 4  5  6]\n  [ 7  8  9]\n  [ 0  2 24]]\n\n [[ 1  2  3]\n  [ 4  5  6]\n  [ 7  8  9]\n  [ 0  2 24]]]\n",
     "output_type": "stream"
    },
    {
     "output_type": "execute_result",
     "execution_count": 29,
     "data": {
      "text/plain": "3"
     },
     "metadata": {}
    }
   ]
  },
  {
   "cell_type": "markdown",
   "source": "### Agregar o eliminar dimensiones",
   "metadata": {
    "cell_id": "89ebe54c9abf4759a0ca12490d70b460",
    "tags": [],
    "deepnote_cell_type": "markdown",
    "deepnote_cell_height": 678
   }
  },
  {
   "cell_type": "code",
   "metadata": {
    "cell_id": "c1b59a5cea0649c5bf8a0ab2c5a033e7",
    "tags": [],
    "deepnote_to_be_reexecuted": false,
    "source_hash": "eebfd729",
    "execution_start": 1658517043078,
    "execution_millis": 255,
    "deepnote_cell_type": "code",
    "deepnote_cell_height": 204.375,
    "deepnote_output_heights": [
     null,
     21.1875
    ]
   },
   "source": "vector = np.array([1, 2, 3], ndmin = 10)\nprint(vector)\nvector.ndim",
   "execution_count": null,
   "outputs": [
    {
     "name": "stdout",
     "text": "[[[[[[[[[[1 2 3]]]]]]]]]]\n",
     "output_type": "stream"
    },
    {
     "output_type": "execute_result",
     "execution_count": 30,
     "data": {
      "text/plain": "10"
     },
     "metadata": {}
    }
   ]
  },
  {
   "cell_type": "code",
   "metadata": {
    "cell_id": "a14cd262397a456ab3ede79fcb4d8f92",
    "tags": [],
    "deepnote_to_be_reexecuted": false,
    "source_hash": "7831d0b6",
    "execution_start": 1658517141899,
    "execution_millis": 5,
    "deepnote_cell_type": "code",
    "deepnote_cell_height": 204.375,
    "deepnote_output_heights": [
     21.1875,
     21.1875
    ]
   },
   "source": "expand = np.expand_dims(np.array([1, 2, 3]), axis=0)\nprint(expand)\nexpand.ndim",
   "execution_count": null,
   "outputs": [
    {
     "name": "stdout",
     "text": "[[1 2 3]]\n",
     "output_type": "stream"
    },
    {
     "output_type": "execute_result",
     "execution_count": 33,
     "data": {
      "text/plain": "2"
     },
     "metadata": {}
    }
   ]
  },
  {
   "cell_type": "code",
   "metadata": {
    "cell_id": "e337fee343764313b2ce831ea8ac7108",
    "tags": [],
    "deepnote_to_be_reexecuted": false,
    "source_hash": "975ba950",
    "execution_start": 1658517234699,
    "execution_millis": 3,
    "deepnote_cell_type": "code",
    "deepnote_cell_height": 208.375
   },
   "source": "print(vector, vector.ndim)\n\nvector_2 = np.squeeze(vector)\n\nprint(vector_2, vector_2.ndim)",
   "execution_count": null,
   "outputs": [
    {
     "name": "stdout",
     "text": "[[[[[[[[[[1 2 3]]]]]]]]]] 10\n[1 2 3] 1\n",
     "output_type": "stream"
    }
   ]
  },
  {
   "cell_type": "markdown",
   "source": "## Reto\n1. Crear un tensor de 5 dimensiones.\n2. Sumar una dimensión en algún eje.\n3. Borrar dimensiones que no se usen.",
   "metadata": {
    "cell_id": "7740eee053e14dc5ac7e355a230f7d71",
    "tags": [],
    "deepnote_cell_type": "markdown",
    "deepnote_cell_height": 2068.765625
   }
  },
  {
   "cell_type": "code",
   "metadata": {
    "cell_id": "b3f855001288444a9a47ce56f1d42cf8",
    "tags": [],
    "deepnote_to_be_reexecuted": false,
    "source_hash": "b52d784d",
    "execution_start": 1658518581410,
    "execution_millis": 547,
    "deepnote_cell_type": "code",
    "deepnote_cell_height": 240.375,
    "deepnote_output_heights": [
     21.1875,
     21.1875
    ]
   },
   "source": "# array de 5 dimensione\n#tensor_cinco = np.array([[[[1, 2],[3, 4]], [[5, 6],[7, 8]]], [[[1, 2],[3, 4]], [[5, 6],[7, 8]]]], ndmin = 5)\ntensor_cinco = np.array([[[1,3, 4, 5]]], ndmin = 5)\nprint(tensor_cinco)\ntensor_cinco.ndim",
   "execution_count": null,
   "outputs": [
    {
     "name": "stdout",
     "text": "[[[[[1 3 4 5]]]]]\n",
     "output_type": "stream"
    },
    {
     "output_type": "execute_result",
     "execution_count": 65,
     "data": {
      "text/plain": "5"
     },
     "metadata": {}
    }
   ]
  },
  {
   "cell_type": "code",
   "metadata": {
    "cell_id": "1fcaa12cdf7743c488cbc982adec8547",
    "tags": [],
    "deepnote_to_be_reexecuted": false,
    "source_hash": "d07e76eb",
    "execution_start": 1658518656079,
    "execution_millis": 28,
    "deepnote_cell_type": "code",
    "deepnote_cell_height": 136.1875,
    "deepnote_output_heights": [
     21.1875
    ]
   },
   "source": "tensor_cinco.squeeze()\ntensor_cinco, tensor_cinco.ndim",
   "execution_count": null,
   "outputs": [
    {
     "output_type": "execute_result",
     "execution_count": 67,
     "data": {
      "text/plain": "(array([[[[[1, 3, 4, 5]]]]]), 5)"
     },
     "metadata": {}
    }
   ]
  },
  {
   "cell_type": "code",
   "metadata": {
    "cell_id": "63ad4962ab47475ea0407f069c2af7cf",
    "tags": [],
    "deepnote_to_be_reexecuted": false,
    "source_hash": "ed8996f9",
    "execution_start": 1658518671013,
    "execution_millis": 7,
    "owner_user_id": "1446e09b-adb1-4d03-8824-192d50632f30",
    "deepnote_cell_type": "code",
    "deepnote_cell_height": 136.1875,
    "deepnote_output_heights": [
     21.1875
    ]
   },
   "source": "tensor_cinco = tensor_cinco.squeeze()\ntensor_cinco, tensor_cinco.ndim",
   "execution_count": null,
   "outputs": [
    {
     "output_type": "execute_result",
     "execution_count": 68,
     "data": {
      "text/plain": "(array([1, 3, 4, 5]), 1)"
     },
     "metadata": {}
    }
   ]
  },
  {
   "cell_type": "code",
   "metadata": {
    "cell_id": "5541787a960e4334a41616d317420374",
    "tags": [],
    "deepnote_to_be_reexecuted": false,
    "source_hash": "56605a67",
    "execution_start": 1658518122788,
    "execution_millis": 7,
    "deepnote_cell_type": "code",
    "deepnote_cell_height": 426.4375,
    "deepnote_output_heights": [
     21.1875,
     21.1875
    ]
   },
   "source": "expand_cinco = np.expand_dims(tensor_cinco, axis=1)\nprint(expand_cinco)\nexpand_cinco.ndim",
   "execution_count": null,
   "outputs": [
    {
     "name": "stdout",
     "text": "[[[[[[1 2]\n     [3 4]]\n\n    [[5 6]\n     [7 8]]]\n\n\n   [[[1 2]\n     [3 4]]\n\n    [[5 6]\n     [7 8]]]]]]\n",
     "output_type": "stream"
    },
    {
     "output_type": "execute_result",
     "execution_count": 56,
     "data": {
      "text/plain": "6"
     },
     "metadata": {}
    }
   ]
  },
  {
   "cell_type": "code",
   "metadata": {
    "cell_id": "8c0af8476ea04892aae220a60a257c50",
    "tags": [],
    "deepnote_to_be_reexecuted": false,
    "source_hash": "df0607c",
    "execution_start": 1658518346715,
    "execution_millis": 5,
    "deepnote_cell_type": "code",
    "deepnote_cell_height": 773
   },
   "source": "print(expand_cinco, expand_cinco.ndim, '\\n', '*'*10, '\\n', tensor_cinco, tensor_cinco.ndim)\nclean = expand_cinco.squeeze()\nclean_dos = tensor_cinco.squeeze()\nprint('*' * 10)\nprint(clean, clean.ndim, '\\n', '*'*10, '\\n', clean_dos, clean_dos.ndim)",
   "execution_count": null,
   "outputs": [
    {
     "name": "stdout",
     "text": "[[[[[[1 2]\n     [3 4]]\n\n    [[5 6]\n     [7 8]]]\n\n\n   [[[1 2]\n     [3 4]]\n\n    [[5 6]\n     [7 8]]]]]] 6 \n ********** \n [[[[[1 2]\n    [3 4]]\n\n   [[5 6]\n    [7 8]]]\n\n\n  [[[1 2]\n    [3 4]]\n\n   [[5 6]\n    [7 8]]]]] 5\n**********\n[[[[1 2]\n   [3 4]]\n\n  [[5 6]\n   [7 8]]]\n\n\n [[[1 2]\n   [3 4]]\n\n  [[5 6]\n   [7 8]]]] 4 \n ********** \n [[[[1 2]\n   [3 4]]\n\n  [[5 6]\n   [7 8]]]\n\n\n [[[1 2]\n   [3 4]]\n\n  [[5 6]\n   [7 8]]]] 4\n",
     "output_type": "stream"
    }
   ]
  },
  {
   "cell_type": "markdown",
   "source": "<a style='text-decoration:none;line-height:16px;display:flex;color:#5B5B62;padding:10px;justify-content:end;' href='https://deepnote.com?utm_source=created-in-deepnote-cell&projectId=4950ccd9-74b8-4ba2-b588-82894596c11f' target=\"_blank\">\n<img alt='Created in deepnote.com' style='display:inline;max-height:16px;margin:0px;margin-right:7.5px;' src='data:image/svg+xml;base64,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' > </img>\nCreated in <span style='font-weight:600;margin-left:4px;'>Deepnote</span></a>",
   "metadata": {
    "tags": [],
    "created_in_deepnote_cell": true,
    "deepnote_cell_type": "markdown"
   }
  }
 ],
 "nbformat": 4,
 "nbformat_minor": 2,
 "metadata": {
  "orig_nbformat": 2,
  "deepnote": {},
  "deepnote_notebook_id": "0e8b043c-8869-4c48-ae1b-8f1548d6daa7",
  "deepnote_execution_queue": []
 }
}