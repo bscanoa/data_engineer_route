{
 "cells": [
  {
   "cell_type": "code",
   "metadata": {
    "tags": [],
    "cell_id": "25c3c994-79fe-4140-b4a1-ec2351a0fb30",
    "deepnote_to_be_reexecuted": false,
    "source_hash": "c2602aa8",
    "execution_start": 1658530970401,
    "execution_millis": 8,
    "deepnote_cell_type": "code",
    "deepnote_cell_height": 81
   },
   "source": "import numpy as np",
   "execution_count": 2,
   "outputs": []
  },
  {
   "cell_type": "code",
   "metadata": {
    "cell_id": "a341e29f1fcf4e3294f8b390c0f0409c",
    "tags": [],
    "deepnote_to_be_reexecuted": false,
    "source_hash": "dfdd0f9c",
    "execution_start": 1658529632159,
    "execution_millis": 80,
    "deepnote_cell_type": "code",
    "deepnote_cell_height": 118.1875,
    "deepnote_output_heights": [
     21.1875
    ]
   },
   "source": "list(range(0, 10))",
   "execution_count": null,
   "outputs": [
    {
     "output_type": "execute_result",
     "execution_count": 2,
     "data": {
      "text/plain": "[0, 1, 2, 3, 4, 5, 6, 7, 8, 9]"
     },
     "metadata": {}
    }
   ]
  },
  {
   "cell_type": "code",
   "metadata": {
    "cell_id": "cde2ecdc189b4a789064384d5bac519a",
    "tags": [],
    "deepnote_to_be_reexecuted": false,
    "source_hash": "edb64b2d",
    "execution_start": 1658529658510,
    "execution_millis": 13,
    "deepnote_cell_type": "code",
    "deepnote_cell_height": 136.1875,
    "deepnote_output_heights": [
     21.1875
    ]
   },
   "source": "# arange(start, ends, steps)\nnp.arange(0, 10)",
   "execution_count": null,
   "outputs": [
    {
     "output_type": "execute_result",
     "execution_count": 3,
     "data": {
      "text/plain": "array([0, 1, 2, 3, 4, 5, 6, 7, 8, 9])"
     },
     "metadata": {}
    }
   ]
  },
  {
   "cell_type": "code",
   "metadata": {
    "cell_id": "2dc477e691c34b9e9a41fef0d282794e",
    "tags": [],
    "deepnote_to_be_reexecuted": false,
    "source_hash": "598fc70c",
    "execution_start": 1658529713253,
    "execution_millis": 1,
    "deepnote_cell_type": "code",
    "deepnote_cell_height": 118.1875,
    "deepnote_output_heights": [
     21.1875
    ]
   },
   "source": "np.arange(0, 20, 2)",
   "execution_count": null,
   "outputs": [
    {
     "output_type": "execute_result",
     "execution_count": 4,
     "data": {
      "text/plain": "array([ 0,  2,  4,  6,  8, 10, 12, 14, 16, 18])"
     },
     "metadata": {}
    }
   ]
  },
  {
   "cell_type": "code",
   "metadata": {
    "cell_id": "e8140820d89a4f9183f504148764f203",
    "tags": [],
    "deepnote_to_be_reexecuted": false,
    "source_hash": "707726d6",
    "execution_start": 1658529802516,
    "execution_millis": 420,
    "deepnote_cell_type": "code",
    "deepnote_cell_height": 308.875,
    "deepnote_output_heights": [
     193.875
    ]
   },
   "source": "# zeros(shape)\nnp.zeros((10, 10))",
   "execution_count": null,
   "outputs": [
    {
     "output_type": "execute_result",
     "execution_count": 10,
     "data": {
      "text/plain": "array([[0., 0., 0., 0., 0., 0., 0., 0., 0., 0.],\n       [0., 0., 0., 0., 0., 0., 0., 0., 0., 0.],\n       [0., 0., 0., 0., 0., 0., 0., 0., 0., 0.],\n       [0., 0., 0., 0., 0., 0., 0., 0., 0., 0.],\n       [0., 0., 0., 0., 0., 0., 0., 0., 0., 0.],\n       [0., 0., 0., 0., 0., 0., 0., 0., 0., 0.],\n       [0., 0., 0., 0., 0., 0., 0., 0., 0., 0.],\n       [0., 0., 0., 0., 0., 0., 0., 0., 0., 0.],\n       [0., 0., 0., 0., 0., 0., 0., 0., 0., 0.],\n       [0., 0., 0., 0., 0., 0., 0., 0., 0., 0.]])"
     },
     "metadata": {}
    }
   ]
  },
  {
   "cell_type": "code",
   "metadata": {
    "cell_id": "b4d704580d024210976f76e0392969f1",
    "tags": [],
    "deepnote_to_be_reexecuted": false,
    "source_hash": "3dbeefeb",
    "execution_start": 1658529852837,
    "execution_millis": 31,
    "deepnote_cell_type": "code",
    "deepnote_cell_height": 708,
    "deepnote_output_heights": [
     611
    ]
   },
   "source": "np.ones((10, 5, 5))",
   "execution_count": null,
   "outputs": [
    {
     "output_type": "execute_result",
     "execution_count": 12,
     "data": {
      "text/plain": "array([[[1., 1., 1., 1., 1.],\n        [1., 1., 1., 1., 1.],\n        [1., 1., 1., 1., 1.],\n        [1., 1., 1., 1., 1.],\n        [1., 1., 1., 1., 1.]],\n\n       [[1., 1., 1., 1., 1.],\n        [1., 1., 1., 1., 1.],\n        [1., 1., 1., 1., 1.],\n        [1., 1., 1., 1., 1.],\n        [1., 1., 1., 1., 1.]],\n\n       [[1., 1., 1., 1., 1.],\n        [1., 1., 1., 1., 1.],\n        [1., 1., 1., 1., 1.],\n        [1., 1., 1., 1., 1.],\n        [1., 1., 1., 1., 1.]],\n\n       [[1., 1., 1., 1., 1.],\n        [1., 1., 1., 1., 1.],\n        [1., 1., 1., 1., 1.],\n        [1., 1., 1., 1., 1.],\n        [1., 1., 1., 1., 1.]],\n\n       [[1., 1., 1., 1., 1.],\n        [1., 1., 1., 1., 1.],\n        [1., 1., 1., 1., 1.],\n        [1., 1., 1., 1., 1.],\n        [1., 1., 1., 1., 1.]],\n\n       [[1., 1., 1., 1., 1.],\n        [1., 1., 1., 1., 1.],\n        [1., 1., 1., 1., 1.],\n        [1., 1., 1., 1., 1.],\n        [1., 1., 1., 1., 1.]],\n\n       [[1., 1., 1., 1., 1.],\n        [1., 1., 1., 1., 1.],\n        [1., 1., 1., 1., 1.],\n        [1., 1., 1., 1., 1.],\n        [1., 1., 1., 1., 1.]],\n\n       [[1., 1., 1., 1., 1.],\n        [1., 1., 1., 1., 1.],\n        [1., 1., 1., 1., 1.],\n        [1., 1., 1., 1., 1.],\n        [1., 1., 1., 1., 1.]],\n\n       [[1., 1., 1., 1., 1.],\n        [1., 1., 1., 1., 1.],\n        [1., 1., 1., 1., 1.],\n        [1., 1., 1., 1., 1.],\n        [1., 1., 1., 1., 1.]],\n\n       [[1., 1., 1., 1., 1.],\n        [1., 1., 1., 1., 1.],\n        [1., 1., 1., 1., 1.],\n        [1., 1., 1., 1., 1.],\n        [1., 1., 1., 1., 1.]]])"
     },
     "metadata": {}
    }
   ]
  },
  {
   "cell_type": "code",
   "metadata": {
    "cell_id": "ee8e4cd2e5864f8195822c0bd6963019",
    "tags": [],
    "deepnote_to_be_reexecuted": false,
    "source_hash": "e9e17969",
    "execution_start": 1658531025351,
    "execution_millis": 1,
    "deepnote_cell_type": "code",
    "deepnote_cell_height": 193.75,
    "deepnote_output_heights": [
     78.75
    ]
   },
   "source": "#  linspace(star, end, cantidad)\nnp.linspace(0, 10, 20)",
   "execution_count": 5,
   "outputs": [
    {
     "output_type": "execute_result",
     "execution_count": 5,
     "data": {
      "text/plain": "array([ 0.        ,  0.52631579,  1.05263158,  1.57894737,  2.10526316,\n        2.63157895,  3.15789474,  3.68421053,  4.21052632,  4.73684211,\n        5.26315789,  5.78947368,  6.31578947,  6.84210526,  7.36842105,\n        7.89473684,  8.42105263,  8.94736842,  9.47368421, 10.        ])"
     },
     "metadata": {}
    }
   ]
  },
  {
   "cell_type": "code",
   "metadata": {
    "cell_id": "b744ecbf8ed04fdc8150c4b9d117a896",
    "tags": [],
    "deepnote_to_be_reexecuted": false,
    "source_hash": "89f670b5",
    "execution_start": 1658531039050,
    "execution_millis": 268,
    "deepnote_cell_type": "code",
    "deepnote_cell_height": 193.75,
    "deepnote_output_heights": [
     78.75
    ]
   },
   "source": "# matriz identidad\nnp.eye(4)",
   "execution_count": 6,
   "outputs": [
    {
     "output_type": "execute_result",
     "execution_count": 6,
     "data": {
      "text/plain": "array([[1., 0., 0., 0.],\n       [0., 1., 0., 0.],\n       [0., 0., 1., 0.],\n       [0., 0., 0., 1.]])"
     },
     "metadata": {}
    }
   ]
  },
  {
   "cell_type": "code",
   "metadata": {
    "cell_id": "d4e7ce7d17d547ca88865c05df3c498d",
    "tags": [],
    "deepnote_to_be_reexecuted": false,
    "source_hash": "bbc75b41",
    "execution_start": 1658531057730,
    "execution_millis": 2,
    "deepnote_cell_type": "code",
    "deepnote_cell_height": 136.1875,
    "deepnote_output_heights": [
     21.1875
    ]
   },
   "source": "# valor aleatorio\nnp.random.rand()",
   "execution_count": 7,
   "outputs": [
    {
     "output_type": "execute_result",
     "execution_count": 7,
     "data": {
      "text/plain": "0.5221742583960903"
     },
     "metadata": {}
    }
   ]
  },
  {
   "cell_type": "code",
   "metadata": {
    "cell_id": "f50e38c0152e4209b66b788c79d8411d",
    "tags": [],
    "deepnote_to_be_reexecuted": false,
    "source_hash": "8988b079",
    "execution_start": 1658531075257,
    "execution_millis": 5,
    "deepnote_cell_type": "code",
    "deepnote_cell_height": 118.1875,
    "deepnote_output_heights": [
     21.1875
    ]
   },
   "source": "np.random.rand(4)",
   "execution_count": 8,
   "outputs": [
    {
     "output_type": "execute_result",
     "execution_count": 8,
     "data": {
      "text/plain": "array([0.90483741, 0.32046062, 0.17815617, 0.58263336])"
     },
     "metadata": {}
    }
   ]
  },
  {
   "cell_type": "code",
   "metadata": {
    "cell_id": "f1719d92303946c387c306b17c6270ed",
    "tags": [],
    "deepnote_to_be_reexecuted": false,
    "source_hash": "305994c3",
    "execution_start": 1658531100674,
    "execution_millis": 4,
    "deepnote_cell_type": "code",
    "deepnote_cell_height": 175.75,
    "deepnote_output_heights": [
     78.75
    ]
   },
   "source": "np.random.rand(4, 4)",
   "execution_count": 10,
   "outputs": [
    {
     "output_type": "execute_result",
     "execution_count": 10,
     "data": {
      "text/plain": "array([[0.8470223 , 0.02009702, 0.28513106, 0.41669555],\n       [0.81705147, 0.20936593, 0.15849093, 0.60469001],\n       [0.54044542, 0.89145041, 0.12714481, 0.27914585],\n       [0.93302605, 0.17863895, 0.8507033 , 0.83751468]])"
     },
     "metadata": {}
    }
   ]
  },
  {
   "cell_type": "code",
   "metadata": {
    "cell_id": "d3973bbf9c134a2a8504c9092db50e12",
    "tags": [],
    "deepnote_to_be_reexecuted": false,
    "source_hash": "75d85a93",
    "execution_start": 1658531158613,
    "execution_millis": 6,
    "deepnote_cell_type": "code",
    "deepnote_cell_height": 308.875,
    "deepnote_output_heights": [
     193.875
    ]
   },
   "source": "# .randint(star, end, dimesiones)\nnp.random.randint(1, 100, (10, 10))",
   "execution_count": 11,
   "outputs": [
    {
     "output_type": "execute_result",
     "execution_count": 11,
     "data": {
      "text/plain": "array([[33,  6,  6, 32, 96, 62, 26, 27, 66, 52],\n       [21,  2, 60, 60, 58, 81, 27, 89, 48, 78],\n       [51, 89, 12, 87, 34, 62, 21, 69,  5, 93],\n       [10, 34, 13, 10, 84, 95, 77, 92, 38, 77],\n       [46, 16, 52, 30, 37, 98, 88, 12,  5, 42],\n       [83, 26, 46, 91, 76,  2,  5, 27,  3, 81],\n       [43, 78,  1, 93, 22, 31, 33, 11, 88, 63],\n       [19,  8, 55, 32, 51, 61, 55, 76, 69, 37],\n       [89, 13, 69, 22, 14,  7, 10,  8, 95, 77],\n       [59, 84, 57, 54, 47, 24, 24, 50, 26, 44]])"
     },
     "metadata": {}
    }
   ]
  },
  {
   "cell_type": "code",
   "metadata": {
    "cell_id": "f2862a49dca242be83e6049284bd3222",
    "tags": [],
    "deepnote_to_be_reexecuted": false,
    "source_hash": "78f11087",
    "execution_start": 1658531284737,
    "execution_millis": 538,
    "deepnote_cell_type": "code",
    "deepnote_cell_height": 701,
    "deepnote_output_heights": [
     21.1875
    ]
   },
   "source": "print(np.random.poisson.__doc__)",
   "execution_count": 15,
   "outputs": [
    {
     "name": "stdout",
     "text": "\n        poisson(lam=1.0, size=None)\n\n        Draw samples from a Poisson distribution.\n\n        The Poisson distribution is the limit of the binomial distribution\n        for large N.\n\n        .. note::\n            New code should use the ``poisson`` method of a ``default_rng()``\n            instance instead; please see the :ref:`random-quick-start`.\n\n        Parameters\n        ----------\n        lam : float or array_like of floats\n            Expected number of events occurring in a fixed-time interval,\n            must be >= 0. A sequence must be broadcastable over the requested\n            size.\n        size : int or tuple of ints, optional\n            Output shape.  If the given shape is, e.g., ``(m, n, k)``, then\n            ``m * n * k`` samples are drawn.  If size is ``None`` (default),\n            a single value is returned if ``lam`` is a scalar. Otherwise,\n            ``np.array(lam).size`` samples are drawn.\n\n        Returns\n        -------\n        out : ndarray or scalar\n            Drawn samples from the parameterized Poisson distribution.\n\n        See Also\n        --------\n        Generator.poisson: which should be used for new code.\n\n        Notes\n        -----\n        The Poisson distribution\n\n        .. math:: f(k; \\lambda)=\\frac{\\lambda^k e^{-\\lambda}}{k!}\n\n        For events with an expected separation :math:`\\lambda` the Poisson\n        distribution :math:`f(k; \\lambda)` describes the probability of\n        :math:`k` events occurring within the observed\n        interval :math:`\\lambda`.\n\n        Because the output is limited to the range of the C int64 type, a\n        ValueError is raised when `lam` is within 10 sigma of the maximum\n        representable value.\n\n        References\n        ----------\n        .. [1] Weisstein, Eric W. \"Poisson Distribution.\"\n               From MathWorld--A Wolfram Web Resource.\n               http://mathworld.wolfram.com/PoissonDistribution.html\n        .. [2] Wikipedia, \"Poisson distribution\",\n               https://en.wikipedia.org/wiki/Poisson_distribution\n\n        Examples\n        --------\n        Draw samples from the distribution:\n\n        >>> import numpy as np\n        >>> s = np.random.poisson(5, 10000)\n\n        Display histogram of the sample:\n\n        >>> import matplotlib.pyplot as plt\n        >>> count, bins, ignored = plt.hist(s, 14, density=True)\n        >>> plt.show()\n\n        Draw each 100 values for lambda 100 and 500:\n\n        >>> s = np.random.poisson(lam=(100., 500.), size=(100, 2))\n\n        \n",
     "output_type": "stream"
    }
   ]
  },
  {
   "cell_type": "code",
   "metadata": {
    "cell_id": "27ecdd3659044324b7db901347658677",
    "tags": [],
    "owner_user_id": "1446e09b-adb1-4d03-8824-192d50632f30",
    "deepnote_to_be_reexecuted": false,
    "source_hash": "31ef896c",
    "execution_start": 1658531361998,
    "execution_millis": 2,
    "deepnote_cell_type": "code",
    "deepnote_cell_height": 329.25,
    "deepnote_output_heights": [
     232.25
    ]
   },
   "source": "np.random.poisson(5, 200)",
   "execution_count": 21,
   "outputs": [
    {
     "output_type": "execute_result",
     "execution_count": 21,
     "data": {
      "text/plain": "array([ 5,  3,  6,  3,  4,  7,  4,  4,  3,  3,  7,  7,  4,  6,  8,  3,  5,\n        7,  8,  7, 10,  5,  4,  2,  7,  6,  4,  5,  5,  6,  6,  6,  3,  5,\n        3,  7,  9,  4,  4,  9,  4,  5,  2,  6,  5,  1, 14,  5,  4,  4,  7,\n        3,  3,  6,  6,  6,  4,  3,  7,  1,  5,  3,  5,  6,  6,  3,  5,  3,\n        3, 11,  6,  6,  5,  4,  5,  5,  7,  4,  2,  3,  3,  5,  5,  5,  6,\n        4,  1,  5,  6,  5,  5,  7,  5, 12,  5,  5,  2,  2,  2,  6,  5,  4,\n        4,  7,  4,  6,  7,  7,  3,  5,  4,  3,  6,  5,  5,  5,  5,  6,  2,\n        5,  8,  7,  5,  3,  5,  7,  4,  2,  2,  3,  4,  4,  6,  2,  5,  6,\n        3,  6,  4,  4,  3,  8,  6,  6,  4,  5,  3,  8,  4,  3,  7,  4,  6,\n       10,  5,  6,  5,  3,  5,  4,  5,  3,  3,  7,  3,  4, 12, 10,  3,  4,\n        7,  6,  6, 10,  7,  2,  6,  5,  7,  3,  7,  6, 10,  3,  9,  6,  8,\n        5, 10,  4,  4,  5,  6,  7,  7,  5,  3, 11,  4,  7])"
     },
     "metadata": {}
    }
   ]
  },
  {
   "cell_type": "markdown",
   "source": "<a style='text-decoration:none;line-height:16px;display:flex;color:#5B5B62;padding:10px;justify-content:end;' href='https://deepnote.com?utm_source=created-in-deepnote-cell&projectId=4950ccd9-74b8-4ba2-b588-82894596c11f' target=\"_blank\">\n<img alt='Created in deepnote.com' style='display:inline;max-height:16px;margin:0px;margin-right:7.5px;' src='data:image/svg+xml;base64,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' > </img>\nCreated in <span style='font-weight:600;margin-left:4px;'>Deepnote</span></a>",
   "metadata": {
    "tags": [],
    "created_in_deepnote_cell": true,
    "deepnote_cell_type": "markdown"
   }
  }
 ],
 "nbformat": 4,
 "nbformat_minor": 2,
 "metadata": {
  "orig_nbformat": 2,
  "deepnote": {},
  "deepnote_notebook_id": "9fa2925f-0806-4af2-a265-ba63bd9e0aef",
  "deepnote_execution_queue": []
 }
}