{
 "cells": [
  {
   "cell_type": "code",
   "metadata": {
    "tags": [],
    "cell_id": "5ee640c7-1029-4601-809a-1f457dee7efe",
    "deepnote_to_be_reexecuted": false,
    "source_hash": "c76c7c51",
    "execution_start": 1658608650745,
    "execution_millis": 97553,
    "deepnote_cell_type": "code",
    "deepnote_cell_height": 99
   },
   "source": "import pandas as pd\nimport numpy as np",
   "execution_count": 1,
   "outputs": []
  },
  {
   "cell_type": "code",
   "source": "df1 = pd.DataFrame(\n{\"A\": ['A0', 'A1', 'A2', 'A3'],\n\"B\": ['B0', 'B1', 'B2', 'B3'],\n\"C\": ['C0', 'C1', 'C2', 'C3'],\n\"D\": ['D0', 'D1', 'D2', 'D3'],\n})\n\ndf2 = pd.DataFrame(\n{\n\"A\": ['A4', 'A5', 'A6', 'A7'],\n\"B\": ['B4', 'B5', 'B6', 'B7'],\n\"C\": ['C4', 'C5', 'C6', 'C7'],\n\"D\": ['D4', 'D5', 'D6', 'D7'],\n})",
   "metadata": {
    "cell_id": "1113710046ed4bf2a0f5945d01e7e2c9",
    "tags": [],
    "deepnote_to_be_reexecuted": false,
    "source_hash": "40f20ae2",
    "execution_start": 1658608650789,
    "execution_millis": 97511,
    "deepnote_cell_type": "code",
    "deepnote_cell_height": 315
   },
   "outputs": [],
   "execution_count": 2
  },
  {
   "cell_type": "code",
   "source": "pd.concat([df2, df1], ignore_index=True) # respeta y organiza los indices",
   "metadata": {
    "cell_id": "32b0f6e6f57d46dda1428facc3921d10",
    "tags": [],
    "deepnote_to_be_reexecuted": false,
    "source_hash": "7f295616",
    "execution_start": 1658608650790,
    "execution_millis": 81,
    "deepnote_cell_type": "code",
    "deepnote_cell_height": 533
   },
   "outputs": [
    {
     "output_type": "execute_result",
     "execution_count": 3,
     "data": {
      "application/vnd.deepnote.dataframe.v3+json": {
       "column_count": 4,
       "row_count": 8,
       "columns": [
        {
         "name": "A",
         "dtype": "object",
         "stats": {
          "unique_count": 8,
          "nan_count": 0,
          "categories": [
           {
            "name": "A4",
            "count": 1
           },
           {
            "name": "A5",
            "count": 1
           },
           {
            "name": "6 others",
            "count": 6
           }
          ]
         }
        },
        {
         "name": "B",
         "dtype": "object",
         "stats": {
          "unique_count": 8,
          "nan_count": 0,
          "categories": [
           {
            "name": "B4",
            "count": 1
           },
           {
            "name": "B5",
            "count": 1
           },
           {
            "name": "6 others",
            "count": 6
           }
          ]
         }
        },
        {
         "name": "C",
         "dtype": "object",
         "stats": {
          "unique_count": 8,
          "nan_count": 0,
          "categories": [
           {
            "name": "C4",
            "count": 1
           },
           {
            "name": "C5",
            "count": 1
           },
           {
            "name": "6 others",
            "count": 6
           }
          ]
         }
        },
        {
         "name": "D",
         "dtype": "object",
         "stats": {
          "unique_count": 8,
          "nan_count": 0,
          "categories": [
           {
            "name": "D4",
            "count": 1
           },
           {
            "name": "D5",
            "count": 1
           },
           {
            "name": "6 others",
            "count": 6
           }
          ]
         }
        },
        {
         "name": "_deepnote_index_column",
         "dtype": "int64"
        }
       ],
       "rows": [
        {
         "A": "A4",
         "B": "B4",
         "C": "C4",
         "D": "D4",
         "_deepnote_index_column": 0
        },
        {
         "A": "A5",
         "B": "B5",
         "C": "C5",
         "D": "D5",
         "_deepnote_index_column": 1
        },
        {
         "A": "A6",
         "B": "B6",
         "C": "C6",
         "D": "D6",
         "_deepnote_index_column": 2
        },
        {
         "A": "A7",
         "B": "B7",
         "C": "C7",
         "D": "D7",
         "_deepnote_index_column": 3
        },
        {
         "A": "A0",
         "B": "B0",
         "C": "C0",
         "D": "D0",
         "_deepnote_index_column": 4
        },
        {
         "A": "A1",
         "B": "B1",
         "C": "C1",
         "D": "D1",
         "_deepnote_index_column": 5
        },
        {
         "A": "A2",
         "B": "B2",
         "C": "C2",
         "D": "D2",
         "_deepnote_index_column": 6
        },
        {
         "A": "A3",
         "B": "B3",
         "C": "C3",
         "D": "D3",
         "_deepnote_index_column": 7
        }
       ]
      },
      "text/plain": "    A   B   C   D\n0  A4  B4  C4  D4\n1  A5  B5  C5  D5\n2  A6  B6  C6  D6\n3  A7  B7  C7  D7\n4  A0  B0  C0  D0\n5  A1  B1  C1  D1\n6  A2  B2  C2  D2\n7  A3  B3  C3  D3",
      "text/html": "<div>\n<style scoped>\n    .dataframe tbody tr th:only-of-type {\n        vertical-align: middle;\n    }\n\n    .dataframe tbody tr th {\n        vertical-align: top;\n    }\n\n    .dataframe thead th {\n        text-align: right;\n    }\n</style>\n<table border=\"1\" class=\"dataframe\">\n  <thead>\n    <tr style=\"text-align: right;\">\n      <th></th>\n      <th>A</th>\n      <th>B</th>\n      <th>C</th>\n      <th>D</th>\n    </tr>\n  </thead>\n  <tbody>\n    <tr>\n      <th>0</th>\n      <td>A4</td>\n      <td>B4</td>\n      <td>C4</td>\n      <td>D4</td>\n    </tr>\n    <tr>\n      <th>1</th>\n      <td>A5</td>\n      <td>B5</td>\n      <td>C5</td>\n      <td>D5</td>\n    </tr>\n    <tr>\n      <th>2</th>\n      <td>A6</td>\n      <td>B6</td>\n      <td>C6</td>\n      <td>D6</td>\n    </tr>\n    <tr>\n      <th>3</th>\n      <td>A7</td>\n      <td>B7</td>\n      <td>C7</td>\n      <td>D7</td>\n    </tr>\n    <tr>\n      <th>4</th>\n      <td>A0</td>\n      <td>B0</td>\n      <td>C0</td>\n      <td>D0</td>\n    </tr>\n    <tr>\n      <th>5</th>\n      <td>A1</td>\n      <td>B1</td>\n      <td>C1</td>\n      <td>D1</td>\n    </tr>\n    <tr>\n      <th>6</th>\n      <td>A2</td>\n      <td>B2</td>\n      <td>C2</td>\n      <td>D2</td>\n    </tr>\n    <tr>\n      <th>7</th>\n      <td>A3</td>\n      <td>B3</td>\n      <td>C3</td>\n      <td>D3</td>\n    </tr>\n  </tbody>\n</table>\n</div>"
     },
     "metadata": {}
    }
   ],
   "execution_count": 3
  },
  {
   "cell_type": "code",
   "source": "pd.concat([df1, df2], axis=1)",
   "metadata": {
    "cell_id": "95e3458d6efe4282a91339b9fe79454d",
    "tags": [],
    "deepnote_to_be_reexecuted": false,
    "source_hash": "b0573096",
    "execution_start": 1658608650870,
    "execution_millis": 93,
    "deepnote_cell_type": "code",
    "deepnote_cell_height": 369
   },
   "outputs": [
    {
     "output_type": "execute_result",
     "execution_count": 4,
     "data": {
      "application/vnd.deepnote.dataframe.v3+json": {
       "column_count": 8,
       "row_count": 4,
       "columns": [
        {
         "name": "A",
         "dtype": "object",
         "stats": {
          "unique_count": 4,
          "nan_count": 0,
          "categories": [
           {
            "name": "A0",
            "count": 1
           },
           {
            "name": "A1",
            "count": 1
           },
           {
            "name": "2 others",
            "count": 2
           }
          ]
         }
        },
        {
         "name": "B",
         "dtype": "object",
         "stats": {
          "unique_count": 4,
          "nan_count": 0,
          "categories": [
           {
            "name": "B0",
            "count": 1
           },
           {
            "name": "B1",
            "count": 1
           },
           {
            "name": "2 others",
            "count": 2
           }
          ]
         }
        },
        {
         "name": "C",
         "dtype": "object",
         "stats": {
          "unique_count": 4,
          "nan_count": 0,
          "categories": [
           {
            "name": "C0",
            "count": 1
           },
           {
            "name": "C1",
            "count": 1
           },
           {
            "name": "2 others",
            "count": 2
           }
          ]
         }
        },
        {
         "name": "D",
         "dtype": "object",
         "stats": {
          "unique_count": 4,
          "nan_count": 0,
          "categories": [
           {
            "name": "D0",
            "count": 1
           },
           {
            "name": "D1",
            "count": 1
           },
           {
            "name": "2 others",
            "count": 2
           }
          ]
         }
        },
        {
         "name": "A.1",
         "dtype": "object",
         "stats": {
          "unique_count": 4,
          "nan_count": 0,
          "categories": [
           {
            "name": "A4",
            "count": 1
           },
           {
            "name": "A5",
            "count": 1
           },
           {
            "name": "2 others",
            "count": 2
           }
          ]
         }
        },
        {
         "name": "B.1",
         "dtype": "object",
         "stats": {
          "unique_count": 4,
          "nan_count": 0,
          "categories": [
           {
            "name": "B4",
            "count": 1
           },
           {
            "name": "B5",
            "count": 1
           },
           {
            "name": "2 others",
            "count": 2
           }
          ]
         }
        },
        {
         "name": "C.1",
         "dtype": "object",
         "stats": {
          "unique_count": 4,
          "nan_count": 0,
          "categories": [
           {
            "name": "C4",
            "count": 1
           },
           {
            "name": "C5",
            "count": 1
           },
           {
            "name": "2 others",
            "count": 2
           }
          ]
         }
        },
        {
         "name": "D.1",
         "dtype": "object",
         "stats": {
          "unique_count": 4,
          "nan_count": 0,
          "categories": [
           {
            "name": "D4",
            "count": 1
           },
           {
            "name": "D5",
            "count": 1
           },
           {
            "name": "2 others",
            "count": 2
           }
          ]
         }
        },
        {
         "name": "_deepnote_index_column",
         "dtype": "int64"
        }
       ],
       "rows": [
        {
         "A": "A0",
         "B": "B0",
         "C": "C0",
         "D": "D0",
         "A.1": "A4",
         "B.1": "B4",
         "C.1": "C4",
         "D.1": "D4",
         "_deepnote_index_column": 0
        },
        {
         "A": "A1",
         "B": "B1",
         "C": "C1",
         "D": "D1",
         "A.1": "A5",
         "B.1": "B5",
         "C.1": "C5",
         "D.1": "D5",
         "_deepnote_index_column": 1
        },
        {
         "A": "A2",
         "B": "B2",
         "C": "C2",
         "D": "D2",
         "A.1": "A6",
         "B.1": "B6",
         "C.1": "C6",
         "D.1": "D6",
         "_deepnote_index_column": 2
        },
        {
         "A": "A3",
         "B": "B3",
         "C": "C3",
         "D": "D3",
         "A.1": "A7",
         "B.1": "B7",
         "C.1": "C7",
         "D.1": "D7",
         "_deepnote_index_column": 3
        }
       ]
      },
      "text/plain": "    A   B   C   D   A   B   C   D\n0  A0  B0  C0  D0  A4  B4  C4  D4\n1  A1  B1  C1  D1  A5  B5  C5  D5\n2  A2  B2  C2  D2  A6  B6  C6  D6\n3  A3  B3  C3  D3  A7  B7  C7  D7",
      "text/html": "<div>\n<style scoped>\n    .dataframe tbody tr th:only-of-type {\n        vertical-align: middle;\n    }\n\n    .dataframe tbody tr th {\n        vertical-align: top;\n    }\n\n    .dataframe thead th {\n        text-align: right;\n    }\n</style>\n<table border=\"1\" class=\"dataframe\">\n  <thead>\n    <tr style=\"text-align: right;\">\n      <th></th>\n      <th>A</th>\n      <th>B</th>\n      <th>C</th>\n      <th>D</th>\n      <th>A</th>\n      <th>B</th>\n      <th>C</th>\n      <th>D</th>\n    </tr>\n  </thead>\n  <tbody>\n    <tr>\n      <th>0</th>\n      <td>A0</td>\n      <td>B0</td>\n      <td>C0</td>\n      <td>D0</td>\n      <td>A4</td>\n      <td>B4</td>\n      <td>C4</td>\n      <td>D4</td>\n    </tr>\n    <tr>\n      <th>1</th>\n      <td>A1</td>\n      <td>B1</td>\n      <td>C1</td>\n      <td>D1</td>\n      <td>A5</td>\n      <td>B5</td>\n      <td>C5</td>\n      <td>D5</td>\n    </tr>\n    <tr>\n      <th>2</th>\n      <td>A2</td>\n      <td>B2</td>\n      <td>C2</td>\n      <td>D2</td>\n      <td>A6</td>\n      <td>B6</td>\n      <td>C6</td>\n      <td>D6</td>\n    </tr>\n    <tr>\n      <th>3</th>\n      <td>A3</td>\n      <td>B3</td>\n      <td>C3</td>\n      <td>D3</td>\n      <td>A7</td>\n      <td>B7</td>\n      <td>C7</td>\n      <td>D7</td>\n    </tr>\n  </tbody>\n</table>\n</div>"
     },
     "metadata": {}
    }
   ],
   "execution_count": 4
  },
  {
   "cell_type": "markdown",
   "source": "### Merge",
   "metadata": {
    "cell_id": "973b84997ae64bcfb68ab7b199fe1152",
    "tags": [],
    "deepnote_cell_type": "markdown",
    "deepnote_cell_height": 54
   }
  },
  {
   "cell_type": "code",
   "source": "izq = pd.DataFrame({'key': ['k0', 'k1', 'k2', 'k3'],\n'a': ['a0', 'a1', 'a2', 'a3'],\n'b': ['b0', 'b1', 'b2', 'b3']\n})\n\nder = pd.DataFrame({'key': ['k0', 'k1', 'k2', 'k3'],\n'c': ['c0', 'c1', 'c2', 'c3'],\n'd': ['d0', 'd1', 'd2', 'd3']\n})",
   "metadata": {
    "cell_id": "d9186c47883343e2905b7b0d9a48eff3",
    "tags": [],
    "deepnote_to_be_reexecuted": false,
    "source_hash": "815a3026",
    "execution_start": 1658608650962,
    "execution_millis": 0,
    "deepnote_cell_type": "code",
    "deepnote_cell_height": 225
   },
   "outputs": [],
   "execution_count": 5
  },
  {
   "cell_type": "code",
   "source": "izq.merge(der, on='key')",
   "metadata": {
    "cell_id": "42db4294ec95458391ee3b8026de6cd1",
    "tags": [],
    "deepnote_to_be_reexecuted": false,
    "source_hash": "e1ebb1ac",
    "execution_start": 1658608650963,
    "execution_millis": 63,
    "deepnote_cell_type": "code",
    "deepnote_cell_height": 369
   },
   "outputs": [
    {
     "output_type": "execute_result",
     "execution_count": 6,
     "data": {
      "application/vnd.deepnote.dataframe.v3+json": {
       "column_count": 5,
       "row_count": 4,
       "columns": [
        {
         "name": "key",
         "dtype": "object",
         "stats": {
          "unique_count": 4,
          "nan_count": 0,
          "categories": [
           {
            "name": "k0",
            "count": 1
           },
           {
            "name": "k1",
            "count": 1
           },
           {
            "name": "2 others",
            "count": 2
           }
          ]
         }
        },
        {
         "name": "a",
         "dtype": "object",
         "stats": {
          "unique_count": 4,
          "nan_count": 0,
          "categories": [
           {
            "name": "a0",
            "count": 1
           },
           {
            "name": "a1",
            "count": 1
           },
           {
            "name": "2 others",
            "count": 2
           }
          ]
         }
        },
        {
         "name": "b",
         "dtype": "object",
         "stats": {
          "unique_count": 4,
          "nan_count": 0,
          "categories": [
           {
            "name": "b0",
            "count": 1
           },
           {
            "name": "b1",
            "count": 1
           },
           {
            "name": "2 others",
            "count": 2
           }
          ]
         }
        },
        {
         "name": "c",
         "dtype": "object",
         "stats": {
          "unique_count": 4,
          "nan_count": 0,
          "categories": [
           {
            "name": "c0",
            "count": 1
           },
           {
            "name": "c1",
            "count": 1
           },
           {
            "name": "2 others",
            "count": 2
           }
          ]
         }
        },
        {
         "name": "d",
         "dtype": "object",
         "stats": {
          "unique_count": 4,
          "nan_count": 0,
          "categories": [
           {
            "name": "d0",
            "count": 1
           },
           {
            "name": "d1",
            "count": 1
           },
           {
            "name": "2 others",
            "count": 2
           }
          ]
         }
        },
        {
         "name": "_deepnote_index_column",
         "dtype": "int64"
        }
       ],
       "rows": [
        {
         "key": "k0",
         "a": "a0",
         "b": "b0",
         "c": "c0",
         "d": "d0",
         "_deepnote_index_column": 0
        },
        {
         "key": "k1",
         "a": "a1",
         "b": "b1",
         "c": "c1",
         "d": "d1",
         "_deepnote_index_column": 1
        },
        {
         "key": "k2",
         "a": "a2",
         "b": "b2",
         "c": "c2",
         "d": "d2",
         "_deepnote_index_column": 2
        },
        {
         "key": "k3",
         "a": "a3",
         "b": "b3",
         "c": "c3",
         "d": "d3",
         "_deepnote_index_column": 3
        }
       ]
      },
      "text/plain": "  key   a   b   c   d\n0  k0  a0  b0  c0  d0\n1  k1  a1  b1  c1  d1\n2  k2  a2  b2  c2  d2\n3  k3  a3  b3  c3  d3",
      "text/html": "<div>\n<style scoped>\n    .dataframe tbody tr th:only-of-type {\n        vertical-align: middle;\n    }\n\n    .dataframe tbody tr th {\n        vertical-align: top;\n    }\n\n    .dataframe thead th {\n        text-align: right;\n    }\n</style>\n<table border=\"1\" class=\"dataframe\">\n  <thead>\n    <tr style=\"text-align: right;\">\n      <th></th>\n      <th>key</th>\n      <th>a</th>\n      <th>b</th>\n      <th>c</th>\n      <th>d</th>\n    </tr>\n  </thead>\n  <tbody>\n    <tr>\n      <th>0</th>\n      <td>k0</td>\n      <td>a0</td>\n      <td>b0</td>\n      <td>c0</td>\n      <td>d0</td>\n    </tr>\n    <tr>\n      <th>1</th>\n      <td>k1</td>\n      <td>a1</td>\n      <td>b1</td>\n      <td>c1</td>\n      <td>d1</td>\n    </tr>\n    <tr>\n      <th>2</th>\n      <td>k2</td>\n      <td>a2</td>\n      <td>b2</td>\n      <td>c2</td>\n      <td>d2</td>\n    </tr>\n    <tr>\n      <th>3</th>\n      <td>k3</td>\n      <td>a3</td>\n      <td>b3</td>\n      <td>c3</td>\n      <td>d3</td>\n    </tr>\n  </tbody>\n</table>\n</div>"
     },
     "metadata": {}
    }
   ],
   "execution_count": 6
  },
  {
   "cell_type": "code",
   "source": "izq = pd.DataFrame({'key': ['k0', 'k1', 'k2', 'k3'],\n'a': ['a0', 'a1', 'a2', 'a3'],\n'b': ['b0', 'b1', 'b2', 'b3']\n})\n\nder = pd.DataFrame({'key_2': ['k0', 'k1', 'k2', 'k3'],\n'c': ['c0', 'c1', 'c2', 'c3'],\n'd': ['d0', 'd1', 'd2', 'd3']\n})",
   "metadata": {
    "cell_id": "965c270dbcc74f709f4863ebc5aa4283",
    "tags": [],
    "deepnote_to_be_reexecuted": false,
    "source_hash": "d9d114a",
    "execution_start": 1658608651030,
    "execution_millis": 17,
    "deepnote_cell_type": "code",
    "deepnote_cell_height": 225
   },
   "outputs": [],
   "execution_count": 7
  },
  {
   "cell_type": "code",
   "source": "izq.merge(der, left_on='key', right_on='key_2')",
   "metadata": {
    "cell_id": "0c2ae406339744d6ab700c95dcfb0714",
    "tags": [],
    "deepnote_to_be_reexecuted": false,
    "source_hash": "796119a0",
    "execution_start": 1658608651058,
    "execution_millis": 74,
    "deepnote_cell_type": "code",
    "deepnote_cell_height": 369
   },
   "outputs": [
    {
     "output_type": "execute_result",
     "execution_count": 8,
     "data": {
      "application/vnd.deepnote.dataframe.v3+json": {
       "column_count": 6,
       "row_count": 4,
       "columns": [
        {
         "name": "key",
         "dtype": "object",
         "stats": {
          "unique_count": 4,
          "nan_count": 0,
          "categories": [
           {
            "name": "k0",
            "count": 1
           },
           {
            "name": "k1",
            "count": 1
           },
           {
            "name": "2 others",
            "count": 2
           }
          ]
         }
        },
        {
         "name": "a",
         "dtype": "object",
         "stats": {
          "unique_count": 4,
          "nan_count": 0,
          "categories": [
           {
            "name": "a0",
            "count": 1
           },
           {
            "name": "a1",
            "count": 1
           },
           {
            "name": "2 others",
            "count": 2
           }
          ]
         }
        },
        {
         "name": "b",
         "dtype": "object",
         "stats": {
          "unique_count": 4,
          "nan_count": 0,
          "categories": [
           {
            "name": "b0",
            "count": 1
           },
           {
            "name": "b1",
            "count": 1
           },
           {
            "name": "2 others",
            "count": 2
           }
          ]
         }
        },
        {
         "name": "key_2",
         "dtype": "object",
         "stats": {
          "unique_count": 4,
          "nan_count": 0,
          "categories": [
           {
            "name": "k0",
            "count": 1
           },
           {
            "name": "k1",
            "count": 1
           },
           {
            "name": "2 others",
            "count": 2
           }
          ]
         }
        },
        {
         "name": "c",
         "dtype": "object",
         "stats": {
          "unique_count": 4,
          "nan_count": 0,
          "categories": [
           {
            "name": "c0",
            "count": 1
           },
           {
            "name": "c1",
            "count": 1
           },
           {
            "name": "2 others",
            "count": 2
           }
          ]
         }
        },
        {
         "name": "d",
         "dtype": "object",
         "stats": {
          "unique_count": 4,
          "nan_count": 0,
          "categories": [
           {
            "name": "d0",
            "count": 1
           },
           {
            "name": "d1",
            "count": 1
           },
           {
            "name": "2 others",
            "count": 2
           }
          ]
         }
        },
        {
         "name": "_deepnote_index_column",
         "dtype": "int64"
        }
       ],
       "rows": [
        {
         "key": "k0",
         "a": "a0",
         "b": "b0",
         "key_2": "k0",
         "c": "c0",
         "d": "d0",
         "_deepnote_index_column": 0
        },
        {
         "key": "k1",
         "a": "a1",
         "b": "b1",
         "key_2": "k1",
         "c": "c1",
         "d": "d1",
         "_deepnote_index_column": 1
        },
        {
         "key": "k2",
         "a": "a2",
         "b": "b2",
         "key_2": "k2",
         "c": "c2",
         "d": "d2",
         "_deepnote_index_column": 2
        },
        {
         "key": "k3",
         "a": "a3",
         "b": "b3",
         "key_2": "k3",
         "c": "c3",
         "d": "d3",
         "_deepnote_index_column": 3
        }
       ]
      },
      "text/plain": "  key   a   b key_2   c   d\n0  k0  a0  b0    k0  c0  d0\n1  k1  a1  b1    k1  c1  d1\n2  k2  a2  b2    k2  c2  d2\n3  k3  a3  b3    k3  c3  d3",
      "text/html": "<div>\n<style scoped>\n    .dataframe tbody tr th:only-of-type {\n        vertical-align: middle;\n    }\n\n    .dataframe tbody tr th {\n        vertical-align: top;\n    }\n\n    .dataframe thead th {\n        text-align: right;\n    }\n</style>\n<table border=\"1\" class=\"dataframe\">\n  <thead>\n    <tr style=\"text-align: right;\">\n      <th></th>\n      <th>key</th>\n      <th>a</th>\n      <th>b</th>\n      <th>key_2</th>\n      <th>c</th>\n      <th>d</th>\n    </tr>\n  </thead>\n  <tbody>\n    <tr>\n      <th>0</th>\n      <td>k0</td>\n      <td>a0</td>\n      <td>b0</td>\n      <td>k0</td>\n      <td>c0</td>\n      <td>d0</td>\n    </tr>\n    <tr>\n      <th>1</th>\n      <td>k1</td>\n      <td>a1</td>\n      <td>b1</td>\n      <td>k1</td>\n      <td>c1</td>\n      <td>d1</td>\n    </tr>\n    <tr>\n      <th>2</th>\n      <td>k2</td>\n      <td>a2</td>\n      <td>b2</td>\n      <td>k2</td>\n      <td>c2</td>\n      <td>d2</td>\n    </tr>\n    <tr>\n      <th>3</th>\n      <td>k3</td>\n      <td>a3</td>\n      <td>b3</td>\n      <td>k3</td>\n      <td>c3</td>\n      <td>d3</td>\n    </tr>\n  </tbody>\n</table>\n</div>"
     },
     "metadata": {}
    }
   ],
   "execution_count": 8
  },
  {
   "cell_type": "code",
   "source": "izq = pd.DataFrame({'key': ['k0', 'k1', 'k2', 'k3'],\n'a': ['a0', 'a1', 'a2', 'a3'],\n'b': ['b0', 'b1', 'b2', 'b3']\n})\n\nder = pd.DataFrame({'key_2': ['k0', 'k1', 'k2', np.nan],\n'c': ['c0', 'c1', 'c2', 'c3'],\n'd': ['d0', 'd1', 'd2', 'd3']\n})",
   "metadata": {
    "cell_id": "716459af6e23428f941f095e324d3105",
    "tags": [],
    "deepnote_to_be_reexecuted": false,
    "source_hash": "5e19127c",
    "execution_start": 1658608651136,
    "execution_millis": 24,
    "deepnote_cell_type": "code",
    "deepnote_cell_height": 225
   },
   "outputs": [],
   "execution_count": 9
  },
  {
   "cell_type": "code",
   "source": "izq.merge(der, left_on='key', right_on='key_2', how='right') # how = 'inner' es el default",
   "metadata": {
    "cell_id": "39f83abec6304e3aa5feaff4101e363b",
    "tags": [],
    "deepnote_to_be_reexecuted": false,
    "source_hash": "6f83e6d8",
    "execution_start": 1658609161233,
    "execution_millis": 27,
    "deepnote_cell_type": "code",
    "deepnote_cell_height": 369
   },
   "outputs": [
    {
     "output_type": "execute_result",
     "execution_count": 13,
     "data": {
      "application/vnd.deepnote.dataframe.v3+json": {
       "column_count": 6,
       "row_count": 4,
       "columns": [
        {
         "name": "key",
         "dtype": "object",
         "stats": {
          "unique_count": 3,
          "nan_count": 1,
          "categories": [
           {
            "name": "k0",
            "count": 1
           },
           {
            "name": "2 others",
            "count": 2
           },
           {
            "name": "Missing",
            "count": 1
           }
          ]
         }
        },
        {
         "name": "a",
         "dtype": "object",
         "stats": {
          "unique_count": 3,
          "nan_count": 1,
          "categories": [
           {
            "name": "a0",
            "count": 1
           },
           {
            "name": "2 others",
            "count": 2
           },
           {
            "name": "Missing",
            "count": 1
           }
          ]
         }
        },
        {
         "name": "b",
         "dtype": "object",
         "stats": {
          "unique_count": 3,
          "nan_count": 1,
          "categories": [
           {
            "name": "b0",
            "count": 1
           },
           {
            "name": "2 others",
            "count": 2
           },
           {
            "name": "Missing",
            "count": 1
           }
          ]
         }
        },
        {
         "name": "key_2",
         "dtype": "object",
         "stats": {
          "unique_count": 3,
          "nan_count": 1,
          "categories": [
           {
            "name": "k0",
            "count": 1
           },
           {
            "name": "2 others",
            "count": 2
           },
           {
            "name": "Missing",
            "count": 1
           }
          ]
         }
        },
        {
         "name": "c",
         "dtype": "object",
         "stats": {
          "unique_count": 4,
          "nan_count": 0,
          "categories": [
           {
            "name": "c0",
            "count": 1
           },
           {
            "name": "c1",
            "count": 1
           },
           {
            "name": "2 others",
            "count": 2
           }
          ]
         }
        },
        {
         "name": "d",
         "dtype": "object",
         "stats": {
          "unique_count": 4,
          "nan_count": 0,
          "categories": [
           {
            "name": "d0",
            "count": 1
           },
           {
            "name": "d1",
            "count": 1
           },
           {
            "name": "2 others",
            "count": 2
           }
          ]
         }
        },
        {
         "name": "_deepnote_index_column",
         "dtype": "int64"
        }
       ],
       "rows": [
        {
         "key": "k0",
         "a": "a0",
         "b": "b0",
         "key_2": "k0",
         "c": "c0",
         "d": "d0",
         "_deepnote_index_column": 0
        },
        {
         "key": "k1",
         "a": "a1",
         "b": "b1",
         "key_2": "k1",
         "c": "c1",
         "d": "d1",
         "_deepnote_index_column": 1
        },
        {
         "key": "k2",
         "a": "a2",
         "b": "b2",
         "key_2": "k2",
         "c": "c2",
         "d": "d2",
         "_deepnote_index_column": 2
        },
        {
         "key": "nan",
         "a": "nan",
         "b": "nan",
         "key_2": "nan",
         "c": "c3",
         "d": "d3",
         "_deepnote_index_column": 3
        }
       ]
      },
      "text/plain": "   key    a    b key_2   c   d\n0   k0   a0   b0    k0  c0  d0\n1   k1   a1   b1    k1  c1  d1\n2   k2   a2   b2    k2  c2  d2\n3  NaN  NaN  NaN   NaN  c3  d3",
      "text/html": "<div>\n<style scoped>\n    .dataframe tbody tr th:only-of-type {\n        vertical-align: middle;\n    }\n\n    .dataframe tbody tr th {\n        vertical-align: top;\n    }\n\n    .dataframe thead th {\n        text-align: right;\n    }\n</style>\n<table border=\"1\" class=\"dataframe\">\n  <thead>\n    <tr style=\"text-align: right;\">\n      <th></th>\n      <th>key</th>\n      <th>a</th>\n      <th>b</th>\n      <th>key_2</th>\n      <th>c</th>\n      <th>d</th>\n    </tr>\n  </thead>\n  <tbody>\n    <tr>\n      <th>0</th>\n      <td>k0</td>\n      <td>a0</td>\n      <td>b0</td>\n      <td>k0</td>\n      <td>c0</td>\n      <td>d0</td>\n    </tr>\n    <tr>\n      <th>1</th>\n      <td>k1</td>\n      <td>a1</td>\n      <td>b1</td>\n      <td>k1</td>\n      <td>c1</td>\n      <td>d1</td>\n    </tr>\n    <tr>\n      <th>2</th>\n      <td>k2</td>\n      <td>a2</td>\n      <td>b2</td>\n      <td>k2</td>\n      <td>c2</td>\n      <td>d2</td>\n    </tr>\n    <tr>\n      <th>3</th>\n      <td>NaN</td>\n      <td>NaN</td>\n      <td>NaN</td>\n      <td>NaN</td>\n      <td>c3</td>\n      <td>d3</td>\n    </tr>\n  </tbody>\n</table>\n</div>"
     },
     "metadata": {}
    }
   ],
   "execution_count": 13
  },
  {
   "cell_type": "markdown",
   "source": "### Join - Index match",
   "metadata": {
    "cell_id": "1a954784d6f9417e92d5e0934d1e308d",
    "tags": [],
    "deepnote_cell_type": "markdown",
    "deepnote_cell_height": 54
   }
  },
  {
   "cell_type": "code",
   "source": "izq = pd.DataFrame({'A': ['A0','A1','A2'],\n  'B':['B0','B1','B2']},\n  index=['k0','k1','k2'])\n\nder =pd.DataFrame({'C': ['C0','C1','C2'],\n  'D':['D0','D1','D2']},\n  index=['k0','k2','k3']) ",
   "metadata": {
    "cell_id": "9887d610e8164166a7db887115660190",
    "tags": [],
    "deepnote_to_be_reexecuted": false,
    "source_hash": "c45d7abc",
    "execution_start": 1658609305785,
    "execution_millis": 1,
    "deepnote_cell_type": "code",
    "deepnote_cell_height": 189
   },
   "outputs": [],
   "execution_count": 14
  },
  {
   "cell_type": "code",
   "source": "izq.join(der, how='inner')",
   "metadata": {
    "cell_id": "f10605eb66244975b4336d2d02ab001e",
    "tags": [],
    "deepnote_to_be_reexecuted": false,
    "source_hash": "21416284",
    "execution_start": 1658609452088,
    "execution_millis": 56,
    "deepnote_cell_type": "code",
    "deepnote_cell_height": 287
   },
   "outputs": [
    {
     "output_type": "execute_result",
     "execution_count": 16,
     "data": {
      "application/vnd.deepnote.dataframe.v3+json": {
       "column_count": 4,
       "row_count": 2,
       "columns": [
        {
         "name": "A",
         "dtype": "object",
         "stats": {
          "unique_count": 2,
          "nan_count": 0,
          "categories": [
           {
            "name": "A0",
            "count": 1
           },
           {
            "name": "A2",
            "count": 1
           }
          ]
         }
        },
        {
         "name": "B",
         "dtype": "object",
         "stats": {
          "unique_count": 2,
          "nan_count": 0,
          "categories": [
           {
            "name": "B0",
            "count": 1
           },
           {
            "name": "B2",
            "count": 1
           }
          ]
         }
        },
        {
         "name": "C",
         "dtype": "object",
         "stats": {
          "unique_count": 2,
          "nan_count": 0,
          "categories": [
           {
            "name": "C0",
            "count": 1
           },
           {
            "name": "C1",
            "count": 1
           }
          ]
         }
        },
        {
         "name": "D",
         "dtype": "object",
         "stats": {
          "unique_count": 2,
          "nan_count": 0,
          "categories": [
           {
            "name": "D0",
            "count": 1
           },
           {
            "name": "D1",
            "count": 1
           }
          ]
         }
        },
        {
         "name": "_deepnote_index_column",
         "dtype": "object"
        }
       ],
       "rows": [
        {
         "A": "A0",
         "B": "B0",
         "C": "C0",
         "D": "D0",
         "_deepnote_index_column": "k0"
        },
        {
         "A": "A2",
         "B": "B2",
         "C": "C1",
         "D": "D1",
         "_deepnote_index_column": "k2"
        }
       ]
      },
      "text/plain": "     A   B   C   D\nk0  A0  B0  C0  D0\nk2  A2  B2  C1  D1",
      "text/html": "<div>\n<style scoped>\n    .dataframe tbody tr th:only-of-type {\n        vertical-align: middle;\n    }\n\n    .dataframe tbody tr th {\n        vertical-align: top;\n    }\n\n    .dataframe thead th {\n        text-align: right;\n    }\n</style>\n<table border=\"1\" class=\"dataframe\">\n  <thead>\n    <tr style=\"text-align: right;\">\n      <th></th>\n      <th>A</th>\n      <th>B</th>\n      <th>C</th>\n      <th>D</th>\n    </tr>\n  </thead>\n  <tbody>\n    <tr>\n      <th>k0</th>\n      <td>A0</td>\n      <td>B0</td>\n      <td>C0</td>\n      <td>D0</td>\n    </tr>\n    <tr>\n      <th>k2</th>\n      <td>A2</td>\n      <td>B2</td>\n      <td>C1</td>\n      <td>D1</td>\n    </tr>\n  </tbody>\n</table>\n</div>"
     },
     "metadata": {}
    }
   ],
   "execution_count": 16
  },
  {
   "cell_type": "code",
   "source": "izq.join(der, how='left')",
   "metadata": {
    "cell_id": "d36496c1b27446a5bf218559cd3e1afb",
    "tags": [],
    "owner_user_id": "1446e09b-adb1-4d03-8824-192d50632f30",
    "deepnote_to_be_reexecuted": false,
    "source_hash": "63b65803",
    "execution_start": 1658609504128,
    "execution_millis": 752,
    "deepnote_cell_type": "code",
    "deepnote_cell_height": 66
   },
   "outputs": [
    {
     "output_type": "execute_result",
     "execution_count": 19,
     "data": {
      "application/vnd.deepnote.dataframe.v3+json": {
       "column_count": 4,
       "row_count": 3,
       "columns": [
        {
         "name": "A",
         "dtype": "object",
         "stats": {
          "unique_count": 3,
          "nan_count": 0,
          "categories": [
           {
            "name": "A0",
            "count": 1
           },
           {
            "name": "A1",
            "count": 1
           },
           {
            "name": "A2",
            "count": 1
           }
          ]
         }
        },
        {
         "name": "B",
         "dtype": "object",
         "stats": {
          "unique_count": 3,
          "nan_count": 0,
          "categories": [
           {
            "name": "B0",
            "count": 1
           },
           {
            "name": "B1",
            "count": 1
           },
           {
            "name": "B2",
            "count": 1
           }
          ]
         }
        },
        {
         "name": "C",
         "dtype": "object",
         "stats": {
          "unique_count": 2,
          "nan_count": 1,
          "categories": [
           {
            "name": "C0",
            "count": 1
           },
           {
            "name": "C1",
            "count": 1
           },
           {
            "name": "Missing",
            "count": 1
           }
          ]
         }
        },
        {
         "name": "D",
         "dtype": "object",
         "stats": {
          "unique_count": 2,
          "nan_count": 1,
          "categories": [
           {
            "name": "D0",
            "count": 1
           },
           {
            "name": "D1",
            "count": 1
           },
           {
            "name": "Missing",
            "count": 1
           }
          ]
         }
        },
        {
         "name": "_deepnote_index_column",
         "dtype": "object"
        }
       ],
       "rows": [
        {
         "A": "A0",
         "B": "B0",
         "C": "C0",
         "D": "D0",
         "_deepnote_index_column": "k0"
        },
        {
         "A": "A1",
         "B": "B1",
         "C": "nan",
         "D": "nan",
         "_deepnote_index_column": "k1"
        },
        {
         "A": "A2",
         "B": "B2",
         "C": "C1",
         "D": "D1",
         "_deepnote_index_column": "k2"
        }
       ]
      },
      "text/plain": "     A   B    C    D\nk0  A0  B0   C0   D0\nk1  A1  B1  NaN  NaN\nk2  A2  B2   C1   D1",
      "text/html": "<div>\n<style scoped>\n    .dataframe tbody tr th:only-of-type {\n        vertical-align: middle;\n    }\n\n    .dataframe tbody tr th {\n        vertical-align: top;\n    }\n\n    .dataframe thead th {\n        text-align: right;\n    }\n</style>\n<table border=\"1\" class=\"dataframe\">\n  <thead>\n    <tr style=\"text-align: right;\">\n      <th></th>\n      <th>A</th>\n      <th>B</th>\n      <th>C</th>\n      <th>D</th>\n    </tr>\n  </thead>\n  <tbody>\n    <tr>\n      <th>k0</th>\n      <td>A0</td>\n      <td>B0</td>\n      <td>C0</td>\n      <td>D0</td>\n    </tr>\n    <tr>\n      <th>k1</th>\n      <td>A1</td>\n      <td>B1</td>\n      <td>NaN</td>\n      <td>NaN</td>\n    </tr>\n    <tr>\n      <th>k2</th>\n      <td>A2</td>\n      <td>B2</td>\n      <td>C1</td>\n      <td>D1</td>\n    </tr>\n  </tbody>\n</table>\n</div>"
     },
     "metadata": {}
    }
   ],
   "execution_count": 19
  },
  {
   "cell_type": "code",
   "source": "izq.join(der, how='right')",
   "metadata": {
    "cell_id": "41d23037a3d34fde9875a04af23c448e",
    "tags": [],
    "deepnote_to_be_reexecuted": false,
    "source_hash": "9efad128",
    "execution_start": 1658609503415,
    "execution_millis": 41,
    "deepnote_cell_type": "code",
    "deepnote_cell_height": 66
   },
   "outputs": [
    {
     "output_type": "execute_result",
     "execution_count": 18,
     "data": {
      "application/vnd.deepnote.dataframe.v3+json": {
       "column_count": 4,
       "row_count": 3,
       "columns": [
        {
         "name": "A",
         "dtype": "object",
         "stats": {
          "unique_count": 2,
          "nan_count": 1,
          "categories": [
           {
            "name": "A0",
            "count": 1
           },
           {
            "name": "A2",
            "count": 1
           },
           {
            "name": "Missing",
            "count": 1
           }
          ]
         }
        },
        {
         "name": "B",
         "dtype": "object",
         "stats": {
          "unique_count": 2,
          "nan_count": 1,
          "categories": [
           {
            "name": "B0",
            "count": 1
           },
           {
            "name": "B2",
            "count": 1
           },
           {
            "name": "Missing",
            "count": 1
           }
          ]
         }
        },
        {
         "name": "C",
         "dtype": "object",
         "stats": {
          "unique_count": 3,
          "nan_count": 0,
          "categories": [
           {
            "name": "C0",
            "count": 1
           },
           {
            "name": "C1",
            "count": 1
           },
           {
            "name": "C2",
            "count": 1
           }
          ]
         }
        },
        {
         "name": "D",
         "dtype": "object",
         "stats": {
          "unique_count": 3,
          "nan_count": 0,
          "categories": [
           {
            "name": "D0",
            "count": 1
           },
           {
            "name": "D1",
            "count": 1
           },
           {
            "name": "D2",
            "count": 1
           }
          ]
         }
        },
        {
         "name": "_deepnote_index_column",
         "dtype": "object"
        }
       ],
       "rows": [
        {
         "A": "A0",
         "B": "B0",
         "C": "C0",
         "D": "D0",
         "_deepnote_index_column": "k0"
        },
        {
         "A": "A2",
         "B": "B2",
         "C": "C1",
         "D": "D1",
         "_deepnote_index_column": "k2"
        },
        {
         "A": "nan",
         "B": "nan",
         "C": "C2",
         "D": "D2",
         "_deepnote_index_column": "k3"
        }
       ]
      },
      "text/plain": "      A    B   C   D\nk0   A0   B0  C0  D0\nk2   A2   B2  C1  D1\nk3  NaN  NaN  C2  D2",
      "text/html": "<div>\n<style scoped>\n    .dataframe tbody tr th:only-of-type {\n        vertical-align: middle;\n    }\n\n    .dataframe tbody tr th {\n        vertical-align: top;\n    }\n\n    .dataframe thead th {\n        text-align: right;\n    }\n</style>\n<table border=\"1\" class=\"dataframe\">\n  <thead>\n    <tr style=\"text-align: right;\">\n      <th></th>\n      <th>A</th>\n      <th>B</th>\n      <th>C</th>\n      <th>D</th>\n    </tr>\n  </thead>\n  <tbody>\n    <tr>\n      <th>k0</th>\n      <td>A0</td>\n      <td>B0</td>\n      <td>C0</td>\n      <td>D0</td>\n    </tr>\n    <tr>\n      <th>k2</th>\n      <td>A2</td>\n      <td>B2</td>\n      <td>C1</td>\n      <td>D1</td>\n    </tr>\n    <tr>\n      <th>k3</th>\n      <td>NaN</td>\n      <td>NaN</td>\n      <td>C2</td>\n      <td>D2</td>\n    </tr>\n  </tbody>\n</table>\n</div>"
     },
     "metadata": {}
    }
   ],
   "execution_count": 18
  },
  {
   "cell_type": "code",
   "source": "izq.join(der, how='outer')",
   "metadata": {
    "cell_id": "d781b6d4625f4f5cae58d06424144f60",
    "tags": [],
    "deepnote_to_be_reexecuted": false,
    "source_hash": "22d1901d",
    "execution_start": 1658609501593,
    "execution_millis": 610,
    "deepnote_cell_type": "code",
    "deepnote_cell_height": 66
   },
   "outputs": [
    {
     "output_type": "execute_result",
     "execution_count": 17,
     "data": {
      "application/vnd.deepnote.dataframe.v3+json": {
       "column_count": 4,
       "row_count": 4,
       "columns": [
        {
         "name": "A",
         "dtype": "object",
         "stats": {
          "unique_count": 3,
          "nan_count": 1,
          "categories": [
           {
            "name": "A0",
            "count": 1
           },
           {
            "name": "2 others",
            "count": 2
           },
           {
            "name": "Missing",
            "count": 1
           }
          ]
         }
        },
        {
         "name": "B",
         "dtype": "object",
         "stats": {
          "unique_count": 3,
          "nan_count": 1,
          "categories": [
           {
            "name": "B0",
            "count": 1
           },
           {
            "name": "2 others",
            "count": 2
           },
           {
            "name": "Missing",
            "count": 1
           }
          ]
         }
        },
        {
         "name": "C",
         "dtype": "object",
         "stats": {
          "unique_count": 3,
          "nan_count": 1,
          "categories": [
           {
            "name": "C0",
            "count": 1
           },
           {
            "name": "2 others",
            "count": 2
           },
           {
            "name": "Missing",
            "count": 1
           }
          ]
         }
        },
        {
         "name": "D",
         "dtype": "object",
         "stats": {
          "unique_count": 3,
          "nan_count": 1,
          "categories": [
           {
            "name": "D0",
            "count": 1
           },
           {
            "name": "2 others",
            "count": 2
           },
           {
            "name": "Missing",
            "count": 1
           }
          ]
         }
        },
        {
         "name": "_deepnote_index_column",
         "dtype": "object"
        }
       ],
       "rows": [
        {
         "A": "A0",
         "B": "B0",
         "C": "C0",
         "D": "D0",
         "_deepnote_index_column": "k0"
        },
        {
         "A": "A1",
         "B": "B1",
         "C": "nan",
         "D": "nan",
         "_deepnote_index_column": "k1"
        },
        {
         "A": "A2",
         "B": "B2",
         "C": "C1",
         "D": "D1",
         "_deepnote_index_column": "k2"
        },
        {
         "A": "nan",
         "B": "nan",
         "C": "C2",
         "D": "D2",
         "_deepnote_index_column": "k3"
        }
       ]
      },
      "text/plain": "      A    B    C    D\nk0   A0   B0   C0   D0\nk1   A1   B1  NaN  NaN\nk2   A2   B2   C1   D1\nk3  NaN  NaN   C2   D2",
      "text/html": "<div>\n<style scoped>\n    .dataframe tbody tr th:only-of-type {\n        vertical-align: middle;\n    }\n\n    .dataframe tbody tr th {\n        vertical-align: top;\n    }\n\n    .dataframe thead th {\n        text-align: right;\n    }\n</style>\n<table border=\"1\" class=\"dataframe\">\n  <thead>\n    <tr style=\"text-align: right;\">\n      <th></th>\n      <th>A</th>\n      <th>B</th>\n      <th>C</th>\n      <th>D</th>\n    </tr>\n  </thead>\n  <tbody>\n    <tr>\n      <th>k0</th>\n      <td>A0</td>\n      <td>B0</td>\n      <td>C0</td>\n      <td>D0</td>\n    </tr>\n    <tr>\n      <th>k1</th>\n      <td>A1</td>\n      <td>B1</td>\n      <td>NaN</td>\n      <td>NaN</td>\n    </tr>\n    <tr>\n      <th>k2</th>\n      <td>A2</td>\n      <td>B2</td>\n      <td>C1</td>\n      <td>D1</td>\n    </tr>\n    <tr>\n      <th>k3</th>\n      <td>NaN</td>\n      <td>NaN</td>\n      <td>C2</td>\n      <td>D2</td>\n    </tr>\n  </tbody>\n</table>\n</div>"
     },
     "metadata": {}
    }
   ],
   "execution_count": 17
  },
  {
   "cell_type": "markdown",
   "source": "<a style='text-decoration:none;line-height:16px;display:flex;color:#5B5B62;padding:10px;justify-content:end;' href='https://deepnote.com?utm_source=created-in-deepnote-cell&projectId=4950ccd9-74b8-4ba2-b588-82894596c11f' target=\"_blank\">\n<img alt='Created in deepnote.com' style='display:inline;max-height:16px;margin:0px;margin-right:7.5px;' src='data:image/svg+xml;base64,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' > </img>\nCreated in <span style='font-weight:600;margin-left:4px;'>Deepnote</span></a>",
   "metadata": {
    "tags": [],
    "created_in_deepnote_cell": true,
    "deepnote_cell_type": "markdown"
   }
  }
 ],
 "nbformat": 4,
 "nbformat_minor": 2,
 "metadata": {
  "orig_nbformat": 2,
  "deepnote": {},
  "deepnote_notebook_id": "5394f7f4-970c-4ffc-99ee-22684cf2c2ba",
  "deepnote_execution_queue": []
 }
}