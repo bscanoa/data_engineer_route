{
 "cells": [
  {
   "cell_type": "code",
   "metadata": {
    "tags": [],
    "cell_id": "c157c34c-b0be-4303-a314-f988b0e079bd",
    "deepnote_to_be_reexecuted": false,
    "source_hash": "9b82ee11",
    "execution_start": 1658602126273,
    "execution_millis": 13,
    "deepnote_cell_type": "code",
    "deepnote_cell_height": 81
   },
   "source": "import pandas as pd",
   "outputs": [],
   "execution_count": null
  },
  {
   "cell_type": "code",
   "source": "df_books = pd.read_csv('/work/data_enginner_route/manipulacion_de_datos_numpy_y_pandas/data/bestsellers-with-categories.csv')\ndf_books.head(2)",
   "metadata": {
    "cell_id": "968f415bb6384f109606df98b4e2137a",
    "tags": [],
    "deepnote_to_be_reexecuted": false,
    "source_hash": "2bed5ecf",
    "execution_start": 1658602139762,
    "execution_millis": 297,
    "deepnote_cell_type": "code",
    "deepnote_cell_height": 305
   },
   "outputs": [
    {
     "output_type": "execute_result",
     "execution_count": 6,
     "data": {
      "application/vnd.deepnote.dataframe.v3+json": {
       "column_count": 7,
       "row_count": 2,
       "columns": [
        {
         "name": "Name",
         "dtype": "object",
         "stats": {
          "unique_count": 2,
          "nan_count": 0,
          "categories": [
           {
            "name": "10-Day Green Smoothie Cleanse",
            "count": 1
           },
           {
            "name": "11/22/63: A Novel",
            "count": 1
           }
          ]
         }
        },
        {
         "name": "Author",
         "dtype": "object",
         "stats": {
          "unique_count": 2,
          "nan_count": 0,
          "categories": [
           {
            "name": "JJ Smith",
            "count": 1
           },
           {
            "name": "Stephen King",
            "count": 1
           }
          ]
         }
        },
        {
         "name": "User Rating",
         "dtype": "float64",
         "stats": {
          "unique_count": 2,
          "nan_count": 0,
          "min": "4.6",
          "max": "4.7",
          "histogram": [
           {
            "bin_start": 4.6,
            "bin_end": 4.609999999999999,
            "count": 1
           },
           {
            "bin_start": 4.609999999999999,
            "bin_end": 4.62,
            "count": 0
           },
           {
            "bin_start": 4.62,
            "bin_end": 4.63,
            "count": 0
           },
           {
            "bin_start": 4.63,
            "bin_end": 4.64,
            "count": 0
           },
           {
            "bin_start": 4.64,
            "bin_end": 4.65,
            "count": 0
           },
           {
            "bin_start": 4.65,
            "bin_end": 4.66,
            "count": 0
           },
           {
            "bin_start": 4.66,
            "bin_end": 4.67,
            "count": 0
           },
           {
            "bin_start": 4.67,
            "bin_end": 4.68,
            "count": 0
           },
           {
            "bin_start": 4.68,
            "bin_end": 4.69,
            "count": 0
           },
           {
            "bin_start": 4.69,
            "bin_end": 4.7,
            "count": 1
           }
          ]
         }
        },
        {
         "name": "Reviews",
         "dtype": "int64",
         "stats": {
          "unique_count": 2,
          "nan_count": 0,
          "min": "2052",
          "max": "17350",
          "histogram": [
           {
            "bin_start": 2052,
            "bin_end": 3581.8,
            "count": 1
           },
           {
            "bin_start": 3581.8,
            "bin_end": 5111.6,
            "count": 0
           },
           {
            "bin_start": 5111.6,
            "bin_end": 6641.4,
            "count": 0
           },
           {
            "bin_start": 6641.4,
            "bin_end": 8171.2,
            "count": 0
           },
           {
            "bin_start": 8171.2,
            "bin_end": 9701,
            "count": 0
           },
           {
            "bin_start": 9701,
            "bin_end": 11230.8,
            "count": 0
           },
           {
            "bin_start": 11230.8,
            "bin_end": 12760.6,
            "count": 0
           },
           {
            "bin_start": 12760.6,
            "bin_end": 14290.4,
            "count": 0
           },
           {
            "bin_start": 14290.4,
            "bin_end": 15820.199999999999,
            "count": 0
           },
           {
            "bin_start": 15820.199999999999,
            "bin_end": 17350,
            "count": 1
           }
          ]
         }
        },
        {
         "name": "Price",
         "dtype": "int64",
         "stats": {
          "unique_count": 2,
          "nan_count": 0,
          "min": "8",
          "max": "22",
          "histogram": [
           {
            "bin_start": 8,
            "bin_end": 9.4,
            "count": 1
           },
           {
            "bin_start": 9.4,
            "bin_end": 10.8,
            "count": 0
           },
           {
            "bin_start": 10.8,
            "bin_end": 12.2,
            "count": 0
           },
           {
            "bin_start": 12.2,
            "bin_end": 13.6,
            "count": 0
           },
           {
            "bin_start": 13.6,
            "bin_end": 15,
            "count": 0
           },
           {
            "bin_start": 15,
            "bin_end": 16.4,
            "count": 0
           },
           {
            "bin_start": 16.4,
            "bin_end": 17.799999999999997,
            "count": 0
           },
           {
            "bin_start": 17.799999999999997,
            "bin_end": 19.2,
            "count": 0
           },
           {
            "bin_start": 19.2,
            "bin_end": 20.6,
            "count": 0
           },
           {
            "bin_start": 20.6,
            "bin_end": 22,
            "count": 1
           }
          ]
         }
        },
        {
         "name": "Year",
         "dtype": "int64",
         "stats": {
          "unique_count": 2,
          "nan_count": 0,
          "min": "2011",
          "max": "2016",
          "histogram": [
           {
            "bin_start": 2011,
            "bin_end": 2011.5,
            "count": 1
           },
           {
            "bin_start": 2011.5,
            "bin_end": 2012,
            "count": 0
           },
           {
            "bin_start": 2012,
            "bin_end": 2012.5,
            "count": 0
           },
           {
            "bin_start": 2012.5,
            "bin_end": 2013,
            "count": 0
           },
           {
            "bin_start": 2013,
            "bin_end": 2013.5,
            "count": 0
           },
           {
            "bin_start": 2013.5,
            "bin_end": 2014,
            "count": 0
           },
           {
            "bin_start": 2014,
            "bin_end": 2014.5,
            "count": 0
           },
           {
            "bin_start": 2014.5,
            "bin_end": 2015,
            "count": 0
           },
           {
            "bin_start": 2015,
            "bin_end": 2015.5,
            "count": 0
           },
           {
            "bin_start": 2015.5,
            "bin_end": 2016,
            "count": 1
           }
          ]
         }
        },
        {
         "name": "Genre",
         "dtype": "object",
         "stats": {
          "unique_count": 2,
          "nan_count": 0,
          "categories": [
           {
            "name": "Non Fiction",
            "count": 1
           },
           {
            "name": "Fiction",
            "count": 1
           }
          ]
         }
        },
        {
         "name": "_deepnote_index_column",
         "dtype": "int64"
        }
       ],
       "rows": [
        {
         "Name": "10-Day Green Smoothie Cleanse",
         "Author": "JJ Smith",
         "User Rating": 4.7,
         "Reviews": 17350,
         "Price": 8,
         "Year": 2016,
         "Genre": "Non Fiction",
         "_deepnote_index_column": 0
        },
        {
         "Name": "11/22/63: A Novel",
         "Author": "Stephen King",
         "User Rating": 4.6,
         "Reviews": 2052,
         "Price": 22,
         "Year": 2011,
         "Genre": "Fiction",
         "_deepnote_index_column": 1
        }
       ]
      },
      "text/plain": "                            Name        Author  User Rating  Reviews  Price  \\\n0  10-Day Green Smoothie Cleanse      JJ Smith          4.7    17350      8   \n1              11/22/63: A Novel  Stephen King          4.6     2052     22   \n\n   Year        Genre  \n0  2016  Non Fiction  \n1  2011      Fiction  ",
      "text/html": "<div>\n<style scoped>\n    .dataframe tbody tr th:only-of-type {\n        vertical-align: middle;\n    }\n\n    .dataframe tbody tr th {\n        vertical-align: top;\n    }\n\n    .dataframe thead th {\n        text-align: right;\n    }\n</style>\n<table border=\"1\" class=\"dataframe\">\n  <thead>\n    <tr style=\"text-align: right;\">\n      <th></th>\n      <th>Name</th>\n      <th>Author</th>\n      <th>User Rating</th>\n      <th>Reviews</th>\n      <th>Price</th>\n      <th>Year</th>\n      <th>Genre</th>\n    </tr>\n  </thead>\n  <tbody>\n    <tr>\n      <th>0</th>\n      <td>10-Day Green Smoothie Cleanse</td>\n      <td>JJ Smith</td>\n      <td>4.7</td>\n      <td>17350</td>\n      <td>8</td>\n      <td>2016</td>\n      <td>Non Fiction</td>\n    </tr>\n    <tr>\n      <th>1</th>\n      <td>11/22/63: A Novel</td>\n      <td>Stephen King</td>\n      <td>4.6</td>\n      <td>2052</td>\n      <td>22</td>\n      <td>2011</td>\n      <td>Fiction</td>\n    </tr>\n  </tbody>\n</table>\n</div>"
     },
     "metadata": {}
    }
   ],
   "execution_count": null
  },
  {
   "cell_type": "code",
   "source": "df_books.groupby('Author').count()\n# Author se convierte en el indice del dataframe",
   "metadata": {
    "cell_id": "32143f402fbe4d47a78be49662779269",
    "tags": [],
    "deepnote_to_be_reexecuted": false,
    "source_hash": "906770f1",
    "execution_start": 1658602250309,
    "execution_millis": 765,
    "deepnote_table_state": {
     "pageSize": 10,
     "pageIndex": 24,
     "filters": [],
     "sortBy": []
    },
    "deepnote_table_loading": false,
    "deepnote_cell_type": "code",
    "deepnote_cell_height": 551,
    "deepnote_output_heights": [
     21.1875
    ]
   },
   "outputs": [
    {
     "output_type": "execute_result",
     "execution_count": 12,
     "data": {
      "application/vnd.deepnote.dataframe.v3+json": {
       "column_count": 6,
       "row_count": 248,
       "columns": [
        {
         "name": "Name",
         "dtype": "int64",
         "stats": {
          "unique_count": 12,
          "nan_count": 0,
          "min": "1",
          "max": "12",
          "histogram": [
           {
            "bin_start": 1,
            "bin_end": 2.1,
            "count": 190
           },
           {
            "bin_start": 2.1,
            "bin_end": 3.2,
            "count": 18
           },
           {
            "bin_start": 3.2,
            "bin_end": 4.300000000000001,
            "count": 12
           },
           {
            "bin_start": 4.300000000000001,
            "bin_end": 5.4,
            "count": 8
           },
           {
            "bin_start": 5.4,
            "bin_end": 6.5,
            "count": 7
           },
           {
            "bin_start": 6.5,
            "bin_end": 7.6000000000000005,
            "count": 5
           },
           {
            "bin_start": 7.6000000000000005,
            "bin_end": 8.700000000000001,
            "count": 1
           },
           {
            "bin_start": 8.700000000000001,
            "bin_end": 9.8,
            "count": 2
           },
           {
            "bin_start": 9.8,
            "bin_end": 10.9,
            "count": 1
           },
           {
            "bin_start": 10.9,
            "bin_end": 12,
            "count": 4
           }
          ]
         }
        },
        {
         "name": "User Rating",
         "dtype": "int64",
         "stats": {
          "unique_count": 12,
          "nan_count": 0,
          "min": "1",
          "max": "12",
          "histogram": [
           {
            "bin_start": 1,
            "bin_end": 2.1,
            "count": 190
           },
           {
            "bin_start": 2.1,
            "bin_end": 3.2,
            "count": 18
           },
           {
            "bin_start": 3.2,
            "bin_end": 4.300000000000001,
            "count": 12
           },
           {
            "bin_start": 4.300000000000001,
            "bin_end": 5.4,
            "count": 8
           },
           {
            "bin_start": 5.4,
            "bin_end": 6.5,
            "count": 7
           },
           {
            "bin_start": 6.5,
            "bin_end": 7.6000000000000005,
            "count": 5
           },
           {
            "bin_start": 7.6000000000000005,
            "bin_end": 8.700000000000001,
            "count": 1
           },
           {
            "bin_start": 8.700000000000001,
            "bin_end": 9.8,
            "count": 2
           },
           {
            "bin_start": 9.8,
            "bin_end": 10.9,
            "count": 1
           },
           {
            "bin_start": 10.9,
            "bin_end": 12,
            "count": 4
           }
          ]
         }
        },
        {
         "name": "Reviews",
         "dtype": "int64",
         "stats": {
          "unique_count": 12,
          "nan_count": 0,
          "min": "1",
          "max": "12",
          "histogram": [
           {
            "bin_start": 1,
            "bin_end": 2.1,
            "count": 190
           },
           {
            "bin_start": 2.1,
            "bin_end": 3.2,
            "count": 18
           },
           {
            "bin_start": 3.2,
            "bin_end": 4.300000000000001,
            "count": 12
           },
           {
            "bin_start": 4.300000000000001,
            "bin_end": 5.4,
            "count": 8
           },
           {
            "bin_start": 5.4,
            "bin_end": 6.5,
            "count": 7
           },
           {
            "bin_start": 6.5,
            "bin_end": 7.6000000000000005,
            "count": 5
           },
           {
            "bin_start": 7.6000000000000005,
            "bin_end": 8.700000000000001,
            "count": 1
           },
           {
            "bin_start": 8.700000000000001,
            "bin_end": 9.8,
            "count": 2
           },
           {
            "bin_start": 9.8,
            "bin_end": 10.9,
            "count": 1
           },
           {
            "bin_start": 10.9,
            "bin_end": 12,
            "count": 4
           }
          ]
         }
        },
        {
         "name": "Price",
         "dtype": "int64",
         "stats": {
          "unique_count": 12,
          "nan_count": 0,
          "min": "1",
          "max": "12",
          "histogram": [
           {
            "bin_start": 1,
            "bin_end": 2.1,
            "count": 190
           },
           {
            "bin_start": 2.1,
            "bin_end": 3.2,
            "count": 18
           },
           {
            "bin_start": 3.2,
            "bin_end": 4.300000000000001,
            "count": 12
           },
           {
            "bin_start": 4.300000000000001,
            "bin_end": 5.4,
            "count": 8
           },
           {
            "bin_start": 5.4,
            "bin_end": 6.5,
            "count": 7
           },
           {
            "bin_start": 6.5,
            "bin_end": 7.6000000000000005,
            "count": 5
           },
           {
            "bin_start": 7.6000000000000005,
            "bin_end": 8.700000000000001,
            "count": 1
           },
           {
            "bin_start": 8.700000000000001,
            "bin_end": 9.8,
            "count": 2
           },
           {
            "bin_start": 9.8,
            "bin_end": 10.9,
            "count": 1
           },
           {
            "bin_start": 10.9,
            "bin_end": 12,
            "count": 4
           }
          ]
         }
        },
        {
         "name": "Year",
         "dtype": "int64",
         "stats": {
          "unique_count": 12,
          "nan_count": 0,
          "min": "1",
          "max": "12",
          "histogram": [
           {
            "bin_start": 1,
            "bin_end": 2.1,
            "count": 190
           },
           {
            "bin_start": 2.1,
            "bin_end": 3.2,
            "count": 18
           },
           {
            "bin_start": 3.2,
            "bin_end": 4.300000000000001,
            "count": 12
           },
           {
            "bin_start": 4.300000000000001,
            "bin_end": 5.4,
            "count": 8
           },
           {
            "bin_start": 5.4,
            "bin_end": 6.5,
            "count": 7
           },
           {
            "bin_start": 6.5,
            "bin_end": 7.6000000000000005,
            "count": 5
           },
           {
            "bin_start": 7.6000000000000005,
            "bin_end": 8.700000000000001,
            "count": 1
           },
           {
            "bin_start": 8.700000000000001,
            "bin_end": 9.8,
            "count": 2
           },
           {
            "bin_start": 9.8,
            "bin_end": 10.9,
            "count": 1
           },
           {
            "bin_start": 10.9,
            "bin_end": 12,
            "count": 4
           }
          ]
         }
        },
        {
         "name": "Genre",
         "dtype": "int64",
         "stats": {
          "unique_count": 12,
          "nan_count": 0,
          "min": "1",
          "max": "12",
          "histogram": [
           {
            "bin_start": 1,
            "bin_end": 2.1,
            "count": 190
           },
           {
            "bin_start": 2.1,
            "bin_end": 3.2,
            "count": 18
           },
           {
            "bin_start": 3.2,
            "bin_end": 4.300000000000001,
            "count": 12
           },
           {
            "bin_start": 4.300000000000001,
            "bin_end": 5.4,
            "count": 8
           },
           {
            "bin_start": 5.4,
            "bin_end": 6.5,
            "count": 7
           },
           {
            "bin_start": 6.5,
            "bin_end": 7.6000000000000005,
            "count": 5
           },
           {
            "bin_start": 7.6000000000000005,
            "bin_end": 8.700000000000001,
            "count": 1
           },
           {
            "bin_start": 8.700000000000001,
            "bin_end": 9.8,
            "count": 2
           },
           {
            "bin_start": 9.8,
            "bin_end": 10.9,
            "count": 1
           },
           {
            "bin_start": 10.9,
            "bin_end": 12,
            "count": 4
           }
          ]
         }
        },
        {
         "name": "_deepnote_index_column",
         "dtype": "object"
        }
       ],
       "rows": [
        {
         "Name": 1,
         "User Rating": 1,
         "Reviews": 1,
         "Price": 1,
         "Year": 1,
         "Genre": 1,
         "_deepnote_index_column": "Tucker Carlson"
        },
        {
         "Name": 4,
         "User Rating": 4,
         "Reviews": 4,
         "Price": 4,
         "Year": 4,
         "Genre": 4,
         "_deepnote_index_column": "Veronica Roth"
        },
        {
         "Name": 1,
         "User Rating": 1,
         "Reviews": 1,
         "Price": 1,
         "Year": 1,
         "Genre": 1,
         "_deepnote_index_column": "W. Cleon Skousen"
        },
        {
         "Name": 3,
         "User Rating": 3,
         "Reviews": 3,
         "Price": 3,
         "Year": 3,
         "Genre": 3,
         "_deepnote_index_column": "Walter Isaacson"
        },
        {
         "Name": 2,
         "User Rating": 2,
         "Reviews": 2,
         "Price": 2,
         "Year": 2,
         "Genre": 2,
         "_deepnote_index_column": "William Davis"
        },
        {
         "Name": 2,
         "User Rating": 2,
         "Reviews": 2,
         "Price": 2,
         "Year": 2,
         "Genre": 2,
         "_deepnote_index_column": "William P. Young"
        },
        {
         "Name": 3,
         "User Rating": 3,
         "Reviews": 3,
         "Price": 3,
         "Year": 3,
         "Genre": 3,
         "_deepnote_index_column": "Wizards RPG Team"
        },
        {
         "Name": 2,
         "User Rating": 2,
         "Reviews": 2,
         "Price": 2,
         "Year": 2,
         "Genre": 2,
         "_deepnote_index_column": "Zhi Gang Sha"
        }
       ]
      },
      "text/plain": "                            Name  User Rating  Reviews  Price  Year  Genre\nAuthor                                                                    \nAbraham Verghese               2            2        2      2     2      2\nAdam Gasiewski                 1            1        1      1     1      1\nAdam Mansbach                  1            1        1      1     1      1\nAdir Levy                      1            1        1      1     1      1\nAdmiral William H. McRaven     1            1        1      1     1      1\n...                          ...          ...      ...    ...   ...    ...\nWalter Isaacson                3            3        3      3     3      3\nWilliam Davis                  2            2        2      2     2      2\nWilliam P. Young               2            2        2      2     2      2\nWizards RPG Team               3            3        3      3     3      3\nZhi Gang Sha                   2            2        2      2     2      2\n\n[248 rows x 6 columns]",
      "text/html": "<div>\n<style scoped>\n    .dataframe tbody tr th:only-of-type {\n        vertical-align: middle;\n    }\n\n    .dataframe tbody tr th {\n        vertical-align: top;\n    }\n\n    .dataframe thead th {\n        text-align: right;\n    }\n</style>\n<table border=\"1\" class=\"dataframe\">\n  <thead>\n    <tr style=\"text-align: right;\">\n      <th></th>\n      <th>Name</th>\n      <th>User Rating</th>\n      <th>Reviews</th>\n      <th>Price</th>\n      <th>Year</th>\n      <th>Genre</th>\n    </tr>\n    <tr>\n      <th>Author</th>\n      <th></th>\n      <th></th>\n      <th></th>\n      <th></th>\n      <th></th>\n      <th></th>\n    </tr>\n  </thead>\n  <tbody>\n    <tr>\n      <th>Abraham Verghese</th>\n      <td>2</td>\n      <td>2</td>\n      <td>2</td>\n      <td>2</td>\n      <td>2</td>\n      <td>2</td>\n    </tr>\n    <tr>\n      <th>Adam Gasiewski</th>\n      <td>1</td>\n      <td>1</td>\n      <td>1</td>\n      <td>1</td>\n      <td>1</td>\n      <td>1</td>\n    </tr>\n    <tr>\n      <th>Adam Mansbach</th>\n      <td>1</td>\n      <td>1</td>\n      <td>1</td>\n      <td>1</td>\n      <td>1</td>\n      <td>1</td>\n    </tr>\n    <tr>\n      <th>Adir Levy</th>\n      <td>1</td>\n      <td>1</td>\n      <td>1</td>\n      <td>1</td>\n      <td>1</td>\n      <td>1</td>\n    </tr>\n    <tr>\n      <th>Admiral William H. McRaven</th>\n      <td>1</td>\n      <td>1</td>\n      <td>1</td>\n      <td>1</td>\n      <td>1</td>\n      <td>1</td>\n    </tr>\n    <tr>\n      <th>...</th>\n      <td>...</td>\n      <td>...</td>\n      <td>...</td>\n      <td>...</td>\n      <td>...</td>\n      <td>...</td>\n    </tr>\n    <tr>\n      <th>Walter Isaacson</th>\n      <td>3</td>\n      <td>3</td>\n      <td>3</td>\n      <td>3</td>\n      <td>3</td>\n      <td>3</td>\n    </tr>\n    <tr>\n      <th>William Davis</th>\n      <td>2</td>\n      <td>2</td>\n      <td>2</td>\n      <td>2</td>\n      <td>2</td>\n      <td>2</td>\n    </tr>\n    <tr>\n      <th>William P. Young</th>\n      <td>2</td>\n      <td>2</td>\n      <td>2</td>\n      <td>2</td>\n      <td>2</td>\n      <td>2</td>\n    </tr>\n    <tr>\n      <th>Wizards RPG Team</th>\n      <td>3</td>\n      <td>3</td>\n      <td>3</td>\n      <td>3</td>\n      <td>3</td>\n      <td>3</td>\n    </tr>\n    <tr>\n      <th>Zhi Gang Sha</th>\n      <td>2</td>\n      <td>2</td>\n      <td>2</td>\n      <td>2</td>\n      <td>2</td>\n      <td>2</td>\n    </tr>\n  </tbody>\n</table>\n<p>248 rows × 6 columns</p>\n</div>"
     },
     "metadata": {}
    }
   ],
   "execution_count": null
  },
  {
   "cell_type": "code",
   "source": "df_books.groupby('Author').count().loc['William Davis']",
   "metadata": {
    "cell_id": "eeef73a57bec4861b1e861ed7ad987b2",
    "tags": [],
    "deepnote_to_be_reexecuted": false,
    "source_hash": "de7eab92",
    "execution_start": 1658602346237,
    "execution_millis": 485,
    "deepnote_cell_type": "code",
    "deepnote_cell_height": 233.3125,
    "deepnote_output_heights": [
     136.3125
    ]
   },
   "outputs": [
    {
     "output_type": "execute_result",
     "execution_count": 15,
     "data": {
      "text/plain": "Name           2\nUser Rating    2\nReviews        2\nPrice          2\nYear           2\nGenre          2\nName: William Davis, dtype: int64"
     },
     "metadata": {}
    }
   ],
   "execution_count": null
  },
  {
   "cell_type": "code",
   "source": "df_books.groupby('Author').sum().reset_index().describe()",
   "metadata": {
    "cell_id": "b85775cd1b8d47f4bf89fb333bfd9808",
    "tags": [],
    "deepnote_to_be_reexecuted": false,
    "source_hash": "40c7529a",
    "execution_start": 1658602394420,
    "execution_millis": 31,
    "deepnote_cell_type": "code",
    "deepnote_cell_height": 518
   },
   "outputs": [
    {
     "output_type": "execute_result",
     "execution_count": 17,
     "data": {
      "application/vnd.deepnote.dataframe.v3+json": {
       "column_count": 4,
       "row_count": 8,
       "columns": [
        {
         "name": "User Rating",
         "dtype": "float64",
         "stats": {
          "unique_count": 8,
          "nan_count": 0,
          "min": "4.0",
          "max": "248.0",
          "histogram": [
           {
            "bin_start": 4,
            "bin_end": 28.4,
            "count": 6
           },
           {
            "bin_start": 28.4,
            "bin_end": 52.8,
            "count": 0
           },
           {
            "bin_start": 52.8,
            "bin_end": 77.19999999999999,
            "count": 1
           },
           {
            "bin_start": 77.19999999999999,
            "bin_end": 101.6,
            "count": 0
           },
           {
            "bin_start": 101.6,
            "bin_end": 126,
            "count": 0
           },
           {
            "bin_start": 126,
            "bin_end": 150.39999999999998,
            "count": 0
           },
           {
            "bin_start": 150.39999999999998,
            "bin_end": 174.79999999999998,
            "count": 0
           },
           {
            "bin_start": 174.79999999999998,
            "bin_end": 199.2,
            "count": 0
           },
           {
            "bin_start": 199.2,
            "bin_end": 223.6,
            "count": 0
           },
           {
            "bin_start": 223.6,
            "bin_end": 248,
            "count": 1
           }
          ]
         }
        },
        {
         "name": "Reviews",
         "dtype": "float64",
         "stats": {
          "unique_count": 8,
          "nan_count": 0,
          "min": "248.0",
          "max": "278329.0",
          "histogram": [
           {
            "bin_start": 248,
            "bin_end": 28056.1,
            "count": 5
           },
           {
            "bin_start": 28056.1,
            "bin_end": 55864.2,
            "count": 2
           },
           {
            "bin_start": 55864.2,
            "bin_end": 83672.29999999999,
            "count": 0
           },
           {
            "bin_start": 83672.29999999999,
            "bin_end": 111480.4,
            "count": 0
           },
           {
            "bin_start": 111480.4,
            "bin_end": 139288.5,
            "count": 0
           },
           {
            "bin_start": 139288.5,
            "bin_end": 167096.59999999998,
            "count": 0
           },
           {
            "bin_start": 167096.59999999998,
            "bin_end": 194904.69999999998,
            "count": 0
           },
           {
            "bin_start": 194904.69999999998,
            "bin_end": 222712.8,
            "count": 0
           },
           {
            "bin_start": 222712.8,
            "bin_end": 250520.9,
            "count": 0
           },
           {
            "bin_start": 250520.9,
            "bin_end": 278329,
            "count": 1
           }
          ]
         }
        },
        {
         "name": "Price",
         "dtype": "float64",
         "stats": {
          "unique_count": 8,
          "nan_count": 0,
          "min": "0.0",
          "max": "460.0",
          "histogram": [
           {
            "bin_start": 0,
            "bin_end": 46,
            "count": 6
           },
           {
            "bin_start": 46,
            "bin_end": 92,
            "count": 0
           },
           {
            "bin_start": 92,
            "bin_end": 138,
            "count": 0
           },
           {
            "bin_start": 138,
            "bin_end": 184,
            "count": 0
           },
           {
            "bin_start": 184,
            "bin_end": 230,
            "count": 0
           },
           {
            "bin_start": 230,
            "bin_end": 276,
            "count": 1
           },
           {
            "bin_start": 276,
            "bin_end": 322,
            "count": 0
           },
           {
            "bin_start": 322,
            "bin_end": 368,
            "count": 0
           },
           {
            "bin_start": 368,
            "bin_end": 414,
            "count": 0
           },
           {
            "bin_start": 414,
            "bin_end": 460,
            "count": 1
           }
          ]
         }
        },
        {
         "name": "Year",
         "dtype": "float64",
         "stats": {
          "unique_count": 8,
          "nan_count": 0,
          "min": "248.0",
          "max": "24163.0",
          "histogram": [
           {
            "bin_start": 248,
            "bin_end": 2639.5,
            "count": 4
           },
           {
            "bin_start": 2639.5,
            "bin_end": 5031,
            "count": 3
           },
           {
            "bin_start": 5031,
            "bin_end": 7422.5,
            "count": 0
           },
           {
            "bin_start": 7422.5,
            "bin_end": 9814,
            "count": 0
           },
           {
            "bin_start": 9814,
            "bin_end": 12205.5,
            "count": 0
           },
           {
            "bin_start": 12205.5,
            "bin_end": 14597,
            "count": 0
           },
           {
            "bin_start": 14597,
            "bin_end": 16988.5,
            "count": 0
           },
           {
            "bin_start": 16988.5,
            "bin_end": 19380,
            "count": 0
           },
           {
            "bin_start": 19380,
            "bin_end": 21771.5,
            "count": 0
           },
           {
            "bin_start": 21771.5,
            "bin_end": 24163,
            "count": 1
           }
          ]
         }
        },
        {
         "name": "_deepnote_index_column",
         "dtype": "object"
        }
       ],
       "rows": [
        {
         "User Rating": 248,
         "Reviews": 248,
         "Price": 248,
         "Year": 248,
         "_deepnote_index_column": "count"
        },
        {
         "User Rating": 10.24233870967742,
         "Reviews": 26509.29435483871,
         "Price": 29.052419354838708,
         "Year": 4466.532258064516,
         "_deepnote_index_column": "mean"
        },
        {
         "User Rating": 9.548890908645681,
         "Reviews": 40369.95580561134,
         "Price": 42.56941549778937,
         "Year": 4119.922569013125,
         "_deepnote_index_column": "std"
        },
        {
         "User Rating": 4,
         "Reviews": 257,
         "Price": 0,
         "Year": 2009,
         "_deepnote_index_column": "min"
        },
        {
         "User Rating": 4.6,
         "Reviews": 4558,
         "Price": 11,
         "Year": 2013.75,
         "_deepnote_index_column": "25%"
        },
        {
         "User Rating": 4.9,
         "Reviews": 9957,
         "Price": 16,
         "Year": 2019,
         "_deepnote_index_column": "50%"
        },
        {
         "User Rating": 9.7,
         "Reviews": 29399.25,
         "Price": 30,
         "Year": 4037,
         "_deepnote_index_column": "75%"
        },
        {
         "User Rating": 57.599999999999994,
         "Reviews": 278329,
         "Price": 460,
         "Year": 24163,
         "_deepnote_index_column": "max"
        }
       ]
      },
      "text/plain": "       User Rating        Reviews       Price          Year\ncount   248.000000     248.000000  248.000000    248.000000\nmean     10.242339   26509.294355   29.052419   4466.532258\nstd       9.548891   40369.955806   42.569415   4119.922569\nmin       4.000000     257.000000    0.000000   2009.000000\n25%       4.600000    4558.000000   11.000000   2013.750000\n50%       4.900000    9957.000000   16.000000   2019.000000\n75%       9.700000   29399.250000   30.000000   4037.000000\nmax      57.600000  278329.000000  460.000000  24163.000000",
      "text/html": "<div>\n<style scoped>\n    .dataframe tbody tr th:only-of-type {\n        vertical-align: middle;\n    }\n\n    .dataframe tbody tr th {\n        vertical-align: top;\n    }\n\n    .dataframe thead th {\n        text-align: right;\n    }\n</style>\n<table border=\"1\" class=\"dataframe\">\n  <thead>\n    <tr style=\"text-align: right;\">\n      <th></th>\n      <th>User Rating</th>\n      <th>Reviews</th>\n      <th>Price</th>\n      <th>Year</th>\n    </tr>\n  </thead>\n  <tbody>\n    <tr>\n      <th>count</th>\n      <td>248.000000</td>\n      <td>248.000000</td>\n      <td>248.000000</td>\n      <td>248.000000</td>\n    </tr>\n    <tr>\n      <th>mean</th>\n      <td>10.242339</td>\n      <td>26509.294355</td>\n      <td>29.052419</td>\n      <td>4466.532258</td>\n    </tr>\n    <tr>\n      <th>std</th>\n      <td>9.548891</td>\n      <td>40369.955806</td>\n      <td>42.569415</td>\n      <td>4119.922569</td>\n    </tr>\n    <tr>\n      <th>min</th>\n      <td>4.000000</td>\n      <td>257.000000</td>\n      <td>0.000000</td>\n      <td>2009.000000</td>\n    </tr>\n    <tr>\n      <th>25%</th>\n      <td>4.600000</td>\n      <td>4558.000000</td>\n      <td>11.000000</td>\n      <td>2013.750000</td>\n    </tr>\n    <tr>\n      <th>50%</th>\n      <td>4.900000</td>\n      <td>9957.000000</td>\n      <td>16.000000</td>\n      <td>2019.000000</td>\n    </tr>\n    <tr>\n      <th>75%</th>\n      <td>9.700000</td>\n      <td>29399.250000</td>\n      <td>30.000000</td>\n      <td>4037.000000</td>\n    </tr>\n    <tr>\n      <th>max</th>\n      <td>57.600000</td>\n      <td>278329.000000</td>\n      <td>460.000000</td>\n      <td>24163.000000</td>\n    </tr>\n  </tbody>\n</table>\n</div>"
     },
     "metadata": {}
    }
   ],
   "execution_count": null
  },
  {
   "cell_type": "code",
   "source": "df_books.groupby('Author').agg(['min', 'max'])",
   "metadata": {
    "cell_id": "e1e76626c61e42fab4efc4ddbcc757cb",
    "tags": [],
    "deepnote_to_be_reexecuted": false,
    "source_hash": "1ece540a",
    "execution_start": 1658602451900,
    "execution_millis": 445,
    "deepnote_cell_type": "code",
    "deepnote_cell_height": 615
   },
   "outputs": [
    {
     "output_type": "execute_result",
     "execution_count": 18,
     "data": {
      "application/vnd.deepnote.dataframe.v3+json": {
       "column_count": 12,
       "row_count": 248,
       "columns": [
        {
         "name": "Name min",
         "dtype": "object",
         "stats": {
          "unique_count": 248,
          "nan_count": 0,
          "categories": [
           {
            "name": "Cutting for Stone",
            "count": 1
           },
           {
            "name": "Milk and Vine: Inspirational Quotes From Classic Vines",
            "count": 1
           },
           {
            "name": "246 others",
            "count": 246
           }
          ]
         }
        },
        {
         "name": "Name max",
         "dtype": "object",
         "stats": {
          "unique_count": 248,
          "nan_count": 0,
          "categories": [
           {
            "name": "Cutting for Stone",
            "count": 1
           },
           {
            "name": "Milk and Vine: Inspirational Quotes From Classic Vines",
            "count": 1
           },
           {
            "name": "246 others",
            "count": 246
           }
          ]
         }
        },
        {
         "name": "User Rating min",
         "dtype": "float64",
         "stats": {
          "unique_count": 14,
          "nan_count": 0,
          "min": "3.3",
          "max": "4.9",
          "histogram": [
           {
            "bin_start": 3.3,
            "bin_end": 3.46,
            "count": 1
           },
           {
            "bin_start": 3.46,
            "bin_end": 3.62,
            "count": 1
           },
           {
            "bin_start": 3.62,
            "bin_end": 3.7800000000000002,
            "count": 0
           },
           {
            "bin_start": 3.7800000000000002,
            "bin_end": 3.94,
            "count": 3
           },
           {
            "bin_start": 3.94,
            "bin_end": 4.1,
            "count": 3
           },
           {
            "bin_start": 4.1,
            "bin_end": 4.26,
            "count": 12
           },
           {
            "bin_start": 4.26,
            "bin_end": 4.42,
            "count": 39
           },
           {
            "bin_start": 4.42,
            "bin_end": 4.58,
            "count": 30
           },
           {
            "bin_start": 4.58,
            "bin_end": 4.74,
            "count": 92
           },
           {
            "bin_start": 4.74,
            "bin_end": 4.9,
            "count": 67
           }
          ]
         }
        },
        {
         "name": "User Rating max",
         "dtype": "float64",
         "stats": {
          "unique_count": 11,
          "nan_count": 0,
          "min": "3.9",
          "max": "4.9",
          "histogram": [
           {
            "bin_start": 3.9,
            "bin_end": 4,
            "count": 1
           },
           {
            "bin_start": 4,
            "bin_end": 4.1,
            "count": 3
           },
           {
            "bin_start": 4.1,
            "bin_end": 4.2,
            "count": 4
           },
           {
            "bin_start": 4.2,
            "bin_end": 4.3,
            "count": 6
           },
           {
            "bin_start": 4.3,
            "bin_end": 4.4,
            "count": 13
           },
           {
            "bin_start": 4.4,
            "bin_end": 4.5,
            "count": 17
           },
           {
            "bin_start": 4.5,
            "bin_end": 4.6000000000000005,
            "count": 80
           },
           {
            "bin_start": 4.6000000000000005,
            "bin_end": 4.7,
            "count": 0
           },
           {
            "bin_start": 4.7,
            "bin_end": 4.800000000000001,
            "count": 104
           },
           {
            "bin_start": 4.800000000000001,
            "bin_end": 4.9,
            "count": 20
           }
          ]
         }
        },
        {
         "name": "Reviews min",
         "dtype": "int64",
         "stats": {
          "unique_count": 246,
          "nan_count": 0,
          "min": "37",
          "max": "87841",
          "histogram": [
           {
            "bin_start": 37,
            "bin_end": 8817.4,
            "count": 158
           },
           {
            "bin_start": 8817.4,
            "bin_end": 17597.8,
            "count": 57
           },
           {
            "bin_start": 17597.8,
            "bin_end": 26378.199999999997,
            "count": 18
           },
           {
            "bin_start": 26378.199999999997,
            "bin_end": 35158.6,
            "count": 7
           },
           {
            "bin_start": 35158.6,
            "bin_end": 43939,
            "count": 3
           },
           {
            "bin_start": 43939,
            "bin_end": 52719.399999999994,
            "count": 1
           },
           {
            "bin_start": 52719.399999999994,
            "bin_end": 61499.799999999996,
            "count": 2
           },
           {
            "bin_start": 61499.799999999996,
            "bin_end": 70280.2,
            "count": 0
           },
           {
            "bin_start": 70280.2,
            "bin_end": 79060.59999999999,
            "count": 0
           },
           {
            "bin_start": 79060.59999999999,
            "bin_end": 87841,
            "count": 2
           }
          ]
         }
        },
        {
         "name": "Reviews max",
         "dtype": "int64",
         "stats": {
          "unique_count": 247,
          "nan_count": 0,
          "min": "220",
          "max": "87841",
          "histogram": [
           {
            "bin_start": 220,
            "bin_end": 8982.1,
            "count": 141
           },
           {
            "bin_start": 8982.1,
            "bin_end": 17744.2,
            "count": 62
           },
           {
            "bin_start": 17744.2,
            "bin_end": 26506.300000000003,
            "count": 26
           },
           {
            "bin_start": 26506.300000000003,
            "bin_end": 35268.4,
            "count": 9
           },
           {
            "bin_start": 35268.4,
            "bin_end": 44030.5,
            "count": 3
           },
           {
            "bin_start": 44030.5,
            "bin_end": 52792.600000000006,
            "count": 3
           },
           {
            "bin_start": 52792.600000000006,
            "bin_end": 61554.700000000004,
            "count": 2
           },
           {
            "bin_start": 61554.700000000004,
            "bin_end": 70316.8,
            "count": 0
           },
           {
            "bin_start": 70316.8,
            "bin_end": 79078.90000000001,
            "count": 0
           },
           {
            "bin_start": 79078.90000000001,
            "bin_end": 87841,
            "count": 2
           }
          ]
         }
        },
        {
         "name": "Price min",
         "dtype": "int64",
         "stats": {
          "unique_count": 34,
          "nan_count": 0,
          "min": "0",
          "max": "105",
          "histogram": [
           {
            "bin_start": 0,
            "bin_end": 10.5,
            "count": 121
           },
           {
            "bin_start": 10.5,
            "bin_end": 21,
            "count": 107
           },
           {
            "bin_start": 21,
            "bin_end": 31.5,
            "count": 12
           },
           {
            "bin_start": 31.5,
            "bin_end": 42,
            "count": 3
           },
           {
            "bin_start": 42,
            "bin_end": 52.5,
            "count": 2
           },
           {
            "bin_start": 52.5,
            "bin_end": 63,
            "count": 2
           },
           {
            "bin_start": 63,
            "bin_end": 73.5,
            "count": 0
           },
           {
            "bin_start": 73.5,
            "bin_end": 84,
            "count": 0
           },
           {
            "bin_start": 84,
            "bin_end": 94.5,
            "count": 0
           },
           {
            "bin_start": 94.5,
            "bin_end": 105,
            "count": 1
           }
          ]
         }
        },
        {
         "name": "Price max",
         "dtype": "int64",
         "stats": {
          "unique_count": 38,
          "nan_count": 0,
          "min": "0",
          "max": "105",
          "histogram": [
           {
            "bin_start": 0,
            "bin_end": 10.5,
            "count": 98
           },
           {
            "bin_start": 10.5,
            "bin_end": 21,
            "count": 114
           },
           {
            "bin_start": 21,
            "bin_end": 31.5,
            "count": 25
           },
           {
            "bin_start": 31.5,
            "bin_end": 42,
            "count": 4
           },
           {
            "bin_start": 42,
            "bin_end": 52.5,
            "count": 3
           },
           {
            "bin_start": 52.5,
            "bin_end": 63,
            "count": 2
           },
           {
            "bin_start": 63,
            "bin_end": 73.5,
            "count": 0
           },
           {
            "bin_start": 73.5,
            "bin_end": 84,
            "count": 1
           },
           {
            "bin_start": 84,
            "bin_end": 94.5,
            "count": 0
           },
           {
            "bin_start": 94.5,
            "bin_end": 105,
            "count": 1
           }
          ]
         }
        },
        {
         "name": "Year min",
         "dtype": "int64",
         "stats": {
          "unique_count": 11,
          "nan_count": 0,
          "min": "2009",
          "max": "2019",
          "histogram": [
           {
            "bin_start": 2009,
            "bin_end": 2010,
            "count": 39
           },
           {
            "bin_start": 2010,
            "bin_end": 2011,
            "count": 28
           },
           {
            "bin_start": 2011,
            "bin_end": 2012,
            "count": 23
           },
           {
            "bin_start": 2012,
            "bin_end": 2013,
            "count": 19
           },
           {
            "bin_start": 2013,
            "bin_end": 2014,
            "count": 21
           },
           {
            "bin_start": 2014,
            "bin_end": 2015,
            "count": 18
           },
           {
            "bin_start": 2015,
            "bin_end": 2016,
            "count": 18
           },
           {
            "bin_start": 2016,
            "bin_end": 2017,
            "count": 20
           },
           {
            "bin_start": 2017,
            "bin_end": 2018,
            "count": 20
           },
           {
            "bin_start": 2018,
            "bin_end": 2019,
            "count": 42
           }
          ]
         }
        },
        {
         "name": "Year max",
         "dtype": "int64",
         "stats": {
          "unique_count": 11,
          "nan_count": 0,
          "min": "2009",
          "max": "2019",
          "histogram": [
           {
            "bin_start": 2009,
            "bin_end": 2010,
            "count": 17
           },
           {
            "bin_start": 2010,
            "bin_end": 2011,
            "count": 21
           },
           {
            "bin_start": 2011,
            "bin_end": 2012,
            "count": 20
           },
           {
            "bin_start": 2012,
            "bin_end": 2013,
            "count": 16
           },
           {
            "bin_start": 2013,
            "bin_end": 2014,
            "count": 17
           },
           {
            "bin_start": 2014,
            "bin_end": 2015,
            "count": 21
           },
           {
            "bin_start": 2015,
            "bin_end": 2016,
            "count": 19
           },
           {
            "bin_start": 2016,
            "bin_end": 2017,
            "count": 19
           },
           {
            "bin_start": 2017,
            "bin_end": 2018,
            "count": 26
           },
           {
            "bin_start": 2018,
            "bin_end": 2019,
            "count": 72
           }
          ]
         }
        },
        {
         "name": "Genre min",
         "dtype": "object",
         "stats": {
          "unique_count": 2,
          "nan_count": 0,
          "categories": [
           {
            "name": "Non Fiction",
            "count": 157
           },
           {
            "name": "Fiction",
            "count": 91
           }
          ]
         }
        },
        {
         "name": "Genre max",
         "dtype": "object",
         "stats": {
          "unique_count": 2,
          "nan_count": 0,
          "categories": [
           {
            "name": "Non Fiction",
            "count": 159
           },
           {
            "name": "Fiction",
            "count": 89
           }
          ]
         }
        },
        {
         "name": "_deepnote_index_column",
         "dtype": "object"
        }
       ],
       "rows": [
        {
         "Name min": "Cutting for Stone",
         "Name max": "Cutting for Stone",
         "User Rating min": 4.6,
         "User Rating max": 4.6,
         "Reviews min": 4866,
         "Reviews max": 4866,
         "Price min": 11,
         "Price max": 11,
         "Year min": 2010,
         "Year max": 2011,
         "Genre min": "Fiction",
         "Genre max": "Fiction",
         "_deepnote_index_column": "Abraham Verghese"
        },
        {
         "Name min": "Milk and Vine: Inspirational Quotes From Classic Vines",
         "Name max": "Milk and Vine: Inspirational Quotes From Classic Vines",
         "User Rating min": 4.4,
         "User Rating max": 4.4,
         "Reviews min": 3113,
         "Reviews max": 3113,
         "Price min": 6,
         "Price max": 6,
         "Year min": 2017,
         "Year max": 2017,
         "Genre min": "Non Fiction",
         "Genre max": "Non Fiction",
         "_deepnote_index_column": "Adam Gasiewski"
        },
        {
         "Name min": "Go the F**k to Sleep",
         "Name max": "Go the F**k to Sleep",
         "User Rating min": 4.8,
         "User Rating max": 4.8,
         "Reviews min": 9568,
         "Reviews max": 9568,
         "Price min": 9,
         "Price max": 9,
         "Year min": 2011,
         "Year max": 2011,
         "Genre min": "Fiction",
         "Genre max": "Fiction",
         "_deepnote_index_column": "Adam Mansbach"
        },
        {
         "Name min": "What Should Danny Do? (The Power to Choose Series)",
         "Name max": "What Should Danny Do? (The Power to Choose Series)",
         "User Rating min": 4.8,
         "User Rating max": 4.8,
         "Reviews min": 8170,
         "Reviews max": 8170,
         "Price min": 13,
         "Price max": 13,
         "Year min": 2019,
         "Year max": 2019,
         "Genre min": "Fiction",
         "Genre max": "Fiction",
         "_deepnote_index_column": "Adir Levy"
        },
        {
         "Name min": "Make Your Bed: Little Things That Can Change Your Life...And Maybe the World",
         "Name max": "Make Your Bed: Little Things That Can Change Your Life...And Maybe the World",
         "User Rating min": 4.7,
         "User Rating max": 4.7,
         "Reviews min": 10199,
         "Reviews max": 10199,
         "Price min": 11,
         "Price max": 11,
         "Year min": 2017,
         "Year max": 2017,
         "Genre min": "Non Fiction",
         "Genre max": "Non Fiction",
         "_deepnote_index_column": "Admiral William H. McRaven"
        },
        {
         "Name min": "Adult Coloring Book Designs: Stress Relief Coloring Book: Garden Designs, Mandalas, Animals, and Paisley Patterns",
         "Name max": "Adult Coloring Book Designs: Stress Relief Coloring Book: Garden Designs, Mandalas, Animals, and Paisley Patterns",
         "User Rating min": 4.5,
         "User Rating max": 4.5,
         "Reviews min": 2313,
         "Reviews max": 2313,
         "Price min": 4,
         "Price max": 4,
         "Year min": 2016,
         "Year max": 2016,
         "Genre min": "Non Fiction",
         "Genre max": "Non Fiction",
         "_deepnote_index_column": "Adult Coloring Book Designs"
        },
        {
         "Name min": "Watchmen",
         "Name max": "Watchmen",
         "User Rating min": 4.8,
         "User Rating max": 4.8,
         "Reviews min": 3829,
         "Reviews max": 3829,
         "Price min": 42,
         "Price max": 42,
         "Year min": 2009,
         "Year max": 2009,
         "Genre min": "Fiction",
         "Genre max": "Fiction",
         "_deepnote_index_column": "Alan Moore"
        },
        {
         "Name min": "The Silent Patient",
         "Name max": "The Silent Patient",
         "User Rating min": 4.5,
         "User Rating max": 4.5,
         "Reviews min": 27536,
         "Reviews max": 27536,
         "Price min": 14,
         "Price max": 14,
         "Year min": 2019,
         "Year max": 2019,
         "Genre min": "Fiction",
         "Genre max": "Fiction",
         "_deepnote_index_column": "Alex Michaelides"
        },
        {
         "Name min": "Little Blue Truck",
         "Name max": "Little Blue Truck",
         "User Rating min": 4.9,
         "User Rating max": 4.9,
         "Reviews min": 1884,
         "Reviews max": 1884,
         "Price min": 0,
         "Price max": 0,
         "Year min": 2014,
         "Year max": 2014,
         "Genre min": "Fiction",
         "Genre max": "Fiction",
         "_deepnote_index_column": "Alice Schertle"
        },
        {
         "Name min": "Hyperbole and a Half: Unfortunate Situations, Flawed Coping Mechanisms, Mayhem, and Other Things That Happened",
         "Name max": "Hyperbole and a Half: Unfortunate Situations, Flawed Coping Mechanisms, Mayhem, and Other Things That Happened",
         "User Rating min": 4.7,
         "User Rating max": 4.7,
         "Reviews min": 4896,
         "Reviews max": 4896,
         "Price min": 17,
         "Price max": 17,
         "Year min": 2013,
         "Year max": 2013,
         "Genre min": "Non Fiction",
         "Genre max": "Non Fiction",
         "_deepnote_index_column": "Allie Brosh"
        }
       ]
      },
      "text/plain": "                                                                         Name  \\\n                                                                          min   \nAuthor                                                                          \nAbraham Verghese                                            Cutting for Stone   \nAdam Gasiewski              Milk and Vine: Inspirational Quotes From Class...   \nAdam Mansbach                                            Go the F**k to Sleep   \nAdir Levy                   What Should Danny Do? (The Power to Choose Ser...   \nAdmiral William H. McRaven  Make Your Bed: Little Things That Can Change Y...   \n...                                                                       ...   \nWalter Isaacson                                             Leonardo da Vinci   \nWilliam Davis               Wheat Belly: Lose the Wheat, Lose the Weight, ...   \nWilliam P. Young                  The Shack: Where Tragedy Confronts Eternity   \nWizards RPG Team                       Player's Handbook (Dungeons & Dragons)   \nZhi Gang Sha                Divine Soul Mind Body Healing and Transmission...   \n\n                                                                               \\\n                                                                          max   \nAuthor                                                                          \nAbraham Verghese                                            Cutting for Stone   \nAdam Gasiewski              Milk and Vine: Inspirational Quotes From Class...   \nAdam Mansbach                                            Go the F**k to Sleep   \nAdir Levy                   What Should Danny Do? (The Power to Choose Ser...   \nAdmiral William H. McRaven  Make Your Bed: Little Things That Can Change Y...   \n...                                                                       ...   \nWalter Isaacson                                                    Steve Jobs   \nWilliam Davis               Wheat Belly: Lose the Wheat, Lose the Weight, ...   \nWilliam P. Young                  The Shack: Where Tragedy Confronts Eternity   \nWizards RPG Team                       Player's Handbook (Dungeons & Dragons)   \nZhi Gang Sha                Soul Healing Miracles: Ancient and New Sacred ...   \n\n                           User Rating      Reviews        Price      Year  \\\n                                   min  max     min    max   min max   min   \nAuthor                                                                       \nAbraham Verghese                   4.6  4.6    4866   4866    11  11  2010   \nAdam Gasiewski                     4.4  4.4    3113   3113     6   6  2017   \nAdam Mansbach                      4.8  4.8    9568   9568     9   9  2011   \nAdir Levy                          4.8  4.8    8170   8170    13  13  2019   \nAdmiral William H. McRaven         4.7  4.7   10199  10199    11  11  2017   \n...                                ...  ...     ...    ...   ...  ..   ...   \nWalter Isaacson                    4.5  4.6    3014   7827    20  21  2011   \nWilliam Davis                      4.4  4.4    7497   7497     6   6  2012   \nWilliam P. Young                   4.6  4.6   19720  19720     8   8  2009   \nWizards RPG Team                   4.8  4.8   16990  16990    27  27  2017   \nZhi Gang Sha                       4.6  4.6      37    220     6  17  2009   \n\n                                        Genre               \n                             max          min          max  \nAuthor                                                      \nAbraham Verghese            2011      Fiction      Fiction  \nAdam Gasiewski              2017  Non Fiction  Non Fiction  \nAdam Mansbach               2011      Fiction      Fiction  \nAdir Levy                   2019      Fiction      Fiction  \nAdmiral William H. McRaven  2017  Non Fiction  Non Fiction  \n...                          ...          ...          ...  \nWalter Isaacson             2017  Non Fiction  Non Fiction  \nWilliam Davis               2013  Non Fiction  Non Fiction  \nWilliam P. Young            2017      Fiction      Fiction  \nWizards RPG Team            2019      Fiction      Fiction  \nZhi Gang Sha                2013  Non Fiction  Non Fiction  \n\n[248 rows x 12 columns]",
      "text/html": "<div>\n<style scoped>\n    .dataframe tbody tr th:only-of-type {\n        vertical-align: middle;\n    }\n\n    .dataframe tbody tr th {\n        vertical-align: top;\n    }\n\n    .dataframe thead tr th {\n        text-align: left;\n    }\n\n    .dataframe thead tr:last-of-type th {\n        text-align: right;\n    }\n</style>\n<table border=\"1\" class=\"dataframe\">\n  <thead>\n    <tr>\n      <th></th>\n      <th colspan=\"2\" halign=\"left\">Name</th>\n      <th colspan=\"2\" halign=\"left\">User Rating</th>\n      <th colspan=\"2\" halign=\"left\">Reviews</th>\n      <th colspan=\"2\" halign=\"left\">Price</th>\n      <th colspan=\"2\" halign=\"left\">Year</th>\n      <th colspan=\"2\" halign=\"left\">Genre</th>\n    </tr>\n    <tr>\n      <th></th>\n      <th>min</th>\n      <th>max</th>\n      <th>min</th>\n      <th>max</th>\n      <th>min</th>\n      <th>max</th>\n      <th>min</th>\n      <th>max</th>\n      <th>min</th>\n      <th>max</th>\n      <th>min</th>\n      <th>max</th>\n    </tr>\n    <tr>\n      <th>Author</th>\n      <th></th>\n      <th></th>\n      <th></th>\n      <th></th>\n      <th></th>\n      <th></th>\n      <th></th>\n      <th></th>\n      <th></th>\n      <th></th>\n      <th></th>\n      <th></th>\n    </tr>\n  </thead>\n  <tbody>\n    <tr>\n      <th>Abraham Verghese</th>\n      <td>Cutting for Stone</td>\n      <td>Cutting for Stone</td>\n      <td>4.6</td>\n      <td>4.6</td>\n      <td>4866</td>\n      <td>4866</td>\n      <td>11</td>\n      <td>11</td>\n      <td>2010</td>\n      <td>2011</td>\n      <td>Fiction</td>\n      <td>Fiction</td>\n    </tr>\n    <tr>\n      <th>Adam Gasiewski</th>\n      <td>Milk and Vine: Inspirational Quotes From Class...</td>\n      <td>Milk and Vine: Inspirational Quotes From Class...</td>\n      <td>4.4</td>\n      <td>4.4</td>\n      <td>3113</td>\n      <td>3113</td>\n      <td>6</td>\n      <td>6</td>\n      <td>2017</td>\n      <td>2017</td>\n      <td>Non Fiction</td>\n      <td>Non Fiction</td>\n    </tr>\n    <tr>\n      <th>Adam Mansbach</th>\n      <td>Go the F**k to Sleep</td>\n      <td>Go the F**k to Sleep</td>\n      <td>4.8</td>\n      <td>4.8</td>\n      <td>9568</td>\n      <td>9568</td>\n      <td>9</td>\n      <td>9</td>\n      <td>2011</td>\n      <td>2011</td>\n      <td>Fiction</td>\n      <td>Fiction</td>\n    </tr>\n    <tr>\n      <th>Adir Levy</th>\n      <td>What Should Danny Do? (The Power to Choose Ser...</td>\n      <td>What Should Danny Do? (The Power to Choose Ser...</td>\n      <td>4.8</td>\n      <td>4.8</td>\n      <td>8170</td>\n      <td>8170</td>\n      <td>13</td>\n      <td>13</td>\n      <td>2019</td>\n      <td>2019</td>\n      <td>Fiction</td>\n      <td>Fiction</td>\n    </tr>\n    <tr>\n      <th>Admiral William H. McRaven</th>\n      <td>Make Your Bed: Little Things That Can Change Y...</td>\n      <td>Make Your Bed: Little Things That Can Change Y...</td>\n      <td>4.7</td>\n      <td>4.7</td>\n      <td>10199</td>\n      <td>10199</td>\n      <td>11</td>\n      <td>11</td>\n      <td>2017</td>\n      <td>2017</td>\n      <td>Non Fiction</td>\n      <td>Non Fiction</td>\n    </tr>\n    <tr>\n      <th>...</th>\n      <td>...</td>\n      <td>...</td>\n      <td>...</td>\n      <td>...</td>\n      <td>...</td>\n      <td>...</td>\n      <td>...</td>\n      <td>...</td>\n      <td>...</td>\n      <td>...</td>\n      <td>...</td>\n      <td>...</td>\n    </tr>\n    <tr>\n      <th>Walter Isaacson</th>\n      <td>Leonardo da Vinci</td>\n      <td>Steve Jobs</td>\n      <td>4.5</td>\n      <td>4.6</td>\n      <td>3014</td>\n      <td>7827</td>\n      <td>20</td>\n      <td>21</td>\n      <td>2011</td>\n      <td>2017</td>\n      <td>Non Fiction</td>\n      <td>Non Fiction</td>\n    </tr>\n    <tr>\n      <th>William Davis</th>\n      <td>Wheat Belly: Lose the Wheat, Lose the Weight, ...</td>\n      <td>Wheat Belly: Lose the Wheat, Lose the Weight, ...</td>\n      <td>4.4</td>\n      <td>4.4</td>\n      <td>7497</td>\n      <td>7497</td>\n      <td>6</td>\n      <td>6</td>\n      <td>2012</td>\n      <td>2013</td>\n      <td>Non Fiction</td>\n      <td>Non Fiction</td>\n    </tr>\n    <tr>\n      <th>William P. Young</th>\n      <td>The Shack: Where Tragedy Confronts Eternity</td>\n      <td>The Shack: Where Tragedy Confronts Eternity</td>\n      <td>4.6</td>\n      <td>4.6</td>\n      <td>19720</td>\n      <td>19720</td>\n      <td>8</td>\n      <td>8</td>\n      <td>2009</td>\n      <td>2017</td>\n      <td>Fiction</td>\n      <td>Fiction</td>\n    </tr>\n    <tr>\n      <th>Wizards RPG Team</th>\n      <td>Player's Handbook (Dungeons &amp; Dragons)</td>\n      <td>Player's Handbook (Dungeons &amp; Dragons)</td>\n      <td>4.8</td>\n      <td>4.8</td>\n      <td>16990</td>\n      <td>16990</td>\n      <td>27</td>\n      <td>27</td>\n      <td>2017</td>\n      <td>2019</td>\n      <td>Fiction</td>\n      <td>Fiction</td>\n    </tr>\n    <tr>\n      <th>Zhi Gang Sha</th>\n      <td>Divine Soul Mind Body Healing and Transmission...</td>\n      <td>Soul Healing Miracles: Ancient and New Sacred ...</td>\n      <td>4.6</td>\n      <td>4.6</td>\n      <td>37</td>\n      <td>220</td>\n      <td>6</td>\n      <td>17</td>\n      <td>2009</td>\n      <td>2013</td>\n      <td>Non Fiction</td>\n      <td>Non Fiction</td>\n    </tr>\n  </tbody>\n</table>\n<p>248 rows × 12 columns</p>\n</div>"
     },
     "metadata": {}
    }
   ],
   "execution_count": null
  },
  {
   "cell_type": "code",
   "source": "df_books.groupby('Author').agg({'Reviews': ['min', 'max'], 'User Rating': 'sum'})",
   "metadata": {
    "cell_id": "71048b64e974402699c51a3019f0e688",
    "tags": [],
    "deepnote_to_be_reexecuted": false,
    "source_hash": "920589bf",
    "execution_start": 1658602880745,
    "execution_millis": 103,
    "owner_user_id": "1446e09b-adb1-4d03-8824-192d50632f30",
    "deepnote_cell_type": "code",
    "deepnote_cell_height": 600
   },
   "outputs": [
    {
     "output_type": "execute_result",
     "execution_count": 26,
     "data": {
      "application/vnd.deepnote.dataframe.v3+json": {
       "column_count": 3,
       "row_count": 248,
       "columns": [
        {
         "name": "Reviews min",
         "dtype": "int64",
         "stats": {
          "unique_count": 246,
          "nan_count": 0,
          "min": "37",
          "max": "87841",
          "histogram": [
           {
            "bin_start": 37,
            "bin_end": 8817.4,
            "count": 158
           },
           {
            "bin_start": 8817.4,
            "bin_end": 17597.8,
            "count": 57
           },
           {
            "bin_start": 17597.8,
            "bin_end": 26378.199999999997,
            "count": 18
           },
           {
            "bin_start": 26378.199999999997,
            "bin_end": 35158.6,
            "count": 7
           },
           {
            "bin_start": 35158.6,
            "bin_end": 43939,
            "count": 3
           },
           {
            "bin_start": 43939,
            "bin_end": 52719.399999999994,
            "count": 1
           },
           {
            "bin_start": 52719.399999999994,
            "bin_end": 61499.799999999996,
            "count": 2
           },
           {
            "bin_start": 61499.799999999996,
            "bin_end": 70280.2,
            "count": 0
           },
           {
            "bin_start": 70280.2,
            "bin_end": 79060.59999999999,
            "count": 0
           },
           {
            "bin_start": 79060.59999999999,
            "bin_end": 87841,
            "count": 2
           }
          ]
         }
        },
        {
         "name": "Reviews max",
         "dtype": "int64",
         "stats": {
          "unique_count": 247,
          "nan_count": 0,
          "min": "220",
          "max": "87841",
          "histogram": [
           {
            "bin_start": 220,
            "bin_end": 8982.1,
            "count": 141
           },
           {
            "bin_start": 8982.1,
            "bin_end": 17744.2,
            "count": 62
           },
           {
            "bin_start": 17744.2,
            "bin_end": 26506.300000000003,
            "count": 26
           },
           {
            "bin_start": 26506.300000000003,
            "bin_end": 35268.4,
            "count": 9
           },
           {
            "bin_start": 35268.4,
            "bin_end": 44030.5,
            "count": 3
           },
           {
            "bin_start": 44030.5,
            "bin_end": 52792.600000000006,
            "count": 3
           },
           {
            "bin_start": 52792.600000000006,
            "bin_end": 61554.700000000004,
            "count": 2
           },
           {
            "bin_start": 61554.700000000004,
            "bin_end": 70316.8,
            "count": 0
           },
           {
            "bin_start": 70316.8,
            "bin_end": 79078.90000000001,
            "count": 0
           },
           {
            "bin_start": 79078.90000000001,
            "bin_end": 87841,
            "count": 2
           }
          ]
         }
        },
        {
         "name": "User Rating sum",
         "dtype": "float64",
         "stats": {
          "unique_count": 65,
          "nan_count": 0,
          "min": "4.0",
          "max": "57.599999999999994",
          "histogram": [
           {
            "bin_start": 4,
            "bin_end": 9.36,
            "count": 163
           },
           {
            "bin_start": 9.36,
            "bin_end": 14.719999999999999,
            "count": 45
           },
           {
            "bin_start": 14.719999999999999,
            "bin_end": 20.08,
            "count": 12
           },
           {
            "bin_start": 20.08,
            "bin_end": 25.439999999999998,
            "count": 9
           },
           {
            "bin_start": 25.439999999999998,
            "bin_end": 30.799999999999997,
            "count": 6
           },
           {
            "bin_start": 30.799999999999997,
            "bin_end": 36.16,
            "count": 6
           },
           {
            "bin_start": 36.16,
            "bin_end": 41.519999999999996,
            "count": 1
           },
           {
            "bin_start": 41.519999999999996,
            "bin_end": 46.879999999999995,
            "count": 2
           },
           {
            "bin_start": 46.879999999999995,
            "bin_end": 52.239999999999995,
            "count": 2
           },
           {
            "bin_start": 52.239999999999995,
            "bin_end": 57.599999999999994,
            "count": 2
           }
          ]
         }
        },
        {
         "name": "_deepnote_index_column",
         "dtype": "object"
        }
       ],
       "rows": [
        {
         "Reviews min": 4866,
         "Reviews max": 4866,
         "User Rating sum": 9.2,
         "_deepnote_index_column": "Abraham Verghese"
        },
        {
         "Reviews min": 3113,
         "Reviews max": 3113,
         "User Rating sum": 4.4,
         "_deepnote_index_column": "Adam Gasiewski"
        },
        {
         "Reviews min": 9568,
         "Reviews max": 9568,
         "User Rating sum": 4.8,
         "_deepnote_index_column": "Adam Mansbach"
        },
        {
         "Reviews min": 8170,
         "Reviews max": 8170,
         "User Rating sum": 4.8,
         "_deepnote_index_column": "Adir Levy"
        },
        {
         "Reviews min": 10199,
         "Reviews max": 10199,
         "User Rating sum": 4.7,
         "_deepnote_index_column": "Admiral William H. McRaven"
        },
        {
         "Reviews min": 2313,
         "Reviews max": 2313,
         "User Rating sum": 4.5,
         "_deepnote_index_column": "Adult Coloring Book Designs"
        },
        {
         "Reviews min": 3829,
         "Reviews max": 3829,
         "User Rating sum": 4.8,
         "_deepnote_index_column": "Alan Moore"
        },
        {
         "Reviews min": 27536,
         "Reviews max": 27536,
         "User Rating sum": 4.5,
         "_deepnote_index_column": "Alex Michaelides"
        },
        {
         "Reviews min": 1884,
         "Reviews max": 1884,
         "User Rating sum": 4.9,
         "_deepnote_index_column": "Alice Schertle"
        },
        {
         "Reviews min": 4896,
         "Reviews max": 4896,
         "User Rating sum": 4.7,
         "_deepnote_index_column": "Allie Brosh"
        }
       ]
      },
      "text/plain": "                           Reviews        User Rating\n                               min    max         sum\nAuthor                                               \nAbraham Verghese              4866   4866         9.2\nAdam Gasiewski                3113   3113         4.4\nAdam Mansbach                 9568   9568         4.8\nAdir Levy                     8170   8170         4.8\nAdmiral William H. McRaven   10199  10199         4.7\n...                            ...    ...         ...\nWalter Isaacson               3014   7827        13.7\nWilliam Davis                 7497   7497         8.8\nWilliam P. Young             19720  19720         9.2\nWizards RPG Team             16990  16990        14.4\nZhi Gang Sha                    37    220         9.2\n\n[248 rows x 3 columns]",
      "text/html": "<div>\n<style scoped>\n    .dataframe tbody tr th:only-of-type {\n        vertical-align: middle;\n    }\n\n    .dataframe tbody tr th {\n        vertical-align: top;\n    }\n\n    .dataframe thead tr th {\n        text-align: left;\n    }\n\n    .dataframe thead tr:last-of-type th {\n        text-align: right;\n    }\n</style>\n<table border=\"1\" class=\"dataframe\">\n  <thead>\n    <tr>\n      <th></th>\n      <th colspan=\"2\" halign=\"left\">Reviews</th>\n      <th>User Rating</th>\n    </tr>\n    <tr>\n      <th></th>\n      <th>min</th>\n      <th>max</th>\n      <th>sum</th>\n    </tr>\n    <tr>\n      <th>Author</th>\n      <th></th>\n      <th></th>\n      <th></th>\n    </tr>\n  </thead>\n  <tbody>\n    <tr>\n      <th>Abraham Verghese</th>\n      <td>4866</td>\n      <td>4866</td>\n      <td>9.2</td>\n    </tr>\n    <tr>\n      <th>Adam Gasiewski</th>\n      <td>3113</td>\n      <td>3113</td>\n      <td>4.4</td>\n    </tr>\n    <tr>\n      <th>Adam Mansbach</th>\n      <td>9568</td>\n      <td>9568</td>\n      <td>4.8</td>\n    </tr>\n    <tr>\n      <th>Adir Levy</th>\n      <td>8170</td>\n      <td>8170</td>\n      <td>4.8</td>\n    </tr>\n    <tr>\n      <th>Admiral William H. McRaven</th>\n      <td>10199</td>\n      <td>10199</td>\n      <td>4.7</td>\n    </tr>\n    <tr>\n      <th>...</th>\n      <td>...</td>\n      <td>...</td>\n      <td>...</td>\n    </tr>\n    <tr>\n      <th>Walter Isaacson</th>\n      <td>3014</td>\n      <td>7827</td>\n      <td>13.7</td>\n    </tr>\n    <tr>\n      <th>William Davis</th>\n      <td>7497</td>\n      <td>7497</td>\n      <td>8.8</td>\n    </tr>\n    <tr>\n      <th>William P. Young</th>\n      <td>19720</td>\n      <td>19720</td>\n      <td>9.2</td>\n    </tr>\n    <tr>\n      <th>Wizards RPG Team</th>\n      <td>16990</td>\n      <td>16990</td>\n      <td>14.4</td>\n    </tr>\n    <tr>\n      <th>Zhi Gang Sha</th>\n      <td>37</td>\n      <td>220</td>\n      <td>9.2</td>\n    </tr>\n  </tbody>\n</table>\n<p>248 rows × 3 columns</p>\n</div>"
     },
     "metadata": {}
    }
   ],
   "execution_count": null
  },
  {
   "cell_type": "code",
   "source": "df_books.groupby(['Author', 'Year']).count()",
   "metadata": {
    "cell_id": "8cba3a77cc9242c1b9b8fd46417bd7a5",
    "tags": [],
    "deepnote_to_be_reexecuted": false,
    "source_hash": "2eb71238",
    "execution_start": 1658602638146,
    "execution_millis": 210,
    "deepnote_cell_type": "code",
    "deepnote_cell_height": 615,
    "deepnote_output_heights": [
     21.1875
    ]
   },
   "outputs": [
    {
     "output_type": "execute_result",
     "execution_count": 21,
     "data": {
      "application/vnd.deepnote.dataframe.v3+json": {
       "column_count": 5,
       "row_count": 493,
       "columns": [
        {
         "name": "Name",
         "dtype": "int64",
         "stats": {
          "unique_count": 5,
          "nan_count": 0,
          "min": "1",
          "max": "6",
          "histogram": [
           {
            "bin_start": 1,
            "bin_end": 1.5,
            "count": 455
           },
           {
            "bin_start": 1.5,
            "bin_end": 2,
            "count": 0
           },
           {
            "bin_start": 2,
            "bin_end": 2.5,
            "count": 27
           },
           {
            "bin_start": 2.5,
            "bin_end": 3,
            "count": 0
           },
           {
            "bin_start": 3,
            "bin_end": 3.5,
            "count": 5
           },
           {
            "bin_start": 3.5,
            "bin_end": 4,
            "count": 0
           },
           {
            "bin_start": 4,
            "bin_end": 4.5,
            "count": 5
           },
           {
            "bin_start": 4.5,
            "bin_end": 5,
            "count": 0
           },
           {
            "bin_start": 5,
            "bin_end": 5.5,
            "count": 0
           },
           {
            "bin_start": 5.5,
            "bin_end": 6,
            "count": 1
           }
          ]
         }
        },
        {
         "name": "User Rating",
         "dtype": "int64",
         "stats": {
          "unique_count": 5,
          "nan_count": 0,
          "min": "1",
          "max": "6",
          "histogram": [
           {
            "bin_start": 1,
            "bin_end": 1.5,
            "count": 455
           },
           {
            "bin_start": 1.5,
            "bin_end": 2,
            "count": 0
           },
           {
            "bin_start": 2,
            "bin_end": 2.5,
            "count": 27
           },
           {
            "bin_start": 2.5,
            "bin_end": 3,
            "count": 0
           },
           {
            "bin_start": 3,
            "bin_end": 3.5,
            "count": 5
           },
           {
            "bin_start": 3.5,
            "bin_end": 4,
            "count": 0
           },
           {
            "bin_start": 4,
            "bin_end": 4.5,
            "count": 5
           },
           {
            "bin_start": 4.5,
            "bin_end": 5,
            "count": 0
           },
           {
            "bin_start": 5,
            "bin_end": 5.5,
            "count": 0
           },
           {
            "bin_start": 5.5,
            "bin_end": 6,
            "count": 1
           }
          ]
         }
        },
        {
         "name": "Reviews",
         "dtype": "int64",
         "stats": {
          "unique_count": 5,
          "nan_count": 0,
          "min": "1",
          "max": "6",
          "histogram": [
           {
            "bin_start": 1,
            "bin_end": 1.5,
            "count": 455
           },
           {
            "bin_start": 1.5,
            "bin_end": 2,
            "count": 0
           },
           {
            "bin_start": 2,
            "bin_end": 2.5,
            "count": 27
           },
           {
            "bin_start": 2.5,
            "bin_end": 3,
            "count": 0
           },
           {
            "bin_start": 3,
            "bin_end": 3.5,
            "count": 5
           },
           {
            "bin_start": 3.5,
            "bin_end": 4,
            "count": 0
           },
           {
            "bin_start": 4,
            "bin_end": 4.5,
            "count": 5
           },
           {
            "bin_start": 4.5,
            "bin_end": 5,
            "count": 0
           },
           {
            "bin_start": 5,
            "bin_end": 5.5,
            "count": 0
           },
           {
            "bin_start": 5.5,
            "bin_end": 6,
            "count": 1
           }
          ]
         }
        },
        {
         "name": "Price",
         "dtype": "int64",
         "stats": {
          "unique_count": 5,
          "nan_count": 0,
          "min": "1",
          "max": "6",
          "histogram": [
           {
            "bin_start": 1,
            "bin_end": 1.5,
            "count": 455
           },
           {
            "bin_start": 1.5,
            "bin_end": 2,
            "count": 0
           },
           {
            "bin_start": 2,
            "bin_end": 2.5,
            "count": 27
           },
           {
            "bin_start": 2.5,
            "bin_end": 3,
            "count": 0
           },
           {
            "bin_start": 3,
            "bin_end": 3.5,
            "count": 5
           },
           {
            "bin_start": 3.5,
            "bin_end": 4,
            "count": 0
           },
           {
            "bin_start": 4,
            "bin_end": 4.5,
            "count": 5
           },
           {
            "bin_start": 4.5,
            "bin_end": 5,
            "count": 0
           },
           {
            "bin_start": 5,
            "bin_end": 5.5,
            "count": 0
           },
           {
            "bin_start": 5.5,
            "bin_end": 6,
            "count": 1
           }
          ]
         }
        },
        {
         "name": "Genre",
         "dtype": "int64",
         "stats": {
          "unique_count": 5,
          "nan_count": 0,
          "min": "1",
          "max": "6",
          "histogram": [
           {
            "bin_start": 1,
            "bin_end": 1.5,
            "count": 455
           },
           {
            "bin_start": 1.5,
            "bin_end": 2,
            "count": 0
           },
           {
            "bin_start": 2,
            "bin_end": 2.5,
            "count": 27
           },
           {
            "bin_start": 2.5,
            "bin_end": 3,
            "count": 0
           },
           {
            "bin_start": 3,
            "bin_end": 3.5,
            "count": 5
           },
           {
            "bin_start": 3.5,
            "bin_end": 4,
            "count": 0
           },
           {
            "bin_start": 4,
            "bin_end": 4.5,
            "count": 5
           },
           {
            "bin_start": 4.5,
            "bin_end": 5,
            "count": 0
           },
           {
            "bin_start": 5,
            "bin_end": 5.5,
            "count": 0
           },
           {
            "bin_start": 5.5,
            "bin_end": 6,
            "count": 1
           }
          ]
         }
        },
        {
         "name": "_deepnote_index_column",
         "dtype": "object"
        }
       ],
       "rows": [
        {
         "Name": 1,
         "User Rating": 1,
         "Reviews": 1,
         "Price": 1,
         "Genre": 1,
         "_deepnote_index_column": "('Abraham Verghese', 2010)"
        },
        {
         "Name": 1,
         "User Rating": 1,
         "Reviews": 1,
         "Price": 1,
         "Genre": 1,
         "_deepnote_index_column": "('Abraham Verghese', 2011)"
        },
        {
         "Name": 1,
         "User Rating": 1,
         "Reviews": 1,
         "Price": 1,
         "Genre": 1,
         "_deepnote_index_column": "('Adam Gasiewski', 2017)"
        },
        {
         "Name": 1,
         "User Rating": 1,
         "Reviews": 1,
         "Price": 1,
         "Genre": 1,
         "_deepnote_index_column": "('Adam Mansbach', 2011)"
        },
        {
         "Name": 1,
         "User Rating": 1,
         "Reviews": 1,
         "Price": 1,
         "Genre": 1,
         "_deepnote_index_column": "('Adir Levy', 2019)"
        },
        {
         "Name": 1,
         "User Rating": 1,
         "Reviews": 1,
         "Price": 1,
         "Genre": 1,
         "_deepnote_index_column": "('Admiral William H. McRaven', 2017)"
        },
        {
         "Name": 1,
         "User Rating": 1,
         "Reviews": 1,
         "Price": 1,
         "Genre": 1,
         "_deepnote_index_column": "('Adult Coloring Book Designs', 2016)"
        },
        {
         "Name": 1,
         "User Rating": 1,
         "Reviews": 1,
         "Price": 1,
         "Genre": 1,
         "_deepnote_index_column": "('Alan Moore', 2009)"
        },
        {
         "Name": 1,
         "User Rating": 1,
         "Reviews": 1,
         "Price": 1,
         "Genre": 1,
         "_deepnote_index_column": "('Alex Michaelides', 2019)"
        },
        {
         "Name": 1,
         "User Rating": 1,
         "Reviews": 1,
         "Price": 1,
         "Genre": 1,
         "_deepnote_index_column": "('Alice Schertle', 2014)"
        }
       ]
      },
      "text/plain": "                       Name  User Rating  Reviews  Price  Genre\nAuthor           Year                                          \nAbraham Verghese 2010     1            1        1      1      1\n                 2011     1            1        1      1      1\nAdam Gasiewski   2017     1            1        1      1      1\nAdam Mansbach    2011     1            1        1      1      1\nAdir Levy        2019     1            1        1      1      1\n...                     ...          ...      ...    ...    ...\nWizards RPG Team 2017     1            1        1      1      1\n                 2018     1            1        1      1      1\n                 2019     1            1        1      1      1\nZhi Gang Sha     2009     1            1        1      1      1\n                 2013     1            1        1      1      1\n\n[493 rows x 5 columns]",
      "text/html": "<div>\n<style scoped>\n    .dataframe tbody tr th:only-of-type {\n        vertical-align: middle;\n    }\n\n    .dataframe tbody tr th {\n        vertical-align: top;\n    }\n\n    .dataframe thead th {\n        text-align: right;\n    }\n</style>\n<table border=\"1\" class=\"dataframe\">\n  <thead>\n    <tr style=\"text-align: right;\">\n      <th></th>\n      <th></th>\n      <th>Name</th>\n      <th>User Rating</th>\n      <th>Reviews</th>\n      <th>Price</th>\n      <th>Genre</th>\n    </tr>\n    <tr>\n      <th>Author</th>\n      <th>Year</th>\n      <th></th>\n      <th></th>\n      <th></th>\n      <th></th>\n      <th></th>\n    </tr>\n  </thead>\n  <tbody>\n    <tr>\n      <th rowspan=\"2\" valign=\"top\">Abraham Verghese</th>\n      <th>2010</th>\n      <td>1</td>\n      <td>1</td>\n      <td>1</td>\n      <td>1</td>\n      <td>1</td>\n    </tr>\n    <tr>\n      <th>2011</th>\n      <td>1</td>\n      <td>1</td>\n      <td>1</td>\n      <td>1</td>\n      <td>1</td>\n    </tr>\n    <tr>\n      <th>Adam Gasiewski</th>\n      <th>2017</th>\n      <td>1</td>\n      <td>1</td>\n      <td>1</td>\n      <td>1</td>\n      <td>1</td>\n    </tr>\n    <tr>\n      <th>Adam Mansbach</th>\n      <th>2011</th>\n      <td>1</td>\n      <td>1</td>\n      <td>1</td>\n      <td>1</td>\n      <td>1</td>\n    </tr>\n    <tr>\n      <th>Adir Levy</th>\n      <th>2019</th>\n      <td>1</td>\n      <td>1</td>\n      <td>1</td>\n      <td>1</td>\n      <td>1</td>\n    </tr>\n    <tr>\n      <th>...</th>\n      <th>...</th>\n      <td>...</td>\n      <td>...</td>\n      <td>...</td>\n      <td>...</td>\n      <td>...</td>\n    </tr>\n    <tr>\n      <th rowspan=\"3\" valign=\"top\">Wizards RPG Team</th>\n      <th>2017</th>\n      <td>1</td>\n      <td>1</td>\n      <td>1</td>\n      <td>1</td>\n      <td>1</td>\n    </tr>\n    <tr>\n      <th>2018</th>\n      <td>1</td>\n      <td>1</td>\n      <td>1</td>\n      <td>1</td>\n      <td>1</td>\n    </tr>\n    <tr>\n      <th>2019</th>\n      <td>1</td>\n      <td>1</td>\n      <td>1</td>\n      <td>1</td>\n      <td>1</td>\n    </tr>\n    <tr>\n      <th rowspan=\"2\" valign=\"top\">Zhi Gang Sha</th>\n      <th>2009</th>\n      <td>1</td>\n      <td>1</td>\n      <td>1</td>\n      <td>1</td>\n      <td>1</td>\n    </tr>\n    <tr>\n      <th>2013</th>\n      <td>1</td>\n      <td>1</td>\n      <td>1</td>\n      <td>1</td>\n      <td>1</td>\n    </tr>\n  </tbody>\n</table>\n<p>493 rows × 5 columns</p>\n</div>"
     },
     "metadata": {}
    }
   ],
   "execution_count": null
  },
  {
   "cell_type": "code",
   "source": "# usando lambdas en las agregacioness\ndf_books.groupby('Author').agg({'Year':lambda x: [i for i in x], 'Reviews':lambda x: sum([i for i in x])})",
   "metadata": {
    "cell_id": "2c96a886a8cb40bab54c5538f99b9d96",
    "tags": [],
    "deepnote_to_be_reexecuted": false,
    "source_hash": "d72b6713",
    "execution_start": 1658602805727,
    "execution_millis": 865,
    "deepnote_cell_type": "code",
    "deepnote_cell_height": 618
   },
   "outputs": [
    {
     "output_type": "execute_result",
     "execution_count": 24,
     "data": {
      "application/vnd.deepnote.dataframe.v3+json": {
       "column_count": 2,
       "row_count": 248,
       "columns": [
        {
         "name": "Year",
         "dtype": "object",
         "stats": {
          "unique_count": 248,
          "nan_count": 0,
          "categories": [
           {
            "name": "[2019]",
            "count": 18
           },
           {
            "name": "[2010]",
            "count": 18
           },
           {
            "name": "87 others",
            "count": 212
           }
          ]
         }
        },
        {
         "name": "Reviews",
         "dtype": "int64",
         "stats": {
          "unique_count": 247,
          "nan_count": 0,
          "min": "257",
          "max": "278329",
          "histogram": [
           {
            "bin_start": 257,
            "bin_end": 28064.2,
            "count": 183
           },
           {
            "bin_start": 28064.2,
            "bin_end": 55871.4,
            "count": 31
           },
           {
            "bin_start": 55871.4,
            "bin_end": 83678.6,
            "count": 14
           },
           {
            "bin_start": 83678.6,
            "bin_end": 111485.8,
            "count": 6
           },
           {
            "bin_start": 111485.8,
            "bin_end": 139293,
            "count": 4
           },
           {
            "bin_start": 139293,
            "bin_end": 167100.2,
            "count": 5
           },
           {
            "bin_start": 167100.2,
            "bin_end": 194907.4,
            "count": 3
           },
           {
            "bin_start": 194907.4,
            "bin_end": 222714.6,
            "count": 1
           },
           {
            "bin_start": 222714.6,
            "bin_end": 250521.80000000002,
            "count": 0
           },
           {
            "bin_start": 250521.80000000002,
            "bin_end": 278329,
            "count": 1
           }
          ]
         }
        },
        {
         "name": "_deepnote_index_column",
         "dtype": "object"
        }
       ],
       "rows": [
        {
         "Year": "[2010, 2011]",
         "Reviews": 9732,
         "_deepnote_index_column": "Abraham Verghese"
        },
        {
         "Year": "[2017]",
         "Reviews": 3113,
         "_deepnote_index_column": "Adam Gasiewski"
        },
        {
         "Year": "[2011]",
         "Reviews": 9568,
         "_deepnote_index_column": "Adam Mansbach"
        },
        {
         "Year": "[2019]",
         "Reviews": 8170,
         "_deepnote_index_column": "Adir Levy"
        },
        {
         "Year": "[2017]",
         "Reviews": 10199,
         "_deepnote_index_column": "Admiral William H. McRaven"
        },
        {
         "Year": "[2016]",
         "Reviews": 2313,
         "_deepnote_index_column": "Adult Coloring Book Designs"
        },
        {
         "Year": "[2009]",
         "Reviews": 3829,
         "_deepnote_index_column": "Alan Moore"
        },
        {
         "Year": "[2019]",
         "Reviews": 27536,
         "_deepnote_index_column": "Alex Michaelides"
        },
        {
         "Year": "[2014]",
         "Reviews": 1884,
         "_deepnote_index_column": "Alice Schertle"
        },
        {
         "Year": "[2013]",
         "Reviews": 4896,
         "_deepnote_index_column": "Allie Brosh"
        }
       ]
      },
      "text/plain": "                                          Year  Reviews\nAuthor                                                 \nAbraham Verghese                  [2010, 2011]     9732\nAdam Gasiewski                          [2017]     3113\nAdam Mansbach                           [2011]     9568\nAdir Levy                               [2019]     8170\nAdmiral William H. McRaven              [2017]    10199\n...                                        ...      ...\nWalter Isaacson             [2017, 2011, 2012]    18668\nWilliam Davis                     [2012, 2013]    14994\nWilliam P. Young                  [2009, 2017]    39440\nWizards RPG Team            [2017, 2018, 2019]    50970\nZhi Gang Sha                      [2009, 2013]      257\n\n[248 rows x 2 columns]",
      "text/html": "<div>\n<style scoped>\n    .dataframe tbody tr th:only-of-type {\n        vertical-align: middle;\n    }\n\n    .dataframe tbody tr th {\n        vertical-align: top;\n    }\n\n    .dataframe thead th {\n        text-align: right;\n    }\n</style>\n<table border=\"1\" class=\"dataframe\">\n  <thead>\n    <tr style=\"text-align: right;\">\n      <th></th>\n      <th>Year</th>\n      <th>Reviews</th>\n    </tr>\n    <tr>\n      <th>Author</th>\n      <th></th>\n      <th></th>\n    </tr>\n  </thead>\n  <tbody>\n    <tr>\n      <th>Abraham Verghese</th>\n      <td>[2010, 2011]</td>\n      <td>9732</td>\n    </tr>\n    <tr>\n      <th>Adam Gasiewski</th>\n      <td>[2017]</td>\n      <td>3113</td>\n    </tr>\n    <tr>\n      <th>Adam Mansbach</th>\n      <td>[2011]</td>\n      <td>9568</td>\n    </tr>\n    <tr>\n      <th>Adir Levy</th>\n      <td>[2019]</td>\n      <td>8170</td>\n    </tr>\n    <tr>\n      <th>Admiral William H. McRaven</th>\n      <td>[2017]</td>\n      <td>10199</td>\n    </tr>\n    <tr>\n      <th>...</th>\n      <td>...</td>\n      <td>...</td>\n    </tr>\n    <tr>\n      <th>Walter Isaacson</th>\n      <td>[2017, 2011, 2012]</td>\n      <td>18668</td>\n    </tr>\n    <tr>\n      <th>William Davis</th>\n      <td>[2012, 2013]</td>\n      <td>14994</td>\n    </tr>\n    <tr>\n      <th>William P. Young</th>\n      <td>[2009, 2017]</td>\n      <td>39440</td>\n    </tr>\n    <tr>\n      <th>Wizards RPG Team</th>\n      <td>[2017, 2018, 2019]</td>\n      <td>50970</td>\n    </tr>\n    <tr>\n      <th>Zhi Gang Sha</th>\n      <td>[2009, 2013]</td>\n      <td>257</td>\n    </tr>\n  </tbody>\n</table>\n<p>248 rows × 2 columns</p>\n</div>"
     },
     "metadata": {}
    }
   ],
   "execution_count": null
  },
  {
   "cell_type": "markdown",
   "source": "<a style='text-decoration:none;line-height:16px;display:flex;color:#5B5B62;padding:10px;justify-content:end;' href='https://deepnote.com?utm_source=created-in-deepnote-cell&projectId=4950ccd9-74b8-4ba2-b588-82894596c11f' target=\"_blank\">\n<img alt='Created in deepnote.com' style='display:inline;max-height:16px;margin:0px;margin-right:7.5px;' src='data:image/svg+xml;base64,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' > </img>\nCreated in <span style='font-weight:600;margin-left:4px;'>Deepnote</span></a>",
   "metadata": {
    "tags": [],
    "created_in_deepnote_cell": true,
    "deepnote_cell_type": "markdown"
   }
  }
 ],
 "nbformat": 4,
 "nbformat_minor": 2,
 "metadata": {
  "orig_nbformat": 2,
  "deepnote": {},
  "deepnote_notebook_id": "e62b7a1f-6365-4901-a46d-928dc589fdb4",
  "deepnote_execution_queue": []
 }
}