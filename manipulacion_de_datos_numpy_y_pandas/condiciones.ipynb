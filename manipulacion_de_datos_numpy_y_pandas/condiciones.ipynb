{
 "cells": [
  {
   "cell_type": "code",
   "metadata": {
    "tags": [],
    "cell_id": "0a86b77b-fdd3-4150-84fd-ebfc95f4652e",
    "deepnote_to_be_reexecuted": false,
    "source_hash": "c2602aa8",
    "execution_start": 1658537018800,
    "execution_millis": 3,
    "deepnote_cell_type": "code",
    "deepnote_cell_height": 81
   },
   "source": "import numpy as np",
   "outputs": [],
   "execution_count": null
  },
  {
   "cell_type": "code",
   "source": "# las condiciones se usan cuando los slices no son suficientes para manipular datos más especificos\narr = np.linspace(1, 10, 10, dtype='int8')\narr",
   "metadata": {
    "cell_id": "924ceebd51f04faa958a8e08d711298c",
    "tags": [],
    "deepnote_to_be_reexecuted": false,
    "source_hash": "b4dea5fd",
    "execution_start": 1658537117310,
    "execution_millis": 35,
    "deepnote_cell_type": "code",
    "deepnote_cell_height": 154.1875,
    "deepnote_output_heights": [
     21.1875
    ]
   },
   "outputs": [
    {
     "output_type": "execute_result",
     "execution_count": 2,
     "data": {
      "text/plain": "array([ 1,  2,  3,  4,  5,  6,  7,  8,  9, 10], dtype=int8)"
     },
     "metadata": {}
    }
   ],
   "execution_count": null
  },
  {
   "cell_type": "code",
   "source": "indices_cond = arr > 5 # retorna una lista booleana\nindices_cond",
   "metadata": {
    "cell_id": "69eb3f1a0f20490fbdeaab6496bb1ec3",
    "tags": [],
    "deepnote_to_be_reexecuted": false,
    "source_hash": "8705b81f",
    "execution_start": 1658537195918,
    "execution_millis": 2,
    "deepnote_cell_type": "code",
    "deepnote_cell_height": 155.375,
    "deepnote_output_heights": [
     40.375
    ]
   },
   "outputs": [
    {
     "output_type": "execute_result",
     "execution_count": 5,
     "data": {
      "text/plain": "array([False, False, False, False, False,  True,  True,  True,  True,\n        True])"
     },
     "metadata": {}
    }
   ],
   "execution_count": null
  },
  {
   "cell_type": "code",
   "source": "arr[indices_cond] # retorna los valores en True",
   "metadata": {
    "cell_id": "28b5b091232b4ea6acea6887c7a2d61c",
    "tags": [],
    "deepnote_to_be_reexecuted": false,
    "source_hash": "2891f093",
    "execution_start": 1658537219985,
    "execution_millis": 9,
    "deepnote_cell_type": "code",
    "deepnote_cell_height": 118.1875,
    "deepnote_output_heights": [
     21.1875
    ]
   },
   "outputs": [
    {
     "output_type": "execute_result",
     "execution_count": 6,
     "data": {
      "text/plain": "array([ 6,  7,  8,  9, 10], dtype=int8)"
     },
     "metadata": {}
    }
   ],
   "execution_count": null
  },
  {
   "cell_type": "code",
   "source": "arr[arr > 5]",
   "metadata": {
    "cell_id": "f746159402be4694bf9407647398a0ab",
    "tags": [],
    "deepnote_to_be_reexecuted": false,
    "source_hash": "87156070",
    "execution_start": 1658537240997,
    "execution_millis": 297,
    "deepnote_cell_type": "code",
    "deepnote_cell_height": 118.1875,
    "deepnote_output_heights": [
     21.1875
    ]
   },
   "outputs": [
    {
     "output_type": "execute_result",
     "execution_count": 7,
     "data": {
      "text/plain": "array([ 6,  7,  8,  9, 10], dtype=int8)"
     },
     "metadata": {}
    }
   ],
   "execution_count": null
  },
  {
   "cell_type": "code",
   "source": "arr[(arr > 5) & (arr < 9)]",
   "metadata": {
    "cell_id": "1555fb8949a241afa3b1d68751608bb4",
    "tags": [],
    "deepnote_to_be_reexecuted": false,
    "source_hash": "954376d4",
    "execution_start": 1658537292550,
    "execution_millis": 11,
    "deepnote_cell_type": "code",
    "deepnote_cell_height": 118.1875,
    "deepnote_output_heights": [
     21.1875
    ]
   },
   "outputs": [
    {
     "output_type": "execute_result",
     "execution_count": 10,
     "data": {
      "text/plain": "array([6, 7, 8], dtype=int8)"
     },
     "metadata": {}
    }
   ],
   "execution_count": null
  },
  {
   "cell_type": "code",
   "source": "arr[(arr > 5)] = 99 # cambia el valor de los que cumplen la condición\narr",
   "metadata": {
    "cell_id": "bee44c044ae84eb09e330c6b3c31bcd1",
    "tags": [],
    "deepnote_to_be_reexecuted": false,
    "source_hash": "609c3bbc",
    "execution_start": 1658537306731,
    "execution_millis": 13,
    "deepnote_cell_type": "code",
    "deepnote_cell_height": 136.1875,
    "deepnote_output_heights": [
     21.1875
    ]
   },
   "outputs": [
    {
     "output_type": "execute_result",
     "execution_count": 11,
     "data": {
      "text/plain": "array([ 1,  2,  3,  4,  5, 99, 99, 99, 99, 99], dtype=int8)"
     },
     "metadata": {}
    }
   ],
   "execution_count": null
  },
  {
   "cell_type": "code",
   "source": "arr[arr==99]",
   "metadata": {
    "cell_id": "a4b2f86f2e9f45038527567037fe0260",
    "tags": [],
    "deepnote_to_be_reexecuted": false,
    "source_hash": "1fbcc8bb",
    "execution_start": 1658537334485,
    "execution_millis": 345,
    "deepnote_cell_type": "code",
    "deepnote_cell_height": 118.1875,
    "deepnote_output_heights": [
     21.1875
    ]
   },
   "outputs": [
    {
     "output_type": "execute_result",
     "execution_count": 12,
     "data": {
      "text/plain": "array([99, 99, 99, 99, 99], dtype=int8)"
     },
     "metadata": {}
    }
   ],
   "execution_count": null
  },
  {
   "cell_type": "code",
   "source": "arr = np.linspace(1, 10, 10, dtype='int8')\narr",
   "metadata": {
    "cell_id": "87b68a5712844ed8a06157241e3c8cfc",
    "tags": [],
    "deepnote_to_be_reexecuted": false,
    "source_hash": "137f3cce",
    "execution_start": 1658537496190,
    "execution_millis": 21,
    "deepnote_cell_type": "code",
    "deepnote_cell_height": 136.1875,
    "deepnote_output_heights": [
     21.1875
    ]
   },
   "outputs": [
    {
     "output_type": "execute_result",
     "execution_count": 15,
     "data": {
      "text/plain": "array([ 1,  2,  3,  4,  5,  6,  7,  8,  9, 10], dtype=int8)"
     },
     "metadata": {}
    }
   ],
   "execution_count": null
  },
  {
   "cell_type": "code",
   "source": "print(arr[arr % 2 == 0]) # pares\nprint(arr[arr % 2 == 1]) # inpares\nprint(arr[arr % 3 == 0]) # multiplos de 3",
   "metadata": {
    "cell_id": "4b021d64193f4f558f75a6d4ad0ec712",
    "tags": [],
    "deepnote_to_be_reexecuted": false,
    "source_hash": "f1d42cc9",
    "execution_start": 1658537546142,
    "execution_millis": 15,
    "deepnote_cell_type": "code",
    "deepnote_cell_height": 188.5625
   },
   "outputs": [
    {
     "name": "stdout",
     "text": "[ 2  4  6  8 10]\n[1 3 5 7 9]\n[3 6 9]\n",
     "output_type": "stream"
    }
   ],
   "execution_count": null
  },
  {
   "cell_type": "code",
   "source": "matriz = np.random.randint(2, 99, (3, 3))\nmatriz",
   "metadata": {
    "cell_id": "7a46ca1f653b40478e6a288941403524",
    "tags": [],
    "deepnote_to_be_reexecuted": false,
    "source_hash": "13a58293",
    "execution_start": 1658537725966,
    "execution_millis": 2,
    "deepnote_cell_type": "code",
    "deepnote_cell_height": 174.5625,
    "deepnote_output_heights": [
     59.5625
    ]
   },
   "outputs": [
    {
     "output_type": "execute_result",
     "execution_count": 19,
     "data": {
      "text/plain": "array([[13, 27, 31],\n       [64, 84,  7],\n       [67, 77, 40]])"
     },
     "metadata": {}
    }
   ],
   "execution_count": null
  },
  {
   "cell_type": "code",
   "source": "matriz_filtrada = np.where(matriz > 50, True, False)\nmatriz_filtrada",
   "metadata": {
    "cell_id": "8fa6c607593a4f91a70124f3ded8ca82",
    "tags": [],
    "deepnote_to_be_reexecuted": false,
    "source_hash": "e9481906",
    "execution_start": 1658537817869,
    "execution_millis": 6,
    "deepnote_cell_type": "code",
    "deepnote_cell_height": 174.5625,
    "deepnote_output_heights": [
     59.5625
    ]
   },
   "outputs": [
    {
     "output_type": "execute_result",
     "execution_count": 23,
     "data": {
      "text/plain": "array([[False, False, False],\n       [ True,  True, False],\n       [ True,  True, False]])"
     },
     "metadata": {}
    }
   ],
   "execution_count": null
  },
  {
   "cell_type": "code",
   "source": "tensor = np.random.randint(0, 20, (3, 3, 2))\ntensor",
   "metadata": {
    "cell_id": "b44b4613b4b1467981d791bb4d08a7e7",
    "tags": [],
    "deepnote_to_be_reexecuted": false,
    "source_hash": "9381303a",
    "execution_start": 1658537962038,
    "execution_millis": 290,
    "deepnote_cell_type": "code",
    "deepnote_cell_height": 328.0625,
    "deepnote_output_heights": [
     213.0625
    ]
   },
   "outputs": [
    {
     "output_type": "execute_result",
     "execution_count": 24,
     "data": {
      "text/plain": "array([[[13, 10],\n        [ 7,  4],\n        [19,  7]],\n\n       [[14, 16],\n        [ 1, 12],\n        [ 9,  7]],\n\n       [[14,  3],\n        [10, 15],\n        [15,  6]]])"
     },
     "metadata": {}
    }
   ],
   "execution_count": null
  },
  {
   "cell_type": "code",
   "source": "pares = tensor[tensor % 2 == 0]\npares",
   "metadata": {
    "cell_id": "ad3991a511104645886870f7b102ba01",
    "tags": [],
    "deepnote_to_be_reexecuted": false,
    "source_hash": "d39666dd",
    "execution_start": 1658538022026,
    "execution_millis": 119,
    "deepnote_cell_type": "code",
    "deepnote_cell_height": 136.1875,
    "deepnote_output_heights": [
     21.1875
    ]
   },
   "outputs": [
    {
     "output_type": "execute_result",
     "execution_count": 28,
     "data": {
      "text/plain": "array([10,  4, 14, 16, 12, 14, 10,  6])"
     },
     "metadata": {}
    }
   ],
   "execution_count": null
  },
  {
   "cell_type": "code",
   "source": "impares = tensor[tensor % 2 == 1]\nimpares",
   "metadata": {
    "cell_id": "4f07a31c08ce42a5a66c6ecad32f3155",
    "tags": [],
    "deepnote_to_be_reexecuted": false,
    "source_hash": "56a85abf",
    "execution_start": 1658538067253,
    "execution_millis": 6,
    "deepnote_cell_type": "code",
    "deepnote_cell_height": 136.1875,
    "deepnote_output_heights": [
     21.1875
    ]
   },
   "outputs": [
    {
     "output_type": "execute_result",
     "execution_count": 29,
     "data": {
      "text/plain": "array([13,  7, 19,  7,  1,  9,  7,  3, 15, 15])"
     },
     "metadata": {}
    }
   ],
   "execution_count": null
  },
  {
   "cell_type": "code",
   "source": "cifras_2 = tensor[tensor // 10 > 0]\ncifras_2",
   "metadata": {
    "cell_id": "6a9446cf3bee4cd0a18a3506d1abe96a",
    "tags": [],
    "deepnote_to_be_reexecuted": false,
    "source_hash": "47b3c192",
    "execution_start": 1658538131151,
    "execution_millis": 182,
    "deepnote_cell_type": "code",
    "deepnote_cell_height": 136.1875,
    "deepnote_output_heights": [
     21.1875
    ]
   },
   "outputs": [
    {
     "output_type": "execute_result",
     "execution_count": 31,
     "data": {
      "text/plain": "array([13, 10, 19, 14, 16, 12, 14, 10, 15, 15])"
     },
     "metadata": {}
    }
   ],
   "execution_count": null
  },
  {
   "cell_type": "code",
   "source": "cifras_1 = tensor[tensor // 10 == 0]\ncifras_1",
   "metadata": {
    "cell_id": "7ea18cc1b5f44541902c6540df11fd03",
    "tags": [],
    "deepnote_to_be_reexecuted": false,
    "source_hash": "e4ec029d",
    "execution_start": 1658538195961,
    "execution_millis": 355,
    "deepnote_cell_type": "code",
    "deepnote_cell_height": 136.1875,
    "deepnote_output_heights": [
     21.1875
    ]
   },
   "outputs": [
    {
     "output_type": "execute_result",
     "execution_count": 34,
     "data": {
      "text/plain": "array([7, 4, 7, 1, 9, 7, 3, 6])"
     },
     "metadata": {}
    }
   ],
   "execution_count": null
  },
  {
   "cell_type": "code",
   "source": "divisores_tres_y_cuatro = tensor[(tensor % 3 == 0) & (tensor % 4 == 0)]\ndivisores_tres_y_cuatro",
   "metadata": {
    "cell_id": "09f8bdfababb457996d1892876bf38d8",
    "tags": [],
    "deepnote_to_be_reexecuted": false,
    "source_hash": "354111dc",
    "execution_start": 1658538365477,
    "execution_millis": 9,
    "deepnote_cell_type": "code",
    "deepnote_cell_height": 136.1875,
    "deepnote_output_heights": [
     21.1875
    ]
   },
   "outputs": [
    {
     "output_type": "execute_result",
     "execution_count": 35,
     "data": {
      "text/plain": "array([12])"
     },
     "metadata": {}
    }
   ],
   "execution_count": null
  },
  {
   "cell_type": "code",
   "source": "# potencia al cuadrado y raíz par\np_r_p = tensor[((tensor ** 2) % 2 == 0) & ((tensor**(1/2)) % 2 == 0)]\np_r_p",
   "metadata": {
    "cell_id": "60203dfd4a3b49c3802e4c2eff138ddc",
    "tags": [],
    "deepnote_to_be_reexecuted": false,
    "source_hash": "1cb83459",
    "execution_start": 1658538509197,
    "execution_millis": 3,
    "deepnote_cell_type": "code",
    "deepnote_cell_height": 154.1875,
    "deepnote_output_heights": [
     21.1875
    ]
   },
   "outputs": [
    {
     "output_type": "execute_result",
     "execution_count": 36,
     "data": {
      "text/plain": "array([ 4, 16])"
     },
     "metadata": {}
    }
   ],
   "execution_count": null
  },
  {
   "cell_type": "code",
   "source": "divisores_tres_o_cuatro = tensor[(tensor % 3 == 0) | (tensor % 4 == 0)]\ndivisores_tres_o_cuatro.sort()\ndivisores_tres_o_cuatro",
   "metadata": {
    "cell_id": "cfdc691f873f424486e68e2b16f15862",
    "tags": [],
    "owner_user_id": "1446e09b-adb1-4d03-8824-192d50632f30",
    "deepnote_to_be_reexecuted": false,
    "source_hash": "c10741c7",
    "execution_start": 1658538590754,
    "execution_millis": 13,
    "deepnote_cell_type": "code",
    "deepnote_cell_height": 154.1875,
    "deepnote_output_heights": [
     21.1875
    ]
   },
   "outputs": [
    {
     "output_type": "execute_result",
     "execution_count": 39,
     "data": {
      "text/plain": "array([ 3,  4,  6,  9, 12, 15, 15, 16])"
     },
     "metadata": {}
    }
   ],
   "execution_count": null
  },
  {
   "cell_type": "markdown",
   "source": "<a style='text-decoration:none;line-height:16px;display:flex;color:#5B5B62;padding:10px;justify-content:end;' href='https://deepnote.com?utm_source=created-in-deepnote-cell&projectId=4950ccd9-74b8-4ba2-b588-82894596c11f' target=\"_blank\">\n<img alt='Created in deepnote.com' style='display:inline;max-height:16px;margin:0px;margin-right:7.5px;' src='data:image/svg+xml;base64,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' > </img>\nCreated in <span style='font-weight:600;margin-left:4px;'>Deepnote</span></a>",
   "metadata": {
    "tags": [],
    "created_in_deepnote_cell": true,
    "deepnote_cell_type": "markdown"
   }
  }
 ],
 "nbformat": 4,
 "nbformat_minor": 2,
 "metadata": {
  "orig_nbformat": 2,
  "deepnote": {},
  "deepnote_notebook_id": "2f0a0018-c087-4bad-a1cc-c3b1ff399f71",
  "deepnote_execution_queue": []
 }
}