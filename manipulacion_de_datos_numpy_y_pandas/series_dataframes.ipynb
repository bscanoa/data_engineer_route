{
 "cells": [
  {
   "cell_type": "code",
   "metadata": {
    "tags": [],
    "cell_id": "0365bdda-500b-459d-ab60-096477e12f3c",
    "deepnote_to_be_reexecuted": false,
    "source_hash": "9b82ee11",
    "execution_start": 1658547103760,
    "execution_millis": 42,
    "deepnote_cell_type": "code",
    "deepnote_cell_height": 81
   },
   "source": "import pandas as pd",
   "outputs": [],
   "execution_count": null
  },
  {
   "cell_type": "code",
   "metadata": {
    "cell_id": "07384d2f5d0743a3bd6dfb25cc51078c",
    "tags": [],
    "deepnote_to_be_reexecuted": false,
    "source_hash": "d8011642",
    "execution_start": 1658547103803,
    "execution_millis": 3,
    "deepnote_cell_type": "code",
    "deepnote_cell_height": 248.9375
   },
   "source": "psg_players = pd.Series(['Navas', 'Mbappe', 'Neymar', 'Messi'], \n        index = [1, 7, 10, 30]\n    )\npsg_players",
   "outputs": [
    {
     "output_type": "execute_result",
     "execution_count": 2,
     "data": {
      "text/plain": "1      Navas\n7     Mbappe\n10    Neymar\n30     Messi\ndtype: object"
     },
     "metadata": {}
    }
   ],
   "execution_count": null
  },
  {
   "cell_type": "code",
   "metadata": {
    "cell_id": "2bfe9c15d9d54823a55a2f7e8bcbc9eb",
    "tags": [],
    "deepnote_to_be_reexecuted": false,
    "source_hash": "5a7259d4",
    "execution_start": 1658547103804,
    "execution_millis": 44,
    "deepnote_cell_type": "code",
    "deepnote_cell_height": 212.9375
   },
   "source": "psg_players = pd.Series(['Navas', 'Mbappe', 'Neymar', 'Messi'], )\npsg_players # cuando no se pasa index pasa por default una lista ",
   "outputs": [
    {
     "output_type": "execute_result",
     "execution_count": 3,
     "data": {
      "text/plain": "0     Navas\n1    Mbappe\n2    Neymar\n3     Messi\ndtype: object"
     },
     "metadata": {}
    }
   ],
   "execution_count": null
  },
  {
   "cell_type": "code",
   "metadata": {
    "cell_id": "30e8896806514b40b9caa3164075126c",
    "tags": [],
    "deepnote_to_be_reexecuted": false,
    "source_hash": "634c24c4",
    "execution_start": 1658547103847,
    "execution_millis": 1473050,
    "deepnote_cell_type": "code",
    "deepnote_cell_height": 117
   },
   "source": "# definiendo Series con diccionarios\ndict = {1:'Navas', 7:'Mbappe', 10:'Neymar', 30:'Messi'}\npsg_players = pd.Series(dict)",
   "outputs": [],
   "execution_count": null
  },
  {
   "cell_type": "code",
   "metadata": {
    "cell_id": "cc57393aa6534a79a0c49796f207e877",
    "tags": [],
    "deepnote_to_be_reexecuted": false,
    "source_hash": "beea8116",
    "execution_start": 1658547103854,
    "execution_millis": 1471403,
    "deepnote_cell_type": "code",
    "deepnote_cell_height": 136.1875
   },
   "source": "# accediendo por indices a los datos de Series\npsg_players[1], psg_players[7], psg_players[10]",
   "outputs": [
    {
     "output_type": "execute_result",
     "execution_count": 5,
     "data": {
      "text/plain": "('Navas', 'Mbappe', 'Neymar')"
     },
     "metadata": {}
    }
   ],
   "execution_count": null
  },
  {
   "cell_type": "markdown",
   "source": "## DataFrames",
   "metadata": {
    "cell_id": "7c397fe03f964187aab8588b954ed5e3",
    "tags": [],
    "deepnote_cell_type": "markdown",
    "deepnote_cell_height": 70
   }
  },
  {
   "cell_type": "code",
   "metadata": {
    "cell_id": "e8ba48df6513455680d968521410a324",
    "tags": [],
    "deepnote_to_be_reexecuted": false,
    "source_hash": "31a1e73",
    "execution_start": 1658547103918,
    "execution_millis": 1322344,
    "deepnote_cell_type": "code",
    "deepnote_cell_height": 117
   },
   "source": "dict = {'Jugador': ['Navas', 'Mbappe', 'Neymar', 'Messi'],\n'Altura': [183.0, 170.0, 170.0, 165.0],\n'Goles': [2, 200, 200, 200]}",
   "outputs": [],
   "execution_count": null
  },
  {
   "cell_type": "code",
   "metadata": {
    "cell_id": "53a309143da34d43ade9ed145cb193ba",
    "tags": [],
    "deepnote_to_be_reexecuted": false,
    "source_hash": "195ea563",
    "execution_start": 1658547103919,
    "execution_millis": 44,
    "deepnote_cell_type": "code",
    "deepnote_cell_height": 372
   },
   "source": "df_players = pd.DataFrame(dict, index = [1, 7, 10, 30])\ndf_players",
   "outputs": [
    {
     "output_type": "execute_result",
     "execution_count": 7,
     "data": {
      "application/vnd.deepnote.dataframe.v3+json": {
       "column_count": 3,
       "row_count": 4,
       "columns": [
        {
         "name": "Jugador",
         "dtype": "object",
         "stats": {
          "unique_count": 4,
          "nan_count": 0,
          "categories": [
           {
            "name": "Navas",
            "count": 1
           },
           {
            "name": "Mbappe",
            "count": 1
           },
           {
            "name": "2 others",
            "count": 2
           }
          ]
         }
        },
        {
         "name": "Altura",
         "dtype": "float64",
         "stats": {
          "unique_count": 3,
          "nan_count": 0,
          "min": "165.0",
          "max": "183.0",
          "histogram": [
           {
            "bin_start": 165,
            "bin_end": 166.8,
            "count": 1
           },
           {
            "bin_start": 166.8,
            "bin_end": 168.6,
            "count": 0
           },
           {
            "bin_start": 168.6,
            "bin_end": 170.4,
            "count": 2
           },
           {
            "bin_start": 170.4,
            "bin_end": 172.2,
            "count": 0
           },
           {
            "bin_start": 172.2,
            "bin_end": 174,
            "count": 0
           },
           {
            "bin_start": 174,
            "bin_end": 175.8,
            "count": 0
           },
           {
            "bin_start": 175.8,
            "bin_end": 177.6,
            "count": 0
           },
           {
            "bin_start": 177.6,
            "bin_end": 179.4,
            "count": 0
           },
           {
            "bin_start": 179.4,
            "bin_end": 181.2,
            "count": 0
           },
           {
            "bin_start": 181.2,
            "bin_end": 183,
            "count": 1
           }
          ]
         }
        },
        {
         "name": "Goles",
         "dtype": "int64",
         "stats": {
          "unique_count": 2,
          "nan_count": 0,
          "min": "2",
          "max": "200",
          "histogram": [
           {
            "bin_start": 2,
            "bin_end": 21.8,
            "count": 1
           },
           {
            "bin_start": 21.8,
            "bin_end": 41.6,
            "count": 0
           },
           {
            "bin_start": 41.6,
            "bin_end": 61.400000000000006,
            "count": 0
           },
           {
            "bin_start": 61.400000000000006,
            "bin_end": 81.2,
            "count": 0
           },
           {
            "bin_start": 81.2,
            "bin_end": 101,
            "count": 0
           },
           {
            "bin_start": 101,
            "bin_end": 120.80000000000001,
            "count": 0
           },
           {
            "bin_start": 120.80000000000001,
            "bin_end": 140.6,
            "count": 0
           },
           {
            "bin_start": 140.6,
            "bin_end": 160.4,
            "count": 0
           },
           {
            "bin_start": 160.4,
            "bin_end": 180.20000000000002,
            "count": 0
           },
           {
            "bin_start": 180.20000000000002,
            "bin_end": 200,
            "count": 3
           }
          ]
         }
        },
        {
         "name": "_deepnote_index_column",
         "dtype": "int64"
        }
       ],
       "rows": [
        {
         "Jugador": "Navas",
         "Altura": 183,
         "Goles": 2,
         "_deepnote_index_column": 1
        },
        {
         "Jugador": "Mbappe",
         "Altura": 170,
         "Goles": 200,
         "_deepnote_index_column": 7
        },
        {
         "Jugador": "Neymar",
         "Altura": 170,
         "Goles": 200,
         "_deepnote_index_column": 10
        },
        {
         "Jugador": "Messi",
         "Altura": 165,
         "Goles": 200,
         "_deepnote_index_column": 30
        }
       ]
      },
      "text/plain": "   Jugador  Altura  Goles\n1    Navas   183.0      2\n7   Mbappe   170.0    200\n10  Neymar   170.0    200\n30   Messi   165.0    200",
      "text/html": "<div>\n<style scoped>\n    .dataframe tbody tr th:only-of-type {\n        vertical-align: middle;\n    }\n\n    .dataframe tbody tr th {\n        vertical-align: top;\n    }\n\n    .dataframe thead th {\n        text-align: right;\n    }\n</style>\n<table border=\"1\" class=\"dataframe\">\n  <thead>\n    <tr style=\"text-align: right;\">\n      <th></th>\n      <th>Jugador</th>\n      <th>Altura</th>\n      <th>Goles</th>\n    </tr>\n  </thead>\n  <tbody>\n    <tr>\n      <th>1</th>\n      <td>Navas</td>\n      <td>183.0</td>\n      <td>2</td>\n    </tr>\n    <tr>\n      <th>7</th>\n      <td>Mbappe</td>\n      <td>170.0</td>\n      <td>200</td>\n    </tr>\n    <tr>\n      <th>10</th>\n      <td>Neymar</td>\n      <td>170.0</td>\n      <td>200</td>\n    </tr>\n    <tr>\n      <th>30</th>\n      <td>Messi</td>\n      <td>165.0</td>\n      <td>200</td>\n    </tr>\n  </tbody>\n</table>\n</div>"
     },
     "metadata": {}
    }
   ],
   "execution_count": null
  },
  {
   "cell_type": "code",
   "metadata": {
    "cell_id": "ba7396d8216948208a7fd6484efabd62",
    "tags": [],
    "deepnote_to_be_reexecuted": false,
    "source_hash": "6381d256",
    "execution_start": 1658547103963,
    "execution_millis": 9,
    "deepnote_cell_type": "code",
    "deepnote_cell_height": 118.1875,
    "deepnote_output_heights": [
     21.1875
    ]
   },
   "source": "df_players.columns # acceso por columnas",
   "outputs": [
    {
     "output_type": "execute_result",
     "execution_count": 8,
     "data": {
      "text/plain": "Index(['Jugador', 'Altura', 'Goles'], dtype='object')"
     },
     "metadata": {}
    }
   ],
   "execution_count": null
  },
  {
   "cell_type": "code",
   "metadata": {
    "cell_id": "aa6625652da24e57a6d8260194183706",
    "tags": [],
    "deepnote_to_be_reexecuted": false,
    "source_hash": "aad9f455",
    "execution_start": 1658547104018,
    "execution_millis": 2,
    "deepnote_cell_type": "code",
    "deepnote_cell_height": 118.1875,
    "deepnote_output_heights": [
     21.1875
    ]
   },
   "source": "df_players.index # acceso columnas",
   "outputs": [
    {
     "output_type": "execute_result",
     "execution_count": 9,
     "data": {
      "text/plain": "Int64Index([1, 7, 10, 30], dtype='int64')"
     },
     "metadata": {}
    }
   ],
   "execution_count": null
  },
  {
   "cell_type": "code",
   "metadata": {
    "cell_id": "d1c1ba025420478db67a916ad1ae19d9",
    "tags": [],
    "deepnote_to_be_reexecuted": false,
    "source_hash": "59184ce6",
    "execution_start": 1658547104019,
    "execution_millis": 44,
    "owner_user_id": "1446e09b-adb1-4d03-8824-192d50632f30",
    "deepnote_cell_type": "code",
    "deepnote_cell_height": 595
   },
   "source": "# DataFrame granada info\ng_dict = {'Jugador':['Luis Suárez','Jorge Molina', 'Antonio Puertas', 'Germán Sánchez', 'Luis Milla', 'Luís Manuel Arantes Maximiano'],\n'Posición':['Delantero', 'Delantero', 'Centrocampista', 'Defensa', 'Centrocampista', 'Portero'],\n'Número':[9, 23, 10, 6, 5, 1],\n'Altura':[185.0, 187.0, 185.0, 187.0, 175.0, 190.0],\n'Goles':[7, 7, 5, 2, 2, 0]}\n\ndf_granada = pd.DataFrame(g_dict)\ndf_granada",
   "outputs": [
    {
     "output_type": "execute_result",
     "execution_count": 10,
     "data": {
      "application/vnd.deepnote.dataframe.v3+json": {
       "column_count": 5,
       "row_count": 6,
       "columns": [
        {
         "name": "Jugador",
         "dtype": "object",
         "stats": {
          "unique_count": 6,
          "nan_count": 0,
          "categories": [
           {
            "name": "Luis Suárez",
            "count": 1
           },
           {
            "name": "Jorge Molina",
            "count": 1
           },
           {
            "name": "4 others",
            "count": 4
           }
          ]
         }
        },
        {
         "name": "Posición",
         "dtype": "object",
         "stats": {
          "unique_count": 4,
          "nan_count": 0,
          "categories": [
           {
            "name": "Delantero",
            "count": 2
           },
           {
            "name": "Centrocampista",
            "count": 2
           },
           {
            "name": "2 others",
            "count": 2
           }
          ]
         }
        },
        {
         "name": "Número",
         "dtype": "int64",
         "stats": {
          "unique_count": 6,
          "nan_count": 0,
          "min": "1",
          "max": "23",
          "histogram": [
           {
            "bin_start": 1,
            "bin_end": 3.2,
            "count": 1
           },
           {
            "bin_start": 3.2,
            "bin_end": 5.4,
            "count": 1
           },
           {
            "bin_start": 5.4,
            "bin_end": 7.6000000000000005,
            "count": 1
           },
           {
            "bin_start": 7.6000000000000005,
            "bin_end": 9.8,
            "count": 1
           },
           {
            "bin_start": 9.8,
            "bin_end": 12,
            "count": 1
           },
           {
            "bin_start": 12,
            "bin_end": 14.200000000000001,
            "count": 0
           },
           {
            "bin_start": 14.200000000000001,
            "bin_end": 16.400000000000002,
            "count": 0
           },
           {
            "bin_start": 16.400000000000002,
            "bin_end": 18.6,
            "count": 0
           },
           {
            "bin_start": 18.6,
            "bin_end": 20.8,
            "count": 0
           },
           {
            "bin_start": 20.8,
            "bin_end": 23,
            "count": 1
           }
          ]
         }
        },
        {
         "name": "Altura",
         "dtype": "float64",
         "stats": {
          "unique_count": 4,
          "nan_count": 0,
          "min": "175.0",
          "max": "190.0",
          "histogram": [
           {
            "bin_start": 175,
            "bin_end": 176.5,
            "count": 1
           },
           {
            "bin_start": 176.5,
            "bin_end": 178,
            "count": 0
           },
           {
            "bin_start": 178,
            "bin_end": 179.5,
            "count": 0
           },
           {
            "bin_start": 179.5,
            "bin_end": 181,
            "count": 0
           },
           {
            "bin_start": 181,
            "bin_end": 182.5,
            "count": 0
           },
           {
            "bin_start": 182.5,
            "bin_end": 184,
            "count": 0
           },
           {
            "bin_start": 184,
            "bin_end": 185.5,
            "count": 2
           },
           {
            "bin_start": 185.5,
            "bin_end": 187,
            "count": 0
           },
           {
            "bin_start": 187,
            "bin_end": 188.5,
            "count": 2
           },
           {
            "bin_start": 188.5,
            "bin_end": 190,
            "count": 1
           }
          ]
         }
        },
        {
         "name": "Goles",
         "dtype": "int64",
         "stats": {
          "unique_count": 4,
          "nan_count": 0,
          "min": "0",
          "max": "7",
          "histogram": [
           {
            "bin_start": 0,
            "bin_end": 0.7,
            "count": 1
           },
           {
            "bin_start": 0.7,
            "bin_end": 1.4,
            "count": 0
           },
           {
            "bin_start": 1.4,
            "bin_end": 2.0999999999999996,
            "count": 2
           },
           {
            "bin_start": 2.0999999999999996,
            "bin_end": 2.8,
            "count": 0
           },
           {
            "bin_start": 2.8,
            "bin_end": 3.5,
            "count": 0
           },
           {
            "bin_start": 3.5,
            "bin_end": 4.199999999999999,
            "count": 0
           },
           {
            "bin_start": 4.199999999999999,
            "bin_end": 4.8999999999999995,
            "count": 0
           },
           {
            "bin_start": 4.8999999999999995,
            "bin_end": 5.6,
            "count": 1
           },
           {
            "bin_start": 5.6,
            "bin_end": 6.3,
            "count": 0
           },
           {
            "bin_start": 6.3,
            "bin_end": 7,
            "count": 2
           }
          ]
         }
        },
        {
         "name": "_deepnote_index_column",
         "dtype": "int64"
        }
       ],
       "rows": [
        {
         "Jugador": "Luis Suárez",
         "Posición": "Delantero",
         "Número": 9,
         "Altura": 185,
         "Goles": 7,
         "_deepnote_index_column": 0
        },
        {
         "Jugador": "Jorge Molina",
         "Posición": "Delantero",
         "Número": 23,
         "Altura": 187,
         "Goles": 7,
         "_deepnote_index_column": 1
        },
        {
         "Jugador": "Antonio Puertas",
         "Posición": "Centrocampista",
         "Número": 10,
         "Altura": 185,
         "Goles": 5,
         "_deepnote_index_column": 2
        },
        {
         "Jugador": "Germán Sánchez",
         "Posición": "Defensa",
         "Número": 6,
         "Altura": 187,
         "Goles": 2,
         "_deepnote_index_column": 3
        },
        {
         "Jugador": "Luis Milla",
         "Posición": "Centrocampista",
         "Número": 5,
         "Altura": 175,
         "Goles": 2,
         "_deepnote_index_column": 4
        },
        {
         "Jugador": "Luís Manuel Arantes Maximiano",
         "Posición": "Portero",
         "Número": 1,
         "Altura": 190,
         "Goles": 0,
         "_deepnote_index_column": 5
        }
       ]
      },
      "text/plain": "                         Jugador        Posición  Número  Altura  Goles\n0                    Luis Suárez       Delantero       9   185.0      7\n1                   Jorge Molina       Delantero      23   187.0      7\n2                Antonio Puertas  Centrocampista      10   185.0      5\n3                 Germán Sánchez         Defensa       6   187.0      2\n4                     Luis Milla  Centrocampista       5   175.0      2\n5  Luís Manuel Arantes Maximiano         Portero       1   190.0      0",
      "text/html": "<div>\n<style scoped>\n    .dataframe tbody tr th:only-of-type {\n        vertical-align: middle;\n    }\n\n    .dataframe tbody tr th {\n        vertical-align: top;\n    }\n\n    .dataframe thead th {\n        text-align: right;\n    }\n</style>\n<table border=\"1\" class=\"dataframe\">\n  <thead>\n    <tr style=\"text-align: right;\">\n      <th></th>\n      <th>Jugador</th>\n      <th>Posición</th>\n      <th>Número</th>\n      <th>Altura</th>\n      <th>Goles</th>\n    </tr>\n  </thead>\n  <tbody>\n    <tr>\n      <th>0</th>\n      <td>Luis Suárez</td>\n      <td>Delantero</td>\n      <td>9</td>\n      <td>185.0</td>\n      <td>7</td>\n    </tr>\n    <tr>\n      <th>1</th>\n      <td>Jorge Molina</td>\n      <td>Delantero</td>\n      <td>23</td>\n      <td>187.0</td>\n      <td>7</td>\n    </tr>\n    <tr>\n      <th>2</th>\n      <td>Antonio Puertas</td>\n      <td>Centrocampista</td>\n      <td>10</td>\n      <td>185.0</td>\n      <td>5</td>\n    </tr>\n    <tr>\n      <th>3</th>\n      <td>Germán Sánchez</td>\n      <td>Defensa</td>\n      <td>6</td>\n      <td>187.0</td>\n      <td>2</td>\n    </tr>\n    <tr>\n      <th>4</th>\n      <td>Luis Milla</td>\n      <td>Centrocampista</td>\n      <td>5</td>\n      <td>175.0</td>\n      <td>2</td>\n    </tr>\n    <tr>\n      <th>5</th>\n      <td>Luís Manuel Arantes Maximiano</td>\n      <td>Portero</td>\n      <td>1</td>\n      <td>190.0</td>\n      <td>0</td>\n    </tr>\n  </tbody>\n</table>\n</div>"
     },
     "metadata": {}
    }
   ],
   "execution_count": null
  },
  {
   "cell_type": "markdown",
   "source": "<a style='text-decoration:none;line-height:16px;display:flex;color:#5B5B62;padding:10px;justify-content:end;' href='https://deepnote.com?utm_source=created-in-deepnote-cell&projectId=4950ccd9-74b8-4ba2-b588-82894596c11f' target=\"_blank\">\n<img alt='Created in deepnote.com' style='display:inline;max-height:16px;margin:0px;margin-right:7.5px;' src='data:image/svg+xml;base64,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' > </img>\nCreated in <span style='font-weight:600;margin-left:4px;'>Deepnote</span></a>",
   "metadata": {
    "tags": [],
    "created_in_deepnote_cell": true,
    "deepnote_cell_type": "markdown"
   }
  }
 ],
 "nbformat": 4,
 "nbformat_minor": 2,
 "metadata": {
  "orig_nbformat": 2,
  "deepnote": {},
  "deepnote_notebook_id": "cf7ec477-5237-47a5-aa4a-dc5e7aad71f8",
  "deepnote_execution_queue": []
 }
}