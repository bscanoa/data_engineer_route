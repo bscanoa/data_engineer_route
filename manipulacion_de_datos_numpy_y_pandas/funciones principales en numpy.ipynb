{
 "cells": [
  {
   "cell_type": "code",
   "metadata": {
    "tags": [],
    "cell_id": "0fc11c18-5d94-42d4-8c2a-4ed405da978d",
    "deepnote_to_be_reexecuted": false,
    "source_hash": "c2602aa8",
    "execution_start": 1658533583316,
    "execution_millis": 5,
    "deepnote_cell_type": "code",
    "deepnote_cell_height": 81.15625
   },
   "source": "import numpy as np",
   "execution_count": 1,
   "outputs": []
  },
  {
   "cell_type": "code",
   "metadata": {
    "cell_id": "f42707e16e5a4ef887731b7a96fefc4a",
    "tags": [],
    "deepnote_to_be_reexecuted": false,
    "source_hash": "81666ea5",
    "execution_start": 1658533775646,
    "execution_millis": 7,
    "deepnote_cell_type": "code",
    "deepnote_cell_height": 136.4375,
    "deepnote_output_heights": [
     21.171875
    ]
   },
   "source": "arr = np.random.randint(1, 20, 10)\narr",
   "execution_count": 11,
   "outputs": [
    {
     "output_type": "execute_result",
     "execution_count": 11,
     "data": {
      "text/plain": "array([15, 17,  6,  7,  6, 13,  6, 16,  9,  3])"
     },
     "metadata": {}
    }
   ]
  },
  {
   "cell_type": "code",
   "metadata": {
    "cell_id": "e29681767ff044f0bcb139b37e436fcc",
    "tags": [],
    "deepnote_to_be_reexecuted": false,
    "source_hash": "7a696c5d",
    "execution_start": 1658533779097,
    "execution_millis": 4,
    "deepnote_cell_type": "code",
    "deepnote_cell_height": 155.59375,
    "deepnote_output_heights": [
     40.34375
    ]
   },
   "source": "matriz = arr.reshape(2, 5)\nmatriz",
   "execution_count": 12,
   "outputs": [
    {
     "output_type": "execute_result",
     "execution_count": 12,
     "data": {
      "text/plain": "array([[15, 17,  6,  7,  6],\n       [13,  6, 16,  9,  3]])"
     },
     "metadata": {}
    }
   ]
  },
  {
   "cell_type": "code",
   "metadata": {
    "cell_id": "f6188d7c5de24e2484e4c6232e50dc97",
    "tags": [],
    "deepnote_to_be_reexecuted": false,
    "source_hash": "4fbfa924",
    "execution_start": 1658533782279,
    "execution_millis": 3,
    "deepnote_cell_type": "code",
    "deepnote_cell_height": 118.4375,
    "deepnote_output_heights": [
     21.171875
    ]
   },
   "source": "arr.max() # el número más grande del array",
   "execution_count": 13,
   "outputs": [
    {
     "output_type": "execute_result",
     "execution_count": 13,
     "data": {
      "text/plain": "17"
     },
     "metadata": {}
    }
   ]
  },
  {
   "cell_type": "code",
   "metadata": {
    "cell_id": "e6ed7623fbbc454a873cbdd9b3c03734",
    "tags": [],
    "deepnote_to_be_reexecuted": false,
    "source_hash": "d3fac237",
    "execution_start": 1658533784048,
    "execution_millis": 8,
    "deepnote_cell_type": "code",
    "deepnote_cell_height": 118.4375,
    "deepnote_output_heights": [
     21.171875
    ]
   },
   "source": "matriz.max(1) # en el eje 1, o por fila",
   "execution_count": 14,
   "outputs": [
    {
     "output_type": "execute_result",
     "execution_count": 14,
     "data": {
      "text/plain": "array([17, 16])"
     },
     "metadata": {}
    }
   ]
  },
  {
   "cell_type": "code",
   "metadata": {
    "cell_id": "5fcc5d4944d84374b5242a5085d9c1a8",
    "tags": [],
    "deepnote_to_be_reexecuted": false,
    "source_hash": "f1690837",
    "execution_start": 1658533786864,
    "execution_millis": 4,
    "deepnote_cell_type": "code",
    "deepnote_cell_height": 118.4375,
    "deepnote_output_heights": [
     21.171875
    ]
   },
   "source": "matriz.max(0) # en el eje 0, o por columna",
   "execution_count": 15,
   "outputs": [
    {
     "output_type": "execute_result",
     "execution_count": 15,
     "data": {
      "text/plain": "array([15, 17, 16,  9,  6])"
     },
     "metadata": {}
    }
   ]
  },
  {
   "cell_type": "code",
   "metadata": {
    "cell_id": "054905c8edd54eaaae3665c69d82dd1b",
    "tags": [],
    "deepnote_to_be_reexecuted": false,
    "source_hash": "84398fc9",
    "execution_start": 1658533789976,
    "execution_millis": 3,
    "deepnote_cell_type": "code",
    "deepnote_cell_height": 118.4375,
    "deepnote_output_heights": [
     21.171875
    ]
   },
   "source": "arr.argmax() # indice donde se encuentra el valor mayor",
   "execution_count": 16,
   "outputs": [
    {
     "output_type": "execute_result",
     "execution_count": 16,
     "data": {
      "text/plain": "1"
     },
     "metadata": {}
    }
   ]
  },
  {
   "cell_type": "code",
   "metadata": {
    "cell_id": "abba71ca510e41b387ea3e37e82c4751",
    "tags": [],
    "deepnote_to_be_reexecuted": false,
    "source_hash": "97f3ec7f",
    "execution_start": 1658533857666,
    "execution_millis": 277,
    "deepnote_cell_type": "code",
    "deepnote_cell_height": 118.4375,
    "deepnote_output_heights": [
     21.171875
    ]
   },
   "source": "matriz.argmax(0) # indice del valor mayor por columnas",
   "execution_count": 17,
   "outputs": [
    {
     "output_type": "execute_result",
     "execution_count": 17,
     "data": {
      "text/plain": "array([0, 0, 1, 1, 0])"
     },
     "metadata": {}
    }
   ]
  },
  {
   "cell_type": "code",
   "metadata": {
    "cell_id": "8eed13f299a64bc68d0b07ce6babb8e5",
    "tags": [],
    "deepnote_to_be_reexecuted": false,
    "source_hash": "ee2bc234",
    "execution_start": 1658533869389,
    "execution_millis": 8,
    "deepnote_cell_type": "code",
    "deepnote_cell_height": 118.4375,
    "deepnote_output_heights": [
     21.171875
    ]
   },
   "source": "matriz.argmax(1) # indice del valor mayor por filas",
   "execution_count": 18,
   "outputs": [
    {
     "output_type": "execute_result",
     "execution_count": 18,
     "data": {
      "text/plain": "array([1, 2])"
     },
     "metadata": {}
    }
   ]
  },
  {
   "cell_type": "markdown",
   "source": "## Valor minimo",
   "metadata": {
    "cell_id": "f7c29d68c1c6478da6dfb0d724b79fd1",
    "tags": [],
    "deepnote_cell_type": "markdown",
    "deepnote_cell_height": 70.171875
   }
  },
  {
   "cell_type": "code",
   "metadata": {
    "cell_id": "15f99060d33f45bcb3b860635b0877ad",
    "tags": [],
    "deepnote_to_be_reexecuted": false,
    "source_hash": "adecd653",
    "execution_start": 1658533894851,
    "execution_millis": 17,
    "deepnote_cell_type": "code",
    "deepnote_cell_height": 118.4375,
    "deepnote_output_heights": [
     21.171875
    ]
   },
   "source": "arr.min()",
   "execution_count": 19,
   "outputs": [
    {
     "output_type": "execute_result",
     "execution_count": 19,
     "data": {
      "text/plain": "3"
     },
     "metadata": {}
    }
   ]
  },
  {
   "cell_type": "code",
   "metadata": {
    "cell_id": "7002163ca7cb45ed949a94f7eb8a9f6a",
    "tags": [],
    "deepnote_to_be_reexecuted": false,
    "source_hash": "64c95713",
    "execution_start": 1658533905710,
    "execution_millis": 547,
    "deepnote_cell_type": "code",
    "deepnote_cell_height": 118.4375,
    "deepnote_output_heights": [
     21.171875
    ]
   },
   "source": "matriz.min(0)",
   "execution_count": 20,
   "outputs": [
    {
     "output_type": "execute_result",
     "execution_count": 20,
     "data": {
      "text/plain": "array([13,  6,  6,  7,  3])"
     },
     "metadata": {}
    }
   ]
  },
  {
   "cell_type": "code",
   "metadata": {
    "cell_id": "8e4f74ca262d498c9eefd05405c73a05",
    "tags": [],
    "deepnote_to_be_reexecuted": false,
    "source_hash": "5b2ba33e",
    "execution_start": 1658533918264,
    "execution_millis": 12,
    "deepnote_cell_type": "code",
    "deepnote_cell_height": 118.4375,
    "deepnote_output_heights": [
     21.171875
    ]
   },
   "source": "arr.argmin()",
   "execution_count": 21,
   "outputs": [
    {
     "output_type": "execute_result",
     "execution_count": 21,
     "data": {
      "text/plain": "9"
     },
     "metadata": {}
    }
   ]
  },
  {
   "cell_type": "code",
   "metadata": {
    "cell_id": "0464ebbc11294810a39bbc53f84b796a",
    "tags": [],
    "deepnote_to_be_reexecuted": false,
    "source_hash": "d1adc885",
    "execution_start": 1658533931576,
    "execution_millis": 500,
    "deepnote_cell_type": "code",
    "deepnote_cell_height": 118.4375,
    "deepnote_output_heights": [
     21.171875
    ]
   },
   "source": "matriz.argmin(0)",
   "execution_count": 22,
   "outputs": [
    {
     "output_type": "execute_result",
     "execution_count": 22,
     "data": {
      "text/plain": "array([1, 1, 0, 0, 1])"
     },
     "metadata": {}
    }
   ]
  },
  {
   "cell_type": "code",
   "metadata": {
    "cell_id": "307e273519fc4884afc7004ab7f80544",
    "tags": [],
    "deepnote_to_be_reexecuted": false,
    "source_hash": "6471078",
    "execution_start": 1658533935400,
    "execution_millis": 18,
    "deepnote_cell_type": "code",
    "deepnote_cell_height": 118.4375,
    "deepnote_output_heights": [
     21.171875
    ]
   },
   "source": "matriz.argmin(1)",
   "execution_count": 23,
   "outputs": [
    {
     "output_type": "execute_result",
     "execution_count": 23,
     "data": {
      "text/plain": "array([2, 4])"
     },
     "metadata": {}
    }
   ]
  },
  {
   "cell_type": "code",
   "metadata": {
    "cell_id": "b57673846b5142519ac16653d152e41c",
    "tags": [],
    "deepnote_to_be_reexecuted": false,
    "source_hash": "7e590b00",
    "execution_start": 1658533979853,
    "execution_millis": 495,
    "deepnote_cell_type": "code",
    "deepnote_cell_height": 118.4375,
    "deepnote_output_heights": [
     21.171875
    ]
   },
   "source": "arr",
   "execution_count": 25,
   "outputs": [
    {
     "output_type": "execute_result",
     "execution_count": 25,
     "data": {
      "text/plain": "array([15, 17,  6,  7,  6, 13,  6, 16,  9,  3])"
     },
     "metadata": {}
    }
   ]
  },
  {
   "cell_type": "code",
   "metadata": {
    "cell_id": "dd691759b4b9455da67fec83cbcd3bd6",
    "tags": [],
    "deepnote_to_be_reexecuted": false,
    "source_hash": "1eef75aa",
    "execution_start": 1658533965985,
    "execution_millis": 132,
    "deepnote_cell_type": "code",
    "deepnote_cell_height": 118.4375,
    "deepnote_output_heights": [
     21.171875
    ]
   },
   "source": "arr.ptp() # pick to pick, la diferencia entre el número mayor y el numero menor",
   "execution_count": 24,
   "outputs": [
    {
     "output_type": "execute_result",
     "execution_count": 24,
     "data": {
      "text/plain": "14"
     },
     "metadata": {}
    }
   ]
  },
  {
   "cell_type": "code",
   "metadata": {
    "cell_id": "82c63f6393ed4b8fad395fd3a6e974d2",
    "tags": [],
    "deepnote_to_be_reexecuted": false,
    "source_hash": "b64cf1d",
    "execution_start": 1658534148133,
    "execution_millis": 1,
    "deepnote_cell_type": "code",
    "deepnote_cell_height": 118.4375,
    "deepnote_output_heights": [
     21.171875
    ]
   },
   "source": "matriz.ptp(0) # distacia entre los valores",
   "execution_count": 33,
   "outputs": [
    {
     "output_type": "execute_result",
     "execution_count": 33,
     "data": {
      "text/plain": "array([ 2, 11, 10,  2,  3])"
     },
     "metadata": {}
    }
   ]
  },
  {
   "cell_type": "code",
   "metadata": {
    "cell_id": "3509d40328944a639c869cbbabf0a4db",
    "tags": [],
    "deepnote_to_be_reexecuted": false,
    "source_hash": "fd14b24c",
    "execution_start": 1658534155867,
    "execution_millis": 582,
    "deepnote_cell_type": "code",
    "deepnote_cell_height": 136.4375,
    "deepnote_output_heights": [
     21.171875
    ]
   },
   "source": "arr.sort()\narr",
   "execution_count": 34,
   "outputs": [
    {
     "output_type": "execute_result",
     "execution_count": 34,
     "data": {
      "text/plain": "array([ 3,  6,  6,  6,  7,  9, 13, 15, 16, 17])"
     },
     "metadata": {}
    }
   ]
  },
  {
   "cell_type": "code",
   "metadata": {
    "cell_id": "fcbeda28c7c343ff917921c39ab4755e",
    "tags": [],
    "deepnote_to_be_reexecuted": false,
    "source_hash": "4b0ca418",
    "execution_start": 1658534162364,
    "execution_millis": 369,
    "deepnote_cell_type": "code",
    "deepnote_cell_height": 118.4375,
    "deepnote_output_heights": [
     21.171875
    ]
   },
   "source": "np.percentile(arr, 50)",
   "execution_count": 36,
   "outputs": [
    {
     "output_type": "execute_result",
     "execution_count": 36,
     "data": {
      "text/plain": "8.0"
     },
     "metadata": {}
    }
   ]
  },
  {
   "cell_type": "code",
   "metadata": {
    "cell_id": "687ab9f6fe73405cad5345858a9938cd",
    "tags": [],
    "deepnote_to_be_reexecuted": false,
    "source_hash": "6cc9d130",
    "execution_start": 1658534191210,
    "execution_millis": 9,
    "deepnote_cell_type": "code",
    "deepnote_cell_height": 118.4375,
    "deepnote_output_heights": [
     21.171875
    ]
   },
   "source": "np.median(arr)",
   "execution_count": 38,
   "outputs": [
    {
     "output_type": "execute_result",
     "execution_count": 38,
     "data": {
      "text/plain": "8.0"
     },
     "metadata": {}
    }
   ]
  },
  {
   "cell_type": "code",
   "metadata": {
    "cell_id": "177edbf7b9ed4a0a80d1f69f19e80af0",
    "tags": [],
    "deepnote_to_be_reexecuted": false,
    "source_hash": "3c164601",
    "execution_start": 1658534220709,
    "execution_millis": 5,
    "deepnote_cell_type": "code",
    "deepnote_cell_height": 118.4375,
    "deepnote_output_heights": [
     21.171875
    ]
   },
   "source": "np.median(matriz, 1)",
   "execution_count": 40,
   "outputs": [
    {
     "output_type": "execute_result",
     "execution_count": 40,
     "data": {
      "text/plain": "array([ 6., 15.])"
     },
     "metadata": {}
    }
   ]
  },
  {
   "cell_type": "code",
   "metadata": {
    "cell_id": "b8661c045fe148cd8ceec22c7cc11854",
    "tags": [],
    "deepnote_to_be_reexecuted": false,
    "source_hash": "9a098971",
    "execution_start": 1658534232273,
    "execution_millis": 6,
    "deepnote_cell_type": "code",
    "deepnote_cell_height": 118.4375,
    "deepnote_output_heights": [
     21.171875
    ]
   },
   "source": "np.std(arr) #desviación estandar",
   "execution_count": 41,
   "outputs": [
    {
     "output_type": "execute_result",
     "execution_count": 41,
     "data": {
      "text/plain": "4.749736834815167"
     },
     "metadata": {}
    }
   ]
  },
  {
   "cell_type": "code",
   "metadata": {
    "cell_id": "a40e652194df4c3c94653b83cc8b0d69",
    "tags": [],
    "deepnote_to_be_reexecuted": false,
    "source_hash": "b8a6c7fc",
    "execution_start": 1658534249871,
    "execution_millis": 746,
    "deepnote_cell_type": "code",
    "deepnote_cell_height": 118.4375,
    "deepnote_output_heights": [
     21.171875
    ]
   },
   "source": "np.std(matriz, 1)",
   "execution_count": 44,
   "outputs": [
    {
     "output_type": "execute_result",
     "execution_count": 44,
     "data": {
      "text/plain": "array([1.356466  , 2.82842712])"
     },
     "metadata": {}
    }
   ]
  },
  {
   "cell_type": "code",
   "metadata": {
    "cell_id": "a861159ffef44347bd54df67f7102951",
    "tags": [],
    "deepnote_to_be_reexecuted": false,
    "source_hash": "f9bfe1ff",
    "execution_start": 1658534325117,
    "execution_millis": 6,
    "deepnote_cell_type": "code",
    "deepnote_cell_height": 118.4375,
    "deepnote_output_heights": [
     21.171875
    ]
   },
   "source": "np.var(arr), np.std(arr) ** 2 # la std al cuadrado es igual a la varianza",
   "execution_count": 47,
   "outputs": [
    {
     "output_type": "execute_result",
     "execution_count": 47,
     "data": {
      "text/plain": "(22.560000000000002, 22.56)"
     },
     "metadata": {}
    }
   ]
  },
  {
   "cell_type": "code",
   "metadata": {
    "cell_id": "e6c483989b9a45258684a06a14d3d427",
    "tags": [],
    "deepnote_to_be_reexecuted": false,
    "source_hash": "f6092f76",
    "execution_start": 1658534418114,
    "execution_millis": 364,
    "deepnote_cell_type": "code",
    "deepnote_cell_height": 148.625,
    "deepnote_output_heights": [
     21.171875
    ]
   },
   "source": "print(np.mean(arr)) # la media es la suma de los valores divido en el tamaño del array\nprint(np.median(arr)) # percentil 50 ",
   "execution_count": 49,
   "outputs": [
    {
     "name": "stdout",
     "text": "9.8\n8.0\n",
     "output_type": "stream"
    }
   ]
  },
  {
   "cell_type": "code",
   "metadata": {
    "cell_id": "9293d6ef5d0245e89bd095ab4bcbdbc9",
    "tags": [],
    "deepnote_to_be_reexecuted": false,
    "source_hash": "85a7544",
    "execution_start": 1658534633565,
    "execution_millis": 5,
    "deepnote_cell_type": "code",
    "deepnote_cell_height": 192.8125,
    "deepnote_output_heights": [
     59.53125
    ]
   },
   "source": "a = np.array([[1, 2], [3, 4]])\nb = np.array([5, 6])\na, b",
   "execution_count": 59,
   "outputs": [
    {
     "output_type": "execute_result",
     "execution_count": 59,
     "data": {
      "text/plain": "(array([[1, 2],\n        [3, 4]]),\n array([5, 6]))"
     },
     "metadata": {}
    }
   ]
  },
  {
   "cell_type": "code",
   "metadata": {
    "cell_id": "be8e014f04414f58a45f824c0228861f",
    "tags": [],
    "deepnote_to_be_reexecuted": false,
    "source_hash": "3112a1e7",
    "execution_start": 1658534635294,
    "execution_millis": 15,
    "deepnote_cell_type": "code",
    "deepnote_cell_height": 163.625
   },
   "source": "np.concatenate((a, b), axis = 0)",
   "execution_count": 60,
   "outputs": [
    {
     "output_type": "error",
     "ename": "ValueError",
     "evalue": "all the input arrays must have same number of dimensions, but the array at index 0 has 2 dimension(s) and the array at index 1 has 1 dimension(s)",
     "traceback": [
      "\u001b[0;31m---------------------------------------------------------------------------\u001b[0m",
      "\u001b[0;31mValueError\u001b[0m                                Traceback (most recent call last)",
      "\u001b[0;32m<ipython-input-60-9aee5bdd7c73>\u001b[0m in \u001b[0;36m<cell line: 1>\u001b[0;34m()\u001b[0m\n\u001b[0;32m----> 1\u001b[0;31m \u001b[0mnp\u001b[0m\u001b[0;34m.\u001b[0m\u001b[0mconcatenate\u001b[0m\u001b[0;34m(\u001b[0m\u001b[0;34m(\u001b[0m\u001b[0ma\u001b[0m\u001b[0;34m,\u001b[0m \u001b[0mb\u001b[0m\u001b[0;34m)\u001b[0m\u001b[0;34m,\u001b[0m \u001b[0maxis\u001b[0m \u001b[0;34m=\u001b[0m \u001b[0;36m0\u001b[0m\u001b[0;34m)\u001b[0m\u001b[0;34m\u001b[0m\u001b[0;34m\u001b[0m\u001b[0m\n\u001b[0m",
      "\u001b[0;32m/shared-libs/python3.9/py/lib/python3.9/site-packages/numpy/core/overrides.py\u001b[0m in \u001b[0;36mconcatenate\u001b[0;34m(*args, **kwargs)\u001b[0m\n",
      "\u001b[0;31mValueError\u001b[0m: all the input arrays must have same number of dimensions, but the array at index 0 has 2 dimension(s) and the array at index 1 has 1 dimension(s)"
     ]
    }
   ]
  },
  {
   "cell_type": "code",
   "metadata": {
    "cell_id": "b933aab61461485ebc6a73b5f33f5fe9",
    "tags": [],
    "deepnote_to_be_reexecuted": false,
    "source_hash": "eee49002",
    "execution_start": 1658534637384,
    "execution_millis": 647,
    "deepnote_cell_type": "code",
    "deepnote_cell_height": 118.4375,
    "deepnote_output_heights": [
     21.171875
    ]
   },
   "source": "a.ndim, b.ndim",
   "execution_count": 61,
   "outputs": [
    {
     "output_type": "execute_result",
     "execution_count": 61,
     "data": {
      "text/plain": "(2, 1)"
     },
     "metadata": {}
    }
   ]
  },
  {
   "cell_type": "code",
   "metadata": {
    "cell_id": "9390471cee664f11b7d7e1fa76989e0d",
    "tags": [],
    "deepnote_to_be_reexecuted": false,
    "source_hash": "6147c8d3",
    "execution_start": 1658534639509,
    "execution_millis": 4,
    "deepnote_cell_type": "code",
    "deepnote_cell_height": 81.15625
   },
   "source": "b = np.expand_dims(b, axis=0)",
   "execution_count": 62,
   "outputs": []
  },
  {
   "cell_type": "code",
   "metadata": {
    "cell_id": "3226d202e32641f68cb6a17f567505a7",
    "tags": [],
    "deepnote_to_be_reexecuted": false,
    "source_hash": "3112a1e7",
    "execution_start": 1658534660898,
    "execution_millis": 5,
    "deepnote_cell_type": "code",
    "deepnote_cell_height": 156.796875,
    "deepnote_output_heights": [
     59.53125
    ]
   },
   "source": "np.concatenate((a, b), axis = 0)",
   "execution_count": 65,
   "outputs": [
    {
     "output_type": "execute_result",
     "execution_count": 65,
     "data": {
      "text/plain": "array([[1, 2],\n       [3, 4],\n       [5, 6]])"
     },
     "metadata": {}
    }
   ]
  },
  {
   "cell_type": "code",
   "metadata": {
    "cell_id": "ba6f1861dadd43448ee71a3dc570bce6",
    "tags": [],
    "deepnote_to_be_reexecuted": false,
    "source_hash": "67f3235c",
    "execution_start": 1658534666877,
    "execution_millis": 11,
    "owner_user_id": "1446e09b-adb1-4d03-8824-192d50632f30",
    "deepnote_cell_type": "code",
    "deepnote_cell_height": 163.625
   },
   "source": "np.concatenate((a, b), axis = 1)",
   "execution_count": 66,
   "outputs": [
    {
     "output_type": "error",
     "ename": "ValueError",
     "evalue": "all the input array dimensions for the concatenation axis must match exactly, but along dimension 0, the array at index 0 has size 2 and the array at index 1 has size 1",
     "traceback": [
      "\u001b[0;31m---------------------------------------------------------------------------\u001b[0m",
      "\u001b[0;31mValueError\u001b[0m                                Traceback (most recent call last)",
      "\u001b[0;32m<ipython-input-66-5a5c7b048c79>\u001b[0m in \u001b[0;36m<cell line: 1>\u001b[0;34m()\u001b[0m\n\u001b[0;32m----> 1\u001b[0;31m \u001b[0mnp\u001b[0m\u001b[0;34m.\u001b[0m\u001b[0mconcatenate\u001b[0m\u001b[0;34m(\u001b[0m\u001b[0;34m(\u001b[0m\u001b[0ma\u001b[0m\u001b[0;34m,\u001b[0m \u001b[0mb\u001b[0m\u001b[0;34m)\u001b[0m\u001b[0;34m,\u001b[0m \u001b[0maxis\u001b[0m \u001b[0;34m=\u001b[0m \u001b[0;36m1\u001b[0m\u001b[0;34m)\u001b[0m\u001b[0;34m\u001b[0m\u001b[0;34m\u001b[0m\u001b[0m\n\u001b[0m",
      "\u001b[0;32m/shared-libs/python3.9/py/lib/python3.9/site-packages/numpy/core/overrides.py\u001b[0m in \u001b[0;36mconcatenate\u001b[0;34m(*args, **kwargs)\u001b[0m\n",
      "\u001b[0;31mValueError\u001b[0m: all the input array dimensions for the concatenation axis must match exactly, but along dimension 0, the array at index 0 has size 2 and the array at index 1 has size 1"
     ]
    }
   ]
  },
  {
   "cell_type": "code",
   "metadata": {
    "cell_id": "689b744775934c72ac172e623d93cf3a",
    "tags": [],
    "deepnote_to_be_reexecuted": false,
    "source_hash": "48b21c11",
    "execution_start": 1658534719537,
    "execution_millis": 5,
    "deepnote_cell_type": "code",
    "deepnote_cell_height": 155.59375,
    "deepnote_output_heights": [
     40.34375
    ]
   },
   "source": "# uso de la transpuesta de una matriz con T\nnp.concatenate((a, b.T), axis = 1)",
   "execution_count": 67,
   "outputs": [
    {
     "output_type": "execute_result",
     "execution_count": 67,
     "data": {
      "text/plain": "array([[1, 2, 5],\n       [3, 4, 6]])"
     },
     "metadata": {}
    }
   ]
  },
  {
   "cell_type": "markdown",
   "source": "<a style='text-decoration:none;line-height:16px;display:flex;color:#5B5B62;padding:10px;justify-content:end;' href='https://deepnote.com?utm_source=created-in-deepnote-cell&projectId=4950ccd9-74b8-4ba2-b588-82894596c11f' target=\"_blank\">\n<img alt='Created in deepnote.com' style='display:inline;max-height:16px;margin:0px;margin-right:7.5px;' src='data:image/svg+xml;base64,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' > </img>\nCreated in <span style='font-weight:600;margin-left:4px;'>Deepnote</span></a>",
   "metadata": {
    "tags": [],
    "created_in_deepnote_cell": true,
    "deepnote_cell_type": "markdown"
   }
  }
 ],
 "nbformat": 4,
 "nbformat_minor": 2,
 "metadata": {
  "orig_nbformat": 2,
  "deepnote": {},
  "deepnote_notebook_id": "0a17afbb-0e41-4c8c-881e-1d51697fd100",
  "deepnote_execution_queue": []
 }
}