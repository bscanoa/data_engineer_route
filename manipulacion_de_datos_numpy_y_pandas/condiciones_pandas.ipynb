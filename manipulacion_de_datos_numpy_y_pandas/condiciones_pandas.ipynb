{
 "cells": [
  {
   "cell_type": "code",
   "metadata": {
    "tags": [],
    "cell_id": "49d570bf-0e91-4bce-8c57-fc677a52c87d",
    "deepnote_to_be_reexecuted": false,
    "source_hash": "9b82ee11",
    "execution_start": 1658593447971,
    "execution_millis": 1,
    "deepnote_cell_type": "code",
    "deepnote_cell_height": 81
   },
   "source": "import pandas as pd",
   "outputs": [],
   "execution_count": null
  },
  {
   "cell_type": "code",
   "source": "df_books = pd.read_csv('/work/data_enginner_route/manipulacion_de_datos_numpy_y_pandas/data/bestsellers-with-categories.csv')\ndf_books.head(3)",
   "metadata": {
    "cell_id": "594b5036d2854037888c06cdcd7abf05",
    "tags": [],
    "deepnote_to_be_reexecuted": false,
    "source_hash": "9be0d397",
    "execution_start": 1658593464792,
    "execution_millis": 144,
    "deepnote_cell_type": "code",
    "deepnote_cell_height": 346
   },
   "outputs": [
    {
     "output_type": "execute_result",
     "execution_count": 3,
     "data": {
      "application/vnd.deepnote.dataframe.v3+json": {
       "column_count": 7,
       "row_count": 3,
       "columns": [
        {
         "name": "Name",
         "dtype": "object",
         "stats": {
          "unique_count": 3,
          "nan_count": 0,
          "categories": [
           {
            "name": "10-Day Green Smoothie Cleanse",
            "count": 1
           },
           {
            "name": "11/22/63: A Novel",
            "count": 1
           },
           {
            "name": "12 Rules for Life: An Antidote to Chaos",
            "count": 1
           }
          ]
         }
        },
        {
         "name": "Author",
         "dtype": "object",
         "stats": {
          "unique_count": 3,
          "nan_count": 0,
          "categories": [
           {
            "name": "JJ Smith",
            "count": 1
           },
           {
            "name": "Stephen King",
            "count": 1
           },
           {
            "name": "Jordan B. Peterson",
            "count": 1
           }
          ]
         }
        },
        {
         "name": "User Rating",
         "dtype": "float64",
         "stats": {
          "unique_count": 2,
          "nan_count": 0,
          "min": "4.6",
          "max": "4.7",
          "histogram": [
           {
            "bin_start": 4.6,
            "bin_end": 4.609999999999999,
            "count": 1
           },
           {
            "bin_start": 4.609999999999999,
            "bin_end": 4.62,
            "count": 0
           },
           {
            "bin_start": 4.62,
            "bin_end": 4.63,
            "count": 0
           },
           {
            "bin_start": 4.63,
            "bin_end": 4.64,
            "count": 0
           },
           {
            "bin_start": 4.64,
            "bin_end": 4.65,
            "count": 0
           },
           {
            "bin_start": 4.65,
            "bin_end": 4.66,
            "count": 0
           },
           {
            "bin_start": 4.66,
            "bin_end": 4.67,
            "count": 0
           },
           {
            "bin_start": 4.67,
            "bin_end": 4.68,
            "count": 0
           },
           {
            "bin_start": 4.68,
            "bin_end": 4.69,
            "count": 0
           },
           {
            "bin_start": 4.69,
            "bin_end": 4.7,
            "count": 2
           }
          ]
         }
        },
        {
         "name": "Reviews",
         "dtype": "int64",
         "stats": {
          "unique_count": 3,
          "nan_count": 0,
          "min": "2052",
          "max": "18979",
          "histogram": [
           {
            "bin_start": 2052,
            "bin_end": 3744.7,
            "count": 1
           },
           {
            "bin_start": 3744.7,
            "bin_end": 5437.4,
            "count": 0
           },
           {
            "bin_start": 5437.4,
            "bin_end": 7130.1,
            "count": 0
           },
           {
            "bin_start": 7130.1,
            "bin_end": 8822.8,
            "count": 0
           },
           {
            "bin_start": 8822.8,
            "bin_end": 10515.5,
            "count": 0
           },
           {
            "bin_start": 10515.5,
            "bin_end": 12208.2,
            "count": 0
           },
           {
            "bin_start": 12208.2,
            "bin_end": 13900.9,
            "count": 0
           },
           {
            "bin_start": 13900.9,
            "bin_end": 15593.6,
            "count": 0
           },
           {
            "bin_start": 15593.6,
            "bin_end": 17286.300000000003,
            "count": 0
           },
           {
            "bin_start": 17286.300000000003,
            "bin_end": 18979,
            "count": 2
           }
          ]
         }
        },
        {
         "name": "Price",
         "dtype": "int64",
         "stats": {
          "unique_count": 3,
          "nan_count": 0,
          "min": "8",
          "max": "22",
          "histogram": [
           {
            "bin_start": 8,
            "bin_end": 9.4,
            "count": 1
           },
           {
            "bin_start": 9.4,
            "bin_end": 10.8,
            "count": 0
           },
           {
            "bin_start": 10.8,
            "bin_end": 12.2,
            "count": 0
           },
           {
            "bin_start": 12.2,
            "bin_end": 13.6,
            "count": 0
           },
           {
            "bin_start": 13.6,
            "bin_end": 15,
            "count": 0
           },
           {
            "bin_start": 15,
            "bin_end": 16.4,
            "count": 1
           },
           {
            "bin_start": 16.4,
            "bin_end": 17.799999999999997,
            "count": 0
           },
           {
            "bin_start": 17.799999999999997,
            "bin_end": 19.2,
            "count": 0
           },
           {
            "bin_start": 19.2,
            "bin_end": 20.6,
            "count": 0
           },
           {
            "bin_start": 20.6,
            "bin_end": 22,
            "count": 1
           }
          ]
         }
        },
        {
         "name": "Year",
         "dtype": "int64",
         "stats": {
          "unique_count": 3,
          "nan_count": 0,
          "min": "2011",
          "max": "2018",
          "histogram": [
           {
            "bin_start": 2011,
            "bin_end": 2011.7,
            "count": 1
           },
           {
            "bin_start": 2011.7,
            "bin_end": 2012.4,
            "count": 0
           },
           {
            "bin_start": 2012.4,
            "bin_end": 2013.1,
            "count": 0
           },
           {
            "bin_start": 2013.1,
            "bin_end": 2013.8,
            "count": 0
           },
           {
            "bin_start": 2013.8,
            "bin_end": 2014.5,
            "count": 0
           },
           {
            "bin_start": 2014.5,
            "bin_end": 2015.2,
            "count": 0
           },
           {
            "bin_start": 2015.2,
            "bin_end": 2015.9,
            "count": 0
           },
           {
            "bin_start": 2015.9,
            "bin_end": 2016.6,
            "count": 1
           },
           {
            "bin_start": 2016.6,
            "bin_end": 2017.3,
            "count": 0
           },
           {
            "bin_start": 2017.3,
            "bin_end": 2018,
            "count": 1
           }
          ]
         }
        },
        {
         "name": "Genre",
         "dtype": "object",
         "stats": {
          "unique_count": 2,
          "nan_count": 0,
          "categories": [
           {
            "name": "Non Fiction",
            "count": 2
           },
           {
            "name": "Fiction",
            "count": 1
           }
          ]
         }
        },
        {
         "name": "_deepnote_index_column",
         "dtype": "int64"
        }
       ],
       "rows": [
        {
         "Name": "10-Day Green Smoothie Cleanse",
         "Author": "JJ Smith",
         "User Rating": 4.7,
         "Reviews": 17350,
         "Price": 8,
         "Year": 2016,
         "Genre": "Non Fiction",
         "_deepnote_index_column": 0
        },
        {
         "Name": "11/22/63: A Novel",
         "Author": "Stephen King",
         "User Rating": 4.6,
         "Reviews": 2052,
         "Price": 22,
         "Year": 2011,
         "Genre": "Fiction",
         "_deepnote_index_column": 1
        },
        {
         "Name": "12 Rules for Life: An Antidote to Chaos",
         "Author": "Jordan B. Peterson",
         "User Rating": 4.7,
         "Reviews": 18979,
         "Price": 15,
         "Year": 2018,
         "Genre": "Non Fiction",
         "_deepnote_index_column": 2
        }
       ]
      },
      "text/plain": "                                      Name              Author  User Rating  \\\n0            10-Day Green Smoothie Cleanse            JJ Smith          4.7   \n1                        11/22/63: A Novel        Stephen King          4.6   \n2  12 Rules for Life: An Antidote to Chaos  Jordan B. Peterson          4.7   \n\n   Reviews  Price  Year        Genre  \n0    17350      8  2016  Non Fiction  \n1     2052     22  2011      Fiction  \n2    18979     15  2018  Non Fiction  ",
      "text/html": "<div>\n<style scoped>\n    .dataframe tbody tr th:only-of-type {\n        vertical-align: middle;\n    }\n\n    .dataframe tbody tr th {\n        vertical-align: top;\n    }\n\n    .dataframe thead th {\n        text-align: right;\n    }\n</style>\n<table border=\"1\" class=\"dataframe\">\n  <thead>\n    <tr style=\"text-align: right;\">\n      <th></th>\n      <th>Name</th>\n      <th>Author</th>\n      <th>User Rating</th>\n      <th>Reviews</th>\n      <th>Price</th>\n      <th>Year</th>\n      <th>Genre</th>\n    </tr>\n  </thead>\n  <tbody>\n    <tr>\n      <th>0</th>\n      <td>10-Day Green Smoothie Cleanse</td>\n      <td>JJ Smith</td>\n      <td>4.7</td>\n      <td>17350</td>\n      <td>8</td>\n      <td>2016</td>\n      <td>Non Fiction</td>\n    </tr>\n    <tr>\n      <th>1</th>\n      <td>11/22/63: A Novel</td>\n      <td>Stephen King</td>\n      <td>4.6</td>\n      <td>2052</td>\n      <td>22</td>\n      <td>2011</td>\n      <td>Fiction</td>\n    </tr>\n    <tr>\n      <th>2</th>\n      <td>12 Rules for Life: An Antidote to Chaos</td>\n      <td>Jordan B. Peterson</td>\n      <td>4.7</td>\n      <td>18979</td>\n      <td>15</td>\n      <td>2018</td>\n      <td>Non Fiction</td>\n    </tr>\n  </tbody>\n</table>\n</div>"
     },
     "metadata": {}
    }
   ],
   "execution_count": null
  },
  {
   "cell_type": "code",
   "source": "mayor_a_2016 = df_books['Year'] > 2016 # devuelve una lista con valores booleanos",
   "metadata": {
    "cell_id": "43d9e785191c4289bb9c026619183185",
    "tags": [],
    "deepnote_to_be_reexecuted": false,
    "source_hash": "b87d98ca",
    "execution_start": 1658593530112,
    "execution_millis": 11,
    "deepnote_cell_type": "code",
    "deepnote_cell_height": 81,
    "deepnote_output_heights": [
     232.25
    ]
   },
   "outputs": [],
   "execution_count": null
  },
  {
   "cell_type": "code",
   "source": "df_books[mayor_a_2016] # filtra a traves de la lista",
   "metadata": {
    "cell_id": "13af1f8303464ed88d4a3c692320229a",
    "tags": [],
    "deepnote_to_be_reexecuted": false,
    "source_hash": "9f25580e",
    "execution_start": 1658593542422,
    "execution_millis": 57,
    "deepnote_cell_type": "code",
    "deepnote_cell_height": 615
   },
   "outputs": [
    {
     "output_type": "execute_result",
     "execution_count": 7,
     "data": {
      "application/vnd.deepnote.dataframe.v3+json": {
       "column_count": 7,
       "row_count": 150,
       "columns": [
        {
         "name": "Name",
         "dtype": "object",
         "stats": {
          "unique_count": 109,
          "nan_count": 0,
          "categories": [
           {
            "name": "Giraffes Can't Dance",
            "count": 3
           },
           {
            "name": "Goodnight Moon",
            "count": 3
           },
           {
            "name": "107 others",
            "count": 144
           }
          ]
         }
        },
        {
         "name": "Author",
         "dtype": "object",
         "stats": {
          "unique_count": 98,
          "nan_count": 0,
          "categories": [
           {
            "name": "Dav Pilkey",
            "count": 7
           },
           {
            "name": "Giles Andreae",
            "count": 3
           },
           {
            "name": "96 others",
            "count": 140
           }
          ]
         }
        },
        {
         "name": "User Rating",
         "dtype": "float64",
         "stats": {
          "unique_count": 9,
          "nan_count": 0,
          "min": "4.0",
          "max": "4.9",
          "histogram": [
           {
            "bin_start": 4,
            "bin_end": 4.09,
            "count": 1
           },
           {
            "bin_start": 4.09,
            "bin_end": 4.18,
            "count": 0
           },
           {
            "bin_start": 4.18,
            "bin_end": 4.2700000000000005,
            "count": 1
           },
           {
            "bin_start": 4.2700000000000005,
            "bin_end": 4.36,
            "count": 9
           },
           {
            "bin_start": 4.36,
            "bin_end": 4.45,
            "count": 7
           },
           {
            "bin_start": 4.45,
            "bin_end": 4.54,
            "count": 12
           },
           {
            "bin_start": 4.54,
            "bin_end": 4.63,
            "count": 21
           },
           {
            "bin_start": 4.63,
            "bin_end": 4.720000000000001,
            "count": 26
           },
           {
            "bin_start": 4.720000000000001,
            "bin_end": 4.8100000000000005,
            "count": 48
           },
           {
            "bin_start": 4.8100000000000005,
            "bin_end": 4.9,
            "count": 25
           }
          ]
         }
        },
        {
         "name": "Reviews",
         "dtype": "int64",
         "stats": {
          "unique_count": 109,
          "nan_count": 0,
          "min": "1831",
          "max": "87841",
          "histogram": [
           {
            "bin_start": 1831,
            "bin_end": 10432,
            "count": 74
           },
           {
            "bin_start": 10432,
            "bin_end": 19033,
            "count": 35
           },
           {
            "bin_start": 19033,
            "bin_end": 27634,
            "count": 33
           },
           {
            "bin_start": 27634,
            "bin_end": 36235,
            "count": 5
           },
           {
            "bin_start": 36235,
            "bin_end": 44836,
            "count": 0
           },
           {
            "bin_start": 44836,
            "bin_end": 53437,
            "count": 0
           },
           {
            "bin_start": 53437,
            "bin_end": 62038,
            "count": 2
           },
           {
            "bin_start": 62038,
            "bin_end": 70639,
            "count": 0
           },
           {
            "bin_start": 70639,
            "bin_end": 79240,
            "count": 0
           },
           {
            "bin_start": 79240,
            "bin_end": 87841,
            "count": 1
           }
          ]
         }
        },
        {
         "name": "Price",
         "dtype": "int64",
         "stats": {
          "unique_count": 25,
          "nan_count": 0,
          "min": "0",
          "max": "46",
          "histogram": [
           {
            "bin_start": 0,
            "bin_end": 4.6,
            "count": 17
           },
           {
            "bin_start": 4.6,
            "bin_end": 9.2,
            "count": 64
           },
           {
            "bin_start": 9.2,
            "bin_end": 13.799999999999999,
            "count": 31
           },
           {
            "bin_start": 13.799999999999999,
            "bin_end": 18.4,
            "count": 25
           },
           {
            "bin_start": 18.4,
            "bin_end": 23,
            "count": 6
           },
           {
            "bin_start": 23,
            "bin_end": 27.599999999999998,
            "count": 4
           },
           {
            "bin_start": 27.599999999999998,
            "bin_end": 32.199999999999996,
            "count": 1
           },
           {
            "bin_start": 32.199999999999996,
            "bin_end": 36.8,
            "count": 0
           },
           {
            "bin_start": 36.8,
            "bin_end": 41.4,
            "count": 0
           },
           {
            "bin_start": 41.4,
            "bin_end": 46,
            "count": 2
           }
          ]
         }
        },
        {
         "name": "Year",
         "dtype": "int64",
         "stats": {
          "unique_count": 3,
          "nan_count": 0,
          "min": "2017",
          "max": "2019",
          "histogram": [
           {
            "bin_start": 2017,
            "bin_end": 2017.2,
            "count": 50
           },
           {
            "bin_start": 2017.2,
            "bin_end": 2017.4,
            "count": 0
           },
           {
            "bin_start": 2017.4,
            "bin_end": 2017.6,
            "count": 0
           },
           {
            "bin_start": 2017.6,
            "bin_end": 2017.8,
            "count": 0
           },
           {
            "bin_start": 2017.8,
            "bin_end": 2018,
            "count": 0
           },
           {
            "bin_start": 2018,
            "bin_end": 2018.2,
            "count": 50
           },
           {
            "bin_start": 2018.2,
            "bin_end": 2018.4,
            "count": 0
           },
           {
            "bin_start": 2018.4,
            "bin_end": 2018.6,
            "count": 0
           },
           {
            "bin_start": 2018.6,
            "bin_end": 2018.8,
            "count": 0
           },
           {
            "bin_start": 2018.8,
            "bin_end": 2019,
            "count": 50
           }
          ]
         }
        },
        {
         "name": "Genre",
         "dtype": "object",
         "stats": {
          "unique_count": 2,
          "nan_count": 0,
          "categories": [
           {
            "name": "Non Fiction",
            "count": 85
           },
           {
            "name": "Fiction",
            "count": 65
           }
          ]
         }
        },
        {
         "name": "_deepnote_index_column",
         "dtype": "int64"
        }
       ],
       "rows": [
        {
         "Name": "12 Rules for Life: An Antidote to Chaos",
         "Author": "Jordan B. Peterson",
         "User Rating": 4.7,
         "Reviews": 18979,
         "Price": 15,
         "Year": 2018,
         "Genre": "Non Fiction",
         "_deepnote_index_column": 2
        },
        {
         "Name": "1984 (Signet Classics)",
         "Author": "George Orwell",
         "User Rating": 4.7,
         "Reviews": 21424,
         "Price": 6,
         "Year": 2017,
         "Genre": "Fiction",
         "_deepnote_index_column": 3
        },
        {
         "Name": "5,000 Awesome Facts (About Everything!) (National Geographic Kids)",
         "Author": "National Geographic Kids",
         "User Rating": 4.8,
         "Reviews": 7665,
         "Price": 12,
         "Year": 2019,
         "Genre": "Non Fiction",
         "_deepnote_index_column": 4
        },
        {
         "Name": "A Gentleman in Moscow: A Novel",
         "Author": "Amor Towles",
         "User Rating": 4.7,
         "Reviews": 19699,
         "Price": 15,
         "Year": 2017,
         "Genre": "Fiction",
         "_deepnote_index_column": 7
        },
        {
         "Name": "A Higher Loyalty: Truth, Lies, and Leadership",
         "Author": "James Comey",
         "User Rating": 4.7,
         "Reviews": 5983,
         "Price": 3,
         "Year": 2018,
         "Genre": "Non Fiction",
         "_deepnote_index_column": 8
        },
        {
         "Name": "A Man Called Ove: A Novel",
         "Author": "Fredrik Backman",
         "User Rating": 4.6,
         "Reviews": 23848,
         "Price": 8,
         "Year": 2017,
         "Genre": "Fiction",
         "_deepnote_index_column": 10
        },
        {
         "Name": "A Wrinkle in Time (Time Quintet)",
         "Author": "Madeleine L'Engle",
         "User Rating": 4.5,
         "Reviews": 5153,
         "Price": 5,
         "Year": 2018,
         "Genre": "Fiction",
         "_deepnote_index_column": 13
        },
        {
         "Name": "Astrophysics for People in a Hurry",
         "Author": "Neil deGrasse Tyson",
         "User Rating": 4.7,
         "Reviews": 9374,
         "Price": 9,
         "Year": 2017,
         "Genre": "Non Fiction",
         "_deepnote_index_column": 26
        },
        {
         "Name": "Becoming",
         "Author": "Michelle Obama",
         "User Rating": 4.8,
         "Reviews": 61133,
         "Price": 11,
         "Year": 2018,
         "Genre": "Non Fiction",
         "_deepnote_index_column": 32
        },
        {
         "Name": "Becoming",
         "Author": "Michelle Obama",
         "User Rating": 4.8,
         "Reviews": 61133,
         "Price": 11,
         "Year": 2019,
         "Genre": "Non Fiction",
         "_deepnote_index_column": 33
        }
       ]
      },
      "text/plain": "                                                  Name  \\\n2              12 Rules for Life: An Antidote to Chaos   \n3                               1984 (Signet Classics)   \n4    5,000 Awesome Facts (About Everything!) (Natio...   \n7                       A Gentleman in Moscow: A Novel   \n8        A Higher Loyalty: Truth, Lies, and Leadership   \n..                                                 ...   \n544                                             Wonder   \n545       Wrecking Ball (Diary of a Wimpy Kid Book 14)   \n547  You Are a Badass: How to Stop Doubting Your Gr...   \n548  You Are a Badass: How to Stop Doubting Your Gr...   \n549  You Are a Badass: How to Stop Doubting Your Gr...   \n\n                       Author  User Rating  Reviews  Price  Year        Genre  \n2          Jordan B. Peterson          4.7    18979     15  2018  Non Fiction  \n3               George Orwell          4.7    21424      6  2017      Fiction  \n4    National Geographic Kids          4.8     7665     12  2019  Non Fiction  \n7                 Amor Towles          4.7    19699     15  2017      Fiction  \n8                 James Comey          4.7     5983      3  2018  Non Fiction  \n..                        ...          ...      ...    ...   ...          ...  \n544             R. J. Palacio          4.8    21625      9  2017      Fiction  \n545               Jeff Kinney          4.9     9413      8  2019      Fiction  \n547               Jen Sincero          4.7    14331      8  2017  Non Fiction  \n548               Jen Sincero          4.7    14331      8  2018  Non Fiction  \n549               Jen Sincero          4.7    14331      8  2019  Non Fiction  \n\n[150 rows x 7 columns]",
      "text/html": "<div>\n<style scoped>\n    .dataframe tbody tr th:only-of-type {\n        vertical-align: middle;\n    }\n\n    .dataframe tbody tr th {\n        vertical-align: top;\n    }\n\n    .dataframe thead th {\n        text-align: right;\n    }\n</style>\n<table border=\"1\" class=\"dataframe\">\n  <thead>\n    <tr style=\"text-align: right;\">\n      <th></th>\n      <th>Name</th>\n      <th>Author</th>\n      <th>User Rating</th>\n      <th>Reviews</th>\n      <th>Price</th>\n      <th>Year</th>\n      <th>Genre</th>\n    </tr>\n  </thead>\n  <tbody>\n    <tr>\n      <th>2</th>\n      <td>12 Rules for Life: An Antidote to Chaos</td>\n      <td>Jordan B. Peterson</td>\n      <td>4.7</td>\n      <td>18979</td>\n      <td>15</td>\n      <td>2018</td>\n      <td>Non Fiction</td>\n    </tr>\n    <tr>\n      <th>3</th>\n      <td>1984 (Signet Classics)</td>\n      <td>George Orwell</td>\n      <td>4.7</td>\n      <td>21424</td>\n      <td>6</td>\n      <td>2017</td>\n      <td>Fiction</td>\n    </tr>\n    <tr>\n      <th>4</th>\n      <td>5,000 Awesome Facts (About Everything!) (Natio...</td>\n      <td>National Geographic Kids</td>\n      <td>4.8</td>\n      <td>7665</td>\n      <td>12</td>\n      <td>2019</td>\n      <td>Non Fiction</td>\n    </tr>\n    <tr>\n      <th>7</th>\n      <td>A Gentleman in Moscow: A Novel</td>\n      <td>Amor Towles</td>\n      <td>4.7</td>\n      <td>19699</td>\n      <td>15</td>\n      <td>2017</td>\n      <td>Fiction</td>\n    </tr>\n    <tr>\n      <th>8</th>\n      <td>A Higher Loyalty: Truth, Lies, and Leadership</td>\n      <td>James Comey</td>\n      <td>4.7</td>\n      <td>5983</td>\n      <td>3</td>\n      <td>2018</td>\n      <td>Non Fiction</td>\n    </tr>\n    <tr>\n      <th>...</th>\n      <td>...</td>\n      <td>...</td>\n      <td>...</td>\n      <td>...</td>\n      <td>...</td>\n      <td>...</td>\n      <td>...</td>\n    </tr>\n    <tr>\n      <th>544</th>\n      <td>Wonder</td>\n      <td>R. J. Palacio</td>\n      <td>4.8</td>\n      <td>21625</td>\n      <td>9</td>\n      <td>2017</td>\n      <td>Fiction</td>\n    </tr>\n    <tr>\n      <th>545</th>\n      <td>Wrecking Ball (Diary of a Wimpy Kid Book 14)</td>\n      <td>Jeff Kinney</td>\n      <td>4.9</td>\n      <td>9413</td>\n      <td>8</td>\n      <td>2019</td>\n      <td>Fiction</td>\n    </tr>\n    <tr>\n      <th>547</th>\n      <td>You Are a Badass: How to Stop Doubting Your Gr...</td>\n      <td>Jen Sincero</td>\n      <td>4.7</td>\n      <td>14331</td>\n      <td>8</td>\n      <td>2017</td>\n      <td>Non Fiction</td>\n    </tr>\n    <tr>\n      <th>548</th>\n      <td>You Are a Badass: How to Stop Doubting Your Gr...</td>\n      <td>Jen Sincero</td>\n      <td>4.7</td>\n      <td>14331</td>\n      <td>8</td>\n      <td>2018</td>\n      <td>Non Fiction</td>\n    </tr>\n    <tr>\n      <th>549</th>\n      <td>You Are a Badass: How to Stop Doubting Your Gr...</td>\n      <td>Jen Sincero</td>\n      <td>4.7</td>\n      <td>14331</td>\n      <td>8</td>\n      <td>2019</td>\n      <td>Non Fiction</td>\n    </tr>\n  </tbody>\n</table>\n<p>150 rows × 7 columns</p>\n</div>"
     },
     "metadata": {}
    }
   ],
   "execution_count": null
  },
  {
   "cell_type": "code",
   "source": "genre_fiction = df_books['Genre'] == 'Fiction'",
   "metadata": {
    "cell_id": "688803bfa67d4a08926ea01ad113d3bb",
    "tags": [],
    "deepnote_to_be_reexecuted": false,
    "source_hash": "6282e946",
    "execution_start": 1658593618502,
    "execution_millis": 0,
    "deepnote_cell_type": "code",
    "deepnote_cell_height": 81
   },
   "outputs": [],
   "execution_count": null
  },
  {
   "cell_type": "code",
   "source": "df_books[genre_fiction & mayor_a_2016]",
   "metadata": {
    "cell_id": "e65308e461bd427da28379752820348c",
    "tags": [],
    "deepnote_to_be_reexecuted": false,
    "source_hash": "1ab1c357",
    "execution_start": 1658593640062,
    "execution_millis": 107,
    "deepnote_cell_type": "code",
    "deepnote_cell_height": 615
   },
   "outputs": [
    {
     "output_type": "execute_result",
     "execution_count": 9,
     "data": {
      "application/vnd.deepnote.dataframe.v3+json": {
       "column_count": 7,
       "row_count": 65,
       "columns": [
        {
         "name": "Name",
         "dtype": "object",
         "stats": {
          "unique_count": 46,
          "nan_count": 0,
          "categories": [
           {
            "name": "Giraffes Can't Dance",
            "count": 3
           },
           {
            "name": "Goodnight Moon",
            "count": 3
           },
           {
            "name": "44 others",
            "count": 59
           }
          ]
         }
        },
        {
         "name": "Author",
         "dtype": "object",
         "stats": {
          "unique_count": 39,
          "nan_count": 0,
          "categories": [
           {
            "name": "Dav Pilkey",
            "count": 7
           },
           {
            "name": "Giles Andreae",
            "count": 3
           },
           {
            "name": "37 others",
            "count": 55
           }
          ]
         }
        },
        {
         "name": "User Rating",
         "dtype": "float64",
         "stats": {
          "unique_count": 6,
          "nan_count": 0,
          "min": "4.3",
          "max": "4.9",
          "histogram": [
           {
            "bin_start": 4.3,
            "bin_end": 4.359999999999999,
            "count": 4
           },
           {
            "bin_start": 4.359999999999999,
            "bin_end": 4.42,
            "count": 0
           },
           {
            "bin_start": 4.42,
            "bin_end": 4.48,
            "count": 0
           },
           {
            "bin_start": 4.48,
            "bin_end": 4.54,
            "count": 5
           },
           {
            "bin_start": 4.54,
            "bin_end": 4.6,
            "count": 0
           },
           {
            "bin_start": 4.6,
            "bin_end": 4.66,
            "count": 5
           },
           {
            "bin_start": 4.66,
            "bin_end": 4.720000000000001,
            "count": 2
           },
           {
            "bin_start": 4.720000000000001,
            "bin_end": 4.78,
            "count": 0
           },
           {
            "bin_start": 4.78,
            "bin_end": 4.84,
            "count": 26
           },
           {
            "bin_start": 4.84,
            "bin_end": 4.9,
            "count": 23
           }
          ]
         }
        },
        {
         "name": "Reviews",
         "dtype": "int64",
         "stats": {
          "unique_count": 46,
          "nan_count": 0,
          "min": "3146",
          "max": "87841",
          "histogram": [
           {
            "bin_start": 3146,
            "bin_end": 11615.5,
            "count": 31
           },
           {
            "bin_start": 11615.5,
            "bin_end": 20085,
            "count": 19
           },
           {
            "bin_start": 20085,
            "bin_end": 28554.5,
            "count": 11
           },
           {
            "bin_start": 28554.5,
            "bin_end": 37024,
            "count": 3
           },
           {
            "bin_start": 37024,
            "bin_end": 45493.5,
            "count": 0
           },
           {
            "bin_start": 45493.5,
            "bin_end": 53963,
            "count": 0
           },
           {
            "bin_start": 53963,
            "bin_end": 62432.5,
            "count": 0
           },
           {
            "bin_start": 62432.5,
            "bin_end": 70902,
            "count": 0
           },
           {
            "bin_start": 70902,
            "bin_end": 79371.5,
            "count": 0
           },
           {
            "bin_start": 79371.5,
            "bin_end": 87841,
            "count": 1
           }
          ]
         }
        },
        {
         "name": "Price",
         "dtype": "int64",
         "stats": {
          "unique_count": 16,
          "nan_count": 0,
          "min": "0",
          "max": "30",
          "histogram": [
           {
            "bin_start": 0,
            "bin_end": 3,
            "count": 1
           },
           {
            "bin_start": 3,
            "bin_end": 6,
            "count": 24
           },
           {
            "bin_start": 6,
            "bin_end": 9,
            "count": 18
           },
           {
            "bin_start": 9,
            "bin_end": 12,
            "count": 6
           },
           {
            "bin_start": 12,
            "bin_end": 15,
            "count": 8
           },
           {
            "bin_start": 15,
            "bin_end": 18,
            "count": 2
           },
           {
            "bin_start": 18,
            "bin_end": 21,
            "count": 2
           },
           {
            "bin_start": 21,
            "bin_end": 24,
            "count": 0
           },
           {
            "bin_start": 24,
            "bin_end": 27,
            "count": 0
           },
           {
            "bin_start": 27,
            "bin_end": 30,
            "count": 4
           }
          ]
         }
        },
        {
         "name": "Year",
         "dtype": "int64",
         "stats": {
          "unique_count": 3,
          "nan_count": 0,
          "min": "2017",
          "max": "2019",
          "histogram": [
           {
            "bin_start": 2017,
            "bin_end": 2017.2,
            "count": 24
           },
           {
            "bin_start": 2017.2,
            "bin_end": 2017.4,
            "count": 0
           },
           {
            "bin_start": 2017.4,
            "bin_end": 2017.6,
            "count": 0
           },
           {
            "bin_start": 2017.6,
            "bin_end": 2017.8,
            "count": 0
           },
           {
            "bin_start": 2017.8,
            "bin_end": 2018,
            "count": 0
           },
           {
            "bin_start": 2018,
            "bin_end": 2018.2,
            "count": 21
           },
           {
            "bin_start": 2018.2,
            "bin_end": 2018.4,
            "count": 0
           },
           {
            "bin_start": 2018.4,
            "bin_end": 2018.6,
            "count": 0
           },
           {
            "bin_start": 2018.6,
            "bin_end": 2018.8,
            "count": 0
           },
           {
            "bin_start": 2018.8,
            "bin_end": 2019,
            "count": 20
           }
          ]
         }
        },
        {
         "name": "Genre",
         "dtype": "object",
         "stats": {
          "unique_count": 1,
          "nan_count": 0,
          "categories": [
           {
            "name": "Fiction",
            "count": 65
           }
          ]
         }
        },
        {
         "name": "_deepnote_index_column",
         "dtype": "int64"
        }
       ],
       "rows": [
        {
         "Name": "1984 (Signet Classics)",
         "Author": "George Orwell",
         "User Rating": 4.7,
         "Reviews": 21424,
         "Price": 6,
         "Year": 2017,
         "Genre": "Fiction",
         "_deepnote_index_column": 3
        },
        {
         "Name": "A Gentleman in Moscow: A Novel",
         "Author": "Amor Towles",
         "User Rating": 4.7,
         "Reviews": 19699,
         "Price": 15,
         "Year": 2017,
         "Genre": "Fiction",
         "_deepnote_index_column": 7
        },
        {
         "Name": "A Man Called Ove: A Novel",
         "Author": "Fredrik Backman",
         "User Rating": 4.6,
         "Reviews": 23848,
         "Price": 8,
         "Year": 2017,
         "Genre": "Fiction",
         "_deepnote_index_column": 10
        },
        {
         "Name": "A Wrinkle in Time (Time Quintet)",
         "Author": "Madeleine L'Engle",
         "User Rating": 4.5,
         "Reviews": 5153,
         "Price": 5,
         "Year": 2018,
         "Genre": "Fiction",
         "_deepnote_index_column": 13
        },
        {
         "Name": "Brown Bear, Brown Bear, What Do You See?",
         "Author": "Bill Martin Jr.",
         "User Rating": 4.9,
         "Reviews": 14344,
         "Price": 5,
         "Year": 2017,
         "Genre": "Fiction",
         "_deepnote_index_column": 40
        },
        {
         "Name": "Brown Bear, Brown Bear, What Do You See?",
         "Author": "Bill Martin Jr.",
         "User Rating": 4.9,
         "Reviews": 14344,
         "Price": 5,
         "Year": 2019,
         "Genre": "Fiction",
         "_deepnote_index_column": 41
        },
        {
         "Name": "Crazy Rich Asians (Crazy Rich Asians Trilogy)",
         "Author": "Kevin Kwan",
         "User Rating": 4.3,
         "Reviews": 6143,
         "Price": 8,
         "Year": 2018,
         "Genre": "Fiction",
         "_deepnote_index_column": 53
        },
        {
         "Name": "Dear Zoo: A Lift-the-Flap Book",
         "Author": "Rod Campbell",
         "User Rating": 4.8,
         "Reviews": 10922,
         "Price": 5,
         "Year": 2017,
         "Genre": "Fiction",
         "_deepnote_index_column": 65
        },
        {
         "Name": "Dear Zoo: A Lift-the-Flap Book",
         "Author": "Rod Campbell",
         "User Rating": 4.8,
         "Reviews": 10922,
         "Price": 5,
         "Year": 2018,
         "Genre": "Fiction",
         "_deepnote_index_column": 66
        },
        {
         "Name": "Dog Man and Cat Kid: From the Creator of Captain Underpants (Dog Man #4)",
         "Author": "Dav Pilkey",
         "User Rating": 4.9,
         "Reviews": 5062,
         "Price": 6,
         "Year": 2018,
         "Genre": "Fiction",
         "_deepnote_index_column": 81
        }
       ]
      },
      "text/plain": "                                                  Name             Author  \\\n3                               1984 (Signet Classics)      George Orwell   \n7                       A Gentleman in Moscow: A Novel        Amor Towles   \n10                           A Man Called Ove: A Novel    Fredrik Backman   \n13                    A Wrinkle in Time (Time Quintet)  Madeleine L'Engle   \n40            Brown Bear, Brown Bear, What Do You See?    Bill Martin Jr.   \n..                                                 ...                ...   \n509                              To Kill a Mockingbird         Harper Lee   \n529  What Should Danny Do? (The Power to Choose Ser...          Adir Levy   \n534                            Where the Crawdads Sing        Delia Owens   \n544                                             Wonder      R. J. Palacio   \n545       Wrecking Ball (Diary of a Wimpy Kid Book 14)        Jeff Kinney   \n\n     User Rating  Reviews  Price  Year    Genre  \n3            4.7    21424      6  2017  Fiction  \n7            4.7    19699     15  2017  Fiction  \n10           4.6    23848      8  2017  Fiction  \n13           4.5     5153      5  2018  Fiction  \n40           4.9    14344      5  2017  Fiction  \n..           ...      ...    ...   ...      ...  \n509          4.8    26234      7  2019  Fiction  \n529          4.8     8170     13  2019  Fiction  \n534          4.8    87841     15  2019  Fiction  \n544          4.8    21625      9  2017  Fiction  \n545          4.9     9413      8  2019  Fiction  \n\n[65 rows x 7 columns]",
      "text/html": "<div>\n<style scoped>\n    .dataframe tbody tr th:only-of-type {\n        vertical-align: middle;\n    }\n\n    .dataframe tbody tr th {\n        vertical-align: top;\n    }\n\n    .dataframe thead th {\n        text-align: right;\n    }\n</style>\n<table border=\"1\" class=\"dataframe\">\n  <thead>\n    <tr style=\"text-align: right;\">\n      <th></th>\n      <th>Name</th>\n      <th>Author</th>\n      <th>User Rating</th>\n      <th>Reviews</th>\n      <th>Price</th>\n      <th>Year</th>\n      <th>Genre</th>\n    </tr>\n  </thead>\n  <tbody>\n    <tr>\n      <th>3</th>\n      <td>1984 (Signet Classics)</td>\n      <td>George Orwell</td>\n      <td>4.7</td>\n      <td>21424</td>\n      <td>6</td>\n      <td>2017</td>\n      <td>Fiction</td>\n    </tr>\n    <tr>\n      <th>7</th>\n      <td>A Gentleman in Moscow: A Novel</td>\n      <td>Amor Towles</td>\n      <td>4.7</td>\n      <td>19699</td>\n      <td>15</td>\n      <td>2017</td>\n      <td>Fiction</td>\n    </tr>\n    <tr>\n      <th>10</th>\n      <td>A Man Called Ove: A Novel</td>\n      <td>Fredrik Backman</td>\n      <td>4.6</td>\n      <td>23848</td>\n      <td>8</td>\n      <td>2017</td>\n      <td>Fiction</td>\n    </tr>\n    <tr>\n      <th>13</th>\n      <td>A Wrinkle in Time (Time Quintet)</td>\n      <td>Madeleine L'Engle</td>\n      <td>4.5</td>\n      <td>5153</td>\n      <td>5</td>\n      <td>2018</td>\n      <td>Fiction</td>\n    </tr>\n    <tr>\n      <th>40</th>\n      <td>Brown Bear, Brown Bear, What Do You See?</td>\n      <td>Bill Martin Jr.</td>\n      <td>4.9</td>\n      <td>14344</td>\n      <td>5</td>\n      <td>2017</td>\n      <td>Fiction</td>\n    </tr>\n    <tr>\n      <th>...</th>\n      <td>...</td>\n      <td>...</td>\n      <td>...</td>\n      <td>...</td>\n      <td>...</td>\n      <td>...</td>\n      <td>...</td>\n    </tr>\n    <tr>\n      <th>509</th>\n      <td>To Kill a Mockingbird</td>\n      <td>Harper Lee</td>\n      <td>4.8</td>\n      <td>26234</td>\n      <td>7</td>\n      <td>2019</td>\n      <td>Fiction</td>\n    </tr>\n    <tr>\n      <th>529</th>\n      <td>What Should Danny Do? (The Power to Choose Ser...</td>\n      <td>Adir Levy</td>\n      <td>4.8</td>\n      <td>8170</td>\n      <td>13</td>\n      <td>2019</td>\n      <td>Fiction</td>\n    </tr>\n    <tr>\n      <th>534</th>\n      <td>Where the Crawdads Sing</td>\n      <td>Delia Owens</td>\n      <td>4.8</td>\n      <td>87841</td>\n      <td>15</td>\n      <td>2019</td>\n      <td>Fiction</td>\n    </tr>\n    <tr>\n      <th>544</th>\n      <td>Wonder</td>\n      <td>R. J. Palacio</td>\n      <td>4.8</td>\n      <td>21625</td>\n      <td>9</td>\n      <td>2017</td>\n      <td>Fiction</td>\n    </tr>\n    <tr>\n      <th>545</th>\n      <td>Wrecking Ball (Diary of a Wimpy Kid Book 14)</td>\n      <td>Jeff Kinney</td>\n      <td>4.9</td>\n      <td>9413</td>\n      <td>8</td>\n      <td>2019</td>\n      <td>Fiction</td>\n    </tr>\n  </tbody>\n</table>\n<p>65 rows × 7 columns</p>\n</div>"
     },
     "metadata": {}
    }
   ],
   "execution_count": null
  },
  {
   "cell_type": "code",
   "source": "df_books[~mayor_a_2016] # con ~ se niega la condición!!",
   "metadata": {
    "cell_id": "31a80610f9d04c678c0d44cfb25ae67e",
    "tags": [],
    "deepnote_to_be_reexecuted": false,
    "source_hash": "957559b6",
    "execution_start": 1658593693489,
    "execution_millis": 144,
    "deepnote_cell_type": "code",
    "deepnote_cell_height": 615
   },
   "outputs": [
    {
     "output_type": "execute_result",
     "execution_count": 10,
     "data": {
      "application/vnd.deepnote.dataframe.v3+json": {
       "column_count": 7,
       "row_count": 400,
       "columns": [
        {
         "name": "Name",
         "dtype": "object",
         "stats": {
          "unique_count": 267,
          "nan_count": 0,
          "categories": [
           {
            "name": "Publication Manual of the American Psychological Association, 6th Edition",
            "count": 8
           },
           {
            "name": "StrengthsFinder 2.0",
            "count": 8
           },
           {
            "name": "265 others",
            "count": 384
           }
          ]
         }
        },
        {
         "name": "Author",
         "dtype": "object",
         "stats": {
          "unique_count": 186,
          "nan_count": 0,
          "categories": [
           {
            "name": "Suzanne Collins",
            "count": 11
           },
           {
            "name": "Rick Riordan",
            "count": 11
           },
           {
            "name": "184 others",
            "count": 378
           }
          ]
         }
        },
        {
         "name": "User Rating",
         "dtype": "float64",
         "stats": {
          "unique_count": 14,
          "nan_count": 0,
          "min": "3.3",
          "max": "4.9",
          "histogram": [
           {
            "bin_start": 3.3,
            "bin_end": 3.46,
            "count": 1
           },
           {
            "bin_start": 3.46,
            "bin_end": 3.62,
            "count": 1
           },
           {
            "bin_start": 3.62,
            "bin_end": 3.7800000000000002,
            "count": 0
           },
           {
            "bin_start": 3.7800000000000002,
            "bin_end": 3.94,
            "count": 5
           },
           {
            "bin_start": 3.94,
            "bin_end": 4.1,
            "count": 13
           },
           {
            "bin_start": 4.1,
            "bin_end": 4.26,
            "count": 13
           },
           {
            "bin_start": 4.26,
            "bin_end": 4.42,
            "count": 47
           },
           {
            "bin_start": 4.42,
            "bin_end": 4.58,
            "count": 48
           },
           {
            "bin_start": 4.58,
            "bin_end": 4.74,
            "count": 166
           },
           {
            "bin_start": 4.74,
            "bin_end": 4.9,
            "count": 106
           }
          ]
         }
        },
        {
         "name": "Reviews",
         "dtype": "int64",
         "stats": {
          "unique_count": 262,
          "nan_count": 0,
          "min": "37",
          "max": "79446",
          "histogram": [
           {
            "bin_start": 37,
            "bin_end": 7977.9,
            "count": 217
           },
           {
            "bin_start": 7977.9,
            "bin_end": 15918.8,
            "count": 88
           },
           {
            "bin_start": 15918.8,
            "bin_end": 23859.699999999997,
            "count": 51
           },
           {
            "bin_start": 23859.699999999997,
            "bin_end": 31800.6,
            "count": 22
           },
           {
            "bin_start": 31800.6,
            "bin_end": 39741.5,
            "count": 9
           },
           {
            "bin_start": 39741.5,
            "bin_end": 47682.399999999994,
            "count": 2
           },
           {
            "bin_start": 47682.399999999994,
            "bin_end": 55623.299999999996,
            "count": 6
           },
           {
            "bin_start": 55623.299999999996,
            "bin_end": 63564.2,
            "count": 3
           },
           {
            "bin_start": 63564.2,
            "bin_end": 71505.09999999999,
            "count": 0
           },
           {
            "bin_start": 71505.09999999999,
            "bin_end": 79446,
            "count": 2
           }
          ]
         }
        },
        {
         "name": "Price",
         "dtype": "int64",
         "stats": {
          "unique_count": 39,
          "nan_count": 0,
          "min": "0",
          "max": "105",
          "histogram": [
           {
            "bin_start": 0,
            "bin_end": 10.5,
            "count": 180
           },
           {
            "bin_start": 10.5,
            "bin_end": 21,
            "count": 163
           },
           {
            "bin_start": 21,
            "bin_end": 31.5,
            "count": 33
           },
           {
            "bin_start": 31.5,
            "bin_end": 42,
            "count": 9
           },
           {
            "bin_start": 42,
            "bin_end": 52.5,
            "count": 10
           },
           {
            "bin_start": 52.5,
            "bin_end": 63,
            "count": 2
           },
           {
            "bin_start": 63,
            "bin_end": 73.5,
            "count": 0
           },
           {
            "bin_start": 73.5,
            "bin_end": 84,
            "count": 1
           },
           {
            "bin_start": 84,
            "bin_end": 94.5,
            "count": 0
           },
           {
            "bin_start": 94.5,
            "bin_end": 105,
            "count": 2
           }
          ]
         }
        },
        {
         "name": "Year",
         "dtype": "int64",
         "stats": {
          "unique_count": 8,
          "nan_count": 0,
          "min": "2009",
          "max": "2016",
          "histogram": [
           {
            "bin_start": 2009,
            "bin_end": 2009.7,
            "count": 50
           },
           {
            "bin_start": 2009.7,
            "bin_end": 2010.4,
            "count": 50
           },
           {
            "bin_start": 2010.4,
            "bin_end": 2011.1,
            "count": 50
           },
           {
            "bin_start": 2011.1,
            "bin_end": 2011.8,
            "count": 0
           },
           {
            "bin_start": 2011.8,
            "bin_end": 2012.5,
            "count": 50
           },
           {
            "bin_start": 2012.5,
            "bin_end": 2013.2,
            "count": 50
           },
           {
            "bin_start": 2013.2,
            "bin_end": 2013.9,
            "count": 0
           },
           {
            "bin_start": 2013.9,
            "bin_end": 2014.6,
            "count": 50
           },
           {
            "bin_start": 2014.6,
            "bin_end": 2015.3,
            "count": 50
           },
           {
            "bin_start": 2015.3,
            "bin_end": 2016,
            "count": 50
           }
          ]
         }
        },
        {
         "name": "Genre",
         "dtype": "object",
         "stats": {
          "unique_count": 2,
          "nan_count": 0,
          "categories": [
           {
            "name": "Non Fiction",
            "count": 225
           },
           {
            "name": "Fiction",
            "count": 175
           }
          ]
         }
        },
        {
         "name": "_deepnote_index_column",
         "dtype": "int64"
        }
       ],
       "rows": [
        {
         "Name": "10-Day Green Smoothie Cleanse",
         "Author": "JJ Smith",
         "User Rating": 4.7,
         "Reviews": 17350,
         "Price": 8,
         "Year": 2016,
         "Genre": "Non Fiction",
         "_deepnote_index_column": 0
        },
        {
         "Name": "11/22/63: A Novel",
         "Author": "Stephen King",
         "User Rating": 4.6,
         "Reviews": 2052,
         "Price": 22,
         "Year": 2011,
         "Genre": "Fiction",
         "_deepnote_index_column": 1
        },
        {
         "Name": "A Dance with Dragons (A Song of Ice and Fire)",
         "Author": "George R. R. Martin",
         "User Rating": 4.4,
         "Reviews": 12643,
         "Price": 11,
         "Year": 2011,
         "Genre": "Fiction",
         "_deepnote_index_column": 5
        },
        {
         "Name": "A Game of Thrones / A Clash of Kings / A Storm of Swords / A Feast of Crows / A Dance with Dragons",
         "Author": "George R. R. Martin",
         "User Rating": 4.7,
         "Reviews": 19735,
         "Price": 30,
         "Year": 2014,
         "Genre": "Fiction",
         "_deepnote_index_column": 6
        },
        {
         "Name": "A Man Called Ove: A Novel",
         "Author": "Fredrik Backman",
         "User Rating": 4.6,
         "Reviews": 23848,
         "Price": 8,
         "Year": 2016,
         "Genre": "Fiction",
         "_deepnote_index_column": 9
        },
        {
         "Name": "A Patriot's History of the United States: From Columbus's Great Discovery to the War on Terror",
         "Author": "Larry Schweikart",
         "User Rating": 4.6,
         "Reviews": 460,
         "Price": 2,
         "Year": 2010,
         "Genre": "Non Fiction",
         "_deepnote_index_column": 11
        },
        {
         "Name": "A Stolen Life: A Memoir",
         "Author": "Jaycee Dugard",
         "User Rating": 4.6,
         "Reviews": 4149,
         "Price": 32,
         "Year": 2011,
         "Genre": "Non Fiction",
         "_deepnote_index_column": 12
        },
        {
         "Name": "Act Like a Lady, Think Like a Man: What Men Really Think About Love, Relationships, Intimacy, and Commitment",
         "Author": "Steve Harvey",
         "User Rating": 4.6,
         "Reviews": 5013,
         "Price": 17,
         "Year": 2009,
         "Genre": "Non Fiction",
         "_deepnote_index_column": 14
        },
        {
         "Name": "Adult Coloring Book Designs: Stress Relief Coloring Book: Garden Designs, Mandalas, Animals, and Paisley Patterns",
         "Author": "Adult Coloring Book Designs",
         "User Rating": 4.5,
         "Reviews": 2313,
         "Price": 4,
         "Year": 2016,
         "Genre": "Non Fiction",
         "_deepnote_index_column": 15
        },
        {
         "Name": "Adult Coloring Book: Stress Relieving Animal Designs",
         "Author": "Blue Star Coloring",
         "User Rating": 4.6,
         "Reviews": 2925,
         "Price": 6,
         "Year": 2015,
         "Genre": "Non Fiction",
         "_deepnote_index_column": 16
        }
       ]
      },
      "text/plain": "                                                  Name               Author  \\\n0                        10-Day Green Smoothie Cleanse             JJ Smith   \n1                                    11/22/63: A Novel         Stephen King   \n5        A Dance with Dragons (A Song of Ice and Fire)  George R. R. Martin   \n6    A Game of Thrones / A Clash of Kings / A Storm...  George R. R. Martin   \n9                            A Man Called Ove: A Novel      Fredrik Backman   \n..                                                 ...                  ...   \n540                                             Wonder        R. J. Palacio   \n541                                             Wonder        R. J. Palacio   \n542                                             Wonder        R. J. Palacio   \n543                                             Wonder        R. J. Palacio   \n546  You Are a Badass: How to Stop Doubting Your Gr...          Jen Sincero   \n\n     User Rating  Reviews  Price  Year        Genre  \n0            4.7    17350      8  2016  Non Fiction  \n1            4.6     2052     22  2011      Fiction  \n5            4.4    12643     11  2011      Fiction  \n6            4.7    19735     30  2014      Fiction  \n9            4.6    23848      8  2016      Fiction  \n..           ...      ...    ...   ...          ...  \n540          4.8    21625      9  2013      Fiction  \n541          4.8    21625      9  2014      Fiction  \n542          4.8    21625      9  2015      Fiction  \n543          4.8    21625      9  2016      Fiction  \n546          4.7    14331      8  2016  Non Fiction  \n\n[400 rows x 7 columns]",
      "text/html": "<div>\n<style scoped>\n    .dataframe tbody tr th:only-of-type {\n        vertical-align: middle;\n    }\n\n    .dataframe tbody tr th {\n        vertical-align: top;\n    }\n\n    .dataframe thead th {\n        text-align: right;\n    }\n</style>\n<table border=\"1\" class=\"dataframe\">\n  <thead>\n    <tr style=\"text-align: right;\">\n      <th></th>\n      <th>Name</th>\n      <th>Author</th>\n      <th>User Rating</th>\n      <th>Reviews</th>\n      <th>Price</th>\n      <th>Year</th>\n      <th>Genre</th>\n    </tr>\n  </thead>\n  <tbody>\n    <tr>\n      <th>0</th>\n      <td>10-Day Green Smoothie Cleanse</td>\n      <td>JJ Smith</td>\n      <td>4.7</td>\n      <td>17350</td>\n      <td>8</td>\n      <td>2016</td>\n      <td>Non Fiction</td>\n    </tr>\n    <tr>\n      <th>1</th>\n      <td>11/22/63: A Novel</td>\n      <td>Stephen King</td>\n      <td>4.6</td>\n      <td>2052</td>\n      <td>22</td>\n      <td>2011</td>\n      <td>Fiction</td>\n    </tr>\n    <tr>\n      <th>5</th>\n      <td>A Dance with Dragons (A Song of Ice and Fire)</td>\n      <td>George R. R. Martin</td>\n      <td>4.4</td>\n      <td>12643</td>\n      <td>11</td>\n      <td>2011</td>\n      <td>Fiction</td>\n    </tr>\n    <tr>\n      <th>6</th>\n      <td>A Game of Thrones / A Clash of Kings / A Storm...</td>\n      <td>George R. R. Martin</td>\n      <td>4.7</td>\n      <td>19735</td>\n      <td>30</td>\n      <td>2014</td>\n      <td>Fiction</td>\n    </tr>\n    <tr>\n      <th>9</th>\n      <td>A Man Called Ove: A Novel</td>\n      <td>Fredrik Backman</td>\n      <td>4.6</td>\n      <td>23848</td>\n      <td>8</td>\n      <td>2016</td>\n      <td>Fiction</td>\n    </tr>\n    <tr>\n      <th>...</th>\n      <td>...</td>\n      <td>...</td>\n      <td>...</td>\n      <td>...</td>\n      <td>...</td>\n      <td>...</td>\n      <td>...</td>\n    </tr>\n    <tr>\n      <th>540</th>\n      <td>Wonder</td>\n      <td>R. J. Palacio</td>\n      <td>4.8</td>\n      <td>21625</td>\n      <td>9</td>\n      <td>2013</td>\n      <td>Fiction</td>\n    </tr>\n    <tr>\n      <th>541</th>\n      <td>Wonder</td>\n      <td>R. J. Palacio</td>\n      <td>4.8</td>\n      <td>21625</td>\n      <td>9</td>\n      <td>2014</td>\n      <td>Fiction</td>\n    </tr>\n    <tr>\n      <th>542</th>\n      <td>Wonder</td>\n      <td>R. J. Palacio</td>\n      <td>4.8</td>\n      <td>21625</td>\n      <td>9</td>\n      <td>2015</td>\n      <td>Fiction</td>\n    </tr>\n    <tr>\n      <th>543</th>\n      <td>Wonder</td>\n      <td>R. J. Palacio</td>\n      <td>4.8</td>\n      <td>21625</td>\n      <td>9</td>\n      <td>2016</td>\n      <td>Fiction</td>\n    </tr>\n    <tr>\n      <th>546</th>\n      <td>You Are a Badass: How to Stop Doubting Your Gr...</td>\n      <td>Jen Sincero</td>\n      <td>4.7</td>\n      <td>14331</td>\n      <td>8</td>\n      <td>2016</td>\n      <td>Non Fiction</td>\n    </tr>\n  </tbody>\n</table>\n<p>400 rows × 7 columns</p>\n</div>"
     },
     "metadata": {}
    }
   ],
   "execution_count": null
  },
  {
   "cell_type": "code",
   "source": "# filtrar por texto\ndf_books[df_books['Author'].str.contains('Palacio')]",
   "metadata": {
    "cell_id": "c931760e645a43f39abc8f9e1b000c25",
    "tags": [],
    "owner_user_id": "1446e09b-adb1-4d03-8824-192d50632f30",
    "deepnote_to_be_reexecuted": false,
    "source_hash": "37ee2fe7",
    "execution_start": 1658593860960,
    "execution_millis": 53,
    "deepnote_cell_type": "code",
    "deepnote_cell_height": 428
   },
   "outputs": [
    {
     "output_type": "execute_result",
     "execution_count": 11,
     "data": {
      "application/vnd.deepnote.dataframe.v3+json": {
       "column_count": 7,
       "row_count": 5,
       "columns": [
        {
         "name": "Name",
         "dtype": "object",
         "stats": {
          "unique_count": 1,
          "nan_count": 0,
          "categories": [
           {
            "name": "Wonder",
            "count": 5
           }
          ]
         }
        },
        {
         "name": "Author",
         "dtype": "object",
         "stats": {
          "unique_count": 1,
          "nan_count": 0,
          "categories": [
           {
            "name": "R. J. Palacio",
            "count": 5
           }
          ]
         }
        },
        {
         "name": "User Rating",
         "dtype": "float64",
         "stats": {
          "unique_count": 1,
          "nan_count": 0,
          "min": "4.8",
          "max": "4.8",
          "histogram": [
           {
            "bin_start": 4.3,
            "bin_end": 4.3999999999999995,
            "count": 0
           },
           {
            "bin_start": 4.3999999999999995,
            "bin_end": 4.5,
            "count": 0
           },
           {
            "bin_start": 4.5,
            "bin_end": 4.6,
            "count": 0
           },
           {
            "bin_start": 4.6,
            "bin_end": 4.7,
            "count": 0
           },
           {
            "bin_start": 4.7,
            "bin_end": 4.8,
            "count": 0
           },
           {
            "bin_start": 4.8,
            "bin_end": 4.9,
            "count": 5
           },
           {
            "bin_start": 4.9,
            "bin_end": 5,
            "count": 0
           },
           {
            "bin_start": 5,
            "bin_end": 5.1,
            "count": 0
           },
           {
            "bin_start": 5.1,
            "bin_end": 5.2,
            "count": 0
           },
           {
            "bin_start": 5.2,
            "bin_end": 5.3,
            "count": 0
           }
          ]
         }
        },
        {
         "name": "Reviews",
         "dtype": "int64",
         "stats": {
          "unique_count": 1,
          "nan_count": 0,
          "min": "21625",
          "max": "21625",
          "histogram": [
           {
            "bin_start": 21624.5,
            "bin_end": 21624.6,
            "count": 0
           },
           {
            "bin_start": 21624.6,
            "bin_end": 21624.7,
            "count": 0
           },
           {
            "bin_start": 21624.7,
            "bin_end": 21624.8,
            "count": 0
           },
           {
            "bin_start": 21624.8,
            "bin_end": 21624.9,
            "count": 0
           },
           {
            "bin_start": 21624.9,
            "bin_end": 21625,
            "count": 0
           },
           {
            "bin_start": 21625,
            "bin_end": 21625.1,
            "count": 5
           },
           {
            "bin_start": 21625.1,
            "bin_end": 21625.2,
            "count": 0
           },
           {
            "bin_start": 21625.2,
            "bin_end": 21625.3,
            "count": 0
           },
           {
            "bin_start": 21625.3,
            "bin_end": 21625.4,
            "count": 0
           },
           {
            "bin_start": 21625.4,
            "bin_end": 21625.5,
            "count": 0
           }
          ]
         }
        },
        {
         "name": "Price",
         "dtype": "int64",
         "stats": {
          "unique_count": 1,
          "nan_count": 0,
          "min": "9",
          "max": "9",
          "histogram": [
           {
            "bin_start": 8.5,
            "bin_end": 8.6,
            "count": 0
           },
           {
            "bin_start": 8.6,
            "bin_end": 8.7,
            "count": 0
           },
           {
            "bin_start": 8.7,
            "bin_end": 8.8,
            "count": 0
           },
           {
            "bin_start": 8.8,
            "bin_end": 8.9,
            "count": 0
           },
           {
            "bin_start": 8.9,
            "bin_end": 9,
            "count": 0
           },
           {
            "bin_start": 9,
            "bin_end": 9.1,
            "count": 5
           },
           {
            "bin_start": 9.1,
            "bin_end": 9.2,
            "count": 0
           },
           {
            "bin_start": 9.2,
            "bin_end": 9.3,
            "count": 0
           },
           {
            "bin_start": 9.3,
            "bin_end": 9.4,
            "count": 0
           },
           {
            "bin_start": 9.4,
            "bin_end": 9.5,
            "count": 0
           }
          ]
         }
        },
        {
         "name": "Year",
         "dtype": "int64",
         "stats": {
          "unique_count": 5,
          "nan_count": 0,
          "min": "2013",
          "max": "2017",
          "histogram": [
           {
            "bin_start": 2013,
            "bin_end": 2013.4,
            "count": 1
           },
           {
            "bin_start": 2013.4,
            "bin_end": 2013.8,
            "count": 0
           },
           {
            "bin_start": 2013.8,
            "bin_end": 2014.2,
            "count": 1
           },
           {
            "bin_start": 2014.2,
            "bin_end": 2014.6,
            "count": 0
           },
           {
            "bin_start": 2014.6,
            "bin_end": 2015,
            "count": 0
           },
           {
            "bin_start": 2015,
            "bin_end": 2015.4,
            "count": 1
           },
           {
            "bin_start": 2015.4,
            "bin_end": 2015.8,
            "count": 0
           },
           {
            "bin_start": 2015.8,
            "bin_end": 2016.2,
            "count": 1
           },
           {
            "bin_start": 2016.2,
            "bin_end": 2016.6,
            "count": 0
           },
           {
            "bin_start": 2016.6,
            "bin_end": 2017,
            "count": 1
           }
          ]
         }
        },
        {
         "name": "Genre",
         "dtype": "object",
         "stats": {
          "unique_count": 1,
          "nan_count": 0,
          "categories": [
           {
            "name": "Fiction",
            "count": 5
           }
          ]
         }
        },
        {
         "name": "_deepnote_index_column",
         "dtype": "int64"
        }
       ],
       "rows": [
        {
         "Name": "Wonder",
         "Author": "R. J. Palacio",
         "User Rating": 4.8,
         "Reviews": 21625,
         "Price": 9,
         "Year": 2013,
         "Genre": "Fiction",
         "_deepnote_index_column": 540
        },
        {
         "Name": "Wonder",
         "Author": "R. J. Palacio",
         "User Rating": 4.8,
         "Reviews": 21625,
         "Price": 9,
         "Year": 2014,
         "Genre": "Fiction",
         "_deepnote_index_column": 541
        },
        {
         "Name": "Wonder",
         "Author": "R. J. Palacio",
         "User Rating": 4.8,
         "Reviews": 21625,
         "Price": 9,
         "Year": 2015,
         "Genre": "Fiction",
         "_deepnote_index_column": 542
        },
        {
         "Name": "Wonder",
         "Author": "R. J. Palacio",
         "User Rating": 4.8,
         "Reviews": 21625,
         "Price": 9,
         "Year": 2016,
         "Genre": "Fiction",
         "_deepnote_index_column": 543
        },
        {
         "Name": "Wonder",
         "Author": "R. J. Palacio",
         "User Rating": 4.8,
         "Reviews": 21625,
         "Price": 9,
         "Year": 2017,
         "Genre": "Fiction",
         "_deepnote_index_column": 544
        }
       ]
      },
      "text/plain": "       Name         Author  User Rating  Reviews  Price  Year    Genre\n540  Wonder  R. J. Palacio          4.8    21625      9  2013  Fiction\n541  Wonder  R. J. Palacio          4.8    21625      9  2014  Fiction\n542  Wonder  R. J. Palacio          4.8    21625      9  2015  Fiction\n543  Wonder  R. J. Palacio          4.8    21625      9  2016  Fiction\n544  Wonder  R. J. Palacio          4.8    21625      9  2017  Fiction",
      "text/html": "<div>\n<style scoped>\n    .dataframe tbody tr th:only-of-type {\n        vertical-align: middle;\n    }\n\n    .dataframe tbody tr th {\n        vertical-align: top;\n    }\n\n    .dataframe thead th {\n        text-align: right;\n    }\n</style>\n<table border=\"1\" class=\"dataframe\">\n  <thead>\n    <tr style=\"text-align: right;\">\n      <th></th>\n      <th>Name</th>\n      <th>Author</th>\n      <th>User Rating</th>\n      <th>Reviews</th>\n      <th>Price</th>\n      <th>Year</th>\n      <th>Genre</th>\n    </tr>\n  </thead>\n  <tbody>\n    <tr>\n      <th>540</th>\n      <td>Wonder</td>\n      <td>R. J. Palacio</td>\n      <td>4.8</td>\n      <td>21625</td>\n      <td>9</td>\n      <td>2013</td>\n      <td>Fiction</td>\n    </tr>\n    <tr>\n      <th>541</th>\n      <td>Wonder</td>\n      <td>R. J. Palacio</td>\n      <td>4.8</td>\n      <td>21625</td>\n      <td>9</td>\n      <td>2014</td>\n      <td>Fiction</td>\n    </tr>\n    <tr>\n      <th>542</th>\n      <td>Wonder</td>\n      <td>R. J. Palacio</td>\n      <td>4.8</td>\n      <td>21625</td>\n      <td>9</td>\n      <td>2015</td>\n      <td>Fiction</td>\n    </tr>\n    <tr>\n      <th>543</th>\n      <td>Wonder</td>\n      <td>R. J. Palacio</td>\n      <td>4.8</td>\n      <td>21625</td>\n      <td>9</td>\n      <td>2016</td>\n      <td>Fiction</td>\n    </tr>\n    <tr>\n      <th>544</th>\n      <td>Wonder</td>\n      <td>R. J. Palacio</td>\n      <td>4.8</td>\n      <td>21625</td>\n      <td>9</td>\n      <td>2017</td>\n      <td>Fiction</td>\n    </tr>\n  </tbody>\n</table>\n</div>"
     },
     "metadata": {}
    }
   ],
   "execution_count": null
  },
  {
   "cell_type": "markdown",
   "source": "<a style='text-decoration:none;line-height:16px;display:flex;color:#5B5B62;padding:10px;justify-content:end;' href='https://deepnote.com?utm_source=created-in-deepnote-cell&projectId=4950ccd9-74b8-4ba2-b588-82894596c11f' target=\"_blank\">\n<img alt='Created in deepnote.com' style='display:inline;max-height:16px;margin:0px;margin-right:7.5px;' src='data:image/svg+xml;base64,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' > </img>\nCreated in <span style='font-weight:600;margin-left:4px;'>Deepnote</span></a>",
   "metadata": {
    "tags": [],
    "created_in_deepnote_cell": true,
    "deepnote_cell_type": "markdown"
   }
  }
 ],
 "nbformat": 4,
 "nbformat_minor": 2,
 "metadata": {
  "orig_nbformat": 2,
  "deepnote": {},
  "deepnote_notebook_id": "f85ca3f0-6b6b-45b7-b201-fed90d4b45d8",
  "deepnote_execution_queue": []
 }
}