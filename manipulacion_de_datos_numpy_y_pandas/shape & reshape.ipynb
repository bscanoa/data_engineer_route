{
 "cells": [
  {
   "cell_type": "code",
   "metadata": {
    "tags": [],
    "cell_id": "56fb144d-55c5-4410-840e-8961d3660af7",
    "deepnote_to_be_reexecuted": false,
    "source_hash": "c2602aa8",
    "execution_start": 1658532552942,
    "execution_millis": 4,
    "deepnote_cell_type": "code"
   },
   "source": "import numpy as np",
   "execution_count": 3,
   "outputs": []
  },
  {
   "cell_type": "code",
   "metadata": {
    "cell_id": "a479de99d4d5493692e47e0ce785756b",
    "tags": [],
    "deepnote_to_be_reexecuted": false,
    "source_hash": "90360e66",
    "execution_start": 1658532563966,
    "execution_millis": 4,
    "deepnote_cell_type": "code"
   },
   "source": "arr = np.random.randint(1, 10, (3, 2))\narr.shape # indica la forma del arreglo",
   "execution_count": 5,
   "outputs": [
    {
     "output_type": "execute_result",
     "execution_count": 5,
     "data": {
      "text/plain": "(3, 2)"
     },
     "metadata": {}
    }
   ]
  },
  {
   "cell_type": "code",
   "metadata": {
    "cell_id": "2b25fe288c024244b1e9ed47644200ab",
    "tags": [],
    "deepnote_to_be_reexecuted": false,
    "source_hash": "7e590b00",
    "execution_start": 1658532665171,
    "execution_millis": 12,
    "deepnote_cell_type": "code"
   },
   "source": "arr",
   "execution_count": 7,
   "outputs": [
    {
     "output_type": "execute_result",
     "execution_count": 7,
     "data": {
      "text/plain": "array([[5, 6],\n       [3, 7],\n       [8, 3]])"
     },
     "metadata": {}
    }
   ]
  },
  {
   "cell_type": "code",
   "metadata": {
    "cell_id": "93bf7cc87d85477084cf4c0d369e9ca4",
    "tags": [],
    "deepnote_to_be_reexecuted": false,
    "source_hash": "caf0a7e2",
    "execution_start": 1658532620810,
    "execution_millis": 5,
    "deepnote_cell_type": "code"
   },
   "source": "arr.reshape(1, 6) # organiza el array de una forma distinta",
   "execution_count": 6,
   "outputs": [
    {
     "output_type": "execute_result",
     "execution_count": 6,
     "data": {
      "text/plain": "array([[5, 6, 3, 7, 8, 3]])"
     },
     "metadata": {}
    }
   ]
  },
  {
   "cell_type": "code",
   "metadata": {
    "cell_id": "64c11e32b76241758e91c19ae87cfe3a",
    "tags": [],
    "deepnote_to_be_reexecuted": false,
    "source_hash": "c5089e88",
    "execution_start": 1658532669624,
    "execution_millis": 616,
    "deepnote_cell_type": "code"
   },
   "source": "arr.reshape(2, 3)",
   "execution_count": 8,
   "outputs": [
    {
     "output_type": "execute_result",
     "execution_count": 8,
     "data": {
      "text/plain": "array([[5, 6, 3],\n       [7, 8, 3]])"
     },
     "metadata": {}
    }
   ]
  },
  {
   "cell_type": "code",
   "metadata": {
    "cell_id": "5db46c7dae2641928484b450bdb38ef3",
    "tags": [],
    "deepnote_to_be_reexecuted": false,
    "source_hash": "27b676b1",
    "execution_start": 1658532694620,
    "execution_millis": 6,
    "deepnote_cell_type": "code"
   },
   "source": "np.reshape(arr, (1, 6))",
   "execution_count": 9,
   "outputs": [
    {
     "output_type": "execute_result",
     "execution_count": 9,
     "data": {
      "text/plain": "array([[5, 6, 3, 7, 8, 3]])"
     },
     "metadata": {}
    }
   ]
  },
  {
   "cell_type": "code",
   "metadata": {
    "cell_id": "4c070e9724e744f6b1feb735ef01c728",
    "tags": [],
    "deepnote_to_be_reexecuted": false,
    "source_hash": "7e590b00",
    "execution_start": 1658532706577,
    "execution_millis": 6,
    "deepnote_cell_type": "code"
   },
   "source": "arr",
   "execution_count": 10,
   "outputs": [
    {
     "output_type": "execute_result",
     "execution_count": 10,
     "data": {
      "text/plain": "array([[5, 6],\n       [3, 7],\n       [8, 3]])"
     },
     "metadata": {}
    }
   ]
  },
  {
   "cell_type": "code",
   "metadata": {
    "cell_id": "4c814bff084e4cfcbdf8ae95c87df071",
    "tags": [],
    "deepnote_to_be_reexecuted": false,
    "source_hash": "e024ecc2",
    "execution_start": 1658532732055,
    "execution_millis": 7,
    "deepnote_cell_type": "code"
   },
   "source": "# para lenguaje C\nnp.reshape(arr, (2, 3), 'C')",
   "execution_count": 11,
   "outputs": [
    {
     "output_type": "execute_result",
     "execution_count": 11,
     "data": {
      "text/plain": "array([[5, 6, 3],\n       [7, 8, 3]])"
     },
     "metadata": {}
    }
   ]
  },
  {
   "cell_type": "code",
   "metadata": {
    "cell_id": "4fca8daffecd4ccfa6566d28514d3ee3",
    "tags": [],
    "deepnote_to_be_reexecuted": false,
    "source_hash": "6428294c",
    "execution_start": 1658532750241,
    "execution_millis": 1,
    "deepnote_cell_type": "code"
   },
   "source": "# para lenguaje Fortran\nnp.reshape(arr, (2, 3), 'F')",
   "execution_count": 12,
   "outputs": [
    {
     "output_type": "execute_result",
     "execution_count": 12,
     "data": {
      "text/plain": "array([[5, 8, 7],\n       [3, 6, 3]])"
     },
     "metadata": {}
    }
   ]
  },
  {
   "cell_type": "code",
   "metadata": {
    "cell_id": "c1a299790085440c9391d0b473507ed6",
    "tags": [],
    "deepnote_to_be_reexecuted": false,
    "source_hash": "147a7096",
    "execution_start": 1658532827595,
    "execution_millis": 9,
    "deepnote_cell_type": "code"
   },
   "source": "# como mejor este optimizado el almacenamiento en el sistema\nnp.reshape(arr, (2, 3), 'A')",
   "execution_count": 13,
   "outputs": [
    {
     "output_type": "execute_result",
     "execution_count": 13,
     "data": {
      "text/plain": "array([[5, 6, 3],\n       [7, 8, 3]])"
     },
     "metadata": {}
    }
   ]
  },
  {
   "cell_type": "markdown",
   "source": "## Reto\n1. Crear un tensor de cualquier dimensión.\n2. Jugar con los valores, haciendo reshape\n3. Probar con valores fuera del rango",
   "metadata": {
    "cell_id": "e60857cf8d484492a6d4267f320e9620",
    "tags": [],
    "deepnote_cell_type": "markdown"
   }
  },
  {
   "cell_type": "code",
   "metadata": {
    "cell_id": "17251765a45741afa9a4ecc7b2e03bcb",
    "tags": [],
    "deepnote_to_be_reexecuted": false,
    "source_hash": "4a6a431e",
    "execution_start": 1658533100978,
    "execution_millis": 3,
    "deepnote_cell_type": "code"
   },
   "source": "matriz_tred_dim = np.random.randint(1, 2, (3, 2, 4))\nmatriz_tred_dim",
   "execution_count": 18,
   "outputs": [
    {
     "output_type": "execute_result",
     "execution_count": 18,
     "data": {
      "text/plain": "array([[[1, 1, 1, 1],\n        [1, 1, 1, 1]],\n\n       [[1, 1, 1, 1],\n        [1, 1, 1, 1]],\n\n       [[1, 1, 1, 1],\n        [1, 1, 1, 1]]])"
     },
     "metadata": {}
    }
   ]
  },
  {
   "cell_type": "code",
   "metadata": {
    "cell_id": "d20f0bca7af2459185e13064588b6593",
    "tags": [],
    "deepnote_to_be_reexecuted": false,
    "source_hash": "5d5662aa",
    "execution_start": 1658533113547,
    "execution_millis": 6,
    "deepnote_cell_type": "code",
    "deepnote_cell_height": 118.4375
   },
   "source": "matriz_tred_dim.shape",
   "execution_count": 19,
   "outputs": [
    {
     "output_type": "execute_result",
     "execution_count": 19,
     "data": {
      "text/plain": "(3, 2, 4)"
     },
     "metadata": {}
    }
   ]
  },
  {
   "cell_type": "code",
   "metadata": {
    "cell_id": "d573ff4d73f4454fabbf94acb19c9776",
    "tags": [],
    "deepnote_to_be_reexecuted": false,
    "source_hash": "883e7fb2",
    "execution_start": 1658533214329,
    "execution_millis": 3,
    "deepnote_cell_type": "code"
   },
   "source": "matriz_tred_dim.reshape(24, 1, 1)\nmatriz_tred_dim.reshape(2, 3, 4)",
   "execution_count": 23,
   "outputs": [
    {
     "output_type": "execute_result",
     "execution_count": 23,
     "data": {
      "text/plain": "array([[[1, 1, 1, 1],\n        [1, 1, 1, 1],\n        [1, 1, 1, 1]],\n\n       [[1, 1, 1, 1],\n        [1, 1, 1, 1],\n        [1, 1, 1, 1]]])"
     },
     "metadata": {}
    }
   ]
  },
  {
   "cell_type": "code",
   "metadata": {
    "cell_id": "a5ce3ff4a4f94e73934cbac2f6f8c5dc",
    "tags": [],
    "deepnote_to_be_reexecuted": false,
    "source_hash": "cfa29917",
    "execution_start": 1658533257971,
    "execution_millis": 4,
    "deepnote_cell_type": "code"
   },
   "source": "matriz_tred_dim.reshape(4, 6)",
   "execution_count": 26,
   "outputs": [
    {
     "output_type": "execute_result",
     "execution_count": 26,
     "data": {
      "text/plain": "array([[1, 1, 1, 1, 1, 1],\n       [1, 1, 1, 1, 1, 1],\n       [1, 1, 1, 1, 1, 1],\n       [1, 1, 1, 1, 1, 1]])"
     },
     "metadata": {}
    }
   ]
  },
  {
   "cell_type": "code",
   "metadata": {
    "cell_id": "bb7dae905d0b4ccb8058ec0add033ecf",
    "tags": [],
    "deepnote_to_be_reexecuted": false,
    "source_hash": "b606dd7c",
    "execution_start": 1658533286808,
    "execution_millis": 3,
    "deepnote_cell_type": "code",
    "deepnote_cell_height": 137.59375
   },
   "source": "matriz_tred_dim.reshape(1, 24)",
   "execution_count": 29,
   "outputs": [
    {
     "output_type": "execute_result",
     "execution_count": 29,
     "data": {
      "text/plain": "array([[1, 1, 1, 1, 1, 1, 1, 1, 1, 1, 1, 1, 1, 1, 1, 1, 1, 1, 1, 1, 1, 1,\n        1, 1]])"
     },
     "metadata": {}
    }
   ]
  },
  {
   "cell_type": "code",
   "metadata": {
    "cell_id": "3a92db34ab0a42c18e72342284f5c32d",
    "tags": [],
    "deepnote_to_be_reexecuted": false,
    "source_hash": "e442146f",
    "execution_start": 1658533338129,
    "execution_millis": 6,
    "deepnote_cell_type": "code"
   },
   "source": "matriz_tred_dim.reshape(6, 1, 4)",
   "execution_count": 33,
   "outputs": [
    {
     "output_type": "execute_result",
     "execution_count": 33,
     "data": {
      "text/plain": "array([[[1, 1, 1, 1]],\n\n       [[1, 1, 1, 1]],\n\n       [[1, 1, 1, 1]],\n\n       [[1, 1, 1, 1]],\n\n       [[1, 1, 1, 1]],\n\n       [[1, 1, 1, 1]]])"
     },
     "metadata": {}
    }
   ]
  },
  {
   "cell_type": "code",
   "metadata": {
    "cell_id": "8947b799b3274aff80e81519e19676e9",
    "tags": [],
    "deepnote_to_be_reexecuted": false,
    "source_hash": "e59db3d9",
    "execution_start": 1658533444822,
    "execution_millis": 756,
    "deepnote_cell_type": "code"
   },
   "source": "matriz_tred_dim.reshape(6, -1) # -1 se usa para que calcule numpy el valor faltante",
   "execution_count": 42,
   "outputs": [
    {
     "output_type": "execute_result",
     "execution_count": 42,
     "data": {
      "text/plain": "array([[1, 1, 1, 1],\n       [1, 1, 1, 1],\n       [1, 1, 1, 1],\n       [1, 1, 1, 1],\n       [1, 1, 1, 1],\n       [1, 1, 1, 1]])"
     },
     "metadata": {}
    }
   ]
  },
  {
   "cell_type": "code",
   "metadata": {
    "cell_id": "d85684733c0d444bbae6e2b36b8e6958",
    "tags": [],
    "owner_user_id": "1446e09b-adb1-4d03-8824-192d50632f30",
    "deepnote_to_be_reexecuted": false,
    "source_hash": "d7dc996c",
    "execution_start": 1658533474683,
    "execution_millis": 2,
    "deepnote_cell_type": "code"
   },
   "source": "matriz_tred_dim.reshape(6, 1, -1)",
   "execution_count": 43,
   "outputs": [
    {
     "output_type": "execute_result",
     "execution_count": 43,
     "data": {
      "text/plain": "array([[[1, 1, 1, 1]],\n\n       [[1, 1, 1, 1]],\n\n       [[1, 1, 1, 1]],\n\n       [[1, 1, 1, 1]],\n\n       [[1, 1, 1, 1]],\n\n       [[1, 1, 1, 1]]])"
     },
     "metadata": {}
    }
   ]
  },
  {
   "cell_type": "markdown",
   "source": "<a style='text-decoration:none;line-height:16px;display:flex;color:#5B5B62;padding:10px;justify-content:end;' href='https://deepnote.com?utm_source=created-in-deepnote-cell&projectId=4950ccd9-74b8-4ba2-b588-82894596c11f' target=\"_blank\">\n<img alt='Created in deepnote.com' style='display:inline;max-height:16px;margin:0px;margin-right:7.5px;' src='data:image/svg+xml;base64,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' > </img>\nCreated in <span style='font-weight:600;margin-left:4px;'>Deepnote</span></a>",
   "metadata": {
    "tags": [],
    "created_in_deepnote_cell": true,
    "deepnote_cell_type": "markdown"
   }
  }
 ],
 "nbformat": 4,
 "nbformat_minor": 2,
 "metadata": {
  "orig_nbformat": 2,
  "deepnote": {},
  "deepnote_notebook_id": "612ce9a0-5bd4-4074-af1f-80cb611bea01",
  "deepnote_execution_queue": []
 }
}