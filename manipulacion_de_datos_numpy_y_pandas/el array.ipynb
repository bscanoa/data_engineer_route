{
 "cells": [
  {
   "cell_type": "code",
   "metadata": {
    "tags": [],
    "cell_id": "dddf893b-9ae4-48ec-9815-d5db11a4fe6e",
    "deepnote_to_be_reexecuted": false,
    "source_hash": "b7dcc9c8",
    "execution_start": 1658511711154,
    "execution_millis": 1,
    "deepnote_cell_type": "code",
    "deepnote_cell_height": 81
   },
   "source": "import numpy as np",
   "execution_count": null,
   "outputs": []
  },
  {
   "cell_type": "code",
   "metadata": {
    "cell_id": "b6b414d383934af2bd1cfdf03efe588d",
    "tags": [],
    "deepnote_to_be_reexecuted": false,
    "source_hash": "c080d0dd",
    "execution_start": 1658511903074,
    "execution_millis": 717,
    "deepnote_cell_type": "code",
    "deepnote_cell_height": 136.1875
   },
   "source": "lista = [1, 2, 3, 4, 5, 6, 7, 8, 9]\nlista",
   "execution_count": null,
   "outputs": [
    {
     "output_type": "execute_result",
     "execution_count": 4,
     "data": {
      "text/plain": "[1, 2, 3, 4, 5, 6, 7, 8, 9]"
     },
     "metadata": {}
    }
   ]
  },
  {
   "cell_type": "code",
   "metadata": {
    "cell_id": "e4c5d399b0a445a1814b217c4fc41322",
    "tags": [],
    "deepnote_to_be_reexecuted": false,
    "source_hash": "4545277e",
    "execution_start": 1658511920509,
    "execution_millis": 2,
    "deepnote_cell_type": "code",
    "deepnote_cell_height": 81
   },
   "source": "arr = np.array(lista)",
   "execution_count": null,
   "outputs": []
  },
  {
   "cell_type": "code",
   "metadata": {
    "cell_id": "cc3bf19ec2a94a609f2308c4f3514d29",
    "tags": [],
    "deepnote_to_be_reexecuted": false,
    "source_hash": "7a97055f",
    "execution_start": 1658511936453,
    "execution_millis": 38,
    "deepnote_cell_type": "code",
    "deepnote_cell_height": 118.1875
   },
   "source": "type(arr)",
   "execution_count": null,
   "outputs": [
    {
     "output_type": "execute_result",
     "execution_count": 6,
     "data": {
      "text/plain": "numpy.ndarray"
     },
     "metadata": {}
    }
   ]
  },
  {
   "cell_type": "code",
   "metadata": {
    "cell_id": "a5136b072b554824a4fa1cf3f7c87866",
    "tags": [],
    "deepnote_to_be_reexecuted": false,
    "source_hash": "7ef2b939",
    "execution_start": 1658511993533,
    "execution_millis": 9,
    "deepnote_cell_type": "code",
    "deepnote_cell_height": 228.5625
   },
   "source": "# Declarar un array de dos dimensiones\nmatriz = [[1, 2, 3], [4, 5, 6], [7, 8, 9]]\nmatriz = np.array(matriz)\nmatriz\n",
   "execution_count": null,
   "outputs": [
    {
     "output_type": "execute_result",
     "execution_count": 8,
     "data": {
      "text/plain": "array([[1, 2, 3],\n       [4, 5, 6],\n       [7, 8, 9]])"
     },
     "metadata": {}
    }
   ]
  },
  {
   "cell_type": "code",
   "metadata": {
    "cell_id": "a3e2d65513bc4ff88e73a71d1ceaad4b",
    "tags": [],
    "deepnote_to_be_reexecuted": false,
    "source_hash": "7e590b00",
    "execution_start": 1658512027774,
    "execution_millis": 5,
    "deepnote_cell_type": "code",
    "deepnote_cell_height": 118.1875
   },
   "source": "arr",
   "execution_count": null,
   "outputs": [
    {
     "output_type": "execute_result",
     "execution_count": 9,
     "data": {
      "text/plain": "array([1, 2, 3, 4, 5, 6, 7, 8, 9])"
     },
     "metadata": {}
    }
   ]
  },
  {
   "cell_type": "code",
   "metadata": {
    "cell_id": "957894e4c4784085930275c9c3c419b0",
    "tags": [],
    "deepnote_to_be_reexecuted": false,
    "source_hash": "d5fd213f",
    "execution_start": 1658512087460,
    "execution_millis": 20,
    "deepnote_cell_type": "code",
    "deepnote_cell_height": 172.1875
   },
   "source": "# Acceder a los elementos mediante index\n# Se inicia desde cero\n\narr[1]",
   "execution_count": null,
   "outputs": [
    {
     "output_type": "execute_result",
     "execution_count": 11,
     "data": {
      "text/plain": "7"
     },
     "metadata": {}
    }
   ]
  },
  {
   "cell_type": "code",
   "metadata": {
    "cell_id": "c8d9c548cb13424abda737ae8dadd230",
    "tags": [],
    "deepnote_to_be_reexecuted": false,
    "source_hash": "44af87f0",
    "execution_start": 1658512106636,
    "execution_millis": 6,
    "deepnote_cell_type": "code",
    "deepnote_cell_height": 118.1875
   },
   "source": "arr[0] + arr[5]",
   "execution_count": null,
   "outputs": [
    {
     "output_type": "execute_result",
     "execution_count": 12,
     "data": {
      "text/plain": "7"
     },
     "metadata": {}
    }
   ]
  },
  {
   "cell_type": "code",
   "metadata": {
    "cell_id": "8c7f60e33acd440ba4f420e42aa4f9e8",
    "tags": [],
    "deepnote_to_be_reexecuted": false,
    "source_hash": "d0225424",
    "execution_start": 1658512124949,
    "execution_millis": 4,
    "deepnote_cell_type": "code",
    "deepnote_cell_height": 156.5625
   },
   "source": "matriz",
   "execution_count": null,
   "outputs": [
    {
     "output_type": "execute_result",
     "execution_count": 13,
     "data": {
      "text/plain": "array([[1, 2, 3],\n       [4, 5, 6],\n       [7, 8, 9]])"
     },
     "metadata": {}
    }
   ]
  },
  {
   "cell_type": "code",
   "metadata": {
    "cell_id": "1ee5b31256d145ee97e43301c1ecb36e",
    "tags": [],
    "deepnote_to_be_reexecuted": false,
    "source_hash": "86b7e58f",
    "execution_start": 1658512177121,
    "execution_millis": 395,
    "deepnote_cell_type": "code",
    "deepnote_cell_height": 118.1875
   },
   "source": "matriz[0, 2]",
   "execution_count": null,
   "outputs": [
    {
     "output_type": "execute_result",
     "execution_count": 17,
     "data": {
      "text/plain": "3"
     },
     "metadata": {}
    }
   ]
  },
  {
   "cell_type": "code",
   "metadata": {
    "cell_id": "e36d82789b7540ec8aa603ea294da477",
    "tags": [],
    "deepnote_to_be_reexecuted": false,
    "source_hash": "7e590b00",
    "execution_start": 1658512200284,
    "execution_millis": 8,
    "deepnote_cell_type": "code",
    "deepnote_cell_height": 118.1875
   },
   "source": "arr",
   "execution_count": null,
   "outputs": [
    {
     "output_type": "execute_result",
     "execution_count": 18,
     "data": {
      "text/plain": "array([1, 2, 3, 4, 5, 6, 7, 8, 9])"
     },
     "metadata": {}
    }
   ]
  },
  {
   "cell_type": "code",
   "metadata": {
    "cell_id": "369af77adf224b5b9cb86ef560eec0d7",
    "tags": [],
    "deepnote_to_be_reexecuted": false,
    "source_hash": "126742a0",
    "execution_start": 1658512336122,
    "execution_millis": 5,
    "deepnote_cell_type": "code",
    "deepnote_cell_height": 118.1875
   },
   "source": "arr[1:6] # slices, no toma en cuenta el limite",
   "execution_count": null,
   "outputs": [
    {
     "output_type": "execute_result",
     "execution_count": 23,
     "data": {
      "text/plain": "array([3, 4, 5, 6, 7, 8, 9])"
     },
     "metadata": {}
    }
   ]
  },
  {
   "cell_type": "code",
   "metadata": {
    "cell_id": "61954fb5109c4e2f8df57aa85e113a97",
    "tags": [],
    "deepnote_to_be_reexecuted": false,
    "source_hash": "cfe52b61",
    "execution_start": 1658512346185,
    "execution_millis": 188,
    "deepnote_cell_type": "code",
    "deepnote_cell_height": 118.1875
   },
   "source": "arr[2:]",
   "execution_count": null,
   "outputs": [
    {
     "output_type": "execute_result",
     "execution_count": 24,
     "data": {
      "text/plain": "array([3, 4, 5, 6, 7, 8, 9])"
     },
     "metadata": {}
    }
   ]
  },
  {
   "cell_type": "code",
   "metadata": {
    "cell_id": "8164b0cf8695405f9785da3343c46173",
    "tags": [],
    "deepnote_to_be_reexecuted": false,
    "source_hash": "fcd00caf",
    "execution_start": 1658512360770,
    "execution_millis": 4,
    "deepnote_cell_type": "code",
    "deepnote_cell_height": 118.1875
   },
   "source": "arr[::3]",
   "execution_count": null,
   "outputs": [
    {
     "output_type": "execute_result",
     "execution_count": 26,
     "data": {
      "text/plain": "array([1, 4, 7])"
     },
     "metadata": {}
    }
   ]
  },
  {
   "cell_type": "code",
   "metadata": {
    "cell_id": "c50aabee86014114b5d844eebca1b896",
    "tags": [],
    "deepnote_to_be_reexecuted": false,
    "source_hash": "1401dc8b",
    "execution_start": 1658512457358,
    "execution_millis": 304,
    "deepnote_cell_type": "code",
    "deepnote_cell_height": 118.1875
   },
   "source": "arr[-3::]",
   "execution_count": null,
   "outputs": [
    {
     "output_type": "execute_result",
     "execution_count": 33,
     "data": {
      "text/plain": "array([7, 8, 9])"
     },
     "metadata": {}
    }
   ]
  },
  {
   "cell_type": "code",
   "metadata": {
    "cell_id": "56cdce9c32b24eab83e34081d53b458a",
    "tags": [],
    "deepnote_to_be_reexecuted": false,
    "source_hash": "d0225424",
    "execution_start": 1658512472340,
    "execution_millis": 3,
    "deepnote_cell_type": "code",
    "deepnote_cell_height": 156.5625
   },
   "source": "matriz",
   "execution_count": null,
   "outputs": [
    {
     "output_type": "execute_result",
     "execution_count": 34,
     "data": {
      "text/plain": "array([[1, 2, 3],\n       [4, 5, 6],\n       [7, 8, 9]])"
     },
     "metadata": {}
    }
   ]
  },
  {
   "cell_type": "code",
   "metadata": {
    "cell_id": "447d529bc68643dda096579dfc32eb35",
    "tags": [],
    "deepnote_to_be_reexecuted": false,
    "source_hash": "fad57543",
    "execution_start": 1658512511571,
    "execution_millis": 354,
    "deepnote_cell_type": "code",
    "deepnote_cell_height": 155.375
   },
   "source": "# matriz[filas, columnas] \nmatriz[1:, 0:2]",
   "execution_count": null,
   "outputs": [
    {
     "output_type": "execute_result",
     "execution_count": 36,
     "data": {
      "text/plain": "array([[4, 5],\n       [7, 8]])"
     },
     "metadata": {}
    }
   ]
  },
  {
   "cell_type": "code",
   "metadata": {
    "cell_id": "b863a97e3a0349349285d0f3466f40e4",
    "tags": [],
    "deepnote_to_be_reexecuted": false,
    "source_hash": "e8f1cef7",
    "execution_start": 1658513441010,
    "execution_millis": 3,
    "deepnote_cell_type": "code",
    "deepnote_cell_height": 328.0625,
    "deepnote_output_heights": [
     213.0625
    ]
   },
   "source": "m3D=np.array([[[5,4,4],[6,1,9],[7,8,2]], [[4,7,1],[8,3,0],[0,0,1]], [[6,0,1],[4,3,6],[9,9,1]]])\nm3D",
   "execution_count": null,
   "outputs": [
    {
     "output_type": "execute_result",
     "execution_count": 49,
     "data": {
      "text/plain": "array([[[5, 4, 4],\n        [6, 1, 9],\n        [7, 8, 2]],\n\n       [[4, 7, 1],\n        [8, 3, 0],\n        [0, 0, 1]],\n\n       [[6, 0, 1],\n        [4, 3, 6],\n        [9, 9, 1]]])"
     },
     "metadata": {}
    }
   ]
  },
  {
   "cell_type": "code",
   "metadata": {
    "cell_id": "4c416578e7b6428194344f81ca764ad6",
    "tags": [],
    "deepnote_to_be_reexecuted": false,
    "source_hash": "bb9946fa",
    "execution_start": 1658513588202,
    "execution_millis": 2,
    "owner_user_id": "1446e09b-adb1-4d03-8824-192d50632f30",
    "deepnote_cell_type": "code",
    "deepnote_cell_height": 328.0625,
    "deepnote_output_heights": [
     213.0625
    ]
   },
   "source": "matriz = np.random.randint(90, 100, size = (3, 3, 3))\nmatriz",
   "execution_count": null,
   "outputs": [
    {
     "output_type": "execute_result",
     "execution_count": 51,
     "data": {
      "text/plain": "array([[[91, 92, 90],\n        [99, 93, 97],\n        [99, 94, 92]],\n\n       [[94, 92, 91],\n        [96, 90, 90],\n        [99, 95, 99]],\n\n       [[94, 90, 90],\n        [99, 90, 98],\n        [92, 92, 94]]])"
     },
     "metadata": {}
    }
   ]
  },
  {
   "cell_type": "code",
   "metadata": {
    "cell_id": "e269161e3703457ba21f5557e3454cfb",
    "tags": [],
    "deepnote_to_be_reexecuted": false,
    "source_hash": "82393b1d",
    "execution_start": 1658513266313,
    "execution_millis": 4,
    "deepnote_cell_type": "code",
    "deepnote_cell_height": 701
   },
   "source": "print(np.random.randint.__doc__)",
   "execution_count": null,
   "outputs": [
    {
     "name": "stdout",
     "text": "\n        randint(low, high=None, size=None, dtype=int)\n\n        Return random integers from `low` (inclusive) to `high` (exclusive).\n\n        Return random integers from the \"discrete uniform\" distribution of\n        the specified dtype in the \"half-open\" interval [`low`, `high`). If\n        `high` is None (the default), then results are from [0, `low`).\n\n        .. note::\n            New code should use the ``integers`` method of a ``default_rng()``\n            instance instead; please see the :ref:`random-quick-start`.\n\n        Parameters\n        ----------\n        low : int or array-like of ints\n            Lowest (signed) integers to be drawn from the distribution (unless\n            ``high=None``, in which case this parameter is one above the\n            *highest* such integer).\n        high : int or array-like of ints, optional\n            If provided, one above the largest (signed) integer to be drawn\n            from the distribution (see above for behavior if ``high=None``).\n            If array-like, must contain integer values\n        size : int or tuple of ints, optional\n            Output shape.  If the given shape is, e.g., ``(m, n, k)``, then\n            ``m * n * k`` samples are drawn.  Default is None, in which case a\n            single value is returned.\n        dtype : dtype, optional\n            Desired dtype of the result. Byteorder must be native.\n            The default value is int.\n\n            .. versionadded:: 1.11.0\n\n        Returns\n        -------\n        out : int or ndarray of ints\n            `size`-shaped array of random integers from the appropriate\n            distribution, or a single such random int if `size` not provided.\n\n        See Also\n        --------\n        random_integers : similar to `randint`, only for the closed\n            interval [`low`, `high`], and 1 is the lowest value if `high` is\n            omitted.\n        Generator.integers: which should be used for new code.\n\n        Examples\n        --------\n        >>> np.random.randint(2, size=10)\n        array([1, 0, 0, 0, 1, 1, 0, 0, 1, 0]) # random\n        >>> np.random.randint(1, size=10)\n        array([0, 0, 0, 0, 0, 0, 0, 0, 0, 0])\n\n        Generate a 2 x 4 array of ints between 0 and 4, inclusive:\n\n        >>> np.random.randint(5, size=(2, 4))\n        array([[4, 0, 2, 1], # random\n               [3, 2, 2, 0]])\n\n        Generate a 1 x 3 array with 3 different upper bounds\n\n        >>> np.random.randint(1, [3, 5, 10])\n        array([2, 2, 9]) # random\n\n        Generate a 1 by 3 array with 3 different lower bounds\n\n        >>> np.random.randint([1, 5, 7], 10)\n        array([9, 8, 7]) # random\n\n        Generate a 2 by 4 array using broadcasting with dtype of uint8\n\n        >>> np.random.randint([1, 3, 5, 7], [[10], [20]], dtype=np.uint8)\n        array([[ 8,  6,  9,  7], # random\n               [ 1, 16,  9, 12]], dtype=uint8)\n        \n",
     "output_type": "stream"
    }
   ]
  },
  {
   "cell_type": "code",
   "metadata": {
    "cell_id": "57678770fac0475c8887352625c0f572",
    "tags": [],
    "deepnote_to_be_reexecuted": false,
    "source_hash": "2e5ea41c",
    "execution_start": 1658512816800,
    "execution_millis": 81,
    "deepnote_cell_type": "code",
    "deepnote_cell_height": 118.1875
   },
   "source": "matriz[0, 2, 1]",
   "execution_count": null,
   "outputs": [
    {
     "output_type": "execute_result",
     "execution_count": 42,
     "data": {
      "text/plain": "90"
     },
     "metadata": {}
    }
   ]
  },
  {
   "cell_type": "markdown",
   "source": "<a style='text-decoration:none;line-height:16px;display:flex;color:#5B5B62;padding:10px;justify-content:end;' href='https://deepnote.com?utm_source=created-in-deepnote-cell&projectId=4950ccd9-74b8-4ba2-b588-82894596c11f' target=\"_blank\">\n<img alt='Created in deepnote.com' style='display:inline;max-height:16px;margin:0px;margin-right:7.5px;' src='data:image/svg+xml;base64,PD94bWwgdmVyc2lvbj0iMS4wIiBlbmNvZGluZz0iVVRGLTgiPz4KPHN2ZyB3aWR0aD0iODBweCIgaGVpZ2h0PSI4MHB4IiB2aWV3Qm94PSIwIDAgODAgODAiIHZlcnNpb249IjEuMSIgeG1sbnM9Imh0dHA6Ly93d3cudzMub3JnLzIwMDAvc3ZnIiB4bWxuczp4bGluaz0iaHR0cDovL3d3dy53My5vcmcvMTk5OS94bGluayI+CiAgICA8IS0tIEdlbmVyYXRvcjogU2tldGNoIDU0LjEgKDc2NDkwKSAtIGh0dHBzOi8vc2tldGNoYXBwLmNvbSAtLT4KICAgIDx0aXRsZT5Hcm91cCAzPC90aXRsZT4KICAgIDxkZXNjPkNyZWF0ZWQgd2l0aCBTa2V0Y2guPC9kZXNjPgogICAgPGcgaWQ9IkxhbmRpbmciIHN0cm9rZT0ibm9uZSIgc3Ryb2tlLXdpZHRoPSIxIiBmaWxsPSJub25lIiBmaWxsLXJ1bGU9ImV2ZW5vZGQiPgogICAgICAgIDxnIGlkPSJBcnRib2FyZCIgdHJhbnNmb3JtPSJ0cmFuc2xhdGUoLTEyMzUuMDAwMDAwLCAtNzkuMDAwMDAwKSI+CiAgICAgICAgICAgIDxnIGlkPSJHcm91cC0zIiB0cmFuc2Zvcm09InRyYW5zbGF0ZSgxMjM1LjAwMDAwMCwgNzkuMDAwMDAwKSI+CiAgICAgICAgICAgICAgICA8cG9seWdvbiBpZD0iUGF0aC0yMCIgZmlsbD0iIzAyNjVCNCIgcG9pbnRzPSIyLjM3NjIzNzYyIDgwIDM4LjA0NzY2NjcgODAgNTcuODIxNzgyMiA3My44MDU3NTkyIDU3LjgyMTc4MjIgMzIuNzU5MjczOSAzOS4xNDAyMjc4IDMxLjY4MzE2ODMiPjwvcG9seWdvbj4KICAgICAgICAgICAgICAgIDxwYXRoIGQ9Ik0zNS4wMDc3MTgsODAgQzQyLjkwNjIwMDcsNzYuNDU0OTM1OCA0Ny41NjQ5MTY3LDcxLjU0MjI2NzEgNDguOTgzODY2LDY1LjI2MTk5MzkgQzUxLjExMjI4OTksNTUuODQxNTg0MiA0MS42NzcxNzk1LDQ5LjIxMjIyODQgMjUuNjIzOTg0Niw0OS4yMTIyMjg0IEMyNS40ODQ5Mjg5LDQ5LjEyNjg0NDggMjkuODI2MTI5Niw0My4yODM4MjQ4IDM4LjY0NzU4NjksMzEuNjgzMTY4MyBMNzIuODcxMjg3MSwzMi41NTQ0MjUgTDY1LjI4MDk3Myw2Ny42NzYzNDIxIEw1MS4xMTIyODk5LDc3LjM3NjE0NCBMMzUuMDA3NzE4LDgwIFoiIGlkPSJQYXRoLTIyIiBmaWxsPSIjMDAyODY4Ij48L3BhdGg+CiAgICAgICAgICAgICAgICA8cGF0aCBkPSJNMCwzNy43MzA0NDA1IEwyNy4xMTQ1MzcsMC4yNTcxMTE0MzYgQzYyLjM3MTUxMjMsLTEuOTkwNzE3MDEgODAsMTAuNTAwMzkyNyA4MCwzNy43MzA0NDA1IEM4MCw2NC45NjA0ODgyIDY0Ljc3NjUwMzgsNzkuMDUwMzQxNCAzNC4zMjk1MTEzLDgwIEM0Ny4wNTUzNDg5LDc3LjU2NzA4MDggNTMuNDE4MjY3Nyw3MC4zMTM2MTAzIDUzLjQxODI2NzcsNTguMjM5NTg4NSBDNTMuNDE4MjY3Nyw0MC4xMjg1NTU3IDM2LjMwMzk1NDQsMzcuNzMwNDQwNSAyNS4yMjc0MTcsMzcuNzMwNDQwNSBDMTcuODQzMDU4NiwzNy43MzA0NDA1IDkuNDMzOTE5NjYsMzcuNzMwNDQwNSAwLDM3LjczMDQ0MDUgWiIgaWQ9IlBhdGgtMTkiIGZpbGw9IiMzNzkzRUYiPjwvcGF0aD4KICAgICAgICAgICAgPC9nPgogICAgICAgIDwvZz4KICAgIDwvZz4KPC9zdmc+' > </img>\nCreated in <span style='font-weight:600;margin-left:4px;'>Deepnote</span></a>",
   "metadata": {
    "tags": [],
    "created_in_deepnote_cell": true,
    "deepnote_cell_type": "markdown"
   }
  }
 ],
 "nbformat": 4,
 "nbformat_minor": 2,
 "metadata": {
  "orig_nbformat": 2,
  "deepnote": {},
  "deepnote_notebook_id": "ef4863e0-ad0f-44bb-a20f-1ae2e7791551",
  "deepnote_execution_queue": []
 }
}