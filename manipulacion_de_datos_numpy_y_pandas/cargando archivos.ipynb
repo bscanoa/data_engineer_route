{
 "cells": [
  {
   "cell_type": "code",
   "metadata": {
    "tags": [],
    "cell_id": "6e4fdbcb-4edb-4e81-9796-bfa214638b91",
    "deepnote_to_be_reexecuted": false,
    "source_hash": "9b82ee11",
    "execution_start": 1658550486002,
    "execution_millis": 3,
    "deepnote_cell_type": "code",
    "deepnote_cell_height": 81
   },
   "source": "import pandas as pd",
   "execution_count": 16,
   "outputs": []
  },
  {
   "cell_type": "code",
   "source": "df_books = pd.read_csv('/work/data_enginner_route/manipulacion_de_datos_numpy_y_pandas/data/bestsellers-with-categories.csv', sep=',',\n     header=0, names = ['Namess', 'Author', 'User Rating', 'Reviews', 'Price', 'Year', 'Genre'] )\ndf_books",
   "metadata": {
    "cell_id": "181a30289e9e4ae1a1f88826d8ff6ecf",
    "tags": [],
    "deepnote_to_be_reexecuted": false,
    "source_hash": "acdd1810",
    "execution_start": 1658548977376,
    "execution_millis": 99,
    "deepnote_cell_type": "code",
    "deepnote_cell_height": 636
   },
   "outputs": [
    {
     "output_type": "execute_result",
     "execution_count": 11,
     "data": {
      "application/vnd.deepnote.dataframe.v3+json": {
       "column_count": 7,
       "row_count": 550,
       "columns": [
        {
         "name": "Namess",
         "dtype": "object",
         "stats": {
          "unique_count": 351,
          "nan_count": 0,
          "categories": [
           {
            "name": "Publication Manual of the American Psychological Association, 6th Edition",
            "count": 10
           },
           {
            "name": "StrengthsFinder 2.0",
            "count": 9
           },
           {
            "name": "349 others",
            "count": 531
           }
          ]
         }
        },
        {
         "name": "Author",
         "dtype": "object",
         "stats": {
          "unique_count": 248,
          "nan_count": 0,
          "categories": [
           {
            "name": "Jeff Kinney",
            "count": 12
           },
           {
            "name": "Suzanne Collins",
            "count": 11
           },
           {
            "name": "246 others",
            "count": 527
           }
          ]
         }
        },
        {
         "name": "User Rating",
         "dtype": "float64",
         "stats": {
          "unique_count": 14,
          "nan_count": 0,
          "min": "3.3",
          "max": "4.9",
          "histogram": [
           {
            "bin_start": 3.3,
            "bin_end": 3.46,
            "count": 1
           },
           {
            "bin_start": 3.46,
            "bin_end": 3.62,
            "count": 1
           },
           {
            "bin_start": 3.62,
            "bin_end": 3.7800000000000002,
            "count": 0
           },
           {
            "bin_start": 3.7800000000000002,
            "bin_end": 3.94,
            "count": 5
           },
           {
            "bin_start": 3.94,
            "bin_end": 4.1,
            "count": 14
           },
           {
            "bin_start": 4.1,
            "bin_end": 4.26,
            "count": 14
           },
           {
            "bin_start": 4.26,
            "bin_end": 4.42,
            "count": 63
           },
           {
            "bin_start": 4.42,
            "bin_end": 4.58,
            "count": 60
           },
           {
            "bin_start": 4.58,
            "bin_end": 4.74,
            "count": 213
           },
           {
            "bin_start": 4.74,
            "bin_end": 4.9,
            "count": 179
           }
          ]
         }
        },
        {
         "name": "Reviews",
         "dtype": "int64",
         "stats": {
          "unique_count": 346,
          "nan_count": 0,
          "min": "37",
          "max": "87841",
          "histogram": [
           {
            "bin_start": 37,
            "bin_end": 8817.4,
            "count": 287
           },
           {
            "bin_start": 8817.4,
            "bin_end": 17597.8,
            "count": 131
           },
           {
            "bin_start": 17597.8,
            "bin_end": 26378.199999999997,
            "count": 87
           },
           {
            "bin_start": 26378.199999999997,
            "bin_end": 35158.6,
            "count": 25
           },
           {
            "bin_start": 35158.6,
            "bin_end": 43939,
            "count": 4
           },
           {
            "bin_start": 43939,
            "bin_end": 52719.399999999994,
            "count": 8
           },
           {
            "bin_start": 52719.399999999994,
            "bin_end": 61499.799999999996,
            "count": 5
           },
           {
            "bin_start": 61499.799999999996,
            "bin_end": 70280.2,
            "count": 0
           },
           {
            "bin_start": 70280.2,
            "bin_end": 79060.59999999999,
            "count": 0
           },
           {
            "bin_start": 79060.59999999999,
            "bin_end": 87841,
            "count": 3
           }
          ]
         }
        },
        {
         "name": "Price",
         "dtype": "int64",
         "stats": {
          "unique_count": 40,
          "nan_count": 0,
          "min": "0",
          "max": "105",
          "histogram": [
           {
            "bin_start": 0,
            "bin_end": 10.5,
            "count": 266
           },
           {
            "bin_start": 10.5,
            "bin_end": 21,
            "count": 216
           },
           {
            "bin_start": 21,
            "bin_end": 31.5,
            "count": 42
           },
           {
            "bin_start": 31.5,
            "bin_end": 42,
            "count": 9
           },
           {
            "bin_start": 42,
            "bin_end": 52.5,
            "count": 12
           },
           {
            "bin_start": 52.5,
            "bin_end": 63,
            "count": 2
           },
           {
            "bin_start": 63,
            "bin_end": 73.5,
            "count": 0
           },
           {
            "bin_start": 73.5,
            "bin_end": 84,
            "count": 1
           },
           {
            "bin_start": 84,
            "bin_end": 94.5,
            "count": 0
           },
           {
            "bin_start": 94.5,
            "bin_end": 105,
            "count": 2
           }
          ]
         }
        },
        {
         "name": "Year",
         "dtype": "int64",
         "stats": {
          "unique_count": 11,
          "nan_count": 0,
          "min": "2009",
          "max": "2019",
          "histogram": [
           {
            "bin_start": 2009,
            "bin_end": 2010,
            "count": 50
           },
           {
            "bin_start": 2010,
            "bin_end": 2011,
            "count": 50
           },
           {
            "bin_start": 2011,
            "bin_end": 2012,
            "count": 50
           },
           {
            "bin_start": 2012,
            "bin_end": 2013,
            "count": 50
           },
           {
            "bin_start": 2013,
            "bin_end": 2014,
            "count": 50
           },
           {
            "bin_start": 2014,
            "bin_end": 2015,
            "count": 50
           },
           {
            "bin_start": 2015,
            "bin_end": 2016,
            "count": 50
           },
           {
            "bin_start": 2016,
            "bin_end": 2017,
            "count": 50
           },
           {
            "bin_start": 2017,
            "bin_end": 2018,
            "count": 50
           },
           {
            "bin_start": 2018,
            "bin_end": 2019,
            "count": 100
           }
          ]
         }
        },
        {
         "name": "Genre",
         "dtype": "object",
         "stats": {
          "unique_count": 2,
          "nan_count": 0,
          "categories": [
           {
            "name": "Non Fiction",
            "count": 310
           },
           {
            "name": "Fiction",
            "count": 240
           }
          ]
         }
        },
        {
         "name": "_deepnote_index_column",
         "dtype": "int64"
        }
       ],
       "rows": [
        {
         "Namess": "10-Day Green Smoothie Cleanse",
         "Author": "JJ Smith",
         "User Rating": 4.7,
         "Reviews": 17350,
         "Price": 8,
         "Year": 2016,
         "Genre": "Non Fiction",
         "_deepnote_index_column": 0
        },
        {
         "Namess": "11/22/63: A Novel",
         "Author": "Stephen King",
         "User Rating": 4.6,
         "Reviews": 2052,
         "Price": 22,
         "Year": 2011,
         "Genre": "Fiction",
         "_deepnote_index_column": 1
        },
        {
         "Namess": "12 Rules for Life: An Antidote to Chaos",
         "Author": "Jordan B. Peterson",
         "User Rating": 4.7,
         "Reviews": 18979,
         "Price": 15,
         "Year": 2018,
         "Genre": "Non Fiction",
         "_deepnote_index_column": 2
        },
        {
         "Namess": "1984 (Signet Classics)",
         "Author": "George Orwell",
         "User Rating": 4.7,
         "Reviews": 21424,
         "Price": 6,
         "Year": 2017,
         "Genre": "Fiction",
         "_deepnote_index_column": 3
        },
        {
         "Namess": "5,000 Awesome Facts (About Everything!) (National Geographic Kids)",
         "Author": "National Geographic Kids",
         "User Rating": 4.8,
         "Reviews": 7665,
         "Price": 12,
         "Year": 2019,
         "Genre": "Non Fiction",
         "_deepnote_index_column": 4
        },
        {
         "Namess": "A Dance with Dragons (A Song of Ice and Fire)",
         "Author": "George R. R. Martin",
         "User Rating": 4.4,
         "Reviews": 12643,
         "Price": 11,
         "Year": 2011,
         "Genre": "Fiction",
         "_deepnote_index_column": 5
        },
        {
         "Namess": "A Game of Thrones / A Clash of Kings / A Storm of Swords / A Feast of Crows / A Dance with Dragons",
         "Author": "George R. R. Martin",
         "User Rating": 4.7,
         "Reviews": 19735,
         "Price": 30,
         "Year": 2014,
         "Genre": "Fiction",
         "_deepnote_index_column": 6
        },
        {
         "Namess": "A Gentleman in Moscow: A Novel",
         "Author": "Amor Towles",
         "User Rating": 4.7,
         "Reviews": 19699,
         "Price": 15,
         "Year": 2017,
         "Genre": "Fiction",
         "_deepnote_index_column": 7
        },
        {
         "Namess": "A Higher Loyalty: Truth, Lies, and Leadership",
         "Author": "James Comey",
         "User Rating": 4.7,
         "Reviews": 5983,
         "Price": 3,
         "Year": 2018,
         "Genre": "Non Fiction",
         "_deepnote_index_column": 8
        },
        {
         "Namess": "A Man Called Ove: A Novel",
         "Author": "Fredrik Backman",
         "User Rating": 4.6,
         "Reviews": 23848,
         "Price": 8,
         "Year": 2016,
         "Genre": "Fiction",
         "_deepnote_index_column": 9
        }
       ]
      },
      "text/plain": "                                                Namess  \\\n0                        10-Day Green Smoothie Cleanse   \n1                                    11/22/63: A Novel   \n2              12 Rules for Life: An Antidote to Chaos   \n3                               1984 (Signet Classics)   \n4    5,000 Awesome Facts (About Everything!) (Natio...   \n..                                                 ...   \n545       Wrecking Ball (Diary of a Wimpy Kid Book 14)   \n546  You Are a Badass: How to Stop Doubting Your Gr...   \n547  You Are a Badass: How to Stop Doubting Your Gr...   \n548  You Are a Badass: How to Stop Doubting Your Gr...   \n549  You Are a Badass: How to Stop Doubting Your Gr...   \n\n                       Author  User Rating  Reviews  Price  Year        Genre  \n0                    JJ Smith          4.7    17350      8  2016  Non Fiction  \n1                Stephen King          4.6     2052     22  2011      Fiction  \n2          Jordan B. Peterson          4.7    18979     15  2018  Non Fiction  \n3               George Orwell          4.7    21424      6  2017      Fiction  \n4    National Geographic Kids          4.8     7665     12  2019  Non Fiction  \n..                        ...          ...      ...    ...   ...          ...  \n545               Jeff Kinney          4.9     9413      8  2019      Fiction  \n546               Jen Sincero          4.7    14331      8  2016  Non Fiction  \n547               Jen Sincero          4.7    14331      8  2017  Non Fiction  \n548               Jen Sincero          4.7    14331      8  2018  Non Fiction  \n549               Jen Sincero          4.7    14331      8  2019  Non Fiction  \n\n[550 rows x 7 columns]",
      "text/html": "<div>\n<style scoped>\n    .dataframe tbody tr th:only-of-type {\n        vertical-align: middle;\n    }\n\n    .dataframe tbody tr th {\n        vertical-align: top;\n    }\n\n    .dataframe thead th {\n        text-align: right;\n    }\n</style>\n<table border=\"1\" class=\"dataframe\">\n  <thead>\n    <tr style=\"text-align: right;\">\n      <th></th>\n      <th>Namess</th>\n      <th>Author</th>\n      <th>User Rating</th>\n      <th>Reviews</th>\n      <th>Price</th>\n      <th>Year</th>\n      <th>Genre</th>\n    </tr>\n  </thead>\n  <tbody>\n    <tr>\n      <th>0</th>\n      <td>10-Day Green Smoothie Cleanse</td>\n      <td>JJ Smith</td>\n      <td>4.7</td>\n      <td>17350</td>\n      <td>8</td>\n      <td>2016</td>\n      <td>Non Fiction</td>\n    </tr>\n    <tr>\n      <th>1</th>\n      <td>11/22/63: A Novel</td>\n      <td>Stephen King</td>\n      <td>4.6</td>\n      <td>2052</td>\n      <td>22</td>\n      <td>2011</td>\n      <td>Fiction</td>\n    </tr>\n    <tr>\n      <th>2</th>\n      <td>12 Rules for Life: An Antidote to Chaos</td>\n      <td>Jordan B. Peterson</td>\n      <td>4.7</td>\n      <td>18979</td>\n      <td>15</td>\n      <td>2018</td>\n      <td>Non Fiction</td>\n    </tr>\n    <tr>\n      <th>3</th>\n      <td>1984 (Signet Classics)</td>\n      <td>George Orwell</td>\n      <td>4.7</td>\n      <td>21424</td>\n      <td>6</td>\n      <td>2017</td>\n      <td>Fiction</td>\n    </tr>\n    <tr>\n      <th>4</th>\n      <td>5,000 Awesome Facts (About Everything!) (Natio...</td>\n      <td>National Geographic Kids</td>\n      <td>4.8</td>\n      <td>7665</td>\n      <td>12</td>\n      <td>2019</td>\n      <td>Non Fiction</td>\n    </tr>\n    <tr>\n      <th>...</th>\n      <td>...</td>\n      <td>...</td>\n      <td>...</td>\n      <td>...</td>\n      <td>...</td>\n      <td>...</td>\n      <td>...</td>\n    </tr>\n    <tr>\n      <th>545</th>\n      <td>Wrecking Ball (Diary of a Wimpy Kid Book 14)</td>\n      <td>Jeff Kinney</td>\n      <td>4.9</td>\n      <td>9413</td>\n      <td>8</td>\n      <td>2019</td>\n      <td>Fiction</td>\n    </tr>\n    <tr>\n      <th>546</th>\n      <td>You Are a Badass: How to Stop Doubting Your Gr...</td>\n      <td>Jen Sincero</td>\n      <td>4.7</td>\n      <td>14331</td>\n      <td>8</td>\n      <td>2016</td>\n      <td>Non Fiction</td>\n    </tr>\n    <tr>\n      <th>547</th>\n      <td>You Are a Badass: How to Stop Doubting Your Gr...</td>\n      <td>Jen Sincero</td>\n      <td>4.7</td>\n      <td>14331</td>\n      <td>8</td>\n      <td>2017</td>\n      <td>Non Fiction</td>\n    </tr>\n    <tr>\n      <th>548</th>\n      <td>You Are a Badass: How to Stop Doubting Your Gr...</td>\n      <td>Jen Sincero</td>\n      <td>4.7</td>\n      <td>14331</td>\n      <td>8</td>\n      <td>2018</td>\n      <td>Non Fiction</td>\n    </tr>\n    <tr>\n      <th>549</th>\n      <td>You Are a Badass: How to Stop Doubting Your Gr...</td>\n      <td>Jen Sincero</td>\n      <td>4.7</td>\n      <td>14331</td>\n      <td>8</td>\n      <td>2019</td>\n      <td>Non Fiction</td>\n    </tr>\n  </tbody>\n</table>\n<p>550 rows × 7 columns</p>\n</div>"
     },
     "metadata": {}
    }
   ],
   "execution_count": 11
  },
  {
   "cell_type": "code",
   "source": "df_books.columns",
   "metadata": {
    "cell_id": "b0394184f15744f6b3012aeab8207404",
    "tags": [],
    "deepnote_to_be_reexecuted": false,
    "source_hash": "a03695e3",
    "execution_start": 1658548938154,
    "execution_millis": 11,
    "deepnote_cell_type": "code",
    "deepnote_cell_height": 118.1875,
    "deepnote_output_heights": [
     21.1875
    ]
   },
   "outputs": [
    {
     "output_type": "execute_result",
     "execution_count": 9,
     "data": {
      "text/plain": "Index(['Name', 'Author', 'User Rating', 'Reviews', 'Price', 'Year', 'Genre'], dtype='object')"
     },
     "metadata": {}
    }
   ],
   "execution_count": 9
  },
  {
   "cell_type": "code",
   "source": "df_books[0:4] # haciendo slice en pandas",
   "metadata": {
    "cell_id": "07549ccbe1c84dc59393bda33e98dbc4",
    "tags": [],
    "deepnote_to_be_reexecuted": false,
    "source_hash": "eb202b73",
    "execution_start": 1658552068262,
    "execution_millis": 485,
    "deepnote_cell_type": "code",
    "deepnote_cell_height": 369
   },
   "outputs": [
    {
     "output_type": "execute_result",
     "execution_count": 40,
     "data": {
      "application/vnd.deepnote.dataframe.v3+json": {
       "column_count": 7,
       "row_count": 4,
       "columns": [
        {
         "name": "Namess",
         "dtype": "object",
         "stats": {
          "unique_count": 4,
          "nan_count": 0,
          "categories": [
           {
            "name": "10-Day Green Smoothie Cleanse",
            "count": 1
           },
           {
            "name": "11/22/63: A Novel",
            "count": 1
           },
           {
            "name": "2 others",
            "count": 2
           }
          ]
         }
        },
        {
         "name": "Author",
         "dtype": "object",
         "stats": {
          "unique_count": 4,
          "nan_count": 0,
          "categories": [
           {
            "name": "JJ Smith",
            "count": 1
           },
           {
            "name": "Stephen King",
            "count": 1
           },
           {
            "name": "2 others",
            "count": 2
           }
          ]
         }
        },
        {
         "name": "User Rating",
         "dtype": "float64",
         "stats": {
          "unique_count": 2,
          "nan_count": 0,
          "min": "4.6",
          "max": "4.7",
          "histogram": [
           {
            "bin_start": 4.6,
            "bin_end": 4.609999999999999,
            "count": 1
           },
           {
            "bin_start": 4.609999999999999,
            "bin_end": 4.62,
            "count": 0
           },
           {
            "bin_start": 4.62,
            "bin_end": 4.63,
            "count": 0
           },
           {
            "bin_start": 4.63,
            "bin_end": 4.64,
            "count": 0
           },
           {
            "bin_start": 4.64,
            "bin_end": 4.65,
            "count": 0
           },
           {
            "bin_start": 4.65,
            "bin_end": 4.66,
            "count": 0
           },
           {
            "bin_start": 4.66,
            "bin_end": 4.67,
            "count": 0
           },
           {
            "bin_start": 4.67,
            "bin_end": 4.68,
            "count": 0
           },
           {
            "bin_start": 4.68,
            "bin_end": 4.69,
            "count": 0
           },
           {
            "bin_start": 4.69,
            "bin_end": 4.7,
            "count": 3
           }
          ]
         }
        },
        {
         "name": "Reviews",
         "dtype": "int64",
         "stats": {
          "unique_count": 4,
          "nan_count": 0,
          "min": "2052",
          "max": "21424",
          "histogram": [
           {
            "bin_start": 2052,
            "bin_end": 3989.2,
            "count": 1
           },
           {
            "bin_start": 3989.2,
            "bin_end": 5926.4,
            "count": 0
           },
           {
            "bin_start": 5926.4,
            "bin_end": 7863.6,
            "count": 0
           },
           {
            "bin_start": 7863.6,
            "bin_end": 9800.8,
            "count": 0
           },
           {
            "bin_start": 9800.8,
            "bin_end": 11738,
            "count": 0
           },
           {
            "bin_start": 11738,
            "bin_end": 13675.2,
            "count": 0
           },
           {
            "bin_start": 13675.2,
            "bin_end": 15612.4,
            "count": 0
           },
           {
            "bin_start": 15612.4,
            "bin_end": 17549.6,
            "count": 1
           },
           {
            "bin_start": 17549.6,
            "bin_end": 19486.8,
            "count": 1
           },
           {
            "bin_start": 19486.8,
            "bin_end": 21424,
            "count": 1
           }
          ]
         }
        },
        {
         "name": "Price",
         "dtype": "int64",
         "stats": {
          "unique_count": 4,
          "nan_count": 0,
          "min": "6",
          "max": "22",
          "histogram": [
           {
            "bin_start": 6,
            "bin_end": 7.6,
            "count": 1
           },
           {
            "bin_start": 7.6,
            "bin_end": 9.2,
            "count": 1
           },
           {
            "bin_start": 9.2,
            "bin_end": 10.8,
            "count": 0
           },
           {
            "bin_start": 10.8,
            "bin_end": 12.4,
            "count": 0
           },
           {
            "bin_start": 12.4,
            "bin_end": 14,
            "count": 0
           },
           {
            "bin_start": 14,
            "bin_end": 15.600000000000001,
            "count": 1
           },
           {
            "bin_start": 15.600000000000001,
            "bin_end": 17.200000000000003,
            "count": 0
           },
           {
            "bin_start": 17.200000000000003,
            "bin_end": 18.8,
            "count": 0
           },
           {
            "bin_start": 18.8,
            "bin_end": 20.4,
            "count": 0
           },
           {
            "bin_start": 20.4,
            "bin_end": 22,
            "count": 1
           }
          ]
         }
        },
        {
         "name": "Year",
         "dtype": "int64",
         "stats": {
          "unique_count": 4,
          "nan_count": 0,
          "min": "2011",
          "max": "2018",
          "histogram": [
           {
            "bin_start": 2011,
            "bin_end": 2011.7,
            "count": 1
           },
           {
            "bin_start": 2011.7,
            "bin_end": 2012.4,
            "count": 0
           },
           {
            "bin_start": 2012.4,
            "bin_end": 2013.1,
            "count": 0
           },
           {
            "bin_start": 2013.1,
            "bin_end": 2013.8,
            "count": 0
           },
           {
            "bin_start": 2013.8,
            "bin_end": 2014.5,
            "count": 0
           },
           {
            "bin_start": 2014.5,
            "bin_end": 2015.2,
            "count": 0
           },
           {
            "bin_start": 2015.2,
            "bin_end": 2015.9,
            "count": 0
           },
           {
            "bin_start": 2015.9,
            "bin_end": 2016.6,
            "count": 1
           },
           {
            "bin_start": 2016.6,
            "bin_end": 2017.3,
            "count": 1
           },
           {
            "bin_start": 2017.3,
            "bin_end": 2018,
            "count": 1
           }
          ]
         }
        },
        {
         "name": "Genre",
         "dtype": "object",
         "stats": {
          "unique_count": 2,
          "nan_count": 0,
          "categories": [
           {
            "name": "Non Fiction",
            "count": 2
           },
           {
            "name": "Fiction",
            "count": 2
           }
          ]
         }
        },
        {
         "name": "_deepnote_index_column",
         "dtype": "int64"
        }
       ],
       "rows": [
        {
         "Namess": "10-Day Green Smoothie Cleanse",
         "Author": "JJ Smith",
         "User Rating": 4.7,
         "Reviews": 17350,
         "Price": 8,
         "Year": 2016,
         "Genre": "Non Fiction",
         "_deepnote_index_column": 0
        },
        {
         "Namess": "11/22/63: A Novel",
         "Author": "Stephen King",
         "User Rating": 4.6,
         "Reviews": 2052,
         "Price": 22,
         "Year": 2011,
         "Genre": "Fiction",
         "_deepnote_index_column": 1
        },
        {
         "Namess": "12 Rules for Life: An Antidote to Chaos",
         "Author": "Jordan B. Peterson",
         "User Rating": 4.7,
         "Reviews": 18979,
         "Price": 15,
         "Year": 2018,
         "Genre": "Non Fiction",
         "_deepnote_index_column": 2
        },
        {
         "Namess": "1984 (Signet Classics)",
         "Author": "George Orwell",
         "User Rating": 4.7,
         "Reviews": 21424,
         "Price": 6,
         "Year": 2017,
         "Genre": "Fiction",
         "_deepnote_index_column": 3
        }
       ]
      },
      "text/plain": "                                    Namess              Author  User Rating  \\\n0            10-Day Green Smoothie Cleanse            JJ Smith          4.7   \n1                        11/22/63: A Novel        Stephen King          4.6   \n2  12 Rules for Life: An Antidote to Chaos  Jordan B. Peterson          4.7   \n3                   1984 (Signet Classics)       George Orwell          4.7   \n\n   Reviews  Price  Year        Genre  \n0    17350      8  2016  Non Fiction  \n1     2052     22  2011      Fiction  \n2    18979     15  2018  Non Fiction  \n3    21424      6  2017      Fiction  ",
      "text/html": "<div>\n<style scoped>\n    .dataframe tbody tr th:only-of-type {\n        vertical-align: middle;\n    }\n\n    .dataframe tbody tr th {\n        vertical-align: top;\n    }\n\n    .dataframe thead th {\n        text-align: right;\n    }\n</style>\n<table border=\"1\" class=\"dataframe\">\n  <thead>\n    <tr style=\"text-align: right;\">\n      <th></th>\n      <th>Namess</th>\n      <th>Author</th>\n      <th>User Rating</th>\n      <th>Reviews</th>\n      <th>Price</th>\n      <th>Year</th>\n      <th>Genre</th>\n    </tr>\n  </thead>\n  <tbody>\n    <tr>\n      <th>0</th>\n      <td>10-Day Green Smoothie Cleanse</td>\n      <td>JJ Smith</td>\n      <td>4.7</td>\n      <td>17350</td>\n      <td>8</td>\n      <td>2016</td>\n      <td>Non Fiction</td>\n    </tr>\n    <tr>\n      <th>1</th>\n      <td>11/22/63: A Novel</td>\n      <td>Stephen King</td>\n      <td>4.6</td>\n      <td>2052</td>\n      <td>22</td>\n      <td>2011</td>\n      <td>Fiction</td>\n    </tr>\n    <tr>\n      <th>2</th>\n      <td>12 Rules for Life: An Antidote to Chaos</td>\n      <td>Jordan B. Peterson</td>\n      <td>4.7</td>\n      <td>18979</td>\n      <td>15</td>\n      <td>2018</td>\n      <td>Non Fiction</td>\n    </tr>\n    <tr>\n      <th>3</th>\n      <td>1984 (Signet Classics)</td>\n      <td>George Orwell</td>\n      <td>4.7</td>\n      <td>21424</td>\n      <td>6</td>\n      <td>2017</td>\n      <td>Fiction</td>\n    </tr>\n  </tbody>\n</table>\n</div>"
     },
     "metadata": {}
    }
   ],
   "execution_count": 40
  },
  {
   "cell_type": "code",
   "source": "df_books[['Namess', 'Author', 'Year']] # filtrar por columnas",
   "metadata": {
    "cell_id": "e705a8788db94b5a9e44d2bd2fabe14c",
    "tags": [],
    "deepnote_to_be_reexecuted": false,
    "source_hash": "e29a88c2",
    "execution_start": 1658552198478,
    "execution_millis": 94,
    "deepnote_cell_type": "code",
    "deepnote_cell_height": 600,
    "deepnote_output_heights": [
     232.25
    ]
   },
   "outputs": [
    {
     "output_type": "execute_result",
     "execution_count": 48,
     "data": {
      "application/vnd.deepnote.dataframe.v3+json": {
       "column_count": 3,
       "row_count": 550,
       "columns": [
        {
         "name": "Namess",
         "dtype": "object",
         "stats": {
          "unique_count": 351,
          "nan_count": 0,
          "categories": [
           {
            "name": "Publication Manual of the American Psychological Association, 6th Edition",
            "count": 10
           },
           {
            "name": "StrengthsFinder 2.0",
            "count": 9
           },
           {
            "name": "349 others",
            "count": 531
           }
          ]
         }
        },
        {
         "name": "Author",
         "dtype": "object",
         "stats": {
          "unique_count": 248,
          "nan_count": 0,
          "categories": [
           {
            "name": "Jeff Kinney",
            "count": 12
           },
           {
            "name": "Suzanne Collins",
            "count": 11
           },
           {
            "name": "246 others",
            "count": 527
           }
          ]
         }
        },
        {
         "name": "Year",
         "dtype": "int64",
         "stats": {
          "unique_count": 11,
          "nan_count": 0,
          "min": "2009",
          "max": "2019",
          "histogram": [
           {
            "bin_start": 2009,
            "bin_end": 2010,
            "count": 50
           },
           {
            "bin_start": 2010,
            "bin_end": 2011,
            "count": 50
           },
           {
            "bin_start": 2011,
            "bin_end": 2012,
            "count": 50
           },
           {
            "bin_start": 2012,
            "bin_end": 2013,
            "count": 50
           },
           {
            "bin_start": 2013,
            "bin_end": 2014,
            "count": 50
           },
           {
            "bin_start": 2014,
            "bin_end": 2015,
            "count": 50
           },
           {
            "bin_start": 2015,
            "bin_end": 2016,
            "count": 50
           },
           {
            "bin_start": 2016,
            "bin_end": 2017,
            "count": 50
           },
           {
            "bin_start": 2017,
            "bin_end": 2018,
            "count": 50
           },
           {
            "bin_start": 2018,
            "bin_end": 2019,
            "count": 100
           }
          ]
         }
        },
        {
         "name": "_deepnote_index_column",
         "dtype": "int64"
        }
       ],
       "rows": [
        {
         "Namess": "10-Day Green Smoothie Cleanse",
         "Author": "JJ Smith",
         "Year": 2016,
         "_deepnote_index_column": 0
        },
        {
         "Namess": "11/22/63: A Novel",
         "Author": "Stephen King",
         "Year": 2011,
         "_deepnote_index_column": 1
        },
        {
         "Namess": "12 Rules for Life: An Antidote to Chaos",
         "Author": "Jordan B. Peterson",
         "Year": 2018,
         "_deepnote_index_column": 2
        },
        {
         "Namess": "1984 (Signet Classics)",
         "Author": "George Orwell",
         "Year": 2017,
         "_deepnote_index_column": 3
        },
        {
         "Namess": "5,000 Awesome Facts (About Everything!) (National Geographic Kids)",
         "Author": "National Geographic Kids",
         "Year": 2019,
         "_deepnote_index_column": 4
        },
        {
         "Namess": "A Dance with Dragons (A Song of Ice and Fire)",
         "Author": "George R. R. Martin",
         "Year": 2011,
         "_deepnote_index_column": 5
        },
        {
         "Namess": "A Game of Thrones / A Clash of Kings / A Storm of Swords / A Feast of Crows / A Dance with Dragons",
         "Author": "George R. R. Martin",
         "Year": 2014,
         "_deepnote_index_column": 6
        },
        {
         "Namess": "A Gentleman in Moscow: A Novel",
         "Author": "Amor Towles",
         "Year": 2017,
         "_deepnote_index_column": 7
        },
        {
         "Namess": "A Higher Loyalty: Truth, Lies, and Leadership",
         "Author": "James Comey",
         "Year": 2018,
         "_deepnote_index_column": 8
        },
        {
         "Namess": "A Man Called Ove: A Novel",
         "Author": "Fredrik Backman",
         "Year": 2016,
         "_deepnote_index_column": 9
        }
       ]
      },
      "text/plain": "                                                Namess  \\\n0                        10-Day Green Smoothie Cleanse   \n1                                    11/22/63: A Novel   \n2              12 Rules for Life: An Antidote to Chaos   \n3                               1984 (Signet Classics)   \n4    5,000 Awesome Facts (About Everything!) (Natio...   \n..                                                 ...   \n545       Wrecking Ball (Diary of a Wimpy Kid Book 14)   \n546  You Are a Badass: How to Stop Doubting Your Gr...   \n547  You Are a Badass: How to Stop Doubting Your Gr...   \n548  You Are a Badass: How to Stop Doubting Your Gr...   \n549  You Are a Badass: How to Stop Doubting Your Gr...   \n\n                       Author  Year  \n0                    JJ Smith  2016  \n1                Stephen King  2011  \n2          Jordan B. Peterson  2018  \n3               George Orwell  2017  \n4    National Geographic Kids  2019  \n..                        ...   ...  \n545               Jeff Kinney  2019  \n546               Jen Sincero  2016  \n547               Jen Sincero  2017  \n548               Jen Sincero  2018  \n549               Jen Sincero  2019  \n\n[550 rows x 3 columns]",
      "text/html": "<div>\n<style scoped>\n    .dataframe tbody tr th:only-of-type {\n        vertical-align: middle;\n    }\n\n    .dataframe tbody tr th {\n        vertical-align: top;\n    }\n\n    .dataframe thead th {\n        text-align: right;\n    }\n</style>\n<table border=\"1\" class=\"dataframe\">\n  <thead>\n    <tr style=\"text-align: right;\">\n      <th></th>\n      <th>Namess</th>\n      <th>Author</th>\n      <th>Year</th>\n    </tr>\n  </thead>\n  <tbody>\n    <tr>\n      <th>0</th>\n      <td>10-Day Green Smoothie Cleanse</td>\n      <td>JJ Smith</td>\n      <td>2016</td>\n    </tr>\n    <tr>\n      <th>1</th>\n      <td>11/22/63: A Novel</td>\n      <td>Stephen King</td>\n      <td>2011</td>\n    </tr>\n    <tr>\n      <th>2</th>\n      <td>12 Rules for Life: An Antidote to Chaos</td>\n      <td>Jordan B. Peterson</td>\n      <td>2018</td>\n    </tr>\n    <tr>\n      <th>3</th>\n      <td>1984 (Signet Classics)</td>\n      <td>George Orwell</td>\n      <td>2017</td>\n    </tr>\n    <tr>\n      <th>4</th>\n      <td>5,000 Awesome Facts (About Everything!) (Natio...</td>\n      <td>National Geographic Kids</td>\n      <td>2019</td>\n    </tr>\n    <tr>\n      <th>...</th>\n      <td>...</td>\n      <td>...</td>\n      <td>...</td>\n    </tr>\n    <tr>\n      <th>545</th>\n      <td>Wrecking Ball (Diary of a Wimpy Kid Book 14)</td>\n      <td>Jeff Kinney</td>\n      <td>2019</td>\n    </tr>\n    <tr>\n      <th>546</th>\n      <td>You Are a Badass: How to Stop Doubting Your Gr...</td>\n      <td>Jen Sincero</td>\n      <td>2016</td>\n    </tr>\n    <tr>\n      <th>547</th>\n      <td>You Are a Badass: How to Stop Doubting Your Gr...</td>\n      <td>Jen Sincero</td>\n      <td>2017</td>\n    </tr>\n    <tr>\n      <th>548</th>\n      <td>You Are a Badass: How to Stop Doubting Your Gr...</td>\n      <td>Jen Sincero</td>\n      <td>2018</td>\n    </tr>\n    <tr>\n      <th>549</th>\n      <td>You Are a Badass: How to Stop Doubting Your Gr...</td>\n      <td>Jen Sincero</td>\n      <td>2019</td>\n    </tr>\n  </tbody>\n</table>\n<p>550 rows × 3 columns</p>\n</div>"
     },
     "metadata": {}
    }
   ],
   "execution_count": 48
  },
  {
   "cell_type": "markdown",
   "source": "### Loc\nAccede a las columnas mediante los labels de las mismas en una lista.",
   "metadata": {
    "cell_id": "d409ac7cdff6480b9cd00db91465cba1",
    "tags": [],
    "deepnote_cell_type": "markdown",
    "deepnote_cell_height": 170.390625
   }
  },
  {
   "cell_type": "code",
   "source": "df_books.loc[:]",
   "metadata": {
    "cell_id": "164fc1b90214436c81144da9a1b40fcc",
    "tags": [],
    "deepnote_to_be_reexecuted": false,
    "source_hash": "29ed1236",
    "execution_start": 1658552268530,
    "execution_millis": 66,
    "owner_user_id": "1446e09b-adb1-4d03-8824-192d50632f30",
    "deepnote_cell_type": "code",
    "deepnote_cell_height": 600
   },
   "outputs": [
    {
     "output_type": "execute_result",
     "execution_count": 49,
     "data": {
      "application/vnd.deepnote.dataframe.v3+json": {
       "column_count": 7,
       "row_count": 550,
       "columns": [
        {
         "name": "Namess",
         "dtype": "object",
         "stats": {
          "unique_count": 351,
          "nan_count": 0,
          "categories": [
           {
            "name": "Publication Manual of the American Psychological Association, 6th Edition",
            "count": 10
           },
           {
            "name": "StrengthsFinder 2.0",
            "count": 9
           },
           {
            "name": "349 others",
            "count": 531
           }
          ]
         }
        },
        {
         "name": "Author",
         "dtype": "object",
         "stats": {
          "unique_count": 248,
          "nan_count": 0,
          "categories": [
           {
            "name": "Jeff Kinney",
            "count": 12
           },
           {
            "name": "Suzanne Collins",
            "count": 11
           },
           {
            "name": "246 others",
            "count": 527
           }
          ]
         }
        },
        {
         "name": "User Rating",
         "dtype": "float64",
         "stats": {
          "unique_count": 14,
          "nan_count": 0,
          "min": "3.3",
          "max": "4.9",
          "histogram": [
           {
            "bin_start": 3.3,
            "bin_end": 3.46,
            "count": 1
           },
           {
            "bin_start": 3.46,
            "bin_end": 3.62,
            "count": 1
           },
           {
            "bin_start": 3.62,
            "bin_end": 3.7800000000000002,
            "count": 0
           },
           {
            "bin_start": 3.7800000000000002,
            "bin_end": 3.94,
            "count": 5
           },
           {
            "bin_start": 3.94,
            "bin_end": 4.1,
            "count": 14
           },
           {
            "bin_start": 4.1,
            "bin_end": 4.26,
            "count": 14
           },
           {
            "bin_start": 4.26,
            "bin_end": 4.42,
            "count": 63
           },
           {
            "bin_start": 4.42,
            "bin_end": 4.58,
            "count": 60
           },
           {
            "bin_start": 4.58,
            "bin_end": 4.74,
            "count": 213
           },
           {
            "bin_start": 4.74,
            "bin_end": 4.9,
            "count": 179
           }
          ]
         }
        },
        {
         "name": "Reviews",
         "dtype": "int64",
         "stats": {
          "unique_count": 346,
          "nan_count": 0,
          "min": "37",
          "max": "87841",
          "histogram": [
           {
            "bin_start": 37,
            "bin_end": 8817.4,
            "count": 287
           },
           {
            "bin_start": 8817.4,
            "bin_end": 17597.8,
            "count": 131
           },
           {
            "bin_start": 17597.8,
            "bin_end": 26378.199999999997,
            "count": 87
           },
           {
            "bin_start": 26378.199999999997,
            "bin_end": 35158.6,
            "count": 25
           },
           {
            "bin_start": 35158.6,
            "bin_end": 43939,
            "count": 4
           },
           {
            "bin_start": 43939,
            "bin_end": 52719.399999999994,
            "count": 8
           },
           {
            "bin_start": 52719.399999999994,
            "bin_end": 61499.799999999996,
            "count": 5
           },
           {
            "bin_start": 61499.799999999996,
            "bin_end": 70280.2,
            "count": 0
           },
           {
            "bin_start": 70280.2,
            "bin_end": 79060.59999999999,
            "count": 0
           },
           {
            "bin_start": 79060.59999999999,
            "bin_end": 87841,
            "count": 3
           }
          ]
         }
        },
        {
         "name": "Price",
         "dtype": "int64",
         "stats": {
          "unique_count": 40,
          "nan_count": 0,
          "min": "0",
          "max": "105",
          "histogram": [
           {
            "bin_start": 0,
            "bin_end": 10.5,
            "count": 266
           },
           {
            "bin_start": 10.5,
            "bin_end": 21,
            "count": 216
           },
           {
            "bin_start": 21,
            "bin_end": 31.5,
            "count": 42
           },
           {
            "bin_start": 31.5,
            "bin_end": 42,
            "count": 9
           },
           {
            "bin_start": 42,
            "bin_end": 52.5,
            "count": 12
           },
           {
            "bin_start": 52.5,
            "bin_end": 63,
            "count": 2
           },
           {
            "bin_start": 63,
            "bin_end": 73.5,
            "count": 0
           },
           {
            "bin_start": 73.5,
            "bin_end": 84,
            "count": 1
           },
           {
            "bin_start": 84,
            "bin_end": 94.5,
            "count": 0
           },
           {
            "bin_start": 94.5,
            "bin_end": 105,
            "count": 2
           }
          ]
         }
        },
        {
         "name": "Year",
         "dtype": "int64",
         "stats": {
          "unique_count": 11,
          "nan_count": 0,
          "min": "2009",
          "max": "2019",
          "histogram": [
           {
            "bin_start": 2009,
            "bin_end": 2010,
            "count": 50
           },
           {
            "bin_start": 2010,
            "bin_end": 2011,
            "count": 50
           },
           {
            "bin_start": 2011,
            "bin_end": 2012,
            "count": 50
           },
           {
            "bin_start": 2012,
            "bin_end": 2013,
            "count": 50
           },
           {
            "bin_start": 2013,
            "bin_end": 2014,
            "count": 50
           },
           {
            "bin_start": 2014,
            "bin_end": 2015,
            "count": 50
           },
           {
            "bin_start": 2015,
            "bin_end": 2016,
            "count": 50
           },
           {
            "bin_start": 2016,
            "bin_end": 2017,
            "count": 50
           },
           {
            "bin_start": 2017,
            "bin_end": 2018,
            "count": 50
           },
           {
            "bin_start": 2018,
            "bin_end": 2019,
            "count": 100
           }
          ]
         }
        },
        {
         "name": "Genre",
         "dtype": "object",
         "stats": {
          "unique_count": 2,
          "nan_count": 0,
          "categories": [
           {
            "name": "Non Fiction",
            "count": 310
           },
           {
            "name": "Fiction",
            "count": 240
           }
          ]
         }
        },
        {
         "name": "_deepnote_index_column",
         "dtype": "int64"
        }
       ],
       "rows": [
        {
         "Namess": "10-Day Green Smoothie Cleanse",
         "Author": "JJ Smith",
         "User Rating": 4.7,
         "Reviews": 17350,
         "Price": 8,
         "Year": 2016,
         "Genre": "Non Fiction",
         "_deepnote_index_column": 0
        },
        {
         "Namess": "11/22/63: A Novel",
         "Author": "Stephen King",
         "User Rating": 4.6,
         "Reviews": 2052,
         "Price": 22,
         "Year": 2011,
         "Genre": "Fiction",
         "_deepnote_index_column": 1
        },
        {
         "Namess": "12 Rules for Life: An Antidote to Chaos",
         "Author": "Jordan B. Peterson",
         "User Rating": 4.7,
         "Reviews": 18979,
         "Price": 15,
         "Year": 2018,
         "Genre": "Non Fiction",
         "_deepnote_index_column": 2
        },
        {
         "Namess": "1984 (Signet Classics)",
         "Author": "George Orwell",
         "User Rating": 4.7,
         "Reviews": 21424,
         "Price": 6,
         "Year": 2017,
         "Genre": "Fiction",
         "_deepnote_index_column": 3
        },
        {
         "Namess": "5,000 Awesome Facts (About Everything!) (National Geographic Kids)",
         "Author": "National Geographic Kids",
         "User Rating": 4.8,
         "Reviews": 7665,
         "Price": 12,
         "Year": 2019,
         "Genre": "Non Fiction",
         "_deepnote_index_column": 4
        },
        {
         "Namess": "A Dance with Dragons (A Song of Ice and Fire)",
         "Author": "George R. R. Martin",
         "User Rating": 4.4,
         "Reviews": 12643,
         "Price": 11,
         "Year": 2011,
         "Genre": "Fiction",
         "_deepnote_index_column": 5
        },
        {
         "Namess": "A Game of Thrones / A Clash of Kings / A Storm of Swords / A Feast of Crows / A Dance with Dragons",
         "Author": "George R. R. Martin",
         "User Rating": 4.7,
         "Reviews": 19735,
         "Price": 30,
         "Year": 2014,
         "Genre": "Fiction",
         "_deepnote_index_column": 6
        },
        {
         "Namess": "A Gentleman in Moscow: A Novel",
         "Author": "Amor Towles",
         "User Rating": 4.7,
         "Reviews": 19699,
         "Price": 15,
         "Year": 2017,
         "Genre": "Fiction",
         "_deepnote_index_column": 7
        },
        {
         "Namess": "A Higher Loyalty: Truth, Lies, and Leadership",
         "Author": "James Comey",
         "User Rating": 4.7,
         "Reviews": 5983,
         "Price": 3,
         "Year": 2018,
         "Genre": "Non Fiction",
         "_deepnote_index_column": 8
        },
        {
         "Namess": "A Man Called Ove: A Novel",
         "Author": "Fredrik Backman",
         "User Rating": 4.6,
         "Reviews": 23848,
         "Price": 8,
         "Year": 2016,
         "Genre": "Fiction",
         "_deepnote_index_column": 9
        }
       ]
      },
      "text/plain": "                                                Namess  \\\n0                        10-Day Green Smoothie Cleanse   \n1                                    11/22/63: A Novel   \n2              12 Rules for Life: An Antidote to Chaos   \n3                               1984 (Signet Classics)   \n4    5,000 Awesome Facts (About Everything!) (Natio...   \n..                                                 ...   \n545       Wrecking Ball (Diary of a Wimpy Kid Book 14)   \n546  You Are a Badass: How to Stop Doubting Your Gr...   \n547  You Are a Badass: How to Stop Doubting Your Gr...   \n548  You Are a Badass: How to Stop Doubting Your Gr...   \n549  You Are a Badass: How to Stop Doubting Your Gr...   \n\n                       Author  User Rating  Reviews  Price  Year        Genre  \n0                    JJ Smith          4.7    17350      8  2016  Non Fiction  \n1                Stephen King          4.6     2052     22  2011      Fiction  \n2          Jordan B. Peterson          4.7    18979     15  2018  Non Fiction  \n3               George Orwell          4.7    21424      6  2017      Fiction  \n4    National Geographic Kids          4.8     7665     12  2019  Non Fiction  \n..                        ...          ...      ...    ...   ...          ...  \n545               Jeff Kinney          4.9     9413      8  2019      Fiction  \n546               Jen Sincero          4.7    14331      8  2016  Non Fiction  \n547               Jen Sincero          4.7    14331      8  2017  Non Fiction  \n548               Jen Sincero          4.7    14331      8  2018  Non Fiction  \n549               Jen Sincero          4.7    14331      8  2019  Non Fiction  \n\n[550 rows x 7 columns]",
      "text/html": "<div>\n<style scoped>\n    .dataframe tbody tr th:only-of-type {\n        vertical-align: middle;\n    }\n\n    .dataframe tbody tr th {\n        vertical-align: top;\n    }\n\n    .dataframe thead th {\n        text-align: right;\n    }\n</style>\n<table border=\"1\" class=\"dataframe\">\n  <thead>\n    <tr style=\"text-align: right;\">\n      <th></th>\n      <th>Namess</th>\n      <th>Author</th>\n      <th>User Rating</th>\n      <th>Reviews</th>\n      <th>Price</th>\n      <th>Year</th>\n      <th>Genre</th>\n    </tr>\n  </thead>\n  <tbody>\n    <tr>\n      <th>0</th>\n      <td>10-Day Green Smoothie Cleanse</td>\n      <td>JJ Smith</td>\n      <td>4.7</td>\n      <td>17350</td>\n      <td>8</td>\n      <td>2016</td>\n      <td>Non Fiction</td>\n    </tr>\n    <tr>\n      <th>1</th>\n      <td>11/22/63: A Novel</td>\n      <td>Stephen King</td>\n      <td>4.6</td>\n      <td>2052</td>\n      <td>22</td>\n      <td>2011</td>\n      <td>Fiction</td>\n    </tr>\n    <tr>\n      <th>2</th>\n      <td>12 Rules for Life: An Antidote to Chaos</td>\n      <td>Jordan B. Peterson</td>\n      <td>4.7</td>\n      <td>18979</td>\n      <td>15</td>\n      <td>2018</td>\n      <td>Non Fiction</td>\n    </tr>\n    <tr>\n      <th>3</th>\n      <td>1984 (Signet Classics)</td>\n      <td>George Orwell</td>\n      <td>4.7</td>\n      <td>21424</td>\n      <td>6</td>\n      <td>2017</td>\n      <td>Fiction</td>\n    </tr>\n    <tr>\n      <th>4</th>\n      <td>5,000 Awesome Facts (About Everything!) (Natio...</td>\n      <td>National Geographic Kids</td>\n      <td>4.8</td>\n      <td>7665</td>\n      <td>12</td>\n      <td>2019</td>\n      <td>Non Fiction</td>\n    </tr>\n    <tr>\n      <th>...</th>\n      <td>...</td>\n      <td>...</td>\n      <td>...</td>\n      <td>...</td>\n      <td>...</td>\n      <td>...</td>\n      <td>...</td>\n    </tr>\n    <tr>\n      <th>545</th>\n      <td>Wrecking Ball (Diary of a Wimpy Kid Book 14)</td>\n      <td>Jeff Kinney</td>\n      <td>4.9</td>\n      <td>9413</td>\n      <td>8</td>\n      <td>2019</td>\n      <td>Fiction</td>\n    </tr>\n    <tr>\n      <th>546</th>\n      <td>You Are a Badass: How to Stop Doubting Your Gr...</td>\n      <td>Jen Sincero</td>\n      <td>4.7</td>\n      <td>14331</td>\n      <td>8</td>\n      <td>2016</td>\n      <td>Non Fiction</td>\n    </tr>\n    <tr>\n      <th>547</th>\n      <td>You Are a Badass: How to Stop Doubting Your Gr...</td>\n      <td>Jen Sincero</td>\n      <td>4.7</td>\n      <td>14331</td>\n      <td>8</td>\n      <td>2017</td>\n      <td>Non Fiction</td>\n    </tr>\n    <tr>\n      <th>548</th>\n      <td>You Are a Badass: How to Stop Doubting Your Gr...</td>\n      <td>Jen Sincero</td>\n      <td>4.7</td>\n      <td>14331</td>\n      <td>8</td>\n      <td>2018</td>\n      <td>Non Fiction</td>\n    </tr>\n    <tr>\n      <th>549</th>\n      <td>You Are a Badass: How to Stop Doubting Your Gr...</td>\n      <td>Jen Sincero</td>\n      <td>4.7</td>\n      <td>14331</td>\n      <td>8</td>\n      <td>2019</td>\n      <td>Non Fiction</td>\n    </tr>\n  </tbody>\n</table>\n<p>550 rows × 7 columns</p>\n</div>"
     },
     "metadata": {}
    }
   ],
   "execution_count": 49
  },
  {
   "cell_type": "code",
   "source": "df_books.loc[0:4] # si incluye la última posición",
   "metadata": {
    "cell_id": "3ffa239357184ee0bc6bda9cffacd59a",
    "tags": [],
    "deepnote_to_be_reexecuted": false,
    "source_hash": "7e66039d",
    "execution_start": 1658552281724,
    "execution_millis": 84,
    "deepnote_cell_type": "code",
    "deepnote_cell_height": 410
   },
   "outputs": [
    {
     "output_type": "execute_result",
     "execution_count": 50,
     "data": {
      "application/vnd.deepnote.dataframe.v3+json": {
       "column_count": 7,
       "row_count": 5,
       "columns": [
        {
         "name": "Namess",
         "dtype": "object",
         "stats": {
          "unique_count": 5,
          "nan_count": 0,
          "categories": [
           {
            "name": "10-Day Green Smoothie Cleanse",
            "count": 1
           },
           {
            "name": "11/22/63: A Novel",
            "count": 1
           },
           {
            "name": "3 others",
            "count": 3
           }
          ]
         }
        },
        {
         "name": "Author",
         "dtype": "object",
         "stats": {
          "unique_count": 5,
          "nan_count": 0,
          "categories": [
           {
            "name": "JJ Smith",
            "count": 1
           },
           {
            "name": "Stephen King",
            "count": 1
           },
           {
            "name": "3 others",
            "count": 3
           }
          ]
         }
        },
        {
         "name": "User Rating",
         "dtype": "float64",
         "stats": {
          "unique_count": 3,
          "nan_count": 0,
          "min": "4.6",
          "max": "4.8",
          "histogram": [
           {
            "bin_start": 4.6,
            "bin_end": 4.619999999999999,
            "count": 1
           },
           {
            "bin_start": 4.619999999999999,
            "bin_end": 4.64,
            "count": 0
           },
           {
            "bin_start": 4.64,
            "bin_end": 4.66,
            "count": 0
           },
           {
            "bin_start": 4.66,
            "bin_end": 4.68,
            "count": 0
           },
           {
            "bin_start": 4.68,
            "bin_end": 4.699999999999999,
            "count": 0
           },
           {
            "bin_start": 4.699999999999999,
            "bin_end": 4.72,
            "count": 3
           },
           {
            "bin_start": 4.72,
            "bin_end": 4.74,
            "count": 0
           },
           {
            "bin_start": 4.74,
            "bin_end": 4.76,
            "count": 0
           },
           {
            "bin_start": 4.76,
            "bin_end": 4.779999999999999,
            "count": 0
           },
           {
            "bin_start": 4.779999999999999,
            "bin_end": 4.8,
            "count": 1
           }
          ]
         }
        },
        {
         "name": "Reviews",
         "dtype": "int64",
         "stats": {
          "unique_count": 5,
          "nan_count": 0,
          "min": "2052",
          "max": "21424",
          "histogram": [
           {
            "bin_start": 2052,
            "bin_end": 3989.2,
            "count": 1
           },
           {
            "bin_start": 3989.2,
            "bin_end": 5926.4,
            "count": 0
           },
           {
            "bin_start": 5926.4,
            "bin_end": 7863.6,
            "count": 1
           },
           {
            "bin_start": 7863.6,
            "bin_end": 9800.8,
            "count": 0
           },
           {
            "bin_start": 9800.8,
            "bin_end": 11738,
            "count": 0
           },
           {
            "bin_start": 11738,
            "bin_end": 13675.2,
            "count": 0
           },
           {
            "bin_start": 13675.2,
            "bin_end": 15612.4,
            "count": 0
           },
           {
            "bin_start": 15612.4,
            "bin_end": 17549.6,
            "count": 1
           },
           {
            "bin_start": 17549.6,
            "bin_end": 19486.8,
            "count": 1
           },
           {
            "bin_start": 19486.8,
            "bin_end": 21424,
            "count": 1
           }
          ]
         }
        },
        {
         "name": "Price",
         "dtype": "int64",
         "stats": {
          "unique_count": 5,
          "nan_count": 0,
          "min": "6",
          "max": "22",
          "histogram": [
           {
            "bin_start": 6,
            "bin_end": 7.6,
            "count": 1
           },
           {
            "bin_start": 7.6,
            "bin_end": 9.2,
            "count": 1
           },
           {
            "bin_start": 9.2,
            "bin_end": 10.8,
            "count": 0
           },
           {
            "bin_start": 10.8,
            "bin_end": 12.4,
            "count": 1
           },
           {
            "bin_start": 12.4,
            "bin_end": 14,
            "count": 0
           },
           {
            "bin_start": 14,
            "bin_end": 15.600000000000001,
            "count": 1
           },
           {
            "bin_start": 15.600000000000001,
            "bin_end": 17.200000000000003,
            "count": 0
           },
           {
            "bin_start": 17.200000000000003,
            "bin_end": 18.8,
            "count": 0
           },
           {
            "bin_start": 18.8,
            "bin_end": 20.4,
            "count": 0
           },
           {
            "bin_start": 20.4,
            "bin_end": 22,
            "count": 1
           }
          ]
         }
        },
        {
         "name": "Year",
         "dtype": "int64",
         "stats": {
          "unique_count": 5,
          "nan_count": 0,
          "min": "2011",
          "max": "2019",
          "histogram": [
           {
            "bin_start": 2011,
            "bin_end": 2011.8,
            "count": 1
           },
           {
            "bin_start": 2011.8,
            "bin_end": 2012.6,
            "count": 0
           },
           {
            "bin_start": 2012.6,
            "bin_end": 2013.4,
            "count": 0
           },
           {
            "bin_start": 2013.4,
            "bin_end": 2014.2,
            "count": 0
           },
           {
            "bin_start": 2014.2,
            "bin_end": 2015,
            "count": 0
           },
           {
            "bin_start": 2015,
            "bin_end": 2015.8,
            "count": 0
           },
           {
            "bin_start": 2015.8,
            "bin_end": 2016.6,
            "count": 1
           },
           {
            "bin_start": 2016.6,
            "bin_end": 2017.4,
            "count": 1
           },
           {
            "bin_start": 2017.4,
            "bin_end": 2018.2,
            "count": 1
           },
           {
            "bin_start": 2018.2,
            "bin_end": 2019,
            "count": 1
           }
          ]
         }
        },
        {
         "name": "Genre",
         "dtype": "object",
         "stats": {
          "unique_count": 2,
          "nan_count": 0,
          "categories": [
           {
            "name": "Non Fiction",
            "count": 3
           },
           {
            "name": "Fiction",
            "count": 2
           }
          ]
         }
        },
        {
         "name": "_deepnote_index_column",
         "dtype": "int64"
        }
       ],
       "rows": [
        {
         "Namess": "10-Day Green Smoothie Cleanse",
         "Author": "JJ Smith",
         "User Rating": 4.7,
         "Reviews": 17350,
         "Price": 8,
         "Year": 2016,
         "Genre": "Non Fiction",
         "_deepnote_index_column": 0
        },
        {
         "Namess": "11/22/63: A Novel",
         "Author": "Stephen King",
         "User Rating": 4.6,
         "Reviews": 2052,
         "Price": 22,
         "Year": 2011,
         "Genre": "Fiction",
         "_deepnote_index_column": 1
        },
        {
         "Namess": "12 Rules for Life: An Antidote to Chaos",
         "Author": "Jordan B. Peterson",
         "User Rating": 4.7,
         "Reviews": 18979,
         "Price": 15,
         "Year": 2018,
         "Genre": "Non Fiction",
         "_deepnote_index_column": 2
        },
        {
         "Namess": "1984 (Signet Classics)",
         "Author": "George Orwell",
         "User Rating": 4.7,
         "Reviews": 21424,
         "Price": 6,
         "Year": 2017,
         "Genre": "Fiction",
         "_deepnote_index_column": 3
        },
        {
         "Namess": "5,000 Awesome Facts (About Everything!) (National Geographic Kids)",
         "Author": "National Geographic Kids",
         "User Rating": 4.8,
         "Reviews": 7665,
         "Price": 12,
         "Year": 2019,
         "Genre": "Non Fiction",
         "_deepnote_index_column": 4
        }
       ]
      },
      "text/plain": "                                              Namess  \\\n0                      10-Day Green Smoothie Cleanse   \n1                                  11/22/63: A Novel   \n2            12 Rules for Life: An Antidote to Chaos   \n3                             1984 (Signet Classics)   \n4  5,000 Awesome Facts (About Everything!) (Natio...   \n\n                     Author  User Rating  Reviews  Price  Year        Genre  \n0                  JJ Smith          4.7    17350      8  2016  Non Fiction  \n1              Stephen King          4.6     2052     22  2011      Fiction  \n2        Jordan B. Peterson          4.7    18979     15  2018  Non Fiction  \n3             George Orwell          4.7    21424      6  2017      Fiction  \n4  National Geographic Kids          4.8     7665     12  2019  Non Fiction  ",
      "text/html": "<div>\n<style scoped>\n    .dataframe tbody tr th:only-of-type {\n        vertical-align: middle;\n    }\n\n    .dataframe tbody tr th {\n        vertical-align: top;\n    }\n\n    .dataframe thead th {\n        text-align: right;\n    }\n</style>\n<table border=\"1\" class=\"dataframe\">\n  <thead>\n    <tr style=\"text-align: right;\">\n      <th></th>\n      <th>Namess</th>\n      <th>Author</th>\n      <th>User Rating</th>\n      <th>Reviews</th>\n      <th>Price</th>\n      <th>Year</th>\n      <th>Genre</th>\n    </tr>\n  </thead>\n  <tbody>\n    <tr>\n      <th>0</th>\n      <td>10-Day Green Smoothie Cleanse</td>\n      <td>JJ Smith</td>\n      <td>4.7</td>\n      <td>17350</td>\n      <td>8</td>\n      <td>2016</td>\n      <td>Non Fiction</td>\n    </tr>\n    <tr>\n      <th>1</th>\n      <td>11/22/63: A Novel</td>\n      <td>Stephen King</td>\n      <td>4.6</td>\n      <td>2052</td>\n      <td>22</td>\n      <td>2011</td>\n      <td>Fiction</td>\n    </tr>\n    <tr>\n      <th>2</th>\n      <td>12 Rules for Life: An Antidote to Chaos</td>\n      <td>Jordan B. Peterson</td>\n      <td>4.7</td>\n      <td>18979</td>\n      <td>15</td>\n      <td>2018</td>\n      <td>Non Fiction</td>\n    </tr>\n    <tr>\n      <th>3</th>\n      <td>1984 (Signet Classics)</td>\n      <td>George Orwell</td>\n      <td>4.7</td>\n      <td>21424</td>\n      <td>6</td>\n      <td>2017</td>\n      <td>Fiction</td>\n    </tr>\n    <tr>\n      <th>4</th>\n      <td>5,000 Awesome Facts (About Everything!) (Natio...</td>\n      <td>National Geographic Kids</td>\n      <td>4.8</td>\n      <td>7665</td>\n      <td>12</td>\n      <td>2019</td>\n      <td>Non Fiction</td>\n    </tr>\n  </tbody>\n</table>\n</div>"
     },
     "metadata": {}
    }
   ],
   "execution_count": 50
  },
  {
   "cell_type": "code",
   "source": "df_books.loc[0:4, ['Namess', 'Author']]",
   "metadata": {
    "cell_id": "16703657cd8747aa959542f3cf535740",
    "tags": [],
    "deepnote_to_be_reexecuted": false,
    "source_hash": "33ede216",
    "execution_start": 1658552334251,
    "execution_millis": 37,
    "deepnote_cell_type": "code",
    "deepnote_cell_height": 395
   },
   "outputs": [
    {
     "output_type": "execute_result",
     "execution_count": 53,
     "data": {
      "application/vnd.deepnote.dataframe.v3+json": {
       "column_count": 2,
       "row_count": 5,
       "columns": [
        {
         "name": "Namess",
         "dtype": "object",
         "stats": {
          "unique_count": 5,
          "nan_count": 0,
          "categories": [
           {
            "name": "10-Day Green Smoothie Cleanse",
            "count": 1
           },
           {
            "name": "11/22/63: A Novel",
            "count": 1
           },
           {
            "name": "3 others",
            "count": 3
           }
          ]
         }
        },
        {
         "name": "Author",
         "dtype": "object",
         "stats": {
          "unique_count": 5,
          "nan_count": 0,
          "categories": [
           {
            "name": "JJ Smith",
            "count": 1
           },
           {
            "name": "Stephen King",
            "count": 1
           },
           {
            "name": "3 others",
            "count": 3
           }
          ]
         }
        },
        {
         "name": "_deepnote_index_column",
         "dtype": "int64"
        }
       ],
       "rows": [
        {
         "Namess": "10-Day Green Smoothie Cleanse",
         "Author": "JJ Smith",
         "_deepnote_index_column": 0
        },
        {
         "Namess": "11/22/63: A Novel",
         "Author": "Stephen King",
         "_deepnote_index_column": 1
        },
        {
         "Namess": "12 Rules for Life: An Antidote to Chaos",
         "Author": "Jordan B. Peterson",
         "_deepnote_index_column": 2
        },
        {
         "Namess": "1984 (Signet Classics)",
         "Author": "George Orwell",
         "_deepnote_index_column": 3
        },
        {
         "Namess": "5,000 Awesome Facts (About Everything!) (National Geographic Kids)",
         "Author": "National Geographic Kids",
         "_deepnote_index_column": 4
        }
       ]
      },
      "text/plain": "                                              Namess                    Author\n0                      10-Day Green Smoothie Cleanse                  JJ Smith\n1                                  11/22/63: A Novel              Stephen King\n2            12 Rules for Life: An Antidote to Chaos        Jordan B. Peterson\n3                             1984 (Signet Classics)             George Orwell\n4  5,000 Awesome Facts (About Everything!) (Natio...  National Geographic Kids",
      "text/html": "<div>\n<style scoped>\n    .dataframe tbody tr th:only-of-type {\n        vertical-align: middle;\n    }\n\n    .dataframe tbody tr th {\n        vertical-align: top;\n    }\n\n    .dataframe thead th {\n        text-align: right;\n    }\n</style>\n<table border=\"1\" class=\"dataframe\">\n  <thead>\n    <tr style=\"text-align: right;\">\n      <th></th>\n      <th>Namess</th>\n      <th>Author</th>\n    </tr>\n  </thead>\n  <tbody>\n    <tr>\n      <th>0</th>\n      <td>10-Day Green Smoothie Cleanse</td>\n      <td>JJ Smith</td>\n    </tr>\n    <tr>\n      <th>1</th>\n      <td>11/22/63: A Novel</td>\n      <td>Stephen King</td>\n    </tr>\n    <tr>\n      <th>2</th>\n      <td>12 Rules for Life: An Antidote to Chaos</td>\n      <td>Jordan B. Peterson</td>\n    </tr>\n    <tr>\n      <th>3</th>\n      <td>1984 (Signet Classics)</td>\n      <td>George Orwell</td>\n    </tr>\n    <tr>\n      <th>4</th>\n      <td>5,000 Awesome Facts (About Everything!) (Natio...</td>\n      <td>National Geographic Kids</td>\n    </tr>\n  </tbody>\n</table>\n</div>"
     },
     "metadata": {}
    }
   ],
   "execution_count": 53
  },
  {
   "cell_type": "code",
   "source": "df_books.loc[:, ['Reviews']] * -1",
   "metadata": {
    "cell_id": "5f639cae42354c3981e1f30badb5bf5e",
    "tags": [],
    "deepnote_to_be_reexecuted": false,
    "source_hash": "80d09b89",
    "execution_start": 1658552370515,
    "execution_millis": 364,
    "deepnote_cell_type": "code",
    "deepnote_cell_height": 600
   },
   "outputs": [
    {
     "output_type": "execute_result",
     "execution_count": 54,
     "data": {
      "application/vnd.deepnote.dataframe.v3+json": {
       "column_count": 1,
       "row_count": 550,
       "columns": [
        {
         "name": "Reviews",
         "dtype": "int64",
         "stats": {
          "unique_count": 346,
          "nan_count": 0,
          "min": "-87841",
          "max": "-37",
          "histogram": [
           {
            "bin_start": -87841,
            "bin_end": -79060.6,
            "count": 3
           },
           {
            "bin_start": -79060.6,
            "bin_end": -70280.2,
            "count": 0
           },
           {
            "bin_start": -70280.2,
            "bin_end": -61499.8,
            "count": 0
           },
           {
            "bin_start": -61499.8,
            "bin_end": -52719.4,
            "count": 5
           },
           {
            "bin_start": -52719.4,
            "bin_end": -43939,
            "count": 8
           },
           {
            "bin_start": -43939,
            "bin_end": -35158.600000000006,
            "count": 4
           },
           {
            "bin_start": -35158.600000000006,
            "bin_end": -26378.200000000004,
            "count": 25
           },
           {
            "bin_start": -26378.200000000004,
            "bin_end": -17597.800000000003,
            "count": 87
           },
           {
            "bin_start": -17597.800000000003,
            "bin_end": -8817.400000000009,
            "count": 131
           },
           {
            "bin_start": -8817.400000000009,
            "bin_end": -37,
            "count": 287
           }
          ]
         }
        },
        {
         "name": "_deepnote_index_column",
         "dtype": "int64"
        }
       ],
       "rows": [
        {
         "Reviews": -17350,
         "_deepnote_index_column": 0
        },
        {
         "Reviews": -2052,
         "_deepnote_index_column": 1
        },
        {
         "Reviews": -18979,
         "_deepnote_index_column": 2
        },
        {
         "Reviews": -21424,
         "_deepnote_index_column": 3
        },
        {
         "Reviews": -7665,
         "_deepnote_index_column": 4
        },
        {
         "Reviews": -12643,
         "_deepnote_index_column": 5
        },
        {
         "Reviews": -19735,
         "_deepnote_index_column": 6
        },
        {
         "Reviews": -19699,
         "_deepnote_index_column": 7
        },
        {
         "Reviews": -5983,
         "_deepnote_index_column": 8
        },
        {
         "Reviews": -23848,
         "_deepnote_index_column": 9
        }
       ]
      },
      "text/plain": "     Reviews\n0     -17350\n1      -2052\n2     -18979\n3     -21424\n4      -7665\n..       ...\n545    -9413\n546   -14331\n547   -14331\n548   -14331\n549   -14331\n\n[550 rows x 1 columns]",
      "text/html": "<div>\n<style scoped>\n    .dataframe tbody tr th:only-of-type {\n        vertical-align: middle;\n    }\n\n    .dataframe tbody tr th {\n        vertical-align: top;\n    }\n\n    .dataframe thead th {\n        text-align: right;\n    }\n</style>\n<table border=\"1\" class=\"dataframe\">\n  <thead>\n    <tr style=\"text-align: right;\">\n      <th></th>\n      <th>Reviews</th>\n    </tr>\n  </thead>\n  <tbody>\n    <tr>\n      <th>0</th>\n      <td>-17350</td>\n    </tr>\n    <tr>\n      <th>1</th>\n      <td>-2052</td>\n    </tr>\n    <tr>\n      <th>2</th>\n      <td>-18979</td>\n    </tr>\n    <tr>\n      <th>3</th>\n      <td>-21424</td>\n    </tr>\n    <tr>\n      <th>4</th>\n      <td>-7665</td>\n    </tr>\n    <tr>\n      <th>...</th>\n      <td>...</td>\n    </tr>\n    <tr>\n      <th>545</th>\n      <td>-9413</td>\n    </tr>\n    <tr>\n      <th>546</th>\n      <td>-14331</td>\n    </tr>\n    <tr>\n      <th>547</th>\n      <td>-14331</td>\n    </tr>\n    <tr>\n      <th>548</th>\n      <td>-14331</td>\n    </tr>\n    <tr>\n      <th>549</th>\n      <td>-14331</td>\n    </tr>\n  </tbody>\n</table>\n<p>550 rows × 1 columns</p>\n</div>"
     },
     "metadata": {}
    }
   ],
   "execution_count": 54
  },
  {
   "cell_type": "code",
   "source": "df_books.loc[:, ['Author']] == 'JJ Smith'",
   "metadata": {
    "cell_id": "466550b8dc36457e8d9f828bb59c9450",
    "tags": [],
    "deepnote_to_be_reexecuted": false,
    "source_hash": "a78accb3",
    "execution_start": 1658552431635,
    "execution_millis": 60,
    "deepnote_table_state": {
     "pageSize": 10,
     "pageIndex": 0,
     "filters": [],
     "sortBy": []
    },
    "deepnote_table_loading": false,
    "deepnote_cell_type": "code",
    "deepnote_cell_height": 600
   },
   "outputs": [
    {
     "output_type": "execute_result",
     "execution_count": 56,
     "data": {
      "application/vnd.deepnote.dataframe.v3+json": {
       "column_count": 1,
       "row_count": 550,
       "columns": [
        {
         "name": "Author",
         "dtype": "bool",
         "stats": {
          "unique_count": 2,
          "nan_count": 0,
          "categories": [
           {
            "name": "False",
            "count": 549
           },
           {
            "name": "True",
            "count": 1
           }
          ]
         }
        },
        {
         "name": "_deepnote_index_column",
         "dtype": "int64"
        }
       ],
       "rows": [
        {
         "Author": true,
         "_deepnote_index_column": 0
        },
        {
         "Author": false,
         "_deepnote_index_column": 1
        },
        {
         "Author": false,
         "_deepnote_index_column": 2
        },
        {
         "Author": false,
         "_deepnote_index_column": 3
        },
        {
         "Author": false,
         "_deepnote_index_column": 4
        },
        {
         "Author": false,
         "_deepnote_index_column": 5
        },
        {
         "Author": false,
         "_deepnote_index_column": 6
        },
        {
         "Author": false,
         "_deepnote_index_column": 7
        },
        {
         "Author": false,
         "_deepnote_index_column": 8
        },
        {
         "Author": false,
         "_deepnote_index_column": 9
        }
       ]
      },
      "text/plain": "     Author\n0      True\n1     False\n2     False\n3     False\n4     False\n..      ...\n545   False\n546   False\n547   False\n548   False\n549   False\n\n[550 rows x 1 columns]",
      "text/html": "<div>\n<style scoped>\n    .dataframe tbody tr th:only-of-type {\n        vertical-align: middle;\n    }\n\n    .dataframe tbody tr th {\n        vertical-align: top;\n    }\n\n    .dataframe thead th {\n        text-align: right;\n    }\n</style>\n<table border=\"1\" class=\"dataframe\">\n  <thead>\n    <tr style=\"text-align: right;\">\n      <th></th>\n      <th>Author</th>\n    </tr>\n  </thead>\n  <tbody>\n    <tr>\n      <th>0</th>\n      <td>True</td>\n    </tr>\n    <tr>\n      <th>1</th>\n      <td>False</td>\n    </tr>\n    <tr>\n      <th>2</th>\n      <td>False</td>\n    </tr>\n    <tr>\n      <th>3</th>\n      <td>False</td>\n    </tr>\n    <tr>\n      <th>4</th>\n      <td>False</td>\n    </tr>\n    <tr>\n      <th>...</th>\n      <td>...</td>\n    </tr>\n    <tr>\n      <th>545</th>\n      <td>False</td>\n    </tr>\n    <tr>\n      <th>546</th>\n      <td>False</td>\n    </tr>\n    <tr>\n      <th>547</th>\n      <td>False</td>\n    </tr>\n    <tr>\n      <th>548</th>\n      <td>False</td>\n    </tr>\n    <tr>\n      <th>549</th>\n      <td>False</td>\n    </tr>\n  </tbody>\n</table>\n<p>550 rows × 1 columns</p>\n</div>"
     },
     "metadata": {}
    }
   ],
   "execution_count": 55
  },
  {
   "cell_type": "markdown",
   "source": "### Iloc\nAccede a las columnas mediante los indices de las mismas.",
   "metadata": {
    "cell_id": "13f36b857b514d2ea7916a5f5578f275",
    "tags": [],
    "deepnote_cell_type": "markdown",
    "deepnote_cell_height": 100.390625
   }
  },
  {
   "cell_type": "code",
   "source": "df_books.iloc[:]",
   "metadata": {
    "cell_id": "d5c2ef6554aa433c9122205388a3c982",
    "tags": [],
    "deepnote_to_be_reexecuted": false,
    "source_hash": "2726d569",
    "execution_start": 1658552508858,
    "execution_millis": 68,
    "deepnote_cell_type": "code",
    "deepnote_cell_height": 600
   },
   "outputs": [
    {
     "output_type": "execute_result",
     "execution_count": 56,
     "data": {
      "application/vnd.deepnote.dataframe.v3+json": {
       "column_count": 7,
       "row_count": 550,
       "columns": [
        {
         "name": "Namess",
         "dtype": "object",
         "stats": {
          "unique_count": 351,
          "nan_count": 0,
          "categories": [
           {
            "name": "Publication Manual of the American Psychological Association, 6th Edition",
            "count": 10
           },
           {
            "name": "StrengthsFinder 2.0",
            "count": 9
           },
           {
            "name": "349 others",
            "count": 531
           }
          ]
         }
        },
        {
         "name": "Author",
         "dtype": "object",
         "stats": {
          "unique_count": 248,
          "nan_count": 0,
          "categories": [
           {
            "name": "Jeff Kinney",
            "count": 12
           },
           {
            "name": "Suzanne Collins",
            "count": 11
           },
           {
            "name": "246 others",
            "count": 527
           }
          ]
         }
        },
        {
         "name": "User Rating",
         "dtype": "float64",
         "stats": {
          "unique_count": 14,
          "nan_count": 0,
          "min": "3.3",
          "max": "4.9",
          "histogram": [
           {
            "bin_start": 3.3,
            "bin_end": 3.46,
            "count": 1
           },
           {
            "bin_start": 3.46,
            "bin_end": 3.62,
            "count": 1
           },
           {
            "bin_start": 3.62,
            "bin_end": 3.7800000000000002,
            "count": 0
           },
           {
            "bin_start": 3.7800000000000002,
            "bin_end": 3.94,
            "count": 5
           },
           {
            "bin_start": 3.94,
            "bin_end": 4.1,
            "count": 14
           },
           {
            "bin_start": 4.1,
            "bin_end": 4.26,
            "count": 14
           },
           {
            "bin_start": 4.26,
            "bin_end": 4.42,
            "count": 63
           },
           {
            "bin_start": 4.42,
            "bin_end": 4.58,
            "count": 60
           },
           {
            "bin_start": 4.58,
            "bin_end": 4.74,
            "count": 213
           },
           {
            "bin_start": 4.74,
            "bin_end": 4.9,
            "count": 179
           }
          ]
         }
        },
        {
         "name": "Reviews",
         "dtype": "int64",
         "stats": {
          "unique_count": 346,
          "nan_count": 0,
          "min": "37",
          "max": "87841",
          "histogram": [
           {
            "bin_start": 37,
            "bin_end": 8817.4,
            "count": 287
           },
           {
            "bin_start": 8817.4,
            "bin_end": 17597.8,
            "count": 131
           },
           {
            "bin_start": 17597.8,
            "bin_end": 26378.199999999997,
            "count": 87
           },
           {
            "bin_start": 26378.199999999997,
            "bin_end": 35158.6,
            "count": 25
           },
           {
            "bin_start": 35158.6,
            "bin_end": 43939,
            "count": 4
           },
           {
            "bin_start": 43939,
            "bin_end": 52719.399999999994,
            "count": 8
           },
           {
            "bin_start": 52719.399999999994,
            "bin_end": 61499.799999999996,
            "count": 5
           },
           {
            "bin_start": 61499.799999999996,
            "bin_end": 70280.2,
            "count": 0
           },
           {
            "bin_start": 70280.2,
            "bin_end": 79060.59999999999,
            "count": 0
           },
           {
            "bin_start": 79060.59999999999,
            "bin_end": 87841,
            "count": 3
           }
          ]
         }
        },
        {
         "name": "Price",
         "dtype": "int64",
         "stats": {
          "unique_count": 40,
          "nan_count": 0,
          "min": "0",
          "max": "105",
          "histogram": [
           {
            "bin_start": 0,
            "bin_end": 10.5,
            "count": 266
           },
           {
            "bin_start": 10.5,
            "bin_end": 21,
            "count": 216
           },
           {
            "bin_start": 21,
            "bin_end": 31.5,
            "count": 42
           },
           {
            "bin_start": 31.5,
            "bin_end": 42,
            "count": 9
           },
           {
            "bin_start": 42,
            "bin_end": 52.5,
            "count": 12
           },
           {
            "bin_start": 52.5,
            "bin_end": 63,
            "count": 2
           },
           {
            "bin_start": 63,
            "bin_end": 73.5,
            "count": 0
           },
           {
            "bin_start": 73.5,
            "bin_end": 84,
            "count": 1
           },
           {
            "bin_start": 84,
            "bin_end": 94.5,
            "count": 0
           },
           {
            "bin_start": 94.5,
            "bin_end": 105,
            "count": 2
           }
          ]
         }
        },
        {
         "name": "Year",
         "dtype": "int64",
         "stats": {
          "unique_count": 11,
          "nan_count": 0,
          "min": "2009",
          "max": "2019",
          "histogram": [
           {
            "bin_start": 2009,
            "bin_end": 2010,
            "count": 50
           },
           {
            "bin_start": 2010,
            "bin_end": 2011,
            "count": 50
           },
           {
            "bin_start": 2011,
            "bin_end": 2012,
            "count": 50
           },
           {
            "bin_start": 2012,
            "bin_end": 2013,
            "count": 50
           },
           {
            "bin_start": 2013,
            "bin_end": 2014,
            "count": 50
           },
           {
            "bin_start": 2014,
            "bin_end": 2015,
            "count": 50
           },
           {
            "bin_start": 2015,
            "bin_end": 2016,
            "count": 50
           },
           {
            "bin_start": 2016,
            "bin_end": 2017,
            "count": 50
           },
           {
            "bin_start": 2017,
            "bin_end": 2018,
            "count": 50
           },
           {
            "bin_start": 2018,
            "bin_end": 2019,
            "count": 100
           }
          ]
         }
        },
        {
         "name": "Genre",
         "dtype": "object",
         "stats": {
          "unique_count": 2,
          "nan_count": 0,
          "categories": [
           {
            "name": "Non Fiction",
            "count": 310
           },
           {
            "name": "Fiction",
            "count": 240
           }
          ]
         }
        },
        {
         "name": "_deepnote_index_column",
         "dtype": "int64"
        }
       ],
       "rows": [
        {
         "Namess": "10-Day Green Smoothie Cleanse",
         "Author": "JJ Smith",
         "User Rating": 4.7,
         "Reviews": 17350,
         "Price": 8,
         "Year": 2016,
         "Genre": "Non Fiction",
         "_deepnote_index_column": 0
        },
        {
         "Namess": "11/22/63: A Novel",
         "Author": "Stephen King",
         "User Rating": 4.6,
         "Reviews": 2052,
         "Price": 22,
         "Year": 2011,
         "Genre": "Fiction",
         "_deepnote_index_column": 1
        },
        {
         "Namess": "12 Rules for Life: An Antidote to Chaos",
         "Author": "Jordan B. Peterson",
         "User Rating": 4.7,
         "Reviews": 18979,
         "Price": 15,
         "Year": 2018,
         "Genre": "Non Fiction",
         "_deepnote_index_column": 2
        },
        {
         "Namess": "1984 (Signet Classics)",
         "Author": "George Orwell",
         "User Rating": 4.7,
         "Reviews": 21424,
         "Price": 6,
         "Year": 2017,
         "Genre": "Fiction",
         "_deepnote_index_column": 3
        },
        {
         "Namess": "5,000 Awesome Facts (About Everything!) (National Geographic Kids)",
         "Author": "National Geographic Kids",
         "User Rating": 4.8,
         "Reviews": 7665,
         "Price": 12,
         "Year": 2019,
         "Genre": "Non Fiction",
         "_deepnote_index_column": 4
        },
        {
         "Namess": "A Dance with Dragons (A Song of Ice and Fire)",
         "Author": "George R. R. Martin",
         "User Rating": 4.4,
         "Reviews": 12643,
         "Price": 11,
         "Year": 2011,
         "Genre": "Fiction",
         "_deepnote_index_column": 5
        },
        {
         "Namess": "A Game of Thrones / A Clash of Kings / A Storm of Swords / A Feast of Crows / A Dance with Dragons",
         "Author": "George R. R. Martin",
         "User Rating": 4.7,
         "Reviews": 19735,
         "Price": 30,
         "Year": 2014,
         "Genre": "Fiction",
         "_deepnote_index_column": 6
        },
        {
         "Namess": "A Gentleman in Moscow: A Novel",
         "Author": "Amor Towles",
         "User Rating": 4.7,
         "Reviews": 19699,
         "Price": 15,
         "Year": 2017,
         "Genre": "Fiction",
         "_deepnote_index_column": 7
        },
        {
         "Namess": "A Higher Loyalty: Truth, Lies, and Leadership",
         "Author": "James Comey",
         "User Rating": 4.7,
         "Reviews": 5983,
         "Price": 3,
         "Year": 2018,
         "Genre": "Non Fiction",
         "_deepnote_index_column": 8
        },
        {
         "Namess": "A Man Called Ove: A Novel",
         "Author": "Fredrik Backman",
         "User Rating": 4.6,
         "Reviews": 23848,
         "Price": 8,
         "Year": 2016,
         "Genre": "Fiction",
         "_deepnote_index_column": 9
        }
       ]
      },
      "text/plain": "                                                Namess  \\\n0                        10-Day Green Smoothie Cleanse   \n1                                    11/22/63: A Novel   \n2              12 Rules for Life: An Antidote to Chaos   \n3                               1984 (Signet Classics)   \n4    5,000 Awesome Facts (About Everything!) (Natio...   \n..                                                 ...   \n545       Wrecking Ball (Diary of a Wimpy Kid Book 14)   \n546  You Are a Badass: How to Stop Doubting Your Gr...   \n547  You Are a Badass: How to Stop Doubting Your Gr...   \n548  You Are a Badass: How to Stop Doubting Your Gr...   \n549  You Are a Badass: How to Stop Doubting Your Gr...   \n\n                       Author  User Rating  Reviews  Price  Year        Genre  \n0                    JJ Smith          4.7    17350      8  2016  Non Fiction  \n1                Stephen King          4.6     2052     22  2011      Fiction  \n2          Jordan B. Peterson          4.7    18979     15  2018  Non Fiction  \n3               George Orwell          4.7    21424      6  2017      Fiction  \n4    National Geographic Kids          4.8     7665     12  2019  Non Fiction  \n..                        ...          ...      ...    ...   ...          ...  \n545               Jeff Kinney          4.9     9413      8  2019      Fiction  \n546               Jen Sincero          4.7    14331      8  2016  Non Fiction  \n547               Jen Sincero          4.7    14331      8  2017  Non Fiction  \n548               Jen Sincero          4.7    14331      8  2018  Non Fiction  \n549               Jen Sincero          4.7    14331      8  2019  Non Fiction  \n\n[550 rows x 7 columns]",
      "text/html": "<div>\n<style scoped>\n    .dataframe tbody tr th:only-of-type {\n        vertical-align: middle;\n    }\n\n    .dataframe tbody tr th {\n        vertical-align: top;\n    }\n\n    .dataframe thead th {\n        text-align: right;\n    }\n</style>\n<table border=\"1\" class=\"dataframe\">\n  <thead>\n    <tr style=\"text-align: right;\">\n      <th></th>\n      <th>Namess</th>\n      <th>Author</th>\n      <th>User Rating</th>\n      <th>Reviews</th>\n      <th>Price</th>\n      <th>Year</th>\n      <th>Genre</th>\n    </tr>\n  </thead>\n  <tbody>\n    <tr>\n      <th>0</th>\n      <td>10-Day Green Smoothie Cleanse</td>\n      <td>JJ Smith</td>\n      <td>4.7</td>\n      <td>17350</td>\n      <td>8</td>\n      <td>2016</td>\n      <td>Non Fiction</td>\n    </tr>\n    <tr>\n      <th>1</th>\n      <td>11/22/63: A Novel</td>\n      <td>Stephen King</td>\n      <td>4.6</td>\n      <td>2052</td>\n      <td>22</td>\n      <td>2011</td>\n      <td>Fiction</td>\n    </tr>\n    <tr>\n      <th>2</th>\n      <td>12 Rules for Life: An Antidote to Chaos</td>\n      <td>Jordan B. Peterson</td>\n      <td>4.7</td>\n      <td>18979</td>\n      <td>15</td>\n      <td>2018</td>\n      <td>Non Fiction</td>\n    </tr>\n    <tr>\n      <th>3</th>\n      <td>1984 (Signet Classics)</td>\n      <td>George Orwell</td>\n      <td>4.7</td>\n      <td>21424</td>\n      <td>6</td>\n      <td>2017</td>\n      <td>Fiction</td>\n    </tr>\n    <tr>\n      <th>4</th>\n      <td>5,000 Awesome Facts (About Everything!) (Natio...</td>\n      <td>National Geographic Kids</td>\n      <td>4.8</td>\n      <td>7665</td>\n      <td>12</td>\n      <td>2019</td>\n      <td>Non Fiction</td>\n    </tr>\n    <tr>\n      <th>...</th>\n      <td>...</td>\n      <td>...</td>\n      <td>...</td>\n      <td>...</td>\n      <td>...</td>\n      <td>...</td>\n      <td>...</td>\n    </tr>\n    <tr>\n      <th>545</th>\n      <td>Wrecking Ball (Diary of a Wimpy Kid Book 14)</td>\n      <td>Jeff Kinney</td>\n      <td>4.9</td>\n      <td>9413</td>\n      <td>8</td>\n      <td>2019</td>\n      <td>Fiction</td>\n    </tr>\n    <tr>\n      <th>546</th>\n      <td>You Are a Badass: How to Stop Doubting Your Gr...</td>\n      <td>Jen Sincero</td>\n      <td>4.7</td>\n      <td>14331</td>\n      <td>8</td>\n      <td>2016</td>\n      <td>Non Fiction</td>\n    </tr>\n    <tr>\n      <th>547</th>\n      <td>You Are a Badass: How to Stop Doubting Your Gr...</td>\n      <td>Jen Sincero</td>\n      <td>4.7</td>\n      <td>14331</td>\n      <td>8</td>\n      <td>2017</td>\n      <td>Non Fiction</td>\n    </tr>\n    <tr>\n      <th>548</th>\n      <td>You Are a Badass: How to Stop Doubting Your Gr...</td>\n      <td>Jen Sincero</td>\n      <td>4.7</td>\n      <td>14331</td>\n      <td>8</td>\n      <td>2018</td>\n      <td>Non Fiction</td>\n    </tr>\n    <tr>\n      <th>549</th>\n      <td>You Are a Badass: How to Stop Doubting Your Gr...</td>\n      <td>Jen Sincero</td>\n      <td>4.7</td>\n      <td>14331</td>\n      <td>8</td>\n      <td>2019</td>\n      <td>Non Fiction</td>\n    </tr>\n  </tbody>\n</table>\n<p>550 rows × 7 columns</p>\n</div>"
     },
     "metadata": {}
    }
   ],
   "execution_count": 56
  },
  {
   "cell_type": "code",
   "source": "# todas las rows, pero toma solo las columnas de 0 a 3\n# por lo que iloc trabaja con los indices de las columnas\n# no por los valores de ests\ndf_books.iloc[:, 0:3]",
   "metadata": {
    "cell_id": "7459907da4a74512a5354b74654dd5b2",
    "tags": [],
    "deepnote_to_be_reexecuted": false,
    "source_hash": "b89a6851",
    "execution_start": 1658552526191,
    "execution_millis": 46,
    "deepnote_cell_type": "code",
    "deepnote_cell_height": 654
   },
   "outputs": [
    {
     "output_type": "execute_result",
     "execution_count": 57,
     "data": {
      "application/vnd.deepnote.dataframe.v3+json": {
       "column_count": 3,
       "row_count": 550,
       "columns": [
        {
         "name": "Namess",
         "dtype": "object",
         "stats": {
          "unique_count": 351,
          "nan_count": 0,
          "categories": [
           {
            "name": "Publication Manual of the American Psychological Association, 6th Edition",
            "count": 10
           },
           {
            "name": "StrengthsFinder 2.0",
            "count": 9
           },
           {
            "name": "349 others",
            "count": 531
           }
          ]
         }
        },
        {
         "name": "Author",
         "dtype": "object",
         "stats": {
          "unique_count": 248,
          "nan_count": 0,
          "categories": [
           {
            "name": "Jeff Kinney",
            "count": 12
           },
           {
            "name": "Suzanne Collins",
            "count": 11
           },
           {
            "name": "246 others",
            "count": 527
           }
          ]
         }
        },
        {
         "name": "User Rating",
         "dtype": "float64",
         "stats": {
          "unique_count": 14,
          "nan_count": 0,
          "min": "3.3",
          "max": "4.9",
          "histogram": [
           {
            "bin_start": 3.3,
            "bin_end": 3.46,
            "count": 1
           },
           {
            "bin_start": 3.46,
            "bin_end": 3.62,
            "count": 1
           },
           {
            "bin_start": 3.62,
            "bin_end": 3.7800000000000002,
            "count": 0
           },
           {
            "bin_start": 3.7800000000000002,
            "bin_end": 3.94,
            "count": 5
           },
           {
            "bin_start": 3.94,
            "bin_end": 4.1,
            "count": 14
           },
           {
            "bin_start": 4.1,
            "bin_end": 4.26,
            "count": 14
           },
           {
            "bin_start": 4.26,
            "bin_end": 4.42,
            "count": 63
           },
           {
            "bin_start": 4.42,
            "bin_end": 4.58,
            "count": 60
           },
           {
            "bin_start": 4.58,
            "bin_end": 4.74,
            "count": 213
           },
           {
            "bin_start": 4.74,
            "bin_end": 4.9,
            "count": 179
           }
          ]
         }
        },
        {
         "name": "_deepnote_index_column",
         "dtype": "int64"
        }
       ],
       "rows": [
        {
         "Namess": "10-Day Green Smoothie Cleanse",
         "Author": "JJ Smith",
         "User Rating": 4.7,
         "_deepnote_index_column": 0
        },
        {
         "Namess": "11/22/63: A Novel",
         "Author": "Stephen King",
         "User Rating": 4.6,
         "_deepnote_index_column": 1
        },
        {
         "Namess": "12 Rules for Life: An Antidote to Chaos",
         "Author": "Jordan B. Peterson",
         "User Rating": 4.7,
         "_deepnote_index_column": 2
        },
        {
         "Namess": "1984 (Signet Classics)",
         "Author": "George Orwell",
         "User Rating": 4.7,
         "_deepnote_index_column": 3
        },
        {
         "Namess": "5,000 Awesome Facts (About Everything!) (National Geographic Kids)",
         "Author": "National Geographic Kids",
         "User Rating": 4.8,
         "_deepnote_index_column": 4
        },
        {
         "Namess": "A Dance with Dragons (A Song of Ice and Fire)",
         "Author": "George R. R. Martin",
         "User Rating": 4.4,
         "_deepnote_index_column": 5
        },
        {
         "Namess": "A Game of Thrones / A Clash of Kings / A Storm of Swords / A Feast of Crows / A Dance with Dragons",
         "Author": "George R. R. Martin",
         "User Rating": 4.7,
         "_deepnote_index_column": 6
        },
        {
         "Namess": "A Gentleman in Moscow: A Novel",
         "Author": "Amor Towles",
         "User Rating": 4.7,
         "_deepnote_index_column": 7
        },
        {
         "Namess": "A Higher Loyalty: Truth, Lies, and Leadership",
         "Author": "James Comey",
         "User Rating": 4.7,
         "_deepnote_index_column": 8
        },
        {
         "Namess": "A Man Called Ove: A Novel",
         "Author": "Fredrik Backman",
         "User Rating": 4.6,
         "_deepnote_index_column": 9
        }
       ]
      },
      "text/plain": "                                                Namess  \\\n0                        10-Day Green Smoothie Cleanse   \n1                                    11/22/63: A Novel   \n2              12 Rules for Life: An Antidote to Chaos   \n3                               1984 (Signet Classics)   \n4    5,000 Awesome Facts (About Everything!) (Natio...   \n..                                                 ...   \n545       Wrecking Ball (Diary of a Wimpy Kid Book 14)   \n546  You Are a Badass: How to Stop Doubting Your Gr...   \n547  You Are a Badass: How to Stop Doubting Your Gr...   \n548  You Are a Badass: How to Stop Doubting Your Gr...   \n549  You Are a Badass: How to Stop Doubting Your Gr...   \n\n                       Author  User Rating  \n0                    JJ Smith          4.7  \n1                Stephen King          4.6  \n2          Jordan B. Peterson          4.7  \n3               George Orwell          4.7  \n4    National Geographic Kids          4.8  \n..                        ...          ...  \n545               Jeff Kinney          4.9  \n546               Jen Sincero          4.7  \n547               Jen Sincero          4.7  \n548               Jen Sincero          4.7  \n549               Jen Sincero          4.7  \n\n[550 rows x 3 columns]",
      "text/html": "<div>\n<style scoped>\n    .dataframe tbody tr th:only-of-type {\n        vertical-align: middle;\n    }\n\n    .dataframe tbody tr th {\n        vertical-align: top;\n    }\n\n    .dataframe thead th {\n        text-align: right;\n    }\n</style>\n<table border=\"1\" class=\"dataframe\">\n  <thead>\n    <tr style=\"text-align: right;\">\n      <th></th>\n      <th>Namess</th>\n      <th>Author</th>\n      <th>User Rating</th>\n    </tr>\n  </thead>\n  <tbody>\n    <tr>\n      <th>0</th>\n      <td>10-Day Green Smoothie Cleanse</td>\n      <td>JJ Smith</td>\n      <td>4.7</td>\n    </tr>\n    <tr>\n      <th>1</th>\n      <td>11/22/63: A Novel</td>\n      <td>Stephen King</td>\n      <td>4.6</td>\n    </tr>\n    <tr>\n      <th>2</th>\n      <td>12 Rules for Life: An Antidote to Chaos</td>\n      <td>Jordan B. Peterson</td>\n      <td>4.7</td>\n    </tr>\n    <tr>\n      <th>3</th>\n      <td>1984 (Signet Classics)</td>\n      <td>George Orwell</td>\n      <td>4.7</td>\n    </tr>\n    <tr>\n      <th>4</th>\n      <td>5,000 Awesome Facts (About Everything!) (Natio...</td>\n      <td>National Geographic Kids</td>\n      <td>4.8</td>\n    </tr>\n    <tr>\n      <th>...</th>\n      <td>...</td>\n      <td>...</td>\n      <td>...</td>\n    </tr>\n    <tr>\n      <th>545</th>\n      <td>Wrecking Ball (Diary of a Wimpy Kid Book 14)</td>\n      <td>Jeff Kinney</td>\n      <td>4.9</td>\n    </tr>\n    <tr>\n      <th>546</th>\n      <td>You Are a Badass: How to Stop Doubting Your Gr...</td>\n      <td>Jen Sincero</td>\n      <td>4.7</td>\n    </tr>\n    <tr>\n      <th>547</th>\n      <td>You Are a Badass: How to Stop Doubting Your Gr...</td>\n      <td>Jen Sincero</td>\n      <td>4.7</td>\n    </tr>\n    <tr>\n      <th>548</th>\n      <td>You Are a Badass: How to Stop Doubting Your Gr...</td>\n      <td>Jen Sincero</td>\n      <td>4.7</td>\n    </tr>\n    <tr>\n      <th>549</th>\n      <td>You Are a Badass: How to Stop Doubting Your Gr...</td>\n      <td>Jen Sincero</td>\n      <td>4.7</td>\n    </tr>\n  </tbody>\n</table>\n<p>550 rows × 3 columns</p>\n</div>"
     },
     "metadata": {}
    }
   ],
   "execution_count": 57
  },
  {
   "cell_type": "code",
   "source": "df_books.iloc[:5, 3] * -1",
   "metadata": {
    "cell_id": "93cec47d98294709b0cadb5e0d91967e",
    "tags": [],
    "deepnote_to_be_reexecuted": false,
    "source_hash": "23aa6f7c",
    "execution_start": 1658552615474,
    "execution_millis": 638,
    "deepnote_cell_type": "code",
    "deepnote_cell_height": 214.125,
    "deepnote_output_heights": [
     117.125
    ]
   },
   "outputs": [
    {
     "output_type": "execute_result",
     "execution_count": 59,
     "data": {
      "text/plain": "0   -17350\n1    -2052\n2   -18979\n3   -21424\n4    -7665\nName: Reviews, dtype: int64"
     },
     "metadata": {}
    }
   ],
   "execution_count": 59
  },
  {
   "cell_type": "code",
   "source": "df_books.iloc[:2, 2:]",
   "metadata": {
    "cell_id": "d1a9c1caaf6d4113a2a6b685d7d785cc",
    "tags": [],
    "deepnote_to_be_reexecuted": false,
    "source_hash": "1c7d2d4f",
    "execution_start": 1658552637707,
    "execution_millis": 62,
    "deepnote_cell_type": "code",
    "deepnote_cell_height": 272
   },
   "outputs": [
    {
     "output_type": "execute_result",
     "execution_count": 60,
     "data": {
      "application/vnd.deepnote.dataframe.v3+json": {
       "column_count": 5,
       "row_count": 2,
       "columns": [
        {
         "name": "User Rating",
         "dtype": "float64",
         "stats": {
          "unique_count": 2,
          "nan_count": 0,
          "min": "4.6",
          "max": "4.7",
          "histogram": [
           {
            "bin_start": 4.6,
            "bin_end": 4.609999999999999,
            "count": 1
           },
           {
            "bin_start": 4.609999999999999,
            "bin_end": 4.62,
            "count": 0
           },
           {
            "bin_start": 4.62,
            "bin_end": 4.63,
            "count": 0
           },
           {
            "bin_start": 4.63,
            "bin_end": 4.64,
            "count": 0
           },
           {
            "bin_start": 4.64,
            "bin_end": 4.65,
            "count": 0
           },
           {
            "bin_start": 4.65,
            "bin_end": 4.66,
            "count": 0
           },
           {
            "bin_start": 4.66,
            "bin_end": 4.67,
            "count": 0
           },
           {
            "bin_start": 4.67,
            "bin_end": 4.68,
            "count": 0
           },
           {
            "bin_start": 4.68,
            "bin_end": 4.69,
            "count": 0
           },
           {
            "bin_start": 4.69,
            "bin_end": 4.7,
            "count": 1
           }
          ]
         }
        },
        {
         "name": "Reviews",
         "dtype": "int64",
         "stats": {
          "unique_count": 2,
          "nan_count": 0,
          "min": "2052",
          "max": "17350",
          "histogram": [
           {
            "bin_start": 2052,
            "bin_end": 3581.8,
            "count": 1
           },
           {
            "bin_start": 3581.8,
            "bin_end": 5111.6,
            "count": 0
           },
           {
            "bin_start": 5111.6,
            "bin_end": 6641.4,
            "count": 0
           },
           {
            "bin_start": 6641.4,
            "bin_end": 8171.2,
            "count": 0
           },
           {
            "bin_start": 8171.2,
            "bin_end": 9701,
            "count": 0
           },
           {
            "bin_start": 9701,
            "bin_end": 11230.8,
            "count": 0
           },
           {
            "bin_start": 11230.8,
            "bin_end": 12760.6,
            "count": 0
           },
           {
            "bin_start": 12760.6,
            "bin_end": 14290.4,
            "count": 0
           },
           {
            "bin_start": 14290.4,
            "bin_end": 15820.199999999999,
            "count": 0
           },
           {
            "bin_start": 15820.199999999999,
            "bin_end": 17350,
            "count": 1
           }
          ]
         }
        },
        {
         "name": "Price",
         "dtype": "int64",
         "stats": {
          "unique_count": 2,
          "nan_count": 0,
          "min": "8",
          "max": "22",
          "histogram": [
           {
            "bin_start": 8,
            "bin_end": 9.4,
            "count": 1
           },
           {
            "bin_start": 9.4,
            "bin_end": 10.8,
            "count": 0
           },
           {
            "bin_start": 10.8,
            "bin_end": 12.2,
            "count": 0
           },
           {
            "bin_start": 12.2,
            "bin_end": 13.6,
            "count": 0
           },
           {
            "bin_start": 13.6,
            "bin_end": 15,
            "count": 0
           },
           {
            "bin_start": 15,
            "bin_end": 16.4,
            "count": 0
           },
           {
            "bin_start": 16.4,
            "bin_end": 17.799999999999997,
            "count": 0
           },
           {
            "bin_start": 17.799999999999997,
            "bin_end": 19.2,
            "count": 0
           },
           {
            "bin_start": 19.2,
            "bin_end": 20.6,
            "count": 0
           },
           {
            "bin_start": 20.6,
            "bin_end": 22,
            "count": 1
           }
          ]
         }
        },
        {
         "name": "Year",
         "dtype": "int64",
         "stats": {
          "unique_count": 2,
          "nan_count": 0,
          "min": "2011",
          "max": "2016",
          "histogram": [
           {
            "bin_start": 2011,
            "bin_end": 2011.5,
            "count": 1
           },
           {
            "bin_start": 2011.5,
            "bin_end": 2012,
            "count": 0
           },
           {
            "bin_start": 2012,
            "bin_end": 2012.5,
            "count": 0
           },
           {
            "bin_start": 2012.5,
            "bin_end": 2013,
            "count": 0
           },
           {
            "bin_start": 2013,
            "bin_end": 2013.5,
            "count": 0
           },
           {
            "bin_start": 2013.5,
            "bin_end": 2014,
            "count": 0
           },
           {
            "bin_start": 2014,
            "bin_end": 2014.5,
            "count": 0
           },
           {
            "bin_start": 2014.5,
            "bin_end": 2015,
            "count": 0
           },
           {
            "bin_start": 2015,
            "bin_end": 2015.5,
            "count": 0
           },
           {
            "bin_start": 2015.5,
            "bin_end": 2016,
            "count": 1
           }
          ]
         }
        },
        {
         "name": "Genre",
         "dtype": "object",
         "stats": {
          "unique_count": 2,
          "nan_count": 0,
          "categories": [
           {
            "name": "Non Fiction",
            "count": 1
           },
           {
            "name": "Fiction",
            "count": 1
           }
          ]
         }
        },
        {
         "name": "_deepnote_index_column",
         "dtype": "int64"
        }
       ],
       "rows": [
        {
         "User Rating": 4.7,
         "Reviews": 17350,
         "Price": 8,
         "Year": 2016,
         "Genre": "Non Fiction",
         "_deepnote_index_column": 0
        },
        {
         "User Rating": 4.6,
         "Reviews": 2052,
         "Price": 22,
         "Year": 2011,
         "Genre": "Fiction",
         "_deepnote_index_column": 1
        }
       ]
      },
      "text/plain": "   User Rating  Reviews  Price  Year        Genre\n0          4.7    17350      8  2016  Non Fiction\n1          4.6     2052     22  2011      Fiction",
      "text/html": "<div>\n<style scoped>\n    .dataframe tbody tr th:only-of-type {\n        vertical-align: middle;\n    }\n\n    .dataframe tbody tr th {\n        vertical-align: top;\n    }\n\n    .dataframe thead th {\n        text-align: right;\n    }\n</style>\n<table border=\"1\" class=\"dataframe\">\n  <thead>\n    <tr style=\"text-align: right;\">\n      <th></th>\n      <th>User Rating</th>\n      <th>Reviews</th>\n      <th>Price</th>\n      <th>Year</th>\n      <th>Genre</th>\n    </tr>\n  </thead>\n  <tbody>\n    <tr>\n      <th>0</th>\n      <td>4.7</td>\n      <td>17350</td>\n      <td>8</td>\n      <td>2016</td>\n      <td>Non Fiction</td>\n    </tr>\n    <tr>\n      <th>1</th>\n      <td>4.6</td>\n      <td>2052</td>\n      <td>22</td>\n      <td>2011</td>\n      <td>Fiction</td>\n    </tr>\n  </tbody>\n</table>\n</div>"
     },
     "metadata": {}
    }
   ],
   "execution_count": 60
  },
  {
   "cell_type": "markdown",
   "source": "### Read a JSON file",
   "metadata": {
    "cell_id": "31a89de5b19c4f75872207745760324c",
    "tags": [],
    "deepnote_cell_type": "markdown",
    "deepnote_cell_height": 62
   }
  },
  {
   "cell_type": "code",
   "source": "pd.read_json(\"/work/data_enginner_route/manipulacion_de_datos_numpy_y_pandas/data/hpcharactersdataraw.json\", typ='Series')",
   "metadata": {
    "cell_id": "3cb7b741bec345bca036c304e8e4a013",
    "tags": [],
    "deepnote_to_be_reexecuted": false,
    "source_hash": "4ae03dc1",
    "execution_start": 1658549075458,
    "execution_millis": 60,
    "deepnote_cell_type": "code",
    "deepnote_cell_height": 329.25,
    "deepnote_output_heights": [
     232.25
    ]
   },
   "outputs": [
    {
     "output_type": "execute_result",
     "execution_count": 13,
     "data": {
      "text/plain": "0       {'Name': 'Mrs. Abbott', 'Link': 'https://www.h...\n1       {'Name': 'Hannah Abbott', 'Link': 'https://www...\n2       {'Name': 'Abel Treetops', 'Link': 'https://www...\n3       {'Name': 'Euan Abercrombie', 'Link': 'https://...\n4       {'Name': 'Aberforth Dumbledore', 'Link': 'http...\n                              ...                        \n1935    {'Name': 'Georgi Zdravko', 'Link': 'https://ww...\n1936    {'Name': 'Zograf', 'Link': 'https://www.hp-lex...\n1937    {'Name': 'Zonko', 'Link': 'https://www.hp-lexi...\n1938    {'Name': 'Valentina Vázquez', 'Link': 'https:/...\n1939    {'Name': 'Zygmunt Budge', 'Link': 'https://www...\nLength: 1940, dtype: object"
     },
     "metadata": {}
    }
   ],
   "execution_count": 13
  },
  {
   "cell_type": "code",
   "source": "df_books.info()",
   "metadata": {
    "cell_id": "ba267fcffc6b4df4aef6dd99ba13ad01",
    "tags": [],
    "deepnote_to_be_reexecuted": false,
    "source_hash": "51fa676",
    "execution_start": 1658549167041,
    "execution_millis": 28,
    "deepnote_cell_type": "code",
    "deepnote_cell_height": 374.625
   },
   "outputs": [
    {
     "name": "stdout",
     "text": "<class 'pandas.core.frame.DataFrame'>\nRangeIndex: 550 entries, 0 to 549\nData columns (total 7 columns):\n #   Column       Non-Null Count  Dtype  \n---  ------       --------------  -----  \n 0   Namess       550 non-null    object \n 1   Author       550 non-null    object \n 2   User Rating  550 non-null    float64\n 3   Reviews      550 non-null    int64  \n 4   Price        550 non-null    int64  \n 5   Year         550 non-null    int64  \n 6   Genre        550 non-null    object \ndtypes: float64(1), int64(3), object(3)\nmemory usage: 30.2+ KB\n",
     "output_type": "stream"
    }
   ],
   "execution_count": 14
  },
  {
   "cell_type": "markdown",
   "source": "### Datos cargados desde Kaggle",
   "metadata": {
    "cell_id": "3c1243532ca4473489f5f9efa53a303b",
    "tags": [],
    "deepnote_cell_type": "markdown",
    "deepnote_cell_height": 62
   }
  },
  {
   "cell_type": "code",
   "source": "papers = pd.read_csv(\"/work/data_enginner_route/manipulacion_de_datos_numpy_y_pandas/data/NLPPaperResearchers/arxiv_nlp_researchers_scrape.csv\")\npapers",
   "metadata": {
    "cell_id": "10aabf2b27084596be7c7e20ba025fa8",
    "tags": [],
    "deepnote_to_be_reexecuted": false,
    "source_hash": "88a14b0a",
    "execution_start": 1658550513037,
    "execution_millis": 487,
    "deepnote_cell_type": "code",
    "deepnote_cell_height": 618
   },
   "outputs": [
    {
     "output_type": "execute_result",
     "execution_count": 18,
     "data": {
      "application/vnd.deepnote.dataframe.v3+json": {
       "column_count": 4,
       "row_count": 7488,
       "columns": [
        {
         "name": "title",
         "dtype": "object",
         "stats": {
          "unique_count": 7277,
          "nan_count": 0,
          "categories": [
           {
            "name": "Large Language Models Still Can't Plan (A Benchmark for LLMs on Planning and Reasoning about Change)",
            "count": 2
           },
           {
            "name": "NorBERT: NetwOrk Representations through BERT for Network Analysis and Management",
            "count": 2
           },
           {
            "name": "7275 others",
            "count": 7484
           }
          ]
         }
        },
        {
         "name": "authors",
         "dtype": "object",
         "stats": {
          "unique_count": 7048,
          "nan_count": 0,
          "categories": [
           {
            "name": "Łukasz Dębowski",
            "count": 6
           },
           {
            "name": "J Gerard Wolff",
            "count": 6
           },
           {
            "name": "7046 others",
            "count": 7476
           }
          ]
         }
        },
        {
         "name": "abstract",
         "dtype": "object",
         "stats": {
          "unique_count": 7281,
          "nan_count": 0,
          "categories": [
           {
            "name": "The recent advances in large language models (LLMs) have transformed the field of natural language processing (NLP). From GPT-3 to PaLM, the state-of-the-art performance on natural language tasks is being pushed forward with every new large language model. Along with natural language abilities, there has been a significant interest in understanding whether such models, trained on enormous amounts of data, exhibit reasoning capabilities. Hence there has been interest in developing benchmarks for various reasoning tasks and the preliminary results from testing LLMs over such benchmarks seem mostly positive. However, the current benchmarks are relatively simplistic and the performance over these benchmarks cannot be used as an evidence to support, many a times outlandish, claims being made about LLMs' reasoning capabilities. As of right now, these benchmarks only represent a very limited set of simple reasoning tasks and we need to look at more sophisticated reasoning problems if we are to measure the true limits of such LLM-based systems. With this motivation, we propose an extensible assessment framework to test the abilities of LLMs on a central aspect of human intelligence, which is reasoning about actions and change. We provide multiple test cases that are more involved than any of the previously established reasoning benchmarks and each test case evaluates a certain aspect of reasoning about actions and change. Initial evaluation results on the base version of GPT-3 (Davinci), showcase subpar performance on these benchmarks.",
            "count": 2
           },
           {
            "name": "Deep neural network models have been very successfully applied to Natural Language Processing (NLP) and Image based tasks. Their application to network analysis and management tasks is just recently being pursued. Our interest is in producing deep models that can be effectively generalized to perform well on multiple network tasks in different environments. A major challenge is that traditional deep models often rely on categorical features, but cannot handle unseen categorical values. One method for dealing with such problems is to learn contextual embeddings for categorical variables used by deep networks to improve their performance. In this paper, we adapt the NLP pre-training technique and associated deep model BERT to learn semantically meaningful numerical representations (embeddings) for Fully Qualified Domain Names (FQDNs) used in communication networks. We show through a series of experiments that such an approach can be used to generate models that maintain their effectiveness when applied to environments other than the one in which they were trained.",
            "count": 2
           },
           {
            "name": "7279 others",
            "count": 7484
           }
          ]
         }
        },
        {
         "name": "submitted_date",
         "dtype": "object",
         "stats": {
          "unique_count": 2594,
          "nan_count": 0,
          "categories": [
           {
            "name": "2020-10-12",
            "count": 19
           },
           {
            "name": "2022-05-19",
            "count": 18
           },
           {
            "name": "2592 others",
            "count": 7451
           }
          ]
         }
        },
        {
         "name": "_deepnote_index_column",
         "dtype": "int64"
        }
       ],
       "rows": [
        {
         "title": "Panning for gold: Lessons learned from the platform-agnostic automated detection of political content in textual data",
         "authors": "Mykola Makhortykh,Ernesto de León,Aleksandra Urman,Clara Christner,Maryna Sydorova,Silke Adam,Michaela Maier,Teresa Gil-Lopez",
         "abstract": "The growing availability of data about online information behaviour enables new possibilities for political communication research. However, the volume and variety of these data makes them difficult to analyse and prompts the need for developing automated content approaches relying on a broad range of natural language processing techniques (e. machine learning- or neural network-based ones). In this paper, we discuss how these techniques can be used to detect political content across different platforms. Using three validation datasets, which include a variety of political and non-political textual documents from online platforms, we systematically compare the performance of three groups of detection techniques relying on dictionaries, supervised machine learning, or neural networks. We also examine the impact of different modes of data preprocessing (e. stemming and stopword removal) on the low-cost implementations of these techniques using a large set (n = 66) of detection models. O…",
         "submitted_date": "2022-07-01",
         "_deepnote_index_column": 0
        },
        {
         "title": "Location reference recognition from texts: A survey and comparison",
         "authors": "Xuke Hu,Zhiyong Zhou,Hao Li,Yingjie Hu,Fuqiang Gu,Jens Kersten,Hongchao Fan,Friederike Klan",
         "abstract": "A vast amount of location information exists in unstructured texts, such as social media posts, news stories, scientific articles, web pages, travel blogs, and historical archives. Geoparsing refers to the process of recognizing location references from texts and identifying their geospatial representations. While geoparsing can benefit many domains, a summary of the specific applications is still missing. Further, there lacks a comprehensive review and comparison of existing approaches for location reference recognition, which is the first and a core step of geoparsing. To fill these research gaps, this review first summarizes seven typical application domains of geoparsing: geographic information retrieval, disaster management, disease surveillance, traffic management, spatial humanities, tourism management, and crime management. We then review existing approaches for location reference recognition by categorizing these approaches into four groups based on their underlying functiona…",
         "submitted_date": "2022-07-04",
         "_deepnote_index_column": 1
        },
        {
         "title": "Understanding Tieq Viet with Deep Learning Models",
         "authors": "Nguyen Ha Thanh",
         "abstract": "Deep learning is a powerful approach in recovering lost information as well as harder inverse function computation problems. When applied in natural language processing, this approach is essentially making use of context as a mean to recover information through likelihood maximization. Not long ago, a linguistic study called Tieq Viet was controversial among both researchers and society. We find this a great example to demonstrate the ability of deep learning models to recover lost information. In the proposal of Tieq Viet, some consonants in the standard Vietnamese are replaced. A sentence written in this proposal can be interpreted into multiple sentences in the standard version, with different meanings. The hypothesis that we want to test is whether a deep learning model can recover the lost information if we translate the text from Vietnamese to Tieq Viet.",
         "submitted_date": "2022-07-03",
         "_deepnote_index_column": 2
        },
        {
         "title": "GUIM -- General User and Item Embedding with Mixture of Representation in E-commerce",
         "authors": "Chao Yang,Ru He,Fangquan Lin,Suoyuan Song,Jingqiao Zhang,Cheng Yang",
         "abstract": "Our goal is to build general representation (embedding) for each user and each product item across Alibaba's businesses, including Taobao and Tmall which are among the world's biggest e-commerce websites. The representation of users and items has been playing a critical role in various downstream applications, including recommendation system, search, marketing, demand forecasting and so on. Inspired from the BERT model in natural language processing (NLP) domain, we propose a GUIM (General User Item embedding with Mixture of representation) model to achieve the goal with massive, structured, multi-modal data including the interactions among hundreds of millions of users and items. We utilize mixture of representation (MoR) as a novel representation form to model the diverse interests of each user. In addition, we use the InfoNCE from contrastive learning to avoid intractable computational costs due to the numerous size of item (token) vocabulary. Finally, we propose a set of represent…",
         "submitted_date": "2022-07-02",
         "_deepnote_index_column": 3
        },
        {
         "title": "Gender Biases and Where to Find Them: Exploring Gender Bias in Pre-Trained Transformer-based Language Models Using Movement Pruning",
         "authors": "Przemyslaw Joniak,Akiko Aizawa",
         "abstract": "Language model debiasing has emerged as an important field of study in the NLP community. Numerous debiasing techniques were proposed, but bias ablation remains an unaddressed issue. We demonstrate a novel framework for inspecting bias in pre-trained transformer-based language models via movement pruning. Given a model and a debiasing objective, our framework finds a subset of the model containing less bias than the original model. We implement our framework by pruning the model while fine-tuning it on the debiasing objective. Optimized are only the pruning scores - parameters coupled with the model's weights that act as gates. We experiment with pruning attention heads, an important building block of transformers: we prune square blocks, as well as establish a new way of pruning the entire heads. Lastly, we demonstrate the usage of our framework using gender bias, and based on our findings, we propose an improvement to an existing debiasing method. Additionally, we re-discover a bias…",
         "submitted_date": "2022-07-06",
         "_deepnote_index_column": 4
        },
        {
         "title": "End-to-end Speech-to-Punctuated-Text Recognition",
         "authors": "Jumon Nozaki,Tatsuya Kawahara,Kenkichi Ishizuka,Taiichi Hashimoto",
         "abstract": "Conventional automatic speech recognition systems do not produce punctuation marks which are important for the readability of the speech recognition results. They are also needed for subsequent natural language processing tasks such as machine translation. There have been a lot of works on punctuation prediction models that insert punctuation marks into speech recognition results as post-processing. However, these studies do not utilize acoustic information for punctuation prediction and are directly affected by speech recognition errors. In this study, we propose an end-to-end model that takes speech as input and outputs punctuated texts. This model is expected to predict punctuation robustly against speech recognition errors while using acoustic information. We also propose to incorporate an auxiliary loss to train the model using the output of the intermediate layer and unpunctuated texts. Through experiments, we compare the performance of the proposed model to that of a cascaded s…",
         "submitted_date": "2022-07-07",
         "_deepnote_index_column": 5
        },
        {
         "title": "Vision Transformers: State of the Art and Research Challenges",
         "authors": "Bo-Kai Ruan,Hong-Han Shuai,Wen-Huang Cheng",
         "abstract": "Transformers have achieved great success in natural language processing. Due to the powerful capability of self-attention mechanism in transformers, researchers develop the vision transformers for a variety of computer vision tasks, such as image recognition, object detection, image segmentation, pose estimation, and 3D reconstruction. This paper presents a comprehensive overview of the literature on different architecture designs and training tricks (including self-supervised learning) for vision transformers. Our goal is to provide a systematic review with the open research opportunities.",
         "submitted_date": "2022-07-06",
         "_deepnote_index_column": 6
        },
        {
         "title": "Towards Highly Expressive Machine Learning Models of Non-Melanoma Skin Cancer",
         "authors": "Simon M. Thomas,James G. Lefevre,Glenn Baxter,Nicholas A. Hamilton",
         "abstract": "Pathologists have a rich vocabulary with which they can describe all the nuances of cellular morphology. In their world, there is a natural pairing of images and words. Recent advances demonstrate that machine learning models can now be trained to learn high-quality image features and represent them as discrete units of information. This enables natural language, which is also discrete, to be jointly modelled alongside the imaging, resulting in a description of the contents of the imaging. Here we present experiments in applying discrete modelling techniques to the problem domain of non-melanoma skin cancer, specifically, histological images of Intraepidermal Carcinoma (IEC). Implementing a VQ-GAN model to reconstruct high-resolution (256x256) images of IEC images, we trained a sequence-to-sequence transformer to generate natural language descriptions using pathologist terminology. Combined with the idea of interactive concept vectors available by using continuous generative methods, …",
         "submitted_date": "2022-07-09",
         "_deepnote_index_column": 7
        },
        {
         "title": "A description of Turkish Discourse Bank 1.2 and an examination of common dependencies in Turkish discourse",
         "authors": "Deniz Zeyrek,Mustafa Erolcan Er",
         "abstract": "We describe Turkish Discourse Bank 1. the latest version of a discourse corpus annotated for explicitly or implicitly conveyed discourse relations, their constitutive units, and senses in the Penn Discourse Treebank style. We present an evaluation of the recently added tokens and examine three commonly occurring dependency patterns that hold among the constitutive units of a pair of adjacent discourse relations, namely, shared arguments, full embedding and partial containment of a discourse relation. We present three major findings: (a) implicitly conveyed relations occur more often than explicitly conveyed relations in the data; (b) it is much more common for two adjacent implicit discourse relations to share an argument than for two adjacent explicit relations to do so; (c) both full embedding and partial containment of discourse relations are pervasive in the corpus, which can be partly due to subordinator connectives whose preposed subordinate clause tends to be selected together …",
         "submitted_date": "2022-07-13",
         "_deepnote_index_column": 8
        },
        {
         "title": "N-Grammer: Augmenting Transformers with latent n-grams",
         "authors": "Aurko Roy,Rohan Anil,Guangda Lai,Benjamin Lee,Jeffrey Zhao,Shuyuan Zhang,Shibo Wang,Ye Zhang,Shen Wu,Rigel Swavely,Tao,Yu,Phuong Dao,Christopher Fifty,Zhifeng Chen,Yonghui Wu",
         "abstract": "Transformer models have recently emerged as one of the foundational models in natural language processing, and as a byproduct, there is significant recent interest and investment in scaling these models. However, the training and inference costs of these large Transformer language models are prohibitive, thus necessitating more research in identifying more efficient variants. In this work, we propose a simple yet effective modification to the Transformer architecture inspired by the literature in statistical language modeling, by augmenting the model with n-grams that are constructed from a discrete latent representation of the text sequence. We evaluate our model, the N-Grammer on language modeling on the C4 data-set as well as text classification on the SuperGLUE data-set, and find that it outperforms several strong baselines such as the Transformer and the Primer. We open-source our model for reproducibility purposes in Jax.",
         "submitted_date": "2022-07-13",
         "_deepnote_index_column": 9
        }
       ]
      },
      "text/plain": "                                                  title  \\\n0     Panning for gold: Lessons learned from the pla...   \n1     Location reference recognition from texts: A s...   \n2     Understanding Tieq Viet with Deep Learning Models   \n3     GUIM -- General User and Item Embedding with M...   \n4     Gender Biases and Where to Find Them: Explorin...   \n...                                                 ...   \n7483  Towards History-based Grammars: Using Richer M...   \n7484  Natural Language Parsing as Statistical Patter...   \n7485  Restricting the Weak-Generative Capacity of Sy...   \n7486        Memoization in Constraint Logic Programming   \n7487    Noise and Fluctuations in Semiclassical Gravity   \n\n                                                authors  \\\n0     Mykola Makhortykh,Ernesto de León,Aleksandra U...   \n1     Xuke Hu,Zhiyong Zhou,Hao Li,Yingjie Hu,Fuqiang...   \n2                                       Nguyen Ha Thanh   \n3     Chao Yang,Ru He,Fangquan Lin,Suoyuan Song,Jing...   \n4                        Przemyslaw Joniak,Akiko Aizawa   \n...                                                 ...   \n7483  Ezra Black,Fred Jelinek,John Lafferty,David M....   \n7484                                  David M. Magerman   \n7485                                  Stuart M. Shieber   \n7486                                       Mark Johnson   \n7487                          Esteban Calzetta,B. L. Hu   \n\n                                               abstract submitted_date  \n0     The growing availability of data about online ...     2022-07-01  \n1     A vast amount of location information exists i...     2022-07-04  \n2     Deep learning is a powerful approach in recove...     2022-07-03  \n3     Our goal is to build general representation (e...     2022-07-02  \n4     Language model debiasing has emerged as an imp...     2022-07-06  \n...                                                 ...            ...  \n7483  We describe a generative probabilistic model o...     1994-05-03  \n7484  Traditional natural language parsers are based...     1994-05-04  \n7485  The formalism of synchronous tree-adjoining gr...     1994-08-30  \n7486  This paper shows how to apply memoization (cac...     1994-04-11  \n7487  We continue our earlier investigation of the b...     1993-12-23  \n\n[7488 rows x 4 columns]",
      "text/html": "<div>\n<style scoped>\n    .dataframe tbody tr th:only-of-type {\n        vertical-align: middle;\n    }\n\n    .dataframe tbody tr th {\n        vertical-align: top;\n    }\n\n    .dataframe thead th {\n        text-align: right;\n    }\n</style>\n<table border=\"1\" class=\"dataframe\">\n  <thead>\n    <tr style=\"text-align: right;\">\n      <th></th>\n      <th>title</th>\n      <th>authors</th>\n      <th>abstract</th>\n      <th>submitted_date</th>\n    </tr>\n  </thead>\n  <tbody>\n    <tr>\n      <th>0</th>\n      <td>Panning for gold: Lessons learned from the pla...</td>\n      <td>Mykola Makhortykh,Ernesto de León,Aleksandra U...</td>\n      <td>The growing availability of data about online ...</td>\n      <td>2022-07-01</td>\n    </tr>\n    <tr>\n      <th>1</th>\n      <td>Location reference recognition from texts: A s...</td>\n      <td>Xuke Hu,Zhiyong Zhou,Hao Li,Yingjie Hu,Fuqiang...</td>\n      <td>A vast amount of location information exists i...</td>\n      <td>2022-07-04</td>\n    </tr>\n    <tr>\n      <th>2</th>\n      <td>Understanding Tieq Viet with Deep Learning Models</td>\n      <td>Nguyen Ha Thanh</td>\n      <td>Deep learning is a powerful approach in recove...</td>\n      <td>2022-07-03</td>\n    </tr>\n    <tr>\n      <th>3</th>\n      <td>GUIM -- General User and Item Embedding with M...</td>\n      <td>Chao Yang,Ru He,Fangquan Lin,Suoyuan Song,Jing...</td>\n      <td>Our goal is to build general representation (e...</td>\n      <td>2022-07-02</td>\n    </tr>\n    <tr>\n      <th>4</th>\n      <td>Gender Biases and Where to Find Them: Explorin...</td>\n      <td>Przemyslaw Joniak,Akiko Aizawa</td>\n      <td>Language model debiasing has emerged as an imp...</td>\n      <td>2022-07-06</td>\n    </tr>\n    <tr>\n      <th>...</th>\n      <td>...</td>\n      <td>...</td>\n      <td>...</td>\n      <td>...</td>\n    </tr>\n    <tr>\n      <th>7483</th>\n      <td>Towards History-based Grammars: Using Richer M...</td>\n      <td>Ezra Black,Fred Jelinek,John Lafferty,David M....</td>\n      <td>We describe a generative probabilistic model o...</td>\n      <td>1994-05-03</td>\n    </tr>\n    <tr>\n      <th>7484</th>\n      <td>Natural Language Parsing as Statistical Patter...</td>\n      <td>David M. Magerman</td>\n      <td>Traditional natural language parsers are based...</td>\n      <td>1994-05-04</td>\n    </tr>\n    <tr>\n      <th>7485</th>\n      <td>Restricting the Weak-Generative Capacity of Sy...</td>\n      <td>Stuart M. Shieber</td>\n      <td>The formalism of synchronous tree-adjoining gr...</td>\n      <td>1994-08-30</td>\n    </tr>\n    <tr>\n      <th>7486</th>\n      <td>Memoization in Constraint Logic Programming</td>\n      <td>Mark Johnson</td>\n      <td>This paper shows how to apply memoization (cac...</td>\n      <td>1994-04-11</td>\n    </tr>\n    <tr>\n      <th>7487</th>\n      <td>Noise and Fluctuations in Semiclassical Gravity</td>\n      <td>Esteban Calzetta,B. L. Hu</td>\n      <td>We continue our earlier investigation of the b...</td>\n      <td>1993-12-23</td>\n    </tr>\n  </tbody>\n</table>\n<p>7488 rows × 4 columns</p>\n</div>"
     },
     "metadata": {}
    }
   ],
   "execution_count": 18
  },
  {
   "cell_type": "markdown",
   "source": "### Datos de una tabla de Internet",
   "metadata": {
    "cell_id": "feeb980d2e4940ca8dfd44bf7ea6b4b5",
    "tags": [],
    "deepnote_cell_type": "markdown",
    "deepnote_cell_height": 62
   }
  },
  {
   "cell_type": "code",
   "source": "data = pd.read_html('https://es.wikipedia.org/wiki/Idioma_portugu%C3%A9s')\ndata[3]",
   "metadata": {
    "cell_id": "14ee067aaa1645dcaead9fdf12e31f2a",
    "tags": [],
    "deepnote_to_be_reexecuted": false,
    "source_hash": "4771cda3",
    "execution_start": 1658551525253,
    "execution_millis": 433,
    "deepnote_cell_type": "code",
    "deepnote_cell_height": 428,
    "deepnote_output_heights": [
     611
    ]
   },
   "outputs": [
    {
     "output_type": "execute_result",
     "execution_count": 39,
     "data": {
      "application/vnd.deepnote.dataframe.v3+json": {
       "column_count": 15,
       "row_count": 5,
       "columns": [
        {
         "name": "Unnamed: 0",
         "dtype": "object",
         "stats": {
          "unique_count": 5,
          "nan_count": 0,
          "categories": [
           {
            "name": "Nasal",
            "count": 1
           },
           {
            "name": "Oclusiva",
            "count": 1
           },
           {
            "name": "3 others",
            "count": 3
           }
          ]
         }
        },
        {
         "name": "Labial",
         "dtype": "object",
         "stats": {
          "unique_count": 2,
          "nan_count": 3,
          "categories": [
           {
            "name": "m",
            "count": 1
           },
           {
            "name": "p",
            "count": 1
           },
           {
            "name": "Missing",
            "count": 3
           }
          ]
         }
        },
        {
         "name": "Labial.1",
         "dtype": "object",
         "stats": {
          "unique_count": 2,
          "nan_count": 3,
          "categories": [
           {
            "name": "m",
            "count": 1
           },
           {
            "name": "b",
            "count": 1
           },
           {
            "name": "Missing",
            "count": 3
           }
          ]
         }
        },
        {
         "name": "Labio-dental",
         "dtype": "object",
         "stats": {
          "unique_count": 1,
          "nan_count": 4,
          "categories": [
           {
            "name": "f",
            "count": 1
           },
           {
            "name": "Missing",
            "count": 4
           }
          ]
         }
        },
        {
         "name": "Labio-dental.1",
         "dtype": "object",
         "stats": {
          "unique_count": 1,
          "nan_count": 4,
          "categories": [
           {
            "name": "v",
            "count": 1
           },
           {
            "name": "Missing",
            "count": 4
           }
          ]
         }
        },
        {
         "name": "Dental/Alveolar",
         "dtype": "object",
         "stats": {
          "unique_count": 5,
          "nan_count": 0,
          "categories": [
           {
            "name": "n",
            "count": 1
           },
           {
            "name": "t",
            "count": 1
           },
           {
            "name": "3 others",
            "count": 3
           }
          ]
         }
        },
        {
         "name": "Dental/Alveolar.1",
         "dtype": "object",
         "stats": {
          "unique_count": 5,
          "nan_count": 0,
          "categories": [
           {
            "name": "n",
            "count": 1
           },
           {
            "name": "d",
            "count": 1
           },
           {
            "name": "3 others",
            "count": 3
           }
          ]
         }
        },
        {
         "name": "Posalveolar",
         "dtype": "object",
         "stats": {
          "unique_count": 1,
          "nan_count": 4,
          "categories": [
           {
            "name": "ʃ",
            "count": 1
           },
           {
            "name": "Missing",
            "count": 4
           }
          ]
         }
        },
        {
         "name": "Posalveolar.1",
         "dtype": "object",
         "stats": {
          "unique_count": 1,
          "nan_count": 4,
          "categories": [
           {
            "name": "ʒ",
            "count": 1
           },
           {
            "name": "Missing",
            "count": 4
           }
          ]
         }
        },
        {
         "name": "Palatal",
         "dtype": "object",
         "stats": {
          "unique_count": 2,
          "nan_count": 3,
          "categories": [
           {
            "name": "ɲ",
            "count": 1
           },
           {
            "name": "ʎ",
            "count": 1
           },
           {
            "name": "Missing",
            "count": 3
           }
          ]
         }
        },
        {
         "name": "Palatal.1",
         "dtype": "object",
         "stats": {
          "unique_count": 2,
          "nan_count": 3,
          "categories": [
           {
            "name": "ɲ",
            "count": 1
           },
           {
            "name": "ʎ",
            "count": 1
           },
           {
            "name": "Missing",
            "count": 3
           }
          ]
         }
        },
        {
         "name": "Velar",
         "dtype": "object",
         "stats": {
          "unique_count": 2,
          "nan_count": 3,
          "categories": [
           {
            "name": "k",
            "count": 1
           },
           {
            "name": "ʁ",
            "count": 1
           },
           {
            "name": "Missing",
            "count": 3
           }
          ]
         }
        },
        {
         "name": "Velar.1",
         "dtype": "object",
         "stats": {
          "unique_count": 2,
          "nan_count": 3,
          "categories": [
           {
            "name": "ɡ",
            "count": 1
           },
           {
            "name": "ʁ",
            "count": 1
           },
           {
            "name": "Missing",
            "count": 3
           }
          ]
         }
        },
        {
         "name": "Uvular",
         "dtype": "object",
         "stats": {
          "unique_count": 1,
          "nan_count": 4,
          "categories": [
           {
            "name": "ʁ",
            "count": 1
           },
           {
            "name": "Missing",
            "count": 4
           }
          ]
         }
        },
        {
         "name": "Uvular.1",
         "dtype": "object",
         "stats": {
          "unique_count": 1,
          "nan_count": 4,
          "categories": [
           {
            "name": "ʁ",
            "count": 1
           },
           {
            "name": "Missing",
            "count": 4
           }
          ]
         }
        },
        {
         "name": "_deepnote_index_column",
         "dtype": "int64"
        }
       ],
       "rows": [
        {
         "Unnamed: 0": "Nasal",
         "Labial": "m",
         "Labial.1": "m",
         "Labio-dental": "nan",
         "Labio-dental.1": "nan",
         "Dental/Alveolar": "n",
         "Dental/Alveolar.1": "n",
         "Posalveolar": "nan",
         "Posalveolar.1": "nan",
         "Palatal": "ɲ",
         "Palatal.1": "ɲ",
         "Velar": "nan",
         "Velar.1": "nan",
         "Uvular": "nan",
         "Uvular.1": "nan",
         "_deepnote_index_column": 0
        },
        {
         "Unnamed: 0": "Oclusiva",
         "Labial": "p",
         "Labial.1": "b",
         "Labio-dental": "nan",
         "Labio-dental.1": "nan",
         "Dental/Alveolar": "t",
         "Dental/Alveolar.1": "d",
         "Posalveolar": "nan",
         "Posalveolar.1": "nan",
         "Palatal": "nan",
         "Palatal.1": "nan",
         "Velar": "k",
         "Velar.1": "ɡ",
         "Uvular": "nan",
         "Uvular.1": "nan",
         "_deepnote_index_column": 1
        },
        {
         "Unnamed: 0": "Fricativa",
         "Labial": "nan",
         "Labial.1": "nan",
         "Labio-dental": "f",
         "Labio-dental.1": "v",
         "Dental/Alveolar": "s",
         "Dental/Alveolar.1": "z",
         "Posalveolar": "ʃ",
         "Posalveolar.1": "ʒ",
         "Palatal": "nan",
         "Palatal.1": "nan",
         "Velar": "ʁ",
         "Velar.1": "ʁ",
         "Uvular": "ʁ",
         "Uvular.1": "ʁ",
         "_deepnote_index_column": 2
        },
        {
         "Unnamed: 0": "Lateral",
         "Labial": "nan",
         "Labial.1": "nan",
         "Labio-dental": "nan",
         "Labio-dental.1": "nan",
         "Dental/Alveolar": "l",
         "Dental/Alveolar.1": "l",
         "Posalveolar": "nan",
         "Posalveolar.1": "nan",
         "Palatal": "ʎ",
         "Palatal.1": "ʎ",
         "Velar": "nan",
         "Velar.1": "nan",
         "Uvular": "nan",
         "Uvular.1": "nan",
         "_deepnote_index_column": 3
        },
        {
         "Unnamed: 0": "Vibrante",
         "Labial": "nan",
         "Labial.1": "nan",
         "Labio-dental": "nan",
         "Labio-dental.1": "nan",
         "Dental/Alveolar": "ɾ",
         "Dental/Alveolar.1": "ɾ",
         "Posalveolar": "nan",
         "Posalveolar.1": "nan",
         "Palatal": "nan",
         "Palatal.1": "nan",
         "Velar": "nan",
         "Velar.1": "nan",
         "Uvular": "nan",
         "Uvular.1": "nan",
         "_deepnote_index_column": 4
        }
       ]
      },
      "text/plain": "  Unnamed: 0 Labial Labial.1 Labio-dental Labio-dental.1 Dental/Alveolar  \\\n0      Nasal      m        m          NaN            NaN               n   \n1   Oclusiva      p        b          NaN            NaN               t   \n2  Fricativa    NaN      NaN            f              v               s   \n3    Lateral    NaN      NaN          NaN            NaN               l   \n4   Vibrante    NaN      NaN          NaN            NaN               ɾ   \n\n  Dental/Alveolar.1 Posalveolar Posalveolar.1 Palatal Palatal.1 Velar Velar.1  \\\n0                 n         NaN           NaN       ɲ         ɲ   NaN     NaN   \n1                 d         NaN           NaN     NaN       NaN     k       ɡ   \n2                 z           ʃ             ʒ     NaN       NaN     ʁ       ʁ   \n3                 l         NaN           NaN       ʎ         ʎ   NaN     NaN   \n4                 ɾ         NaN           NaN     NaN       NaN   NaN     NaN   \n\n  Uvular Uvular.1  \n0    NaN      NaN  \n1    NaN      NaN  \n2      ʁ        ʁ  \n3    NaN      NaN  \n4    NaN      NaN  ",
      "text/html": "<div>\n<style scoped>\n    .dataframe tbody tr th:only-of-type {\n        vertical-align: middle;\n    }\n\n    .dataframe tbody tr th {\n        vertical-align: top;\n    }\n\n    .dataframe thead th {\n        text-align: right;\n    }\n</style>\n<table border=\"1\" class=\"dataframe\">\n  <thead>\n    <tr style=\"text-align: right;\">\n      <th></th>\n      <th>Unnamed: 0</th>\n      <th>Labial</th>\n      <th>Labial.1</th>\n      <th>Labio-dental</th>\n      <th>Labio-dental.1</th>\n      <th>Dental/Alveolar</th>\n      <th>Dental/Alveolar.1</th>\n      <th>Posalveolar</th>\n      <th>Posalveolar.1</th>\n      <th>Palatal</th>\n      <th>Palatal.1</th>\n      <th>Velar</th>\n      <th>Velar.1</th>\n      <th>Uvular</th>\n      <th>Uvular.1</th>\n    </tr>\n  </thead>\n  <tbody>\n    <tr>\n      <th>0</th>\n      <td>Nasal</td>\n      <td>m</td>\n      <td>m</td>\n      <td>NaN</td>\n      <td>NaN</td>\n      <td>n</td>\n      <td>n</td>\n      <td>NaN</td>\n      <td>NaN</td>\n      <td>ɲ</td>\n      <td>ɲ</td>\n      <td>NaN</td>\n      <td>NaN</td>\n      <td>NaN</td>\n      <td>NaN</td>\n    </tr>\n    <tr>\n      <th>1</th>\n      <td>Oclusiva</td>\n      <td>p</td>\n      <td>b</td>\n      <td>NaN</td>\n      <td>NaN</td>\n      <td>t</td>\n      <td>d</td>\n      <td>NaN</td>\n      <td>NaN</td>\n      <td>NaN</td>\n      <td>NaN</td>\n      <td>k</td>\n      <td>ɡ</td>\n      <td>NaN</td>\n      <td>NaN</td>\n    </tr>\n    <tr>\n      <th>2</th>\n      <td>Fricativa</td>\n      <td>NaN</td>\n      <td>NaN</td>\n      <td>f</td>\n      <td>v</td>\n      <td>s</td>\n      <td>z</td>\n      <td>ʃ</td>\n      <td>ʒ</td>\n      <td>NaN</td>\n      <td>NaN</td>\n      <td>ʁ</td>\n      <td>ʁ</td>\n      <td>ʁ</td>\n      <td>ʁ</td>\n    </tr>\n    <tr>\n      <th>3</th>\n      <td>Lateral</td>\n      <td>NaN</td>\n      <td>NaN</td>\n      <td>NaN</td>\n      <td>NaN</td>\n      <td>l</td>\n      <td>l</td>\n      <td>NaN</td>\n      <td>NaN</td>\n      <td>ʎ</td>\n      <td>ʎ</td>\n      <td>NaN</td>\n      <td>NaN</td>\n      <td>NaN</td>\n      <td>NaN</td>\n    </tr>\n    <tr>\n      <th>4</th>\n      <td>Vibrante</td>\n      <td>NaN</td>\n      <td>NaN</td>\n      <td>NaN</td>\n      <td>NaN</td>\n      <td>ɾ</td>\n      <td>ɾ</td>\n      <td>NaN</td>\n      <td>NaN</td>\n      <td>NaN</td>\n      <td>NaN</td>\n      <td>NaN</td>\n      <td>NaN</td>\n      <td>NaN</td>\n      <td>NaN</td>\n    </tr>\n  </tbody>\n</table>\n</div>"
     },
     "metadata": {}
    }
   ],
   "execution_count": 39
  },
  {
   "cell_type": "markdown",
   "source": "<a style='text-decoration:none;line-height:16px;display:flex;color:#5B5B62;padding:10px;justify-content:end;' href='https://deepnote.com?utm_source=created-in-deepnote-cell&projectId=4950ccd9-74b8-4ba2-b588-82894596c11f' target=\"_blank\">\n<img alt='Created in deepnote.com' style='display:inline;max-height:16px;margin:0px;margin-right:7.5px;' src='data:image/svg+xml;base64,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' > </img>\nCreated in <span style='font-weight:600;margin-left:4px;'>Deepnote</span></a>",
   "metadata": {
    "tags": [],
    "created_in_deepnote_cell": true,
    "deepnote_cell_type": "markdown"
   }
  }
 ],
 "nbformat": 4,
 "nbformat_minor": 2,
 "metadata": {
  "orig_nbformat": 2,
  "deepnote": {},
  "deepnote_notebook_id": "d9426fc1-6979-4a85-a456-387cd7367fc9",
  "deepnote_execution_queue": []
 }
}