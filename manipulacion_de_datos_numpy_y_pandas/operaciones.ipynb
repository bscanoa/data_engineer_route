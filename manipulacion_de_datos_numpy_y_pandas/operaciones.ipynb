{
 "cells": [
  {
   "cell_type": "code",
   "metadata": {
    "tags": [],
    "cell_id": "4064b93e-0164-4004-aa1b-5e68f2c24eea",
    "deepnote_to_be_reexecuted": false,
    "source_hash": "c2602aa8",
    "execution_start": 1658540033391,
    "execution_millis": 0,
    "deepnote_cell_type": "code",
    "deepnote_cell_height": 81
   },
   "source": "import numpy as np",
   "outputs": [],
   "execution_count": null
  },
  {
   "cell_type": "code",
   "source": "lista = [1, 2]\nlista",
   "metadata": {
    "cell_id": "1508bfdf6a82417cb40519caf4baab34",
    "tags": [],
    "deepnote_to_be_reexecuted": false,
    "source_hash": "86141065",
    "execution_start": 1658540033435,
    "execution_millis": 579,
    "deepnote_cell_type": "code",
    "deepnote_cell_height": 136.1875,
    "deepnote_output_heights": [
     21.1875
    ]
   },
   "outputs": [
    {
     "output_type": "execute_result",
     "execution_count": 2,
     "data": {
      "text/plain": "[1, 2]"
     },
     "metadata": {}
    }
   ],
   "execution_count": null
  },
  {
   "cell_type": "code",
   "source": "lista * 2 # no aplica la operación a los valores sino que los duplica",
   "metadata": {
    "cell_id": "e1bf543197d342e98d3038963e943f1e",
    "tags": [],
    "deepnote_to_be_reexecuted": false,
    "source_hash": "d39fcae5",
    "execution_start": 1658540033473,
    "execution_millis": 550,
    "deepnote_cell_type": "code",
    "deepnote_cell_height": 118.1875,
    "deepnote_output_heights": [
     21.1875
    ]
   },
   "outputs": [
    {
     "output_type": "execute_result",
     "execution_count": 3,
     "data": {
      "text/plain": "[1, 2, 1, 2]"
     },
     "metadata": {}
    }
   ],
   "execution_count": null
  },
  {
   "cell_type": "code",
   "source": "# creamos un array\narr = np.arange(0, 10)\narr2 = arr.copy() # copia",
   "metadata": {
    "cell_id": "adb07cdee2494286885cc0205763ae35",
    "tags": [],
    "deepnote_to_be_reexecuted": false,
    "source_hash": "6da948",
    "execution_start": 1658540033550,
    "execution_millis": 1151138,
    "deepnote_cell_type": "code",
    "deepnote_cell_height": 117,
    "deepnote_output_heights": [
     21.1875
    ]
   },
   "outputs": [],
   "execution_count": null
  },
  {
   "cell_type": "markdown",
   "source": "### Operaciones",
   "metadata": {
    "cell_id": "3bcceca7a503411c803859825d1fea3b",
    "tags": [],
    "deepnote_cell_type": "markdown",
    "deepnote_cell_height": 62
   }
  },
  {
   "cell_type": "code",
   "source": "arr * 2 # en este caso si opera los elementos y no duplica el array",
   "metadata": {
    "cell_id": "f9355fe3f7e6453da4c417b932e76ac3",
    "tags": [],
    "deepnote_to_be_reexecuted": false,
    "source_hash": "9fdb7f58",
    "execution_start": 1658540033551,
    "execution_millis": 1127213,
    "deepnote_cell_type": "code",
    "deepnote_cell_height": 118.1875,
    "deepnote_output_heights": [
     21.1875
    ]
   },
   "outputs": [
    {
     "output_type": "execute_result",
     "execution_count": 5,
     "data": {
      "text/plain": "array([ 0,  2,  4,  6,  8, 10, 12, 14, 16, 18])"
     },
     "metadata": {}
    }
   ],
   "execution_count": null
  },
  {
   "cell_type": "code",
   "source": "arr + 2",
   "metadata": {
    "cell_id": "fb8e1fe1e67549cb8d46f975bbbba574",
    "tags": [],
    "deepnote_to_be_reexecuted": false,
    "source_hash": "ecbb6040",
    "execution_start": 1658540033595,
    "execution_millis": 456,
    "deepnote_cell_type": "code",
    "deepnote_cell_height": 118.1875,
    "deepnote_output_heights": [
     21.1875
    ]
   },
   "outputs": [
    {
     "output_type": "execute_result",
     "execution_count": 6,
     "data": {
      "text/plain": "array([ 2,  3,  4,  5,  6,  7,  8,  9, 10, 11])"
     },
     "metadata": {}
    }
   ],
   "execution_count": null
  },
  {
   "cell_type": "code",
   "source": "1 / arr",
   "metadata": {
    "cell_id": "08cc5f1f843e48f0b9f31cb419252836",
    "tags": [],
    "deepnote_to_be_reexecuted": false,
    "source_hash": "31d2d5cc",
    "execution_start": 1658540048909,
    "execution_millis": 30,
    "deepnote_cell_type": "code",
    "deepnote_cell_height": 203.75,
    "deepnote_output_heights": [
     null,
     40.375
    ]
   },
   "outputs": [
    {
     "name": "stderr",
     "text": "<ipython-input-7-e66ae8057bc3>:1: RuntimeWarning: divide by zero encountered in true_divide\n  1 / arr\n",
     "output_type": "stream"
    },
    {
     "output_type": "execute_result",
     "execution_count": 7,
     "data": {
      "text/plain": "array([       inf, 1.        , 0.5       , 0.33333333, 0.25      ,\n       0.2       , 0.16666667, 0.14285714, 0.125     , 0.11111111])"
     },
     "metadata": {}
    }
   ],
   "execution_count": null
  },
  {
   "cell_type": "code",
   "source": "arr ** 2",
   "metadata": {
    "cell_id": "436575cdd5f043cfbdd9c08f0907e849",
    "tags": [],
    "deepnote_to_be_reexecuted": false,
    "source_hash": "b2015c82",
    "execution_start": 1658540184219,
    "execution_millis": 28,
    "deepnote_cell_type": "code",
    "deepnote_cell_height": 118.1875,
    "deepnote_output_heights": [
     21.1875
    ]
   },
   "outputs": [
    {
     "output_type": "execute_result",
     "execution_count": 8,
     "data": {
      "text/plain": "array([ 0,  1,  4,  9, 16, 25, 36, 49, 64, 81])"
     },
     "metadata": {}
    }
   ],
   "execution_count": null
  },
  {
   "cell_type": "code",
   "source": "arr + arr2",
   "metadata": {
    "cell_id": "1b81ba4d5cff43ad9b140cb1e8aa1b31",
    "tags": [],
    "deepnote_to_be_reexecuted": false,
    "source_hash": "adf4cd34",
    "execution_start": 1658540191459,
    "execution_millis": 5,
    "deepnote_cell_type": "code",
    "deepnote_cell_height": 118.1875,
    "deepnote_output_heights": [
     21.1875
    ]
   },
   "outputs": [
    {
     "output_type": "execute_result",
     "execution_count": 9,
     "data": {
      "text/plain": "array([ 0,  2,  4,  6,  8, 10, 12, 14, 16, 18])"
     },
     "metadata": {}
    }
   ],
   "execution_count": null
  },
  {
   "cell_type": "code",
   "source": "arr * arr2",
   "metadata": {
    "cell_id": "3f8547e309eb4b67a5b12734d65604bd",
    "tags": [],
    "deepnote_to_be_reexecuted": false,
    "source_hash": "af1a6a37",
    "execution_start": 1658540197272,
    "execution_millis": 30,
    "deepnote_cell_type": "code",
    "deepnote_cell_height": 118.1875,
    "deepnote_output_heights": [
     21.1875
    ]
   },
   "outputs": [
    {
     "output_type": "execute_result",
     "execution_count": 10,
     "data": {
      "text/plain": "array([ 0,  1,  4,  9, 16, 25, 36, 49, 64, 81])"
     },
     "metadata": {}
    }
   ],
   "execution_count": null
  },
  {
   "cell_type": "code",
   "source": "arr / arr2",
   "metadata": {
    "cell_id": "7b17260cb5654814ac79ce59a101345e",
    "tags": [],
    "deepnote_to_be_reexecuted": false,
    "source_hash": "7aec1a1b",
    "execution_start": 1658540211232,
    "execution_millis": 8,
    "deepnote_cell_type": "code",
    "deepnote_cell_height": 184.5625,
    "deepnote_output_heights": [
     null,
     21.1875
    ]
   },
   "outputs": [
    {
     "name": "stderr",
     "text": "<ipython-input-11-5a1b3fd1a087>:1: RuntimeWarning: invalid value encountered in true_divide\n  arr / arr2\n",
     "output_type": "stream"
    },
    {
     "output_type": "execute_result",
     "execution_count": 11,
     "data": {
      "text/plain": "array([nan,  1.,  1.,  1.,  1.,  1.,  1.,  1.,  1.,  1.])"
     },
     "metadata": {}
    }
   ],
   "execution_count": null
  },
  {
   "cell_type": "code",
   "source": "matriz = arr.reshape(2, 5)\nmatriz2 = matriz.copy()\nmatriz, matriz2",
   "metadata": {
    "cell_id": "c813ace137d34c7689fc69309caf8caa",
    "tags": [],
    "deepnote_to_be_reexecuted": false,
    "source_hash": "236e3ac9",
    "execution_start": 1658540263381,
    "execution_millis": 18,
    "deepnote_cell_type": "code",
    "deepnote_cell_height": 211.75,
    "deepnote_output_heights": [
     78.75
    ]
   },
   "outputs": [
    {
     "output_type": "execute_result",
     "execution_count": 16,
     "data": {
      "text/plain": "(array([[0, 1, 2, 3, 4],\n        [5, 6, 7, 8, 9]]),\n array([[0, 1, 2, 3, 4],\n        [5, 6, 7, 8, 9]]))"
     },
     "metadata": {}
    }
   ],
   "execution_count": null
  },
  {
   "cell_type": "code",
   "source": "matriz - matriz2",
   "metadata": {
    "cell_id": "d0f86e05a36f4aff8bab80db659d9413",
    "tags": [],
    "deepnote_to_be_reexecuted": false,
    "source_hash": "2df3f0c8",
    "execution_start": 1658540286037,
    "execution_millis": 198,
    "deepnote_cell_type": "code",
    "deepnote_cell_height": 137.375,
    "deepnote_output_heights": [
     40.375
    ]
   },
   "outputs": [
    {
     "output_type": "execute_result",
     "execution_count": 18,
     "data": {
      "text/plain": "array([[0, 0, 0, 0, 0],\n       [0, 0, 0, 0, 0]])"
     },
     "metadata": {}
    }
   ],
   "execution_count": null
  },
  {
   "cell_type": "code",
   "source": "matriz2.T",
   "metadata": {
    "cell_id": "855543bfc44d4f1492858a6b7bfbf507",
    "tags": [],
    "deepnote_to_be_reexecuted": false,
    "source_hash": "5ec04203",
    "execution_start": 1658540361438,
    "execution_millis": 21,
    "deepnote_cell_type": "code",
    "deepnote_cell_height": 194.9375,
    "deepnote_output_heights": [
     97.9375
    ]
   },
   "outputs": [
    {
     "output_type": "execute_result",
     "execution_count": 21,
     "data": {
      "text/plain": "array([[0, 5],\n       [1, 6],\n       [2, 7],\n       [3, 8],\n       [4, 9]])"
     },
     "metadata": {}
    }
   ],
   "execution_count": null
  },
  {
   "cell_type": "code",
   "source": "# Operaciones de producto punto\nnp.matmul(matriz, matriz2.T)",
   "metadata": {
    "cell_id": "4afff13ee1254869899b117e4dfdb1cb",
    "tags": [],
    "deepnote_to_be_reexecuted": false,
    "source_hash": "1f9db0ee",
    "execution_start": 1658540343201,
    "execution_millis": 9,
    "owner_user_id": "1446e09b-adb1-4d03-8824-192d50632f30",
    "deepnote_cell_type": "code",
    "deepnote_cell_height": 155.375,
    "deepnote_output_heights": [
     40.375
    ]
   },
   "outputs": [
    {
     "output_type": "execute_result",
     "execution_count": 20,
     "data": {
      "text/plain": "array([[ 30,  80],\n       [ 80, 255]])"
     },
     "metadata": {}
    }
   ],
   "execution_count": null
  },
  {
   "cell_type": "code",
   "source": "matriz @ matriz2.T",
   "metadata": {
    "cell_id": "7c08ec2fb3f64e48be70533a287885e4",
    "tags": [],
    "deepnote_to_be_reexecuted": false,
    "source_hash": "632f954f",
    "execution_start": 1658540380752,
    "execution_millis": 13,
    "deepnote_cell_type": "code",
    "deepnote_cell_height": 137.375,
    "deepnote_output_heights": [
     40.375
    ]
   },
   "outputs": [
    {
     "output_type": "execute_result",
     "execution_count": 22,
     "data": {
      "text/plain": "array([[ 30,  80],\n       [ 80, 255]])"
     },
     "metadata": {}
    }
   ],
   "execution_count": null
  },
  {
   "cell_type": "markdown",
   "source": "<a style='text-decoration:none;line-height:16px;display:flex;color:#5B5B62;padding:10px;justify-content:end;' href='https://deepnote.com?utm_source=created-in-deepnote-cell&projectId=4950ccd9-74b8-4ba2-b588-82894596c11f' target=\"_blank\">\n<img alt='Created in deepnote.com' style='display:inline;max-height:16px;margin:0px;margin-right:7.5px;' src='data:image/svg+xml;base64,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' > </img>\nCreated in <span style='font-weight:600;margin-left:4px;'>Deepnote</span></a>",
   "metadata": {
    "tags": [],
    "created_in_deepnote_cell": true,
    "deepnote_cell_type": "markdown"
   }
  }
 ],
 "nbformat": 4,
 "nbformat_minor": 2,
 "metadata": {
  "orig_nbformat": 2,
  "deepnote": {},
  "deepnote_notebook_id": "229a8ce8-7f5a-407b-8edf-a79915b13e39",
  "deepnote_execution_queue": []
 }
}