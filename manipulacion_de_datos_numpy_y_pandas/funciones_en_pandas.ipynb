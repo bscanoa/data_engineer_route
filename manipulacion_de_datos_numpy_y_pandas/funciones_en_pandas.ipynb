{
 "cells": [
  {
   "cell_type": "code",
   "metadata": {
    "tags": [],
    "cell_id": "7c44dc40-2fef-43f9-8334-b468e3418731",
    "deepnote_to_be_reexecuted": false,
    "source_hash": "9b82ee11",
    "execution_start": 1658600310725,
    "execution_millis": 1,
    "deepnote_cell_type": "code",
    "deepnote_cell_height": 81
   },
   "source": "import pandas as pd",
   "execution_count": 1,
   "outputs": []
  },
  {
   "cell_type": "code",
   "source": "df_books = pd.read_csv('/work/data_enginner_route/manipulacion_de_datos_numpy_y_pandas/data/bestsellers-with-categories.csv')\ndf_books.head(2)",
   "metadata": {
    "cell_id": "b245482162ed4ace9e57c2d5ea575a85",
    "tags": [],
    "deepnote_to_be_reexecuted": false,
    "source_hash": "2bed5ecf",
    "execution_start": 1658600310727,
    "execution_millis": 179,
    "deepnote_cell_type": "code",
    "deepnote_cell_height": 290
   },
   "outputs": [
    {
     "output_type": "execute_result",
     "execution_count": 2,
     "data": {
      "application/vnd.deepnote.dataframe.v3+json": {
       "column_count": 7,
       "row_count": 2,
       "columns": [
        {
         "name": "Name",
         "dtype": "object",
         "stats": {
          "unique_count": 2,
          "nan_count": 0,
          "categories": [
           {
            "name": "10-Day Green Smoothie Cleanse",
            "count": 1
           },
           {
            "name": "11/22/63: A Novel",
            "count": 1
           }
          ]
         }
        },
        {
         "name": "Author",
         "dtype": "object",
         "stats": {
          "unique_count": 2,
          "nan_count": 0,
          "categories": [
           {
            "name": "JJ Smith",
            "count": 1
           },
           {
            "name": "Stephen King",
            "count": 1
           }
          ]
         }
        },
        {
         "name": "User Rating",
         "dtype": "float64",
         "stats": {
          "unique_count": 2,
          "nan_count": 0,
          "min": "4.6",
          "max": "4.7",
          "histogram": [
           {
            "bin_start": 4.6,
            "bin_end": 4.609999999999999,
            "count": 1
           },
           {
            "bin_start": 4.609999999999999,
            "bin_end": 4.62,
            "count": 0
           },
           {
            "bin_start": 4.62,
            "bin_end": 4.63,
            "count": 0
           },
           {
            "bin_start": 4.63,
            "bin_end": 4.64,
            "count": 0
           },
           {
            "bin_start": 4.64,
            "bin_end": 4.65,
            "count": 0
           },
           {
            "bin_start": 4.65,
            "bin_end": 4.66,
            "count": 0
           },
           {
            "bin_start": 4.66,
            "bin_end": 4.67,
            "count": 0
           },
           {
            "bin_start": 4.67,
            "bin_end": 4.68,
            "count": 0
           },
           {
            "bin_start": 4.68,
            "bin_end": 4.69,
            "count": 0
           },
           {
            "bin_start": 4.69,
            "bin_end": 4.7,
            "count": 1
           }
          ]
         }
        },
        {
         "name": "Reviews",
         "dtype": "int64",
         "stats": {
          "unique_count": 2,
          "nan_count": 0,
          "min": "2052",
          "max": "17350",
          "histogram": [
           {
            "bin_start": 2052,
            "bin_end": 3581.8,
            "count": 1
           },
           {
            "bin_start": 3581.8,
            "bin_end": 5111.6,
            "count": 0
           },
           {
            "bin_start": 5111.6,
            "bin_end": 6641.4,
            "count": 0
           },
           {
            "bin_start": 6641.4,
            "bin_end": 8171.2,
            "count": 0
           },
           {
            "bin_start": 8171.2,
            "bin_end": 9701,
            "count": 0
           },
           {
            "bin_start": 9701,
            "bin_end": 11230.8,
            "count": 0
           },
           {
            "bin_start": 11230.8,
            "bin_end": 12760.6,
            "count": 0
           },
           {
            "bin_start": 12760.6,
            "bin_end": 14290.4,
            "count": 0
           },
           {
            "bin_start": 14290.4,
            "bin_end": 15820.199999999999,
            "count": 0
           },
           {
            "bin_start": 15820.199999999999,
            "bin_end": 17350,
            "count": 1
           }
          ]
         }
        },
        {
         "name": "Price",
         "dtype": "int64",
         "stats": {
          "unique_count": 2,
          "nan_count": 0,
          "min": "8",
          "max": "22",
          "histogram": [
           {
            "bin_start": 8,
            "bin_end": 9.4,
            "count": 1
           },
           {
            "bin_start": 9.4,
            "bin_end": 10.8,
            "count": 0
           },
           {
            "bin_start": 10.8,
            "bin_end": 12.2,
            "count": 0
           },
           {
            "bin_start": 12.2,
            "bin_end": 13.6,
            "count": 0
           },
           {
            "bin_start": 13.6,
            "bin_end": 15,
            "count": 0
           },
           {
            "bin_start": 15,
            "bin_end": 16.4,
            "count": 0
           },
           {
            "bin_start": 16.4,
            "bin_end": 17.799999999999997,
            "count": 0
           },
           {
            "bin_start": 17.799999999999997,
            "bin_end": 19.2,
            "count": 0
           },
           {
            "bin_start": 19.2,
            "bin_end": 20.6,
            "count": 0
           },
           {
            "bin_start": 20.6,
            "bin_end": 22,
            "count": 1
           }
          ]
         }
        },
        {
         "name": "Year",
         "dtype": "int64",
         "stats": {
          "unique_count": 2,
          "nan_count": 0,
          "min": "2011",
          "max": "2016",
          "histogram": [
           {
            "bin_start": 2011,
            "bin_end": 2011.5,
            "count": 1
           },
           {
            "bin_start": 2011.5,
            "bin_end": 2012,
            "count": 0
           },
           {
            "bin_start": 2012,
            "bin_end": 2012.5,
            "count": 0
           },
           {
            "bin_start": 2012.5,
            "bin_end": 2013,
            "count": 0
           },
           {
            "bin_start": 2013,
            "bin_end": 2013.5,
            "count": 0
           },
           {
            "bin_start": 2013.5,
            "bin_end": 2014,
            "count": 0
           },
           {
            "bin_start": 2014,
            "bin_end": 2014.5,
            "count": 0
           },
           {
            "bin_start": 2014.5,
            "bin_end": 2015,
            "count": 0
           },
           {
            "bin_start": 2015,
            "bin_end": 2015.5,
            "count": 0
           },
           {
            "bin_start": 2015.5,
            "bin_end": 2016,
            "count": 1
           }
          ]
         }
        },
        {
         "name": "Genre",
         "dtype": "object",
         "stats": {
          "unique_count": 2,
          "nan_count": 0,
          "categories": [
           {
            "name": "Non Fiction",
            "count": 1
           },
           {
            "name": "Fiction",
            "count": 1
           }
          ]
         }
        },
        {
         "name": "_deepnote_index_column",
         "dtype": "int64"
        }
       ],
       "rows": [
        {
         "Name": "10-Day Green Smoothie Cleanse",
         "Author": "JJ Smith",
         "User Rating": 4.7,
         "Reviews": 17350,
         "Price": 8,
         "Year": 2016,
         "Genre": "Non Fiction",
         "_deepnote_index_column": 0
        },
        {
         "Name": "11/22/63: A Novel",
         "Author": "Stephen King",
         "User Rating": 4.6,
         "Reviews": 2052,
         "Price": 22,
         "Year": 2011,
         "Genre": "Fiction",
         "_deepnote_index_column": 1
        }
       ]
      },
      "text/plain": "                            Name        Author  User Rating  Reviews  Price  \\\n0  10-Day Green Smoothie Cleanse      JJ Smith          4.7    17350      8   \n1              11/22/63: A Novel  Stephen King          4.6     2052     22   \n\n   Year        Genre  \n0  2016  Non Fiction  \n1  2011      Fiction  ",
      "text/html": "<div>\n<style scoped>\n    .dataframe tbody tr th:only-of-type {\n        vertical-align: middle;\n    }\n\n    .dataframe tbody tr th {\n        vertical-align: top;\n    }\n\n    .dataframe thead th {\n        text-align: right;\n    }\n</style>\n<table border=\"1\" class=\"dataframe\">\n  <thead>\n    <tr style=\"text-align: right;\">\n      <th></th>\n      <th>Name</th>\n      <th>Author</th>\n      <th>User Rating</th>\n      <th>Reviews</th>\n      <th>Price</th>\n      <th>Year</th>\n      <th>Genre</th>\n    </tr>\n  </thead>\n  <tbody>\n    <tr>\n      <th>0</th>\n      <td>10-Day Green Smoothie Cleanse</td>\n      <td>JJ Smith</td>\n      <td>4.7</td>\n      <td>17350</td>\n      <td>8</td>\n      <td>2016</td>\n      <td>Non Fiction</td>\n    </tr>\n    <tr>\n      <th>1</th>\n      <td>11/22/63: A Novel</td>\n      <td>Stephen King</td>\n      <td>4.6</td>\n      <td>2052</td>\n      <td>22</td>\n      <td>2011</td>\n      <td>Fiction</td>\n    </tr>\n  </tbody>\n</table>\n</div>"
     },
     "metadata": {}
    }
   ],
   "execution_count": 2
  },
  {
   "cell_type": "code",
   "source": "df_books.info()",
   "metadata": {
    "cell_id": "1396b7db725840b88279f1896a2b4481",
    "tags": [],
    "deepnote_to_be_reexecuted": false,
    "source_hash": "51fa676",
    "execution_start": 1658600310902,
    "execution_millis": 7,
    "deepnote_cell_type": "code",
    "deepnote_cell_height": 374.625
   },
   "outputs": [
    {
     "name": "stdout",
     "text": "<class 'pandas.core.frame.DataFrame'>\nRangeIndex: 550 entries, 0 to 549\nData columns (total 7 columns):\n #   Column       Non-Null Count  Dtype  \n---  ------       --------------  -----  \n 0   Name         550 non-null    object \n 1   Author       550 non-null    object \n 2   User Rating  550 non-null    float64\n 3   Reviews      550 non-null    int64  \n 4   Price        550 non-null    int64  \n 5   Year         550 non-null    int64  \n 6   Genre        550 non-null    object \ndtypes: float64(1), int64(3), object(3)\nmemory usage: 30.2+ KB\n",
     "output_type": "stream"
    }
   ],
   "execution_count": 3
  },
  {
   "cell_type": "code",
   "source": "df_books.describe() # información estadistica de los datos numericos",
   "metadata": {
    "cell_id": "fdf98abb123f46b390d36a011eb5b65b",
    "tags": [],
    "deepnote_to_be_reexecuted": false,
    "source_hash": "f97e054",
    "execution_start": 1658600310920,
    "execution_millis": 139,
    "deepnote_cell_type": "code",
    "deepnote_cell_height": 518
   },
   "outputs": [
    {
     "output_type": "execute_result",
     "execution_count": 4,
     "data": {
      "application/vnd.deepnote.dataframe.v3+json": {
       "column_count": 4,
       "row_count": 8,
       "columns": [
        {
         "name": "User Rating",
         "dtype": "float64",
         "stats": {
          "unique_count": 8,
          "nan_count": 0,
          "min": "0.2269803650251963",
          "max": "550.0",
          "histogram": [
           {
            "bin_start": 0.2269803650251963,
            "bin_end": 55.20428232852268,
            "count": 7
           },
           {
            "bin_start": 55.20428232852268,
            "bin_end": 110.18158429202016,
            "count": 0
           },
           {
            "bin_start": 110.18158429202016,
            "bin_end": 165.15888625551761,
            "count": 0
           },
           {
            "bin_start": 165.15888625551761,
            "bin_end": 220.1361882190151,
            "count": 0
           },
           {
            "bin_start": 220.1361882190151,
            "bin_end": 275.11349018251263,
            "count": 0
           },
           {
            "bin_start": 275.11349018251263,
            "bin_end": 330.0907921460101,
            "count": 0
           },
           {
            "bin_start": 330.0907921460101,
            "bin_end": 385.06809410950757,
            "count": 0
           },
           {
            "bin_start": 385.06809410950757,
            "bin_end": 440.04539607300507,
            "count": 0
           },
           {
            "bin_start": 440.04539607300507,
            "bin_end": 495.02269803650256,
            "count": 0
           },
           {
            "bin_start": 495.02269803650256,
            "bin_end": 550,
            "count": 1
           }
          ]
         }
        },
        {
         "name": "Reviews",
         "dtype": "float64",
         "stats": {
          "unique_count": 8,
          "nan_count": 0,
          "min": "37.0",
          "max": "87841.0",
          "histogram": [
           {
            "bin_start": 37,
            "bin_end": 8817.4,
            "count": 4
           },
           {
            "bin_start": 8817.4,
            "bin_end": 17597.8,
            "count": 3
           },
           {
            "bin_start": 17597.8,
            "bin_end": 26378.199999999997,
            "count": 0
           },
           {
            "bin_start": 26378.199999999997,
            "bin_end": 35158.6,
            "count": 0
           },
           {
            "bin_start": 35158.6,
            "bin_end": 43939,
            "count": 0
           },
           {
            "bin_start": 43939,
            "bin_end": 52719.399999999994,
            "count": 0
           },
           {
            "bin_start": 52719.399999999994,
            "bin_end": 61499.799999999996,
            "count": 0
           },
           {
            "bin_start": 61499.799999999996,
            "bin_end": 70280.2,
            "count": 0
           },
           {
            "bin_start": 70280.2,
            "bin_end": 79060.59999999999,
            "count": 0
           },
           {
            "bin_start": 79060.59999999999,
            "bin_end": 87841,
            "count": 1
           }
          ]
         }
        },
        {
         "name": "Price",
         "dtype": "float64",
         "stats": {
          "unique_count": 8,
          "nan_count": 0,
          "min": "0.0",
          "max": "550.0",
          "histogram": [
           {
            "bin_start": 0,
            "bin_end": 55,
            "count": 6
           },
           {
            "bin_start": 55,
            "bin_end": 110,
            "count": 1
           },
           {
            "bin_start": 110,
            "bin_end": 165,
            "count": 0
           },
           {
            "bin_start": 165,
            "bin_end": 220,
            "count": 0
           },
           {
            "bin_start": 220,
            "bin_end": 275,
            "count": 0
           },
           {
            "bin_start": 275,
            "bin_end": 330,
            "count": 0
           },
           {
            "bin_start": 330,
            "bin_end": 385,
            "count": 0
           },
           {
            "bin_start": 385,
            "bin_end": 440,
            "count": 0
           },
           {
            "bin_start": 440,
            "bin_end": 495,
            "count": 0
           },
           {
            "bin_start": 495,
            "bin_end": 550,
            "count": 1
           }
          ]
         }
        },
        {
         "name": "Year",
         "dtype": "float64",
         "stats": {
          "unique_count": 7,
          "nan_count": 0,
          "min": "3.165156384169307",
          "max": "2019.0",
          "histogram": [
           {
            "bin_start": 3.165156384169307,
            "bin_end": 204.7486407457524,
            "count": 1
           },
           {
            "bin_start": 204.7486407457524,
            "bin_end": 406.33212510733546,
            "count": 0
           },
           {
            "bin_start": 406.33212510733546,
            "bin_end": 607.9156094689187,
            "count": 1
           },
           {
            "bin_start": 607.9156094689187,
            "bin_end": 809.4990938305017,
            "count": 0
           },
           {
            "bin_start": 809.4990938305017,
            "bin_end": 1011.0825781920847,
            "count": 0
           },
           {
            "bin_start": 1011.0825781920847,
            "bin_end": 1212.6660625536679,
            "count": 0
           },
           {
            "bin_start": 1212.6660625536679,
            "bin_end": 1414.249546915251,
            "count": 0
           },
           {
            "bin_start": 1414.249546915251,
            "bin_end": 1615.833031276834,
            "count": 0
           },
           {
            "bin_start": 1615.833031276834,
            "bin_end": 1817.416515638417,
            "count": 0
           },
           {
            "bin_start": 1817.416515638417,
            "bin_end": 2019,
            "count": 6
           }
          ]
         }
        },
        {
         "name": "_deepnote_index_column",
         "dtype": "object"
        }
       ],
       "rows": [
        {
         "User Rating": 550,
         "Reviews": 550,
         "Price": 550,
         "Year": 550,
         "_deepnote_index_column": "count"
        },
        {
         "User Rating": 4.618363636363637,
         "Reviews": 11953.281818181818,
         "Price": 13.1,
         "Year": 2014,
         "_deepnote_index_column": "mean"
        },
        {
         "User Rating": 0.2269803650251963,
         "Reviews": 11731.132017431892,
         "Price": 10.84226197842236,
         "Year": 3.165156384169307,
         "_deepnote_index_column": "std"
        },
        {
         "User Rating": 3.3,
         "Reviews": 37,
         "Price": 0,
         "Year": 2009,
         "_deepnote_index_column": "min"
        },
        {
         "User Rating": 4.5,
         "Reviews": 4058,
         "Price": 7,
         "Year": 2011,
         "_deepnote_index_column": "25%"
        },
        {
         "User Rating": 4.7,
         "Reviews": 8580,
         "Price": 11,
         "Year": 2014,
         "_deepnote_index_column": "50%"
        },
        {
         "User Rating": 4.8,
         "Reviews": 17253.25,
         "Price": 16,
         "Year": 2017,
         "_deepnote_index_column": "75%"
        },
        {
         "User Rating": 4.9,
         "Reviews": 87841,
         "Price": 105,
         "Year": 2019,
         "_deepnote_index_column": "max"
        }
       ]
      },
      "text/plain": "       User Rating       Reviews       Price         Year\ncount   550.000000    550.000000  550.000000   550.000000\nmean      4.618364  11953.281818   13.100000  2014.000000\nstd       0.226980  11731.132017   10.842262     3.165156\nmin       3.300000     37.000000    0.000000  2009.000000\n25%       4.500000   4058.000000    7.000000  2011.000000\n50%       4.700000   8580.000000   11.000000  2014.000000\n75%       4.800000  17253.250000   16.000000  2017.000000\nmax       4.900000  87841.000000  105.000000  2019.000000",
      "text/html": "<div>\n<style scoped>\n    .dataframe tbody tr th:only-of-type {\n        vertical-align: middle;\n    }\n\n    .dataframe tbody tr th {\n        vertical-align: top;\n    }\n\n    .dataframe thead th {\n        text-align: right;\n    }\n</style>\n<table border=\"1\" class=\"dataframe\">\n  <thead>\n    <tr style=\"text-align: right;\">\n      <th></th>\n      <th>User Rating</th>\n      <th>Reviews</th>\n      <th>Price</th>\n      <th>Year</th>\n    </tr>\n  </thead>\n  <tbody>\n    <tr>\n      <th>count</th>\n      <td>550.000000</td>\n      <td>550.000000</td>\n      <td>550.000000</td>\n      <td>550.000000</td>\n    </tr>\n    <tr>\n      <th>mean</th>\n      <td>4.618364</td>\n      <td>11953.281818</td>\n      <td>13.100000</td>\n      <td>2014.000000</td>\n    </tr>\n    <tr>\n      <th>std</th>\n      <td>0.226980</td>\n      <td>11731.132017</td>\n      <td>10.842262</td>\n      <td>3.165156</td>\n    </tr>\n    <tr>\n      <th>min</th>\n      <td>3.300000</td>\n      <td>37.000000</td>\n      <td>0.000000</td>\n      <td>2009.000000</td>\n    </tr>\n    <tr>\n      <th>25%</th>\n      <td>4.500000</td>\n      <td>4058.000000</td>\n      <td>7.000000</td>\n      <td>2011.000000</td>\n    </tr>\n    <tr>\n      <th>50%</th>\n      <td>4.700000</td>\n      <td>8580.000000</td>\n      <td>11.000000</td>\n      <td>2014.000000</td>\n    </tr>\n    <tr>\n      <th>75%</th>\n      <td>4.800000</td>\n      <td>17253.250000</td>\n      <td>16.000000</td>\n      <td>2017.000000</td>\n    </tr>\n    <tr>\n      <th>max</th>\n      <td>4.900000</td>\n      <td>87841.000000</td>\n      <td>105.000000</td>\n      <td>2019.000000</td>\n    </tr>\n  </tbody>\n</table>\n</div>"
     },
     "metadata": {}
    }
   ],
   "execution_count": 4
  },
  {
   "cell_type": "code",
   "source": "df_books.tail(2) # los últimos datos",
   "metadata": {
    "cell_id": "076c7fd3a41847ce9d577ea284d29f6d",
    "tags": [],
    "deepnote_to_be_reexecuted": false,
    "source_hash": "e7feea3c",
    "execution_start": 1658600311058,
    "execution_millis": 57,
    "deepnote_cell_type": "code",
    "deepnote_cell_height": 272
   },
   "outputs": [
    {
     "output_type": "execute_result",
     "execution_count": 5,
     "data": {
      "application/vnd.deepnote.dataframe.v3+json": {
       "column_count": 7,
       "row_count": 2,
       "columns": [
        {
         "name": "Name",
         "dtype": "object",
         "stats": {
          "unique_count": 1,
          "nan_count": 0,
          "categories": [
           {
            "name": "You Are a Badass: How to Stop Doubting Your Greatness and Start Living an Awesome Life",
            "count": 2
           }
          ]
         }
        },
        {
         "name": "Author",
         "dtype": "object",
         "stats": {
          "unique_count": 1,
          "nan_count": 0,
          "categories": [
           {
            "name": "Jen Sincero",
            "count": 2
           }
          ]
         }
        },
        {
         "name": "User Rating",
         "dtype": "float64",
         "stats": {
          "unique_count": 1,
          "nan_count": 0,
          "min": "4.7",
          "max": "4.7",
          "histogram": [
           {
            "bin_start": 4.2,
            "bin_end": 4.3,
            "count": 0
           },
           {
            "bin_start": 4.3,
            "bin_end": 4.4,
            "count": 0
           },
           {
            "bin_start": 4.4,
            "bin_end": 4.5,
            "count": 0
           },
           {
            "bin_start": 4.5,
            "bin_end": 4.6000000000000005,
            "count": 0
           },
           {
            "bin_start": 4.6000000000000005,
            "bin_end": 4.7,
            "count": 0
           },
           {
            "bin_start": 4.7,
            "bin_end": 4.800000000000001,
            "count": 2
           },
           {
            "bin_start": 4.800000000000001,
            "bin_end": 4.9,
            "count": 0
           },
           {
            "bin_start": 4.9,
            "bin_end": 5,
            "count": 0
           },
           {
            "bin_start": 5,
            "bin_end": 5.1000000000000005,
            "count": 0
           },
           {
            "bin_start": 5.1000000000000005,
            "bin_end": 5.2,
            "count": 0
           }
          ]
         }
        },
        {
         "name": "Reviews",
         "dtype": "int64",
         "stats": {
          "unique_count": 1,
          "nan_count": 0,
          "min": "14331",
          "max": "14331",
          "histogram": [
           {
            "bin_start": 14330.5,
            "bin_end": 14330.6,
            "count": 0
           },
           {
            "bin_start": 14330.6,
            "bin_end": 14330.7,
            "count": 0
           },
           {
            "bin_start": 14330.7,
            "bin_end": 14330.8,
            "count": 0
           },
           {
            "bin_start": 14330.8,
            "bin_end": 14330.9,
            "count": 0
           },
           {
            "bin_start": 14330.9,
            "bin_end": 14331,
            "count": 0
           },
           {
            "bin_start": 14331,
            "bin_end": 14331.1,
            "count": 2
           },
           {
            "bin_start": 14331.1,
            "bin_end": 14331.2,
            "count": 0
           },
           {
            "bin_start": 14331.2,
            "bin_end": 14331.3,
            "count": 0
           },
           {
            "bin_start": 14331.3,
            "bin_end": 14331.4,
            "count": 0
           },
           {
            "bin_start": 14331.4,
            "bin_end": 14331.5,
            "count": 0
           }
          ]
         }
        },
        {
         "name": "Price",
         "dtype": "int64",
         "stats": {
          "unique_count": 1,
          "nan_count": 0,
          "min": "8",
          "max": "8",
          "histogram": [
           {
            "bin_start": 7.5,
            "bin_end": 7.6,
            "count": 0
           },
           {
            "bin_start": 7.6,
            "bin_end": 7.7,
            "count": 0
           },
           {
            "bin_start": 7.7,
            "bin_end": 7.8,
            "count": 0
           },
           {
            "bin_start": 7.8,
            "bin_end": 7.9,
            "count": 0
           },
           {
            "bin_start": 7.9,
            "bin_end": 8,
            "count": 0
           },
           {
            "bin_start": 8,
            "bin_end": 8.1,
            "count": 2
           },
           {
            "bin_start": 8.1,
            "bin_end": 8.2,
            "count": 0
           },
           {
            "bin_start": 8.2,
            "bin_end": 8.3,
            "count": 0
           },
           {
            "bin_start": 8.3,
            "bin_end": 8.4,
            "count": 0
           },
           {
            "bin_start": 8.4,
            "bin_end": 8.5,
            "count": 0
           }
          ]
         }
        },
        {
         "name": "Year",
         "dtype": "int64",
         "stats": {
          "unique_count": 2,
          "nan_count": 0,
          "min": "2018",
          "max": "2019",
          "histogram": [
           {
            "bin_start": 2018,
            "bin_end": 2018.1,
            "count": 1
           },
           {
            "bin_start": 2018.1,
            "bin_end": 2018.2,
            "count": 0
           },
           {
            "bin_start": 2018.2,
            "bin_end": 2018.3,
            "count": 0
           },
           {
            "bin_start": 2018.3,
            "bin_end": 2018.4,
            "count": 0
           },
           {
            "bin_start": 2018.4,
            "bin_end": 2018.5,
            "count": 0
           },
           {
            "bin_start": 2018.5,
            "bin_end": 2018.6,
            "count": 0
           },
           {
            "bin_start": 2018.6,
            "bin_end": 2018.7,
            "count": 0
           },
           {
            "bin_start": 2018.7,
            "bin_end": 2018.8,
            "count": 0
           },
           {
            "bin_start": 2018.8,
            "bin_end": 2018.9,
            "count": 0
           },
           {
            "bin_start": 2018.9,
            "bin_end": 2019,
            "count": 1
           }
          ]
         }
        },
        {
         "name": "Genre",
         "dtype": "object",
         "stats": {
          "unique_count": 1,
          "nan_count": 0,
          "categories": [
           {
            "name": "Non Fiction",
            "count": 2
           }
          ]
         }
        },
        {
         "name": "_deepnote_index_column",
         "dtype": "int64"
        }
       ],
       "rows": [
        {
         "Name": "You Are a Badass: How to Stop Doubting Your Greatness and Start Living an Awesome Life",
         "Author": "Jen Sincero",
         "User Rating": 4.7,
         "Reviews": 14331,
         "Price": 8,
         "Year": 2018,
         "Genre": "Non Fiction",
         "_deepnote_index_column": 548
        },
        {
         "Name": "You Are a Badass: How to Stop Doubting Your Greatness and Start Living an Awesome Life",
         "Author": "Jen Sincero",
         "User Rating": 4.7,
         "Reviews": 14331,
         "Price": 8,
         "Year": 2019,
         "Genre": "Non Fiction",
         "_deepnote_index_column": 549
        }
       ]
      },
      "text/plain": "                                                  Name       Author  \\\n548  You Are a Badass: How to Stop Doubting Your Gr...  Jen Sincero   \n549  You Are a Badass: How to Stop Doubting Your Gr...  Jen Sincero   \n\n     User Rating  Reviews  Price  Year        Genre  \n548          4.7    14331      8  2018  Non Fiction  \n549          4.7    14331      8  2019  Non Fiction  ",
      "text/html": "<div>\n<style scoped>\n    .dataframe tbody tr th:only-of-type {\n        vertical-align: middle;\n    }\n\n    .dataframe tbody tr th {\n        vertical-align: top;\n    }\n\n    .dataframe thead th {\n        text-align: right;\n    }\n</style>\n<table border=\"1\" class=\"dataframe\">\n  <thead>\n    <tr style=\"text-align: right;\">\n      <th></th>\n      <th>Name</th>\n      <th>Author</th>\n      <th>User Rating</th>\n      <th>Reviews</th>\n      <th>Price</th>\n      <th>Year</th>\n      <th>Genre</th>\n    </tr>\n  </thead>\n  <tbody>\n    <tr>\n      <th>548</th>\n      <td>You Are a Badass: How to Stop Doubting Your Gr...</td>\n      <td>Jen Sincero</td>\n      <td>4.7</td>\n      <td>14331</td>\n      <td>8</td>\n      <td>2018</td>\n      <td>Non Fiction</td>\n    </tr>\n    <tr>\n      <th>549</th>\n      <td>You Are a Badass: How to Stop Doubting Your Gr...</td>\n      <td>Jen Sincero</td>\n      <td>4.7</td>\n      <td>14331</td>\n      <td>8</td>\n      <td>2019</td>\n      <td>Non Fiction</td>\n    </tr>\n  </tbody>\n</table>\n</div>"
     },
     "metadata": {}
    }
   ],
   "execution_count": 5
  },
  {
   "cell_type": "code",
   "source": "df_books.memory_usage(deep=True) # uso de memoría del df",
   "metadata": {
    "cell_id": "1b15c5943f6449d782003f28b9386342",
    "tags": [],
    "deepnote_to_be_reexecuted": false,
    "source_hash": "3792587b",
    "execution_start": 1658600311114,
    "execution_millis": 24,
    "deepnote_cell_type": "code",
    "deepnote_cell_height": 271.6875,
    "deepnote_output_heights": [
     174.6875
    ]
   },
   "outputs": [
    {
     "output_type": "execute_result",
     "execution_count": 6,
     "data": {
      "text/plain": "Index            128\nName           59737\nAuthor         39078\nUser Rating     4400\nReviews         4400\nPrice           4400\nYear            4400\nGenre          36440\ndtype: int64"
     },
     "metadata": {}
    }
   ],
   "execution_count": 6
  },
  {
   "cell_type": "code",
   "source": "df_books['Author'].value_counts()",
   "metadata": {
    "cell_id": "3b50e38caf2c42d787de4527768e8267",
    "tags": [],
    "deepnote_to_be_reexecuted": false,
    "source_hash": "81c3f6bb",
    "execution_start": 1658600311146,
    "execution_millis": 15,
    "deepnote_cell_type": "code",
    "deepnote_cell_height": 329.25,
    "deepnote_output_heights": [
     232.25
    ]
   },
   "outputs": [
    {
     "output_type": "execute_result",
     "execution_count": 7,
     "data": {
      "text/plain": "Jeff Kinney                           12\nGary Chapman                          11\nSuzanne Collins                       11\nRick Riordan                          11\nAmerican Psychological Association    10\n                                      ..\nDavid Grann                            1\nElizabeth Strout                       1\nChris Cleave                           1\nAndy Weir                              1\nJon Meacham                            1\nName: Author, Length: 248, dtype: int64"
     },
     "metadata": {}
    }
   ],
   "execution_count": 7
  },
  {
   "cell_type": "code",
   "source": "df_books.iloc[0]",
   "metadata": {
    "cell_id": "f6fbe6fa4030492bbd186ad5050d1dc4",
    "tags": [],
    "deepnote_to_be_reexecuted": false,
    "source_hash": "72e4c173",
    "execution_start": 1658600311179,
    "execution_millis": 19,
    "deepnote_cell_type": "code",
    "deepnote_cell_height": 252.5,
    "deepnote_output_heights": [
     155.5
    ]
   },
   "outputs": [
    {
     "output_type": "execute_result",
     "execution_count": 8,
     "data": {
      "text/plain": "Name           10-Day Green Smoothie Cleanse\nAuthor                              JJ Smith\nUser Rating                              4.7\nReviews                                17350\nPrice                                      8\nYear                                    2016\nGenre                            Non Fiction\nName: 0, dtype: object"
     },
     "metadata": {}
    }
   ],
   "execution_count": 8
  },
  {
   "cell_type": "code",
   "source": "df_books = df_books.append(df_books.iloc[0])",
   "metadata": {
    "cell_id": "10905535fe8f495d99cc96d3d7a2d938",
    "tags": [],
    "deepnote_to_be_reexecuted": false,
    "source_hash": "8fc386da",
    "execution_start": 1658600311250,
    "execution_millis": 5545134,
    "deepnote_cell_type": "code",
    "deepnote_cell_height": 81
   },
   "outputs": [],
   "execution_count": 9
  },
  {
   "cell_type": "code",
   "source": "df_books.drop_duplicates(keep='last')",
   "metadata": {
    "cell_id": "eb68ed87165e489b8bc0e7f2c5eb23ca",
    "tags": [],
    "deepnote_to_be_reexecuted": false,
    "source_hash": "8fe8bc65",
    "execution_start": 1658600311250,
    "execution_millis": 163,
    "deepnote_cell_type": "code",
    "deepnote_cell_height": 600
   },
   "outputs": [
    {
     "output_type": "execute_result",
     "execution_count": 10,
     "data": {
      "application/vnd.deepnote.dataframe.v3+json": {
       "column_count": 7,
       "row_count": 550,
       "columns": [
        {
         "name": "Name",
         "dtype": "object",
         "stats": {
          "unique_count": 351,
          "nan_count": 0,
          "categories": [
           {
            "name": "Publication Manual of the American Psychological Association, 6th Edition",
            "count": 10
           },
           {
            "name": "StrengthsFinder 2.0",
            "count": 9
           },
           {
            "name": "349 others",
            "count": 531
           }
          ]
         }
        },
        {
         "name": "Author",
         "dtype": "object",
         "stats": {
          "unique_count": 248,
          "nan_count": 0,
          "categories": [
           {
            "name": "Jeff Kinney",
            "count": 12
           },
           {
            "name": "Suzanne Collins",
            "count": 11
           },
           {
            "name": "246 others",
            "count": 527
           }
          ]
         }
        },
        {
         "name": "User Rating",
         "dtype": "float64",
         "stats": {
          "unique_count": 14,
          "nan_count": 0,
          "min": "3.3",
          "max": "4.9",
          "histogram": [
           {
            "bin_start": 3.3,
            "bin_end": 3.46,
            "count": 1
           },
           {
            "bin_start": 3.46,
            "bin_end": 3.62,
            "count": 1
           },
           {
            "bin_start": 3.62,
            "bin_end": 3.7800000000000002,
            "count": 0
           },
           {
            "bin_start": 3.7800000000000002,
            "bin_end": 3.94,
            "count": 5
           },
           {
            "bin_start": 3.94,
            "bin_end": 4.1,
            "count": 14
           },
           {
            "bin_start": 4.1,
            "bin_end": 4.26,
            "count": 14
           },
           {
            "bin_start": 4.26,
            "bin_end": 4.42,
            "count": 63
           },
           {
            "bin_start": 4.42,
            "bin_end": 4.58,
            "count": 60
           },
           {
            "bin_start": 4.58,
            "bin_end": 4.74,
            "count": 213
           },
           {
            "bin_start": 4.74,
            "bin_end": 4.9,
            "count": 179
           }
          ]
         }
        },
        {
         "name": "Reviews",
         "dtype": "int64",
         "stats": {
          "unique_count": 346,
          "nan_count": 0,
          "min": "37",
          "max": "87841",
          "histogram": [
           {
            "bin_start": 37,
            "bin_end": 8817.4,
            "count": 287
           },
           {
            "bin_start": 8817.4,
            "bin_end": 17597.8,
            "count": 131
           },
           {
            "bin_start": 17597.8,
            "bin_end": 26378.199999999997,
            "count": 87
           },
           {
            "bin_start": 26378.199999999997,
            "bin_end": 35158.6,
            "count": 25
           },
           {
            "bin_start": 35158.6,
            "bin_end": 43939,
            "count": 4
           },
           {
            "bin_start": 43939,
            "bin_end": 52719.399999999994,
            "count": 8
           },
           {
            "bin_start": 52719.399999999994,
            "bin_end": 61499.799999999996,
            "count": 5
           },
           {
            "bin_start": 61499.799999999996,
            "bin_end": 70280.2,
            "count": 0
           },
           {
            "bin_start": 70280.2,
            "bin_end": 79060.59999999999,
            "count": 0
           },
           {
            "bin_start": 79060.59999999999,
            "bin_end": 87841,
            "count": 3
           }
          ]
         }
        },
        {
         "name": "Price",
         "dtype": "int64",
         "stats": {
          "unique_count": 40,
          "nan_count": 0,
          "min": "0",
          "max": "105",
          "histogram": [
           {
            "bin_start": 0,
            "bin_end": 10.5,
            "count": 266
           },
           {
            "bin_start": 10.5,
            "bin_end": 21,
            "count": 216
           },
           {
            "bin_start": 21,
            "bin_end": 31.5,
            "count": 42
           },
           {
            "bin_start": 31.5,
            "bin_end": 42,
            "count": 9
           },
           {
            "bin_start": 42,
            "bin_end": 52.5,
            "count": 12
           },
           {
            "bin_start": 52.5,
            "bin_end": 63,
            "count": 2
           },
           {
            "bin_start": 63,
            "bin_end": 73.5,
            "count": 0
           },
           {
            "bin_start": 73.5,
            "bin_end": 84,
            "count": 1
           },
           {
            "bin_start": 84,
            "bin_end": 94.5,
            "count": 0
           },
           {
            "bin_start": 94.5,
            "bin_end": 105,
            "count": 2
           }
          ]
         }
        },
        {
         "name": "Year",
         "dtype": "int64",
         "stats": {
          "unique_count": 11,
          "nan_count": 0,
          "min": "2009",
          "max": "2019",
          "histogram": [
           {
            "bin_start": 2009,
            "bin_end": 2010,
            "count": 50
           },
           {
            "bin_start": 2010,
            "bin_end": 2011,
            "count": 50
           },
           {
            "bin_start": 2011,
            "bin_end": 2012,
            "count": 50
           },
           {
            "bin_start": 2012,
            "bin_end": 2013,
            "count": 50
           },
           {
            "bin_start": 2013,
            "bin_end": 2014,
            "count": 50
           },
           {
            "bin_start": 2014,
            "bin_end": 2015,
            "count": 50
           },
           {
            "bin_start": 2015,
            "bin_end": 2016,
            "count": 50
           },
           {
            "bin_start": 2016,
            "bin_end": 2017,
            "count": 50
           },
           {
            "bin_start": 2017,
            "bin_end": 2018,
            "count": 50
           },
           {
            "bin_start": 2018,
            "bin_end": 2019,
            "count": 100
           }
          ]
         }
        },
        {
         "name": "Genre",
         "dtype": "object",
         "stats": {
          "unique_count": 2,
          "nan_count": 0,
          "categories": [
           {
            "name": "Non Fiction",
            "count": 310
           },
           {
            "name": "Fiction",
            "count": 240
           }
          ]
         }
        },
        {
         "name": "_deepnote_index_column",
         "dtype": "int64"
        }
       ],
       "rows": [
        {
         "Name": "11/22/63: A Novel",
         "Author": "Stephen King",
         "User Rating": 4.6,
         "Reviews": 2052,
         "Price": 22,
         "Year": 2011,
         "Genre": "Fiction",
         "_deepnote_index_column": 1
        },
        {
         "Name": "12 Rules for Life: An Antidote to Chaos",
         "Author": "Jordan B. Peterson",
         "User Rating": 4.7,
         "Reviews": 18979,
         "Price": 15,
         "Year": 2018,
         "Genre": "Non Fiction",
         "_deepnote_index_column": 2
        },
        {
         "Name": "1984 (Signet Classics)",
         "Author": "George Orwell",
         "User Rating": 4.7,
         "Reviews": 21424,
         "Price": 6,
         "Year": 2017,
         "Genre": "Fiction",
         "_deepnote_index_column": 3
        },
        {
         "Name": "5,000 Awesome Facts (About Everything!) (National Geographic Kids)",
         "Author": "National Geographic Kids",
         "User Rating": 4.8,
         "Reviews": 7665,
         "Price": 12,
         "Year": 2019,
         "Genre": "Non Fiction",
         "_deepnote_index_column": 4
        },
        {
         "Name": "A Dance with Dragons (A Song of Ice and Fire)",
         "Author": "George R. R. Martin",
         "User Rating": 4.4,
         "Reviews": 12643,
         "Price": 11,
         "Year": 2011,
         "Genre": "Fiction",
         "_deepnote_index_column": 5
        },
        {
         "Name": "A Game of Thrones / A Clash of Kings / A Storm of Swords / A Feast of Crows / A Dance with Dragons",
         "Author": "George R. R. Martin",
         "User Rating": 4.7,
         "Reviews": 19735,
         "Price": 30,
         "Year": 2014,
         "Genre": "Fiction",
         "_deepnote_index_column": 6
        },
        {
         "Name": "A Gentleman in Moscow: A Novel",
         "Author": "Amor Towles",
         "User Rating": 4.7,
         "Reviews": 19699,
         "Price": 15,
         "Year": 2017,
         "Genre": "Fiction",
         "_deepnote_index_column": 7
        },
        {
         "Name": "A Higher Loyalty: Truth, Lies, and Leadership",
         "Author": "James Comey",
         "User Rating": 4.7,
         "Reviews": 5983,
         "Price": 3,
         "Year": 2018,
         "Genre": "Non Fiction",
         "_deepnote_index_column": 8
        },
        {
         "Name": "A Man Called Ove: A Novel",
         "Author": "Fredrik Backman",
         "User Rating": 4.6,
         "Reviews": 23848,
         "Price": 8,
         "Year": 2016,
         "Genre": "Fiction",
         "_deepnote_index_column": 9
        },
        {
         "Name": "A Man Called Ove: A Novel",
         "Author": "Fredrik Backman",
         "User Rating": 4.6,
         "Reviews": 23848,
         "Price": 8,
         "Year": 2017,
         "Genre": "Fiction",
         "_deepnote_index_column": 10
        }
       ]
      },
      "text/plain": "                                                  Name  \\\n1                                    11/22/63: A Novel   \n2              12 Rules for Life: An Antidote to Chaos   \n3                               1984 (Signet Classics)   \n4    5,000 Awesome Facts (About Everything!) (Natio...   \n5        A Dance with Dragons (A Song of Ice and Fire)   \n..                                                 ...   \n546  You Are a Badass: How to Stop Doubting Your Gr...   \n547  You Are a Badass: How to Stop Doubting Your Gr...   \n548  You Are a Badass: How to Stop Doubting Your Gr...   \n549  You Are a Badass: How to Stop Doubting Your Gr...   \n0                        10-Day Green Smoothie Cleanse   \n\n                       Author  User Rating  Reviews  Price  Year        Genre  \n1                Stephen King          4.6     2052     22  2011      Fiction  \n2          Jordan B. Peterson          4.7    18979     15  2018  Non Fiction  \n3               George Orwell          4.7    21424      6  2017      Fiction  \n4    National Geographic Kids          4.8     7665     12  2019  Non Fiction  \n5         George R. R. Martin          4.4    12643     11  2011      Fiction  \n..                        ...          ...      ...    ...   ...          ...  \n546               Jen Sincero          4.7    14331      8  2016  Non Fiction  \n547               Jen Sincero          4.7    14331      8  2017  Non Fiction  \n548               Jen Sincero          4.7    14331      8  2018  Non Fiction  \n549               Jen Sincero          4.7    14331      8  2019  Non Fiction  \n0                    JJ Smith          4.7    17350      8  2016  Non Fiction  \n\n[550 rows x 7 columns]",
      "text/html": "<div>\n<style scoped>\n    .dataframe tbody tr th:only-of-type {\n        vertical-align: middle;\n    }\n\n    .dataframe tbody tr th {\n        vertical-align: top;\n    }\n\n    .dataframe thead th {\n        text-align: right;\n    }\n</style>\n<table border=\"1\" class=\"dataframe\">\n  <thead>\n    <tr style=\"text-align: right;\">\n      <th></th>\n      <th>Name</th>\n      <th>Author</th>\n      <th>User Rating</th>\n      <th>Reviews</th>\n      <th>Price</th>\n      <th>Year</th>\n      <th>Genre</th>\n    </tr>\n  </thead>\n  <tbody>\n    <tr>\n      <th>1</th>\n      <td>11/22/63: A Novel</td>\n      <td>Stephen King</td>\n      <td>4.6</td>\n      <td>2052</td>\n      <td>22</td>\n      <td>2011</td>\n      <td>Fiction</td>\n    </tr>\n    <tr>\n      <th>2</th>\n      <td>12 Rules for Life: An Antidote to Chaos</td>\n      <td>Jordan B. Peterson</td>\n      <td>4.7</td>\n      <td>18979</td>\n      <td>15</td>\n      <td>2018</td>\n      <td>Non Fiction</td>\n    </tr>\n    <tr>\n      <th>3</th>\n      <td>1984 (Signet Classics)</td>\n      <td>George Orwell</td>\n      <td>4.7</td>\n      <td>21424</td>\n      <td>6</td>\n      <td>2017</td>\n      <td>Fiction</td>\n    </tr>\n    <tr>\n      <th>4</th>\n      <td>5,000 Awesome Facts (About Everything!) (Natio...</td>\n      <td>National Geographic Kids</td>\n      <td>4.8</td>\n      <td>7665</td>\n      <td>12</td>\n      <td>2019</td>\n      <td>Non Fiction</td>\n    </tr>\n    <tr>\n      <th>5</th>\n      <td>A Dance with Dragons (A Song of Ice and Fire)</td>\n      <td>George R. R. Martin</td>\n      <td>4.4</td>\n      <td>12643</td>\n      <td>11</td>\n      <td>2011</td>\n      <td>Fiction</td>\n    </tr>\n    <tr>\n      <th>...</th>\n      <td>...</td>\n      <td>...</td>\n      <td>...</td>\n      <td>...</td>\n      <td>...</td>\n      <td>...</td>\n      <td>...</td>\n    </tr>\n    <tr>\n      <th>546</th>\n      <td>You Are a Badass: How to Stop Doubting Your Gr...</td>\n      <td>Jen Sincero</td>\n      <td>4.7</td>\n      <td>14331</td>\n      <td>8</td>\n      <td>2016</td>\n      <td>Non Fiction</td>\n    </tr>\n    <tr>\n      <th>547</th>\n      <td>You Are a Badass: How to Stop Doubting Your Gr...</td>\n      <td>Jen Sincero</td>\n      <td>4.7</td>\n      <td>14331</td>\n      <td>8</td>\n      <td>2017</td>\n      <td>Non Fiction</td>\n    </tr>\n    <tr>\n      <th>548</th>\n      <td>You Are a Badass: How to Stop Doubting Your Gr...</td>\n      <td>Jen Sincero</td>\n      <td>4.7</td>\n      <td>14331</td>\n      <td>8</td>\n      <td>2018</td>\n      <td>Non Fiction</td>\n    </tr>\n    <tr>\n      <th>549</th>\n      <td>You Are a Badass: How to Stop Doubting Your Gr...</td>\n      <td>Jen Sincero</td>\n      <td>4.7</td>\n      <td>14331</td>\n      <td>8</td>\n      <td>2019</td>\n      <td>Non Fiction</td>\n    </tr>\n    <tr>\n      <th>0</th>\n      <td>10-Day Green Smoothie Cleanse</td>\n      <td>JJ Smith</td>\n      <td>4.7</td>\n      <td>17350</td>\n      <td>8</td>\n      <td>2016</td>\n      <td>Non Fiction</td>\n    </tr>\n  </tbody>\n</table>\n<p>550 rows × 7 columns</p>\n</div>"
     },
     "metadata": {}
    }
   ],
   "execution_count": 10
  },
  {
   "cell_type": "code",
   "source": "df_books.sort_values('Year', ascending=False)",
   "metadata": {
    "cell_id": "bb53fb8002c84719bb7f99a14869e936",
    "tags": [],
    "deepnote_to_be_reexecuted": false,
    "source_hash": "87bae652",
    "execution_start": 1658600311345,
    "execution_millis": 105,
    "deepnote_table_state": {
     "pageSize": 10,
     "pageIndex": 0,
     "filters": [],
     "sortBy": []
    },
    "deepnote_table_loading": false,
    "deepnote_cell_type": "code",
    "deepnote_cell_height": 600
   },
   "outputs": [
    {
     "output_type": "execute_result",
     "execution_count": 11,
     "data": {
      "application/vnd.deepnote.dataframe.v3+json": {
       "column_count": 7,
       "row_count": 551,
       "columns": [
        {
         "name": "Name",
         "dtype": "object",
         "stats": {
          "unique_count": 351,
          "nan_count": 0,
          "categories": [
           {
            "name": "Publication Manual of the American Psychological Association, 6th Edition",
            "count": 10
           },
           {
            "name": "StrengthsFinder 2.0",
            "count": 9
           },
           {
            "name": "349 others",
            "count": 532
           }
          ]
         }
        },
        {
         "name": "Author",
         "dtype": "object",
         "stats": {
          "unique_count": 248,
          "nan_count": 0,
          "categories": [
           {
            "name": "Jeff Kinney",
            "count": 12
           },
           {
            "name": "Gary Chapman",
            "count": 11
           },
           {
            "name": "246 others",
            "count": 528
           }
          ]
         }
        },
        {
         "name": "User Rating",
         "dtype": "float64",
         "stats": {
          "unique_count": 14,
          "nan_count": 0,
          "min": "3.3",
          "max": "4.9",
          "histogram": [
           {
            "bin_start": 3.3,
            "bin_end": 3.46,
            "count": 1
           },
           {
            "bin_start": 3.46,
            "bin_end": 3.62,
            "count": 1
           },
           {
            "bin_start": 3.62,
            "bin_end": 3.7800000000000002,
            "count": 0
           },
           {
            "bin_start": 3.7800000000000002,
            "bin_end": 3.94,
            "count": 5
           },
           {
            "bin_start": 3.94,
            "bin_end": 4.1,
            "count": 14
           },
           {
            "bin_start": 4.1,
            "bin_end": 4.26,
            "count": 14
           },
           {
            "bin_start": 4.26,
            "bin_end": 4.42,
            "count": 63
           },
           {
            "bin_start": 4.42,
            "bin_end": 4.58,
            "count": 60
           },
           {
            "bin_start": 4.58,
            "bin_end": 4.74,
            "count": 214
           },
           {
            "bin_start": 4.74,
            "bin_end": 4.9,
            "count": 179
           }
          ]
         }
        },
        {
         "name": "Reviews",
         "dtype": "int64",
         "stats": {
          "unique_count": 346,
          "nan_count": 0,
          "min": "37",
          "max": "87841",
          "histogram": [
           {
            "bin_start": 37,
            "bin_end": 8817.4,
            "count": 287
           },
           {
            "bin_start": 8817.4,
            "bin_end": 17597.8,
            "count": 132
           },
           {
            "bin_start": 17597.8,
            "bin_end": 26378.199999999997,
            "count": 87
           },
           {
            "bin_start": 26378.199999999997,
            "bin_end": 35158.6,
            "count": 25
           },
           {
            "bin_start": 35158.6,
            "bin_end": 43939,
            "count": 4
           },
           {
            "bin_start": 43939,
            "bin_end": 52719.399999999994,
            "count": 8
           },
           {
            "bin_start": 52719.399999999994,
            "bin_end": 61499.799999999996,
            "count": 5
           },
           {
            "bin_start": 61499.799999999996,
            "bin_end": 70280.2,
            "count": 0
           },
           {
            "bin_start": 70280.2,
            "bin_end": 79060.59999999999,
            "count": 0
           },
           {
            "bin_start": 79060.59999999999,
            "bin_end": 87841,
            "count": 3
           }
          ]
         }
        },
        {
         "name": "Price",
         "dtype": "int64",
         "stats": {
          "unique_count": 40,
          "nan_count": 0,
          "min": "0",
          "max": "105",
          "histogram": [
           {
            "bin_start": 0,
            "bin_end": 10.5,
            "count": 267
           },
           {
            "bin_start": 10.5,
            "bin_end": 21,
            "count": 216
           },
           {
            "bin_start": 21,
            "bin_end": 31.5,
            "count": 42
           },
           {
            "bin_start": 31.5,
            "bin_end": 42,
            "count": 9
           },
           {
            "bin_start": 42,
            "bin_end": 52.5,
            "count": 12
           },
           {
            "bin_start": 52.5,
            "bin_end": 63,
            "count": 2
           },
           {
            "bin_start": 63,
            "bin_end": 73.5,
            "count": 0
           },
           {
            "bin_start": 73.5,
            "bin_end": 84,
            "count": 1
           },
           {
            "bin_start": 84,
            "bin_end": 94.5,
            "count": 0
           },
           {
            "bin_start": 94.5,
            "bin_end": 105,
            "count": 2
           }
          ]
         }
        },
        {
         "name": "Year",
         "dtype": "int64",
         "stats": {
          "unique_count": 11,
          "nan_count": 0,
          "min": "2009",
          "max": "2019",
          "histogram": [
           {
            "bin_start": 2009,
            "bin_end": 2010,
            "count": 50
           },
           {
            "bin_start": 2010,
            "bin_end": 2011,
            "count": 50
           },
           {
            "bin_start": 2011,
            "bin_end": 2012,
            "count": 50
           },
           {
            "bin_start": 2012,
            "bin_end": 2013,
            "count": 50
           },
           {
            "bin_start": 2013,
            "bin_end": 2014,
            "count": 50
           },
           {
            "bin_start": 2014,
            "bin_end": 2015,
            "count": 50
           },
           {
            "bin_start": 2015,
            "bin_end": 2016,
            "count": 50
           },
           {
            "bin_start": 2016,
            "bin_end": 2017,
            "count": 51
           },
           {
            "bin_start": 2017,
            "bin_end": 2018,
            "count": 50
           },
           {
            "bin_start": 2018,
            "bin_end": 2019,
            "count": 100
           }
          ]
         }
        },
        {
         "name": "Genre",
         "dtype": "object",
         "stats": {
          "unique_count": 2,
          "nan_count": 0,
          "categories": [
           {
            "name": "Non Fiction",
            "count": 311
           },
           {
            "name": "Fiction",
            "count": 240
           }
          ]
         }
        },
        {
         "name": "_deepnote_index_column",
         "dtype": "int64"
        }
       ],
       "rows": [
        {
         "Name": "If Animals Kissed Good Night",
         "Author": "Ann Whitford Paul",
         "User Rating": 4.8,
         "Reviews": 16643,
         "Price": 4,
         "Year": 2019,
         "Genre": "Fiction",
         "_deepnote_index_column": 179
        },
        {
         "Name": "School Zone - Big Preschool Workbook - Ages 4 and Up, Colors, Shapes, Numbers 1-10, Alphabet, Pre-Writing, Pre-Reading…",
         "Author": "School Zone",
         "User Rating": 4.8,
         "Reviews": 23047,
         "Price": 6,
         "Year": 2019,
         "Genre": "Non Fiction",
         "_deepnote_index_column": 294
        },
        {
         "Name": "P is for Potty! (Sesame Street) (Lift-the-Flap)",
         "Author": "Naomi Kleinberg",
         "User Rating": 4.7,
         "Reviews": 10820,
         "Price": 5,
         "Year": 2019,
         "Genre": "Non Fiction",
         "_deepnote_index_column": 263
        },
        {
         "Name": "The Wonderful Things You Will Be",
         "Author": "Emily Winfield Martin",
         "User Rating": 4.9,
         "Reviews": 8842,
         "Price": 10,
         "Year": 2019,
         "Genre": "Fiction",
         "_deepnote_index_column": 489
        },
        {
         "Name": "Player's Handbook (Dungeons & Dragons)",
         "Author": "Wizards RPG Team",
         "User Rating": 4.8,
         "Reviews": 16990,
         "Price": 27,
         "Year": 2019,
         "Genre": "Fiction",
         "_deepnote_index_column": 267
        },
        {
         "Name": "Girl, Wash Your Face: Stop Believing the Lies About Who You Are So You Can Become Who You Were Meant to Be",
         "Author": "Rachel Hollis",
         "User Rating": 4.6,
         "Reviews": 22288,
         "Price": 12,
         "Year": 2019,
         "Genre": "Non Fiction",
         "_deepnote_index_column": 130
        },
        {
         "Name": "Brown Bear, Brown Bear, What Do You See?",
         "Author": "Bill Martin Jr.",
         "User Rating": 4.9,
         "Reviews": 14344,
         "Price": 5,
         "Year": 2019,
         "Genre": "Fiction",
         "_deepnote_index_column": 41
        },
        {
         "Name": "Giraffes Can't Dance",
         "Author": "Giles Andreae",
         "User Rating": 4.8,
         "Reviews": 14038,
         "Price": 4,
         "Year": 2019,
         "Genre": "Fiction",
         "_deepnote_index_column": 127
        },
        {
         "Name": "The Very Hungry Caterpillar",
         "Author": "Eric Carle",
         "User Rating": 4.9,
         "Reviews": 19546,
         "Price": 5,
         "Year": 2019,
         "Genre": "Fiction",
         "_deepnote_index_column": 482
        },
        {
         "Name": "Can't Hurt Me: Master Your Mind and Defy the Odds",
         "Author": "David Goggins",
         "User Rating": 4.8,
         "Reviews": 16244,
         "Price": 18,
         "Year": 2019,
         "Genre": "Non Fiction",
         "_deepnote_index_column": 44
        }
       ]
      },
      "text/plain": "                                                  Name                 Author  \\\n179                       If Animals Kissed Good Night      Ann Whitford Paul   \n294  School Zone - Big Preschool Workbook - Ages 4 ...            School Zone   \n263    P is for Potty! (Sesame Street) (Lift-the-Flap)        Naomi Kleinberg   \n489                   The Wonderful Things You Will Be  Emily Winfield Martin   \n267             Player's Handbook (Dungeons & Dragons)       Wizards RPG Team   \n..                                                 ...                    ...   \n160                  Have a Little Faith: A True Story            Mitch Albom   \n512                             True Compass: A Memoir      Edward M. Kennedy   \n513               Twilight (The Twilight Saga, Book 1)        Stephenie Meyer   \n78   Divine Soul Mind Body Healing and Transmission...           Zhi Gang Sha   \n459        The Shack: Where Tragedy Confronts Eternity       William P. Young   \n\n     User Rating  Reviews  Price  Year        Genre  \n179          4.8    16643      4  2019      Fiction  \n294          4.8    23047      6  2019  Non Fiction  \n263          4.7    10820      5  2019  Non Fiction  \n489          4.9     8842     10  2019      Fiction  \n267          4.8    16990     27  2019      Fiction  \n..           ...      ...    ...   ...          ...  \n160          4.8     1930      4  2009  Non Fiction  \n512          4.5      438     15  2009  Non Fiction  \n513          4.7    11676      9  2009      Fiction  \n78           4.6       37      6  2009  Non Fiction  \n459          4.6    19720      8  2009      Fiction  \n\n[551 rows x 7 columns]",
      "text/html": "<div>\n<style scoped>\n    .dataframe tbody tr th:only-of-type {\n        vertical-align: middle;\n    }\n\n    .dataframe tbody tr th {\n        vertical-align: top;\n    }\n\n    .dataframe thead th {\n        text-align: right;\n    }\n</style>\n<table border=\"1\" class=\"dataframe\">\n  <thead>\n    <tr style=\"text-align: right;\">\n      <th></th>\n      <th>Name</th>\n      <th>Author</th>\n      <th>User Rating</th>\n      <th>Reviews</th>\n      <th>Price</th>\n      <th>Year</th>\n      <th>Genre</th>\n    </tr>\n  </thead>\n  <tbody>\n    <tr>\n      <th>179</th>\n      <td>If Animals Kissed Good Night</td>\n      <td>Ann Whitford Paul</td>\n      <td>4.8</td>\n      <td>16643</td>\n      <td>4</td>\n      <td>2019</td>\n      <td>Fiction</td>\n    </tr>\n    <tr>\n      <th>294</th>\n      <td>School Zone - Big Preschool Workbook - Ages 4 ...</td>\n      <td>School Zone</td>\n      <td>4.8</td>\n      <td>23047</td>\n      <td>6</td>\n      <td>2019</td>\n      <td>Non Fiction</td>\n    </tr>\n    <tr>\n      <th>263</th>\n      <td>P is for Potty! (Sesame Street) (Lift-the-Flap)</td>\n      <td>Naomi Kleinberg</td>\n      <td>4.7</td>\n      <td>10820</td>\n      <td>5</td>\n      <td>2019</td>\n      <td>Non Fiction</td>\n    </tr>\n    <tr>\n      <th>489</th>\n      <td>The Wonderful Things You Will Be</td>\n      <td>Emily Winfield Martin</td>\n      <td>4.9</td>\n      <td>8842</td>\n      <td>10</td>\n      <td>2019</td>\n      <td>Fiction</td>\n    </tr>\n    <tr>\n      <th>267</th>\n      <td>Player's Handbook (Dungeons &amp; Dragons)</td>\n      <td>Wizards RPG Team</td>\n      <td>4.8</td>\n      <td>16990</td>\n      <td>27</td>\n      <td>2019</td>\n      <td>Fiction</td>\n    </tr>\n    <tr>\n      <th>...</th>\n      <td>...</td>\n      <td>...</td>\n      <td>...</td>\n      <td>...</td>\n      <td>...</td>\n      <td>...</td>\n      <td>...</td>\n    </tr>\n    <tr>\n      <th>160</th>\n      <td>Have a Little Faith: A True Story</td>\n      <td>Mitch Albom</td>\n      <td>4.8</td>\n      <td>1930</td>\n      <td>4</td>\n      <td>2009</td>\n      <td>Non Fiction</td>\n    </tr>\n    <tr>\n      <th>512</th>\n      <td>True Compass: A Memoir</td>\n      <td>Edward M. Kennedy</td>\n      <td>4.5</td>\n      <td>438</td>\n      <td>15</td>\n      <td>2009</td>\n      <td>Non Fiction</td>\n    </tr>\n    <tr>\n      <th>513</th>\n      <td>Twilight (The Twilight Saga, Book 1)</td>\n      <td>Stephenie Meyer</td>\n      <td>4.7</td>\n      <td>11676</td>\n      <td>9</td>\n      <td>2009</td>\n      <td>Fiction</td>\n    </tr>\n    <tr>\n      <th>78</th>\n      <td>Divine Soul Mind Body Healing and Transmission...</td>\n      <td>Zhi Gang Sha</td>\n      <td>4.6</td>\n      <td>37</td>\n      <td>6</td>\n      <td>2009</td>\n      <td>Non Fiction</td>\n    </tr>\n    <tr>\n      <th>459</th>\n      <td>The Shack: Where Tragedy Confronts Eternity</td>\n      <td>William P. Young</td>\n      <td>4.6</td>\n      <td>19720</td>\n      <td>8</td>\n      <td>2009</td>\n      <td>Fiction</td>\n    </tr>\n  </tbody>\n</table>\n<p>551 rows × 7 columns</p>\n</div>"
     },
     "metadata": {}
    }
   ],
   "execution_count": 11
  },
  {
   "cell_type": "code",
   "source": "df_books['Name'] = df_books['Name'].astype('string')\ndf_books['Author'] = df_books['Author'].astype('string')\ndf_books['Genre'] = df_books['Genre'].astype('string')\ndf_books.dtypes",
   "metadata": {
    "cell_id": "eeb998df9b7145a4a000c7d530a3c874",
    "tags": [],
    "deepnote_to_be_reexecuted": false,
    "source_hash": "6cd00a77",
    "execution_start": 1658600377949,
    "execution_millis": 2,
    "deepnote_cell_type": "code",
    "deepnote_cell_height": 306.5,
    "deepnote_output_heights": [
     155.5
    ]
   },
   "outputs": [
    {
     "output_type": "execute_result",
     "execution_count": 15,
     "data": {
      "text/plain": "Name            string\nAuthor          string\nUser Rating    float64\nReviews          int64\nPrice            int64\nYear             int64\nGenre           string\ndtype: object"
     },
     "metadata": {}
    }
   ],
   "execution_count": 15
  },
  {
   "cell_type": "code",
   "source": "",
   "metadata": {
    "cell_id": "a3b8854c640f42e8ad1c1318c8d1443f",
    "tags": [],
    "deepnote_to_be_reexecuted": false,
    "source_hash": "f0e8a4b0",
    "execution_start": 1658600842661,
    "execution_millis": 93,
    "deepnote_cell_type": "code",
    "deepnote_cell_height": 272
   },
   "outputs": [
    {
     "output_type": "execute_result",
     "execution_count": 20,
     "data": {
      "application/vnd.deepnote.dataframe.v3+json": {
       "column_count": 4,
       "row_count": 2,
       "columns": [
        {
         "name": "author",
         "dtype": "object",
         "stats": {
          "unique_count": 2,
          "nan_count": 0,
          "categories": [
           {
            "name": "Mykola Makhortykh",
            "count": 1
           },
           {
            "name": "Ernesto de León",
            "count": 1
           }
          ]
         }
        },
        {
         "name": "hit_name",
         "dtype": "object",
         "stats": {
          "unique_count": 2,
          "nan_count": 0,
          "categories": [
           {
            "name": "Mykola Makhortykh",
            "count": 1
           },
           {
            "name": "Ernesto de León",
            "count": 1
           }
          ]
         }
        },
        {
         "name": "institute",
         "dtype": "object",
         "stats": {
          "unique_count": 2,
          "nan_count": 0,
          "categories": [
           {
            "name": "Postdoctoral researcher, Department of Communication and Media Studies, University of Bern",
            "count": 1
           },
           {
            "name": "PhD Candidate, University of Bern",
            "count": 1
           }
          ]
         }
        },
        {
         "name": "research_area",
         "dtype": "object",
         "stats": {
          "unique_count": 2,
          "nan_count": 0,
          "categories": [
           {
            "name": "framing,digital media,digital memory,propaganda,news",
            "count": 1
           },
           {
            "name": "political communication,computational social science,media effects,social media",
            "count": 1
           }
          ]
         }
        },
        {
         "name": "_deepnote_index_column",
         "dtype": "int64"
        }
       ],
       "rows": [
        {
         "author": "Mykola Makhortykh",
         "hit_name": "Mykola Makhortykh",
         "institute": "Postdoctoral researcher, Department of Communication and Media Studies, University of Bern",
         "research_area": "framing,digital media,digital memory,propaganda,news",
         "_deepnote_index_column": 0
        },
        {
         "author": "Ernesto de León",
         "hit_name": "Ernesto de León",
         "institute": "PhD Candidate, University of Bern",
         "research_area": "political communication,computational social science,media effects,social media",
         "_deepnote_index_column": 1
        }
       ]
      },
      "text/plain": "              author           hit_name  \\\n0  Mykola Makhortykh  Mykola Makhortykh   \n1    Ernesto de León    Ernesto de León   \n\n                                           institute  \\\n0  Postdoctoral researcher, Department of Communi...   \n1                  PhD Candidate, University of Bern   \n\n                                       research_area  \n0  framing,digital media,digital memory,propagand...  \n1  political communication,computational social s...  ",
      "text/html": "<div>\n<style scoped>\n    .dataframe tbody tr th:only-of-type {\n        vertical-align: middle;\n    }\n\n    .dataframe tbody tr th {\n        vertical-align: top;\n    }\n\n    .dataframe thead th {\n        text-align: right;\n    }\n</style>\n<table border=\"1\" class=\"dataframe\">\n  <thead>\n    <tr style=\"text-align: right;\">\n      <th></th>\n      <th>author</th>\n      <th>hit_name</th>\n      <th>institute</th>\n      <th>research_area</th>\n    </tr>\n  </thead>\n  <tbody>\n    <tr>\n      <th>0</th>\n      <td>Mykola Makhortykh</td>\n      <td>Mykola Makhortykh</td>\n      <td>Postdoctoral researcher, Department of Communi...</td>\n      <td>framing,digital media,digital memory,propagand...</td>\n    </tr>\n    <tr>\n      <th>1</th>\n      <td>Ernesto de León</td>\n      <td>Ernesto de León</td>\n      <td>PhD Candidate, University of Bern</td>\n      <td>political communication,computational social s...</td>\n    </tr>\n  </tbody>\n</table>\n</div>"
     },
     "metadata": {}
    }
   ],
   "execution_count": 20
  },
  {
   "cell_type": "code",
   "source": "df['research_area'].value_counts()",
   "metadata": {
    "cell_id": "5193961152834c05a8a0a822c468296f",
    "tags": [],
    "deepnote_to_be_reexecuted": false,
    "source_hash": "a50b00e9",
    "execution_start": 1658600853196,
    "execution_millis": 13,
    "deepnote_cell_type": "code",
    "deepnote_cell_height": 329.25,
    "deepnote_output_heights": [
     232.25
    ]
   },
   "outputs": [
    {
     "output_type": "execute_result",
     "execution_count": 21,
     "data": {
      "text/plain": "natural language processing                                                                                                  300\nmachine learning                                                                                                             222\nnatural language processing,machine learning                                                                                 150\nmachine learning,natural language processing                                                                                  70\ncomputer vision,machine learning                                                                                              67\n                                                                                                                            ... \nsemantic web,ontology design,linked open data,digital humanities,cultural heritage                                             1\nangiogenesis,cancer,diabetes,cardiovascular diseases                                                                           1\nmachine learning,natural language processing,digital epidemiology,computational epidemiology,computational social science      1\nmachine learning   multi-modal learning   multimedia analysis                                                                  1\ncomputational social science,information systems,social media                                                                  1\nName: research_area, Length: 12560, dtype: int64"
     },
     "metadata": {}
    }
   ],
   "execution_count": 21
  },
  {
   "cell_type": "code",
   "source": "df_authors = pd.read_csv('/work/data_enginner_route/manipulacion_de_datos_numpy_y_pandas/data/NLPPaperResearchers/authors_info.csv')\ndf_authors[df_authors['research_area'].str.contains('semantics').fillna(False)]",
   "metadata": {
    "cell_id": "52d093d4c17b49b3a0b783b751bd1f47",
    "tags": [],
    "deepnote_to_be_reexecuted": false,
    "source_hash": "a27cc954",
    "execution_start": 1658601649555,
    "execution_millis": 135,
    "deepnote_table_state": {
     "pageSize": 10,
     "pageIndex": 1,
     "filters": [],
     "sortBy": []
    },
    "deepnote_table_loading": false,
    "deepnote_table_invalid": false,
    "deepnote_cell_type": "code",
    "deepnote_cell_height": 618,
    "deepnote_output_heights": [
     232.25
    ]
   },
   "outputs": [
    {
     "output_type": "execute_result",
     "execution_count": 42,
     "data": {
      "application/vnd.deepnote.dataframe.v3+json": {
       "column_count": 4,
       "row_count": 146,
       "columns": [
        {
         "name": "author",
         "dtype": "object",
         "stats": {
          "unique_count": 146,
          "nan_count": 0,
          "categories": [
           {
            "name": "Ekaterina Voloshina",
            "count": 1
           },
           {
            "name": "Büşra Marşan",
            "count": 1
           },
           {
            "name": "144 others",
            "count": 144
           }
          ]
         }
        },
        {
         "name": "hit_name",
         "dtype": "object",
         "stats": {
          "unique_count": 140,
          "nan_count": 0,
          "categories": [
           {
            "name": "Jose Camacho-Collados",
            "count": 3
           },
           {
            "name": "Christopher Potts",
            "count": 2
           },
           {
            "name": "138 others",
            "count": 141
           }
          ]
         }
        },
        {
         "name": "institute",
         "dtype": "object",
         "stats": {
          "unique_count": 133,
          "nan_count": 0,
          "categories": [
           {
            "name": "Unknown affiliation",
            "count": 4
           },
           {
            "name": "Cardiff University",
            "count": 3
           },
           {
            "name": "131 others",
            "count": 139
           }
          ]
         }
        },
        {
         "name": "research_area",
         "dtype": "object",
         "stats": {
          "unique_count": 139,
          "nan_count": 0,
          "categories": [
           {
            "name": "artificial intelligence,natural language processing,computational linguistics,lexical semantics,knowledge representation",
            "count": 3
           },
           {
            "name": "linguistics,computational linguistics,semantics,pragmatics,computational pragmatics",
            "count": 2
           },
           {
            "name": "137 others",
            "count": 141
           }
          ]
         }
        },
        {
         "name": "_deepnote_index_column",
         "dtype": "int64"
        }
       ],
       "rows": [
        {
         "author": "Christopher Potts",
         "hit_name": "Christopher Potts",
         "institute": "Professor of Linguistics and, by courtesy, of Computer Science",
         "research_area": "linguistics,computational linguistics,semantics,pragmatics,computational pragmatics",
         "_deepnote_index_column": 1503
        },
        {
         "author": "Yotam Perlitz",
         "hit_name": "Yotam Perlitz",
         "institute": "IBM Research AI",
         "research_area": "natural language generation,domain adaptation,semantics evaluation",
         "_deepnote_index_column": 1545
        },
        {
         "author": "Waad Alhoshan",
         "hit_name": "Waad Alhoshan",
         "institute": "Al-Imam Mohammed ibn Saud Islamic University (IMSIU)",
         "research_area": "requirements engineering,natural language processing,semantics frame",
         "_deepnote_index_column": 1951
        },
        {
         "author": "Fabien Schang",
         "hit_name": "Fabien Schang",
         "institute": "Visiting Professor and Postdoctoral Researcher at the Federal University of Goiás (Brazil)",
         "research_area": "formal philosophy,philosophy of logic,philosophical logics,formal epistemology,formal semantics",
         "_deepnote_index_column": 1995
        },
        {
         "author": "Emily Allaway",
         "hit_name": "Emily Allaway",
         "institute": "Columbia University",
         "research_area": "natural language processing,artificial intelligence,computational semantics,pragmatics,commonsense reasoning",
         "_deepnote_index_column": 2141
        },
        {
         "author": "Miikka Silfverberg",
         "hit_name": "Miikka Silfverberg",
         "institute": "University of British Columbia",
         "research_area": "deep learning for nlp,structured prediction,computational semantics,morphologically complex languages",
         "_deepnote_index_column": 3077
        },
        {
         "author": "Lisa Langnickel",
         "hit_name": "Lisa Langnickel",
         "institute": "ZB MED - Information Centre for Life Sciences and Bielefeld University",
         "research_area": "text mining,clinical information extraction,semantics,machine learning",
         "_deepnote_index_column": 3298
        },
        {
         "author": "Luu Anh Tuan",
         "hit_name": "Luu Anh Tuan",
         "institute": "Assistant Professor, Nanyang Technological University, Singapore",
         "research_area": "ai,nlp,robustness & trustworthy,question answering,information extraction & semantics",
         "_deepnote_index_column": 4305
        },
        {
         "author": "Hayley Ross",
         "hit_name": "Hayley Ross",
         "institute": "PhD Student in Linguistics, Harvard University",
         "research_area": "semantics,computational linguistics",
         "_deepnote_index_column": 4841
        },
        {
         "author": "Gözde Gül Sahin",
         "hit_name": "Gözde Gül Şahin",
         "institute": "Assistant Professor, Koç University",
         "research_area": "natural language processing,machine learning,semantics,low-resource nlp",
         "_deepnote_index_column": 4884
        }
       ]
      },
      "text/plain": "                    author                    hit_name  \\\n143    Ekaterina Voloshina         Ekaterina Voloshina   \n184           Büşra Marşan                Büşra Marşan   \n422         Iryna Gurevych              Iryna Gurevych   \n633    Alexander Panchenko         Alexander Panchenko   \n726       Laura Oberländer  Laura Ana Maria Oberländer   \n...                    ...                         ...   \n20287       Olena Medelyan     Alyona (Olena) Medelyan   \n20458        Pierre Nugues               Pierre Nugues   \n20574       Nissim Francez              Nissim Francez   \n20646          Doug Arnold                 Doug Arnold   \n20675        Nabil Hathout               Nabil Hathout   \n\n                                               institute  \\\n143                           Higher School of Economics   \n184                                  Boğaziçi University   \n422    Professor of Computer Science, Technische Univ...   \n633    Assistant Professor for NLP at Skolkovo Instit...   \n726                              University of Stuttgart   \n...                                                  ...   \n20287                                           Thematic   \n20458     Professor of computer science, Lund University   \n20574                   Computer Science Dept., Technion   \n20646                                University of Essex   \n20675        CNRS, CLLE (CNRS & U. Toulouse Jean Jaurès)   \n\n                                           research_area  \n143    natural language processing,grammatical semant...  \n184    computational linguistics,semantics,natural la...  \n422    natural language processing,artificial intelli...  \n633    natural language processing,distributional sem...  \n726    emotion analysis,distributional semantics,comp...  \n...                                                  ...  \n20287  text mining,keyword extraction,information ext...  \n20458  natural language processing,semantics,language...  \n20574  proof-theoretic semantics,formal semantics for...  \n20646               linguistics,syntax,semantics,english  \n20675  computational morphology,morphology,distributi...  \n\n[146 rows x 4 columns]",
      "text/html": "<div>\n<style scoped>\n    .dataframe tbody tr th:only-of-type {\n        vertical-align: middle;\n    }\n\n    .dataframe tbody tr th {\n        vertical-align: top;\n    }\n\n    .dataframe thead th {\n        text-align: right;\n    }\n</style>\n<table border=\"1\" class=\"dataframe\">\n  <thead>\n    <tr style=\"text-align: right;\">\n      <th></th>\n      <th>author</th>\n      <th>hit_name</th>\n      <th>institute</th>\n      <th>research_area</th>\n    </tr>\n  </thead>\n  <tbody>\n    <tr>\n      <th>143</th>\n      <td>Ekaterina Voloshina</td>\n      <td>Ekaterina Voloshina</td>\n      <td>Higher School of Economics</td>\n      <td>natural language processing,grammatical semant...</td>\n    </tr>\n    <tr>\n      <th>184</th>\n      <td>Büşra Marşan</td>\n      <td>Büşra Marşan</td>\n      <td>Boğaziçi University</td>\n      <td>computational linguistics,semantics,natural la...</td>\n    </tr>\n    <tr>\n      <th>422</th>\n      <td>Iryna Gurevych</td>\n      <td>Iryna Gurevych</td>\n      <td>Professor of Computer Science, Technische Univ...</td>\n      <td>natural language processing,artificial intelli...</td>\n    </tr>\n    <tr>\n      <th>633</th>\n      <td>Alexander Panchenko</td>\n      <td>Alexander Panchenko</td>\n      <td>Assistant Professor for NLP at Skolkovo Instit...</td>\n      <td>natural language processing,distributional sem...</td>\n    </tr>\n    <tr>\n      <th>726</th>\n      <td>Laura Oberländer</td>\n      <td>Laura Ana Maria Oberländer</td>\n      <td>University of Stuttgart</td>\n      <td>emotion analysis,distributional semantics,comp...</td>\n    </tr>\n    <tr>\n      <th>...</th>\n      <td>...</td>\n      <td>...</td>\n      <td>...</td>\n      <td>...</td>\n    </tr>\n    <tr>\n      <th>20287</th>\n      <td>Olena Medelyan</td>\n      <td>Alyona (Olena) Medelyan</td>\n      <td>Thematic</td>\n      <td>text mining,keyword extraction,information ext...</td>\n    </tr>\n    <tr>\n      <th>20458</th>\n      <td>Pierre Nugues</td>\n      <td>Pierre Nugues</td>\n      <td>Professor of computer science, Lund University</td>\n      <td>natural language processing,semantics,language...</td>\n    </tr>\n    <tr>\n      <th>20574</th>\n      <td>Nissim Francez</td>\n      <td>Nissim Francez</td>\n      <td>Computer Science Dept., Technion</td>\n      <td>proof-theoretic semantics,formal semantics for...</td>\n    </tr>\n    <tr>\n      <th>20646</th>\n      <td>Doug Arnold</td>\n      <td>Doug Arnold</td>\n      <td>University of Essex</td>\n      <td>linguistics,syntax,semantics,english</td>\n    </tr>\n    <tr>\n      <th>20675</th>\n      <td>Nabil Hathout</td>\n      <td>Nabil Hathout</td>\n      <td>CNRS, CLLE (CNRS &amp; U. Toulouse Jean Jaurès)</td>\n      <td>computational morphology,morphology,distributi...</td>\n    </tr>\n  </tbody>\n</table>\n<p>146 rows × 4 columns</p>\n</div>"
     },
     "metadata": {}
    }
   ],
   "execution_count": 42
  },
  {
   "cell_type": "code",
   "source": "df_papers = pd.read_csv('/work/data_enginner_route/manipulacion_de_datos_numpy_y_pandas/data/NLPPaperResearchers/arxiv_nlp_researchers_scrape.csv')\ndf_papers.head(2)",
   "metadata": {
    "cell_id": "f6e493901b7447528849a9e5343ea5be",
    "tags": [],
    "deepnote_to_be_reexecuted": false,
    "source_hash": "dcc701e7",
    "execution_start": 1658601337617,
    "execution_millis": 131,
    "deepnote_cell_type": "code",
    "deepnote_cell_height": 290
   },
   "outputs": [
    {
     "output_type": "execute_result",
     "execution_count": 32,
     "data": {
      "application/vnd.deepnote.dataframe.v3+json": {
       "column_count": 4,
       "row_count": 2,
       "columns": [
        {
         "name": "title",
         "dtype": "object",
         "stats": {
          "unique_count": 2,
          "nan_count": 0,
          "categories": [
           {
            "name": "Panning for gold: Lessons learned from the platform-agnostic automated detection of political content in textual data",
            "count": 1
           },
           {
            "name": "Location reference recognition from texts: A survey and comparison",
            "count": 1
           }
          ]
         }
        },
        {
         "name": "authors",
         "dtype": "object",
         "stats": {
          "unique_count": 2,
          "nan_count": 0,
          "categories": [
           {
            "name": "Mykola Makhortykh,Ernesto de León,Aleksandra Urman,Clara Christner,Maryna Sydorova,Silke Adam,Michaela Maier,Teresa Gil-Lopez",
            "count": 1
           },
           {
            "name": "Xuke Hu,Zhiyong Zhou,Hao Li,Yingjie Hu,Fuqiang Gu,Jens Kersten,Hongchao Fan,Friederike Klan",
            "count": 1
           }
          ]
         }
        },
        {
         "name": "abstract",
         "dtype": "object",
         "stats": {
          "unique_count": 2,
          "nan_count": 0,
          "categories": [
           {
            "name": "The growing availability of data about online information behaviour enables new possibilities for political communication research. However, the volume and variety of these data makes them difficult to analyse and prompts the need for developing automated content approaches relying on a broad range of natural language processing techniques (e. machine learning- or neural network-based ones). In this paper, we discuss how these techniques can be used to detect political content across different platforms. Using three validation datasets, which include a variety of political and non-political textual documents from online platforms, we systematically compare the performance of three groups of detection techniques relying on dictionaries, supervised machine learning, or neural networks. We also examine the impact of different modes of data preprocessing (e. stemming and stopword removal) on the low-cost implementations of these techniques using a large set (n = 66) of detection models. Our results show the limited impact of preprocessing on model performance, with the best results for less noisy data being achieved by neural network- and machine-learning-based models, in contrast to the more robust performance of dictionary-based models on noisy data.",
            "count": 1
           },
           {
            "name": "A vast amount of location information exists in unstructured texts, such as social media posts, news stories, scientific articles, web pages, travel blogs, and historical archives. Geoparsing refers to the process of recognizing location references from texts and identifying their geospatial representations. While geoparsing can benefit many domains, a summary of the specific applications is still missing. Further, there lacks a comprehensive review and comparison of existing approaches for location reference recognition, which is the first and a core step of geoparsing. To fill these research gaps, this review first summarizes seven typical application domains of geoparsing: geographic information retrieval, disaster management, disease surveillance, traffic management, spatial humanities, tourism management, and crime management. We then review existing approaches for location reference recognition by categorizing these approaches into four groups based on their underlying functional principle: rule-based, gazetteer matching-based, statistical learning-based, and hybrid approaches. Next, we thoroughly evaluate the correctness and computational efficiency of the 27 most widely used approaches for location reference recognition based on 26 public datasets with different types of texts (e. social media posts and news stories) containing 39,736 location references across the world. Results from this thorough evaluation can help inform future methodological developments for location reference recognition, and can help guide the selection of proper approaches based on application needs.",
            "count": 1
           }
          ]
         }
        },
        {
         "name": "submitted_date",
         "dtype": "object",
         "stats": {
          "unique_count": 2,
          "nan_count": 0,
          "categories": [
           {
            "name": "2022-07-01",
            "count": 1
           },
           {
            "name": "2022-07-04",
            "count": 1
           }
          ]
         }
        },
        {
         "name": "_deepnote_index_column",
         "dtype": "int64"
        }
       ],
       "rows": [
        {
         "title": "Panning for gold: Lessons learned from the platform-agnostic automated detection of political content in textual data",
         "authors": "Mykola Makhortykh,Ernesto de León,Aleksandra Urman,Clara Christner,Maryna Sydorova,Silke Adam,Michaela Maier,Teresa Gil-Lopez",
         "abstract": "The growing availability of data about online information behaviour enables new possibilities for political communication research. However, the volume and variety of these data makes them difficult to analyse and prompts the need for developing automated content approaches relying on a broad range of natural language processing techniques (e. machine learning- or neural network-based ones). In this paper, we discuss how these techniques can be used to detect political content across different platforms. Using three validation datasets, which include a variety of political and non-political textual documents from online platforms, we systematically compare the performance of three groups of detection techniques relying on dictionaries, supervised machine learning, or neural networks. We also examine the impact of different modes of data preprocessing (e. stemming and stopword removal) on the low-cost implementations of these techniques using a large set (n = 66) of detection models. O…",
         "submitted_date": "2022-07-01",
         "_deepnote_index_column": 0
        },
        {
         "title": "Location reference recognition from texts: A survey and comparison",
         "authors": "Xuke Hu,Zhiyong Zhou,Hao Li,Yingjie Hu,Fuqiang Gu,Jens Kersten,Hongchao Fan,Friederike Klan",
         "abstract": "A vast amount of location information exists in unstructured texts, such as social media posts, news stories, scientific articles, web pages, travel blogs, and historical archives. Geoparsing refers to the process of recognizing location references from texts and identifying their geospatial representations. While geoparsing can benefit many domains, a summary of the specific applications is still missing. Further, there lacks a comprehensive review and comparison of existing approaches for location reference recognition, which is the first and a core step of geoparsing. To fill these research gaps, this review first summarizes seven typical application domains of geoparsing: geographic information retrieval, disaster management, disease surveillance, traffic management, spatial humanities, tourism management, and crime management. We then review existing approaches for location reference recognition by categorizing these approaches into four groups based on their underlying functiona…",
         "submitted_date": "2022-07-04",
         "_deepnote_index_column": 1
        }
       ]
      },
      "text/plain": "                                               title  \\\n0  Panning for gold: Lessons learned from the pla...   \n1  Location reference recognition from texts: A s...   \n\n                                             authors  \\\n0  Mykola Makhortykh,Ernesto de León,Aleksandra U...   \n1  Xuke Hu,Zhiyong Zhou,Hao Li,Yingjie Hu,Fuqiang...   \n\n                                            abstract submitted_date  \n0  The growing availability of data about online ...     2022-07-01  \n1  A vast amount of location information exists i...     2022-07-04  ",
      "text/html": "<div>\n<style scoped>\n    .dataframe tbody tr th:only-of-type {\n        vertical-align: middle;\n    }\n\n    .dataframe tbody tr th {\n        vertical-align: top;\n    }\n\n    .dataframe thead th {\n        text-align: right;\n    }\n</style>\n<table border=\"1\" class=\"dataframe\">\n  <thead>\n    <tr style=\"text-align: right;\">\n      <th></th>\n      <th>title</th>\n      <th>authors</th>\n      <th>abstract</th>\n      <th>submitted_date</th>\n    </tr>\n  </thead>\n  <tbody>\n    <tr>\n      <th>0</th>\n      <td>Panning for gold: Lessons learned from the pla...</td>\n      <td>Mykola Makhortykh,Ernesto de León,Aleksandra U...</td>\n      <td>The growing availability of data about online ...</td>\n      <td>2022-07-01</td>\n    </tr>\n    <tr>\n      <th>1</th>\n      <td>Location reference recognition from texts: A s...</td>\n      <td>Xuke Hu,Zhiyong Zhou,Hao Li,Yingjie Hu,Fuqiang...</td>\n      <td>A vast amount of location information exists i...</td>\n      <td>2022-07-04</td>\n    </tr>\n  </tbody>\n</table>\n</div>"
     },
     "metadata": {}
    }
   ],
   "execution_count": 32
  },
  {
   "cell_type": "code",
   "source": "df_papers[df_papers['authors'].str.contains('Yotam Perlitz').fillna(False)]",
   "metadata": {
    "cell_id": "2a10de0c806244e6b1edd25ab13d5de6",
    "tags": [],
    "deepnote_to_be_reexecuted": false,
    "source_hash": "6fbdf5cb",
    "execution_start": 1658601724114,
    "execution_millis": 325,
    "owner_user_id": "1446e09b-adb1-4d03-8824-192d50632f30",
    "deepnote_cell_type": "code",
    "deepnote_cell_height": 246
   },
   "outputs": [
    {
     "output_type": "execute_result",
     "execution_count": 45,
     "data": {
      "application/vnd.deepnote.dataframe.v3+json": {
       "column_count": 4,
       "row_count": 1,
       "columns": [
        {
         "name": "title",
         "dtype": "object",
         "stats": {
          "unique_count": 1,
          "nan_count": 0,
          "categories": [
           {
            "name": "Diversity Enhanced Table-to-Text Generation via Type Control",
            "count": 1
           }
          ]
         }
        },
        {
         "name": "authors",
         "dtype": "object",
         "stats": {
          "unique_count": 1,
          "nan_count": 0,
          "categories": [
           {
            "name": "Yotam Perlitz,Liat Ein-Dor,Dafna Sheinwald,Noam Slonim,Michal Shmueli-Scheuer",
            "count": 1
           }
          ]
         }
        },
        {
         "name": "abstract",
         "dtype": "object",
         "stats": {
          "unique_count": 1,
          "nan_count": 0,
          "categories": [
           {
            "name": "Generating natural language statements to convey information from tabular data (i. Table-to-text) is a process with one input and a variety of valid outputs. This characteristic underscores the abilities to control the generation and produce a diverse set of outputs as two key assets. Thus, we propose a diversity enhancing scheme that builds upon an inherent property of the statements, namely, their logic-types, by using a type-controlled Table-to-text generation model. Employing automatic and manual tests, we prove its twofold advantage: users can effectively tune the generated statement type, and, by sampling different types, can obtain a diverse set of statements for a given table.",
            "count": 1
           }
          ]
         }
        },
        {
         "name": "submitted_date",
         "dtype": "object",
         "stats": {
          "unique_count": 1,
          "nan_count": 0,
          "categories": [
           {
            "name": "2022-05-22",
            "count": 1
           }
          ]
         }
        },
        {
         "name": "_deepnote_index_column",
         "dtype": "int64"
        }
       ],
       "rows": [
        {
         "title": "Diversity Enhanced Table-to-Text Generation via Type Control",
         "authors": "Yotam Perlitz,Liat Ein-Dor,Dafna Sheinwald,Noam Slonim,Michal Shmueli-Scheuer",
         "abstract": "Generating natural language statements to convey information from tabular data (i. Table-to-text) is a process with one input and a variety of valid outputs. This characteristic underscores the abilities to control the generation and produce a diverse set of outputs as two key assets. Thus, we propose a diversity enhancing scheme that builds upon an inherent property of the statements, namely, their logic-types, by using a type-controlled Table-to-text generation model. Employing automatic and manual tests, we prove its twofold advantage: users can effectively tune the generated statement type, and, by sampling different types, can obtain a diverse set of statements for a given table.",
         "submitted_date": "2022-05-22",
         "_deepnote_index_column": 363
        }
       ]
      },
      "text/plain": "                                                 title  \\\n363  Diversity Enhanced Table-to-Text Generation vi...   \n\n                                               authors  \\\n363  Yotam Perlitz,Liat Ein-Dor,Dafna Sheinwald,Noa...   \n\n                                              abstract submitted_date  \n363  Generating natural language statements to conv...     2022-05-22  ",
      "text/html": "<div>\n<style scoped>\n    .dataframe tbody tr th:only-of-type {\n        vertical-align: middle;\n    }\n\n    .dataframe tbody tr th {\n        vertical-align: top;\n    }\n\n    .dataframe thead th {\n        text-align: right;\n    }\n</style>\n<table border=\"1\" class=\"dataframe\">\n  <thead>\n    <tr style=\"text-align: right;\">\n      <th></th>\n      <th>title</th>\n      <th>authors</th>\n      <th>abstract</th>\n      <th>submitted_date</th>\n    </tr>\n  </thead>\n  <tbody>\n    <tr>\n      <th>363</th>\n      <td>Diversity Enhanced Table-to-Text Generation vi...</td>\n      <td>Yotam Perlitz,Liat Ein-Dor,Dafna Sheinwald,Noa...</td>\n      <td>Generating natural language statements to conv...</td>\n      <td>2022-05-22</td>\n    </tr>\n  </tbody>\n</table>\n</div>"
     },
     "metadata": {}
    }
   ],
   "execution_count": 45
  },
  {
   "cell_type": "markdown",
   "source": "<a style='text-decoration:none;line-height:16px;display:flex;color:#5B5B62;padding:10px;justify-content:end;' href='https://deepnote.com?utm_source=created-in-deepnote-cell&projectId=4950ccd9-74b8-4ba2-b588-82894596c11f' target=\"_blank\">\n<img alt='Created in deepnote.com' style='display:inline;max-height:16px;margin:0px;margin-right:7.5px;' src='data:image/svg+xml;base64,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' > </img>\nCreated in <span style='font-weight:600;margin-left:4px;'>Deepnote</span></a>",
   "metadata": {
    "tags": [],
    "created_in_deepnote_cell": true,
    "deepnote_cell_type": "markdown"
   }
  }
 ],
 "nbformat": 4,
 "nbformat_minor": 2,
 "metadata": {
  "orig_nbformat": 2,
  "deepnote": {},
  "deepnote_notebook_id": "2d0ca7e5-aa82-46a5-ad0e-838eba59c5cb",
  "deepnote_execution_queue": []
 }
}